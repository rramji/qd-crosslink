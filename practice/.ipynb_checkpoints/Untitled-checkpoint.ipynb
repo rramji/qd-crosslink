{
 "cells": [
  {
   "cell_type": "code",
   "execution_count": 2,
   "id": "31d30f79-e60d-4e46-9b2d-6e35342eab82",
   "metadata": {},
   "outputs": [],
   "source": [
    "from pymatgen.io.lammps.data import *"
   ]
  },
  {
   "cell_type": "markdown",
   "id": "6fd0cd1e-c238-423e-9dd4-c9b902b3d05b",
   "metadata": {},
   "source": [
    "## Looks like I interpreted the special bond counts keyword incorrectly, it's counting the number of those bonds, not the number of atoms participating in those bonds. This counting method only works for the bonds. Need to see how many angles and dihedrals END with each atom"
   ]
  },
  {
   "cell_type": "code",
   "execution_count": 23,
   "id": "fd5c8fc3-1cb2-45c2-958d-33990b82dbf7",
   "metadata": {},
   "outputs": [],
   "source": [
    "system = LammpsData.from_file(\"data.montecarlo_test\")\n",
    "xlig_dat = LammpsData.from_file(\"data.xligand\")\n",
    "oleic_dat = LammpsData.from_file(\"data.oleic_acid\")\n",
    "\n",
    "xlig = xlig_dat.structure\n",
    "oleic = oleic_dat.structure"
   ]
  },
  {
   "cell_type": "code",
   "execution_count": 16,
   "id": "a195f469-1442-4486-9313-c2ffc92d6e37",
   "metadata": {},
   "outputs": [],
   "source": [
    "box, ff, tops = test.disassemble()"
   ]
  },
  {
   "cell_type": "code",
   "execution_count": 100,
   "id": "dc626cd2-56c3-4987-b0e9-83e6cc91db3d",
   "metadata": {},
   "outputs": [],
   "source": [
    "def generate_neighbors(topology,structure):\n",
    "    neighbors = {atom: set() for atom in range(len(structure))}\n",
    "    for relation in topology:\n",
    "        for i in range(len(relation)):\n",
    "            for j in range(i+1, len(relation)):\n",
    "                neighbors[relation[i]].add(relation[j])\n",
    "                neighbors[relation[j]].add(relation[i])\n",
    "    return neighbors"
   ]
  },
  {
   "cell_type": "code",
   "execution_count": 103,
   "id": "17a95676-343f-4192-9f77-40bf390e4d44",
   "metadata": {
    "tags": []
   },
   "outputs": [],
   "source": [
    "topologies = ['Bonds', 'Angles', 'Dihedrals', 'Impropers']\n",
    "neighbors = {topology: generate_neighbors(tops[0].topologies[topology], xlig) for topology in topologies}"
   ]
  },
  {
   "cell_type": "code",
   "execution_count": 115,
   "id": "fd167b5f-3737-441e-b860-20dc0f26f6ed",
   "metadata": {},
   "outputs": [],
   "source": [
    "neighbors[\"one_four\"] = {at: neighbors['Dihedrals'][at].union(neighbors['Impropers'][at]) for at in neighbors['Dihedrals']}"
   ]
  },
  {
   "cell_type": "code",
   "execution_count": 122,
   "id": "c2f12dd7-923f-4407-9d4a-316b969f7a6a",
   "metadata": {},
   "outputs": [],
   "source": [
    "special_bond_counts = {atom: [] for atom in range(len(xlig))}\n",
    "special_bonds = {atom: set() for atom in range(len(xlig))}\n",
    "for top in ['Bonds', 'Angles', 'one_four']:\n",
    "    for atom in special_bond_counts:\n",
    "        special_bond_counts[atom].append(len(neighbors[top][atom]))\n",
    "        special_bonds[atom] = special_bonds[atom].union(neighbors[top][atom])"
   ]
  },
  {
   "cell_type": "code",
   "execution_count": 129,
   "id": "6f3ee819-b5a7-4a7d-b7f5-8e06d7266052",
   "metadata": {
    "tags": []
   },
   "outputs": [
    {
     "data": {
      "text/plain": [
       "{0: [4, 10, 13],\n",
       " 1: [4, 10, 13],\n",
       " 2: [4, 9, 15],\n",
       " 3: [3, 11, 19],\n",
       " 4: [3, 9, 18],\n",
       " 5: [3, 7, 12],\n",
       " 6: [3, 7, 12],\n",
       " 7: [3, 9, 14],\n",
       " 8: [3, 7, 15],\n",
       " 9: [1, 3, 7],\n",
       " 10: [3, 9, 14],\n",
       " 11: [3, 7, 12],\n",
       " 12: [3, 7, 11],\n",
       " 13: [3, 8, 14],\n",
       " 14: [2, 7, 14],\n",
       " 15: [4, 8, 13],\n",
       " 16: [4, 10, 14],\n",
       " 17: [4, 10, 16],\n",
       " 18: [4, 10, 16],\n",
       " 19: [4, 10, 16],\n",
       " 20: [4, 10, 16],\n",
       " 21: [4, 10, 16],\n",
       " 22: [4, 10, 16],\n",
       " 23: [4, 10, 14],\n",
       " 24: [4, 8, 11],\n",
       " 25: [2, 5, 8],\n",
       " 26: [3, 7, 11],\n",
       " 27: [3, 7, 12],\n",
       " 28: [3, 7, 12],\n",
       " 29: [3, 7, 12],\n",
       " 30: [4, 9, 15],\n",
       " 31: [1, 4, 9],\n",
       " 32: [1, 4, 9],\n",
       " 33: [1, 4, 9],\n",
       " 34: [1, 4, 9],\n",
       " 35: [1, 4, 8],\n",
       " 36: [1, 4, 8],\n",
       " 37: [1, 3, 7],\n",
       " 38: [1, 3, 7],\n",
       " 39: [1, 3, 7],\n",
       " 40: [1, 3, 7],\n",
       " 41: [1, 4, 7],\n",
       " 42: [1, 4, 7],\n",
       " 43: [1, 4, 9],\n",
       " 44: [1, 4, 9],\n",
       " 45: [1, 4, 9],\n",
       " 46: [1, 4, 9],\n",
       " 47: [1, 4, 9],\n",
       " 48: [1, 4, 9],\n",
       " 49: [1, 4, 9],\n",
       " 50: [1, 4, 9],\n",
       " 51: [1, 4, 9],\n",
       " 52: [1, 4, 9],\n",
       " 53: [1, 4, 9],\n",
       " 54: [1, 4, 9],\n",
       " 55: [1, 4, 9],\n",
       " 56: [1, 4, 9],\n",
       " 57: [1, 4, 9],\n",
       " 58: [1, 4, 9],\n",
       " 59: [1, 4, 7],\n",
       " 60: [1, 4, 7],\n",
       " 61: [1, 2, 5],\n",
       " 62: [1, 3, 7],\n",
       " 63: [1, 3, 7],\n",
       " 64: [1, 3, 7],\n",
       " 65: [1, 3, 7],\n",
       " 66: [1, 4, 8],\n",
       " 67: [1, 4, 8]}"
      ]
     },
     "execution_count": 129,
     "metadata": {},
     "output_type": "execute_result"
    }
   ],
   "source": [
    "special_bond_counts"
   ]
  },
  {
   "cell_type": "code",
   "execution_count": 107,
   "id": "89d468e2-3a9a-46ef-be1c-cbecee7b5dc6",
   "metadata": {
    "collapsed": true,
    "jupyter": {
     "outputs_hidden": true
    },
    "tags": []
   },
   "outputs": [
    {
     "name": "stdout",
     "output_type": "stream",
     "text": [
      "{29, 4, 5} {0, 1, 2, 4, 5, 6, 28, 29, 30, 31, 32, 33, 34, 35, 36, 37, 65, 66, 67}\n",
      "{65, 3, 37, 5, 6, 28, 29} {0, 1, 2, 3, 35, 5, 37, 36, 6, 38, 7, 64, 65, 66, 67, 28, 29, 30}\n",
      "{3, 4, 37, 6, 7, 38, 29} {65, 2, 3, 4, 37, 38, 6, 7, 8, 28, 29, 30}\n",
      "{4, 37, 5, 38, 7, 8, 28} {64, 3, 4, 5, 38, 7, 8, 9, 10, 37, 28, 29}\n",
      "{64, 5, 38, 6, 8, 9, 10, 28, 29} {64, 65, 4, 5, 6, 37, 8, 9, 10, 11, 38, 27, 28, 29}\n",
      "{6, 7, 9, 10, 11, 27, 28} {64, 5, 6, 7, 38, 9, 10, 11, 12, 39, 26, 27, 28, 29, 63}\n",
      "{8, 10, 7} {6, 7, 8, 10, 11, 27, 28}\n",
      "{7, 8, 9, 39, 11, 12, 26, 27, 63} {6, 7, 8, 39, 9, 11, 12, 13, 40, 26, 27, 28, 62, 63}\n",
      "{39, 8, 40, 10, 12, 13, 27} {39, 8, 7, 10, 9, 12, 13, 14, 40, 26, 27, 63}\n",
      "{39, 40, 10, 11, 13, 14, 26} {39, 8, 40, 10, 11, 13, 14, 15, 26, 27, 62}\n",
      "{40, 11, 12, 14, 26, 27, 62} {39, 40, 41, 10, 11, 12, 42, 14, 15, 16, 26, 27, 62, 63}\n",
      "{26, 12, 13} {40, 41, 42, 11, 12, 13, 43, 15, 16, 17, 44, 26, 27, 62}\n",
      "{10, 12, 13, 14, 27, 62, 63} {8, 40, 10, 11, 12, 13, 14, 15, 27, 62, 63}\n",
      "{8, 10, 11, 13, 26, 62, 63} {7, 8, 9, 10, 11, 12, 13, 14, 39, 26, 62, 63}\n",
      "{64, 65, 4, 6, 7, 8, 29} {64, 65, 3, 4, 5, 6, 7, 8, 9, 10, 38, 29}\n",
      "{64, 65, 3, 4, 5, 7, 28} {64, 65, 2, 3, 4, 5, 6, 7, 8, 37, 28, 30}\n",
      "{4, 5, 6} {3, 4, 5, 6, 7, 38, 29}\n",
      "{5, 6, 7} {4, 5, 6, 7, 8, 37, 28}\n",
      "{10, 11, 12} {8, 40, 10, 11, 12, 13, 27}\n",
      "{11, 12, 13} {39, 10, 11, 12, 13, 14, 26}\n",
      "{26, 27, 13} {10, 12, 13, 14, 26, 27, 63}\n",
      "{26, 10, 27} {8, 10, 11, 13, 26, 27, 62}\n",
      "{28, 29, 7} {65, 4, 6, 7, 8, 28, 29}\n",
      "{28, 4, 29} {64, 3, 4, 5, 7, 28, 29}\n"
     ]
    }
   ],
   "source": [
    "for at in neighbors['Dihedrals']:\n",
    "    if neighbors['Impropers'][at] != set():\n",
    "        print(neighbors['Impropers'][at], neighbors[\"Dihedrals\"][at])"
   ]
  },
  {
   "cell_type": "code",
   "execution_count": 111,
   "id": "7bde47e9-18ab-47fc-8000-9b47fc9527d9",
   "metadata": {
    "collapsed": true,
    "jupyter": {
     "outputs_hidden": true
    },
    "tags": []
   },
   "outputs": [
    {
     "ename": "TypeError",
     "evalue": "list indices must be integers or slices, not set",
     "output_type": "error",
     "traceback": [
      "\u001b[0;31m---------------------------------------------------------------------------\u001b[0m",
      "\u001b[0;31mTypeError\u001b[0m                                 Traceback (most recent call last)",
      "Cell \u001b[0;32mIn[111], line 2\u001b[0m\n\u001b[1;32m      1\u001b[0m \u001b[38;5;28;01mfor\u001b[39;00m i \u001b[38;5;129;01min\u001b[39;00m neighbors[\u001b[38;5;124m'\u001b[39m\u001b[38;5;124mone_four\u001b[39m\u001b[38;5;124m'\u001b[39m]:\n\u001b[0;32m----> 2\u001b[0m     \u001b[38;5;28;01mif\u001b[39;00m \u001b[43mneighbors\u001b[49m\u001b[43m[\u001b[49m\u001b[38;5;124;43m'\u001b[39;49m\u001b[38;5;124;43mone_four\u001b[39;49m\u001b[38;5;124;43m'\u001b[39;49m\u001b[43m]\u001b[49m\u001b[43m[\u001b[49m\u001b[43mi\u001b[49m\u001b[43m]\u001b[49m \u001b[38;5;241m!=\u001b[39m neighbors[\u001b[38;5;124m\"\u001b[39m\u001b[38;5;124mDihedrals\u001b[39m\u001b[38;5;124m\"\u001b[39m][i]:\n\u001b[1;32m      3\u001b[0m         \u001b[38;5;28mprint\u001b[39m(neighbors[\u001b[38;5;124m'\u001b[39m\u001b[38;5;124mone_four\u001b[39m\u001b[38;5;124m'\u001b[39m][i], neighbors[\u001b[38;5;124m\"\u001b[39m\u001b[38;5;124mDihedrals\u001b[39m\u001b[38;5;124m\"\u001b[39m][i])\n",
      "\u001b[0;31mTypeError\u001b[0m: list indices must be integers or slices, not set"
     ]
    }
   ],
   "source": [
    "for i in neighbors['one_four']:\n",
    "    if neighbors['one_four'][i] != neighbors[\"Dihedrals\"][i]:\n",
    "        print(neighbors['one_four'][i], neighbors[\"Dihedrals\"][i])"
   ]
  },
  {
   "cell_type": "code",
   "execution_count": 79,
   "id": "00771c52-76f9-46db-8903-5c6087cca501",
   "metadata": {},
   "outputs": [],
   "source": [
    "special_bond_counts = []\n",
    "\n"
   ]
  },
  {
   "cell_type": "code",
   "execution_count": 57,
   "id": "285edddf-de79-44e4-86f9-65dc6f5d6cef",
   "metadata": {
    "tags": []
   },
   "outputs": [],
   "source": [
    "bond_neighbors = {atom: set() for atom in range(len(xlig))}\n",
    "for bond in tops[0].topologies['Bonds']:\n",
    "    bond_neighbors[bond[0]].add(bond[1])\n",
    "    bond_neighbors[bond[1]].add(bond[0])"
   ]
  },
  {
   "cell_type": "code",
   "execution_count": 86,
   "id": "8b61bc8d-15fa-41d6-8432-94a63c34fc86",
   "metadata": {},
   "outputs": [
    {
     "name": "stdout",
     "output_type": "stream",
     "text": [
      "CPU times: user 302 µs, sys: 51 µs, total: 353 µs\n",
      "Wall time: 357 µs\n"
     ]
    }
   ],
   "source": [
    "# rob's way\n",
    "%%time\n",
    "angle_neighbors = {atom: set() for atom in range(len(xlig))}\n",
    "for angle in tops[0].topologies['Angles']:\n",
    "    for atom in angle:\n",
    "        for i in range(len(angle)):\n",
    "            if atom != angle[i]:\n",
    "                angle_neighbors[atom].add(angle[i])"
   ]
  },
  {
   "cell_type": "code",
   "execution_count": 87,
   "id": "585521ad-9c9e-40c7-926b-570ad88ae1e0",
   "metadata": {},
   "outputs": [
    {
     "name": "stdout",
     "output_type": "stream",
     "text": [
      "CPU times: user 182 µs, sys: 30 µs, total: 212 µs\n",
      "Wall time: 215 µs\n"
     ]
    }
   ],
   "source": [
    "#chatgpt way\n",
    "%%time\n",
    "test_neighbors = {atom: set() for atom in range(len(xlig))}\n",
    "for angle in tops[0].topologies['Angles']:\n",
    "    for i in range(len(angle)):\n",
    "        for j in range(i+1, len(angle)):\n",
    "            test_neighbors[angle[i]].add(angle[j])\n",
    "            test_neighbors[angle[j]].add(angle[i])"
   ]
  },
  {
   "cell_type": "code",
   "execution_count": 93,
   "id": "2f9a4bd9-df27-4b37-b23d-b2113bf6b7b8",
   "metadata": {
    "tags": []
   },
   "outputs": [
    {
     "name": "stdout",
     "output_type": "stream",
     "text": [
      "CPU times: user 440 µs, sys: 0 ns, total: 440 µs\n",
      "Wall time: 443 µs\n"
     ]
    }
   ],
   "source": [
    "%%time\n",
    "dihedral_neighbors = {atom: set() for atom in range(len(xlig))}\n",
    "for dihedral in tops[0].topologies['Dihedrals']:\n",
    "    for i in range(len(dihedral)):\n",
    "        for j in range(i+1, len(dihedral)):\n",
    "            dihedral_neighbors[dihedral[i]].add(dihedral[j])\n",
    "            dihedral_neighbors[dihedral[j]].add(dihedral[i])"
   ]
  },
  {
   "cell_type": "code",
   "execution_count": 94,
   "id": "688ed05d-3ab7-4e69-819b-230095494ef1",
   "metadata": {},
   "outputs": [
    {
     "name": "stdout",
     "output_type": "stream",
     "text": [
      "CPU times: user 439 µs, sys: 75 µs, total: 514 µs\n",
      "Wall time: 516 µs\n"
     ]
    }
   ],
   "source": [
    "%%time\n",
    "test_neighbors = {atom: set() for atom in range(len(xlig))}\n",
    "for dihedral in tops[0].topologies['Dihedrals']:\n",
    "    for atom in dihedral:\n",
    "        for i in range(len(dihedral)):\n",
    "            if atom != dihedral[i]:\n",
    "                test_neighbors[atom].add(dihedral[i])"
   ]
  },
  {
   "cell_type": "code",
   "execution_count": 96,
   "id": "a309210d-d186-4e66-96df-6b5ca3cf3ac3",
   "metadata": {},
   "outputs": [
    {
     "name": "stdout",
     "output_type": "stream",
     "text": [
      "CPU times: user 101 µs, sys: 17 µs, total: 118 µs\n",
      "Wall time: 120 µs\n"
     ]
    }
   ],
   "source": [
    "%%time\n",
    "improper_neighbors = {atom: set() for atom in range(len(xlig))}\n",
    "for improper in tops[0].topologies['Impropers']:\n",
    "    for i in range(len(improper)):\n",
    "        for j in range(i+1, len(improper)):\n",
    "            improper_neighbors[improper[i]].add(improper[j])\n",
    "            improper_neighbors[improper[j]].add(improper[i])"
   ]
  },
  {
   "cell_type": "code",
   "execution_count": null,
   "id": "102e3b5f-5e99-4898-98f0-9709872f241d",
   "metadata": {},
   "outputs": [],
   "source": []
  },
  {
   "cell_type": "code",
   "execution_count": 53,
   "id": "f50b86c4-37e6-494f-9985-c80bc24e1053",
   "metadata": {
    "tags": []
   },
   "outputs": [],
   "source": [
    "topology = {\"Angles\": [[2, 1, 0],\n",
    "                      [2, 3, 30],\n",
    "                      [3, 2, 1],\n",
    "                      [3, 2, 35],\n",
    "                      [3, 2, 36],\n",
    "                      [3, 4, 29],\n",
    "                      [3, 30, 0],\n",
    "                      [4, 3, 2],\n",
    "                      [4, 3, 30],\n",
    "                      [4, 5, 37]]}\n",
    "\n",
    "atoms = set([atom for angle in topology['Angles'] for atom in angle])\n",
    "\n",
    "angle_neighbors = {}\n",
    "for i in atoms:\n",
    "    angle_neighbors[i] = set()\n",
    "\n",
    "for angle in topology['Angles']:\n",
    "    for atom in angle:\n",
    "        for i in range(len(angle)):\n",
    "            if atom != angle[i]:\n",
    "                angle_neighbors[atom].add(i)"
   ]
  },
  {
   "cell_type": "code",
   "execution_count": 51,
   "id": "09bdd192-1e26-445b-8179-a1a0e1f33fa1",
   "metadata": {},
   "outputs": [
    {
     "data": {
      "text/plain": [
       "{0, 1, 2, 3, 4, 5, 29, 30, 35, 36, 37}"
      ]
     },
     "execution_count": 51,
     "metadata": {},
     "output_type": "execute_result"
    }
   ],
   "source": [
    "topology = {\"Angles\": [[2, 1, 0],\n",
    "                      [2, 3, 30],\n",
    "                      [3, 2, 1],\n",
    "                      [3, 2, 35],\n",
    "                      [3, 2, 36],\n",
    "                      [3, 4, 29],\n",
    "                      [3, 30, 0],\n",
    "                      [4, 3, 2],\n",
    "                      [4, 3, 30],\n",
    "                      [4, 5, 37]]}\n",
    "\n",
    "atoms = set([atom for angle in topology['Angles'] for atom in angle])\n",
    "atoms"
   ]
  },
  {
   "cell_type": "code",
   "execution_count": 39,
   "id": "563476f1-a5ac-4a07-9937-21dc4b1d7a47",
   "metadata": {},
   "outputs": [
    {
     "ename": "AttributeError",
     "evalue": "'set' object has no attribute 'append'",
     "output_type": "error",
     "traceback": [
      "\u001b[0;31m---------------------------------------------------------------------------\u001b[0m",
      "\u001b[0;31mAttributeError\u001b[0m                            Traceback (most recent call last)",
      "Cell \u001b[0;32mIn[39], line 2\u001b[0m\n\u001b[1;32m      1\u001b[0m test \u001b[38;5;241m=\u001b[39m {\u001b[38;5;241m1\u001b[39m, \u001b[38;5;241m2\u001b[39m, \u001b[38;5;241m3\u001b[39m}\n\u001b[0;32m----> 2\u001b[0m \u001b[43mtest\u001b[49m\u001b[38;5;241;43m.\u001b[39;49m\u001b[43mappend\u001b[49m(\u001b[38;5;241m4\u001b[39m)\n",
      "\u001b[0;31mAttributeError\u001b[0m: 'set' object has no attribute 'append'"
     ]
    }
   ],
   "source": [
    "test = {1, 2, 3}\n",
    "test.append(4)"
   ]
  },
  {
   "cell_type": "code",
   "execution_count": 126,
   "id": "e81ff96a-c17a-40a2-9954-711b7ae6b9c9",
   "metadata": {},
   "outputs": [],
   "source": [
    "coords = []\n",
    "types = []\n",
    "charges = []\n",
    "with open(\"coords.txt\") as f:\n",
    "    dat = f.readlines()\n",
    "    \n",
    "for line in dat:\n",
    "    raw = line.split()\n",
    "    x = round(float(raw[3]),1)\n",
    "    y = round(float(raw[4]),1)\n",
    "    z = round(float(raw[5]),1)\n",
    "    pos = [int(raw[0]), x,y,z]\n",
    "    at = [int(raw[0]), int(raw[2])]\n",
    "    charge = [int(raw[0]), float(raw[6])]\n",
    "    charges.append(charge)\n",
    "    types.append(at)\n",
    "    coords.append(pos)"
   ]
  },
  {
   "cell_type": "code",
   "execution_count": 131,
   "id": "61c9f55b-755b-4c39-b319-f0fdd8c62811",
   "metadata": {},
   "outputs": [],
   "source": [
    "with open(\"clean_coords.txt\", \"w\") as f:\n",
    "    f.write(\"Coords\\n\\n\")\n",
    "    for pos in coords:\n",
    "        f.write(f\"{pos[0]}    {pos[1]} {pos[2]} {pos[3]}\\n\")\n",
    "    f.write(\"\\nTypes\\n\\n\")\n",
    "    for at in types:\n",
    "        f.write(f\"{at[0]}    {at[1]}\\n\")\n",
    "    f.write(\"\\nCharges\\n\\n\")\n",
    "    for charge in charges:\n",
    "        f.write(f\"{charge[0]}    {charge[1]}\\n\")\n",
    "    f.write(\"\\nSpecial Bond Counts\\n\\n\")\n",
    "    for atom in special_bond_counts:\n",
    "        f.write(f\"{atom}    {' '.join([str(x) for x in special_bond_counts[atom]])}\\n\")\n",
    "    f.write(\"\\nSpecial Bonds\\n\\n\")\n",
    "    for atom in special_bonds:\n",
    "        f.write(f\"{atom}    {' '.join([str(x) for x in special_bonds[atom]])}\\n\")"
   ]
  },
  {
   "cell_type": "code",
   "execution_count": null,
   "id": "a221564f-1db0-495c-a04d-0c31039d447c",
   "metadata": {},
   "outputs": [],
   "source": [
    "with open(\"clean_types.txt\", \"w\") as f:\n",
    "    f.write()"
   ]
  }
 ],
 "metadata": {
  "kernelspec": {
   "display_name": "Python 3 (ipykernel)",
   "language": "python",
   "name": "python3"
  },
  "language_info": {
   "codemirror_mode": {
    "name": "ipython",
    "version": 3
   },
   "file_extension": ".py",
   "mimetype": "text/x-python",
   "name": "python",
   "nbconvert_exporter": "python",
   "pygments_lexer": "ipython3",
   "version": "3.10.5"
  }
 },
 "nbformat": 4,
 "nbformat_minor": 5
}
