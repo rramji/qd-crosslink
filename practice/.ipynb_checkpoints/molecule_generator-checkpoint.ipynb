{
 "cells": [
  {
   "cell_type": "code",
   "execution_count": 1,
   "id": "8be26e27-2aba-4b79-b649-7de92d9a30bd",
   "metadata": {},
   "outputs": [],
   "source": [
    "from pymatgen.io.lammps.data import *"
   ]
  },
  {
   "cell_type": "code",
   "execution_count": 2,
   "id": "14e94f4d-3144-48ab-9ae6-37b7cd2f2368",
   "metadata": {},
   "outputs": [],
   "source": [
    "system = LammpsData.from_file(\"data.oleic_xligand.test\")\n",
    "xlig_dat = LammpsData.from_file(\"data.xligand\")\n",
    "oleic_dat = LammpsData.from_file(\"data.oleic_acid\")\n",
    "\n",
    "xlig = xlig_dat.structure\n",
    "oleic = oleic_dat.structure\n",
    "\n",
    "box, ff, tops = system.disassemble()"
   ]
  },
  {
   "cell_type": "code",
   "execution_count": 3,
   "id": "1efdd738-999e-4318-99d3-792dfeb20dae",
   "metadata": {},
   "outputs": [],
   "source": [
    "def generate_neighbors(topology,structure):\n",
    "    neighbors = {atom: set() for atom in range(1,len(structure)+1)}\n",
    "    for relation in topology:\n",
    "        neighbors[relation[0] + 1].add(relation[-1] + 1)\n",
    "        neighbors[relation[-1] + 1].add(relation[0] + 1)\n",
    "    return neighbors"
   ]
  },
  {
   "cell_type": "code",
   "execution_count": 11,
   "id": "a14060c3-6efa-4f08-961a-17779c83e092",
   "metadata": {},
   "outputs": [],
   "source": [
    "def get_special_bonds(neighbors):\n",
    "    special_bonds = {atom: set() for atom in range(1, len(xlig) + 1)}\n",
    "    for top in ['Bonds', 'Angles', 'Dihedrals', 'Impropers']:\n",
    "        for atom in special_bonds:\n",
    "            special_bonds[atom] = special_bonds[atom].union(neighbors[top][atom])\n",
    "    \n",
    "    return special_bonds\n",
    "\n",
    "\n",
    "def get_special_bond_counts(neighbors):\n",
    "    special_bond_counts = {atom: [] for atom in range(1, len(xlig) + 1)}\n",
    "    for top in ['Bonds', 'Angles', 'Dihedrals']:\n",
    "        for atom in special_bond_counts:\n",
    "            if top == \"Bonds\" or top == \"Angles\":\n",
    "                special_bond_counts[atom].append(len(neighbors[top][atom]))\n",
    "            elif top == \"Dihedrals\":\n",
    "                count = 0\n",
    "                for i in neighbors[top][atom]:\n",
    "                    if i not in neighbors[\"Angles\"][atom]:\n",
    "                        count += 1\n",
    "                special_bond_counts[atom].append(count)\n",
    "    \n",
    "    return special_bond_counts"
   ]
  },
  {
   "cell_type": "code",
   "execution_count": null,
   "id": "2e995f68-2ce4-4407-871b-2e0486b90607",
   "metadata": {},
   "outputs": [],
   "source": []
  },
  {
   "cell_type": "code",
   "execution_count": 12,
   "id": "bee359a3-5768-411c-a0a3-14adbeb50729",
   "metadata": {},
   "outputs": [],
   "source": [
    "topologies = ['Bonds', 'Angles', 'Dihedrals', 'Impropers']\n",
    "neighbors = {topology: generate_neighbors(tops[0].topologies[topology], xlig) for topology in topologies}\n",
    "special_bonds = get_special_bonds(neighbors)\n",
    "special_bond_counts = get_special_bond_counts(neighbors)"
   ]
  },
  {
   "cell_type": "code",
   "execution_count": null,
   "id": "62e75ea4-7723-4bc1-b5c7-35d7e9ee965c",
   "metadata": {},
   "outputs": [],
   "source": []
  },
  {
   "cell_type": "code",
   "execution_count": 13,
   "id": "7a6da015-deec-4944-b6d8-06c660b9102e",
   "metadata": {},
   "outputs": [],
   "source": [
    "coords = []\n",
    "types = []\n",
    "charges = []\n",
    "with open(\"coords.txt\") as f:\n",
    "    dat = f.readlines()\n",
    "    \n",
    "for line in dat:\n",
    "    raw = line.split()\n",
    "    x = round(float(raw[3]),1)\n",
    "    y = round(float(raw[4]),1)\n",
    "    z = round(float(raw[5]),1)\n",
    "    pos = [int(raw[0]), x,y,z]\n",
    "    at = [int(raw[0]), int(raw[2])]\n",
    "    charge = [int(raw[0]), float(raw[6])]\n",
    "    charges.append(charge)\n",
    "    types.append(at)\n",
    "    coords.append(pos)"
   ]
  },
  {
   "cell_type": "code",
   "execution_count": 14,
   "id": "dfa1bbbe-007d-4dc9-8412-47586525614f",
   "metadata": {},
   "outputs": [],
   "source": [
    "with open(\"clean_coords.txt\", \"w\") as f:\n",
    "    f.write(\"Coords\\n\\n\")\n",
    "    for pos in coords:\n",
    "        f.write(f\"{pos[0]}    {pos[1]} {pos[2]} {pos[3]}\\n\")\n",
    "    f.write(\"\\nTypes\\n\\n\")\n",
    "    for at in types:\n",
    "        f.write(f\"{at[0]}    {at[1]}\\n\")\n",
    "    f.write(\"\\nCharges\\n\\n\")\n",
    "    for charge in charges:\n",
    "        f.write(f\"{charge[0]}    {charge[1]}\\n\")\n",
    "    f.write(\"\\nSpecial Bond Counts\\n\\n\")\n",
    "    for atom in special_bond_counts:\n",
    "        f.write(f\"{atom}    {' '.join([str(x) for x in special_bond_counts[atom]])}\\n\")\n",
    "    f.write(\"\\nSpecial Bonds\\n\\n\")\n",
    "    for atom in special_bonds:\n",
    "        f.write(f\"{atom}    {' '.join([str(x) for x in special_bonds[atom]])}\\n\")"
   ]
  },
  {
   "cell_type": "code",
   "execution_count": null,
   "id": "6992aa54-1547-480f-baf8-69a6b05b3d55",
   "metadata": {},
   "outputs": [],
   "source": []
  }
 ],
 "metadata": {
  "kernelspec": {
   "display_name": "openmm",
   "language": "python",
   "name": "openmm"
  },
  "language_info": {
   "codemirror_mode": {
    "name": "ipython",
    "version": 3
   },
   "file_extension": ".py",
   "mimetype": "text/x-python",
   "name": "python",
   "nbconvert_exporter": "python",
   "pygments_lexer": "ipython3",
   "version": "3.9.7"
  }
 },
 "nbformat": 4,
 "nbformat_minor": 5
}
