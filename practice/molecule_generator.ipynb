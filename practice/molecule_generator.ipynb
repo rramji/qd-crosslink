{
 "cells": [
  {
   "cell_type": "code",
   "execution_count": 2,
   "id": "8be26e27-2aba-4b79-b649-7de92d9a30bd",
   "metadata": {},
   "outputs": [],
   "source": [
    "from pymatgen.io.lammps.data import *"
   ]
  },
  {
   "cell_type": "code",
   "execution_count": 9,
   "id": "14e94f4d-3144-48ab-9ae6-37b7cd2f2368",
   "metadata": {},
   "outputs": [],
   "source": [
    "system = LammpsData.from_file(\"data.oleic_xligand.test\")\n",
    "xlig_dat = LammpsData.from_file(\"data.xligand\")\n",
    "oleic_dat = LammpsData.from_file(\"data.oleic_acid\")\n",
    "\n",
    "xlig = xlig_dat.structure\n",
    "oleic = oleic_dat.structure\n",
    "\n",
    "box, ff, tops = system.disassemble()\n",
    "forcefield = ff.as_dict()"
   ]
  },
  {
   "cell_type": "raw",
   "id": "3ee298bb-66ec-46d5-bd56-6e7ba1547f41",
   "metadata": {
    "jupyter": {
     "outputs_hidden": true
    },
    "tags": []
   },
   "source": [
    "tops[0].as_dict()['sites']['sites']"
   ]
  },
  {
   "cell_type": "raw",
   "id": "432ddeea-e106-4213-9c8d-6d0bb6258d02",
   "metadata": {
    "jupyter": {
     "outputs_hidden": true
    },
    "tags": []
   },
   "source": [
    "tops[0].topologies['Bonds']"
   ]
  },
  {
   "cell_type": "raw",
   "id": "b8704ec3-e241-4924-a191-afe78444afb9",
   "metadata": {
    "jupyter": {
     "outputs_hidden": true
    },
    "tags": []
   },
   "source": [
    "ff.as_dict()"
   ]
  },
  {
   "cell_type": "raw",
   "id": "3421cc95-2fd6-4237-8c87-ad62a23f7aad",
   "metadata": {},
   "source": [
    "get_ff_type(0, tops[0])"
   ]
  },
  {
   "cell_type": "code",
   "execution_count": 4,
   "id": "9be45ed6-38bd-40a3-9041-3c30155277bf",
   "metadata": {
    "tags": []
   },
   "outputs": [],
   "source": [
    "def get_ff_type(idx,structure):\n",
    "    site = structure.as_dict()['sites']['sites'][idx] # preserves original index of atoms from lammps data file\n",
    "    ff_type = site['properties']['ff_map']  # pull the forcefield type from the structure-topo dict\n",
    "    return ff_type\n",
    "\n",
    "def get_bond_type(bond,ff_dict):\n",
    "    \n",
    "    bond_type = \"\"\n",
    "    \n",
    "    for i in range(len(ff_dict['topo_coeffs'][\"Bond Coeffs\"])):\n",
    "        # print(bond, ff_dict['topo_coeffs'][\"Bond Coeffs\"][i]['types'][0]) \n",
    "        if bond == ff_dict['topo_coeffs'][\"Bond Coeffs\"][i]['types'][0]:\n",
    "            bond_type = i\n",
    "        elif bond[::-1] == ff_dict['topo_coeffs'][\"Bond Coeffs\"][i]['types'][0]:\n",
    "            bond_type = i\n",
    "    \n",
    "    if type(bond_type) == int:\n",
    "        return bond_type\n",
    "    else:\n",
    "        raise Exception(\"type not found\")"
   ]
  },
  {
   "cell_type": "code",
   "execution_count": 17,
   "id": "97a51ec6-b0c0-464a-a913-fc2123a4b63d",
   "metadata": {},
   "outputs": [],
   "source": [
    "# this function expects:\n",
    "# -- relation should be an array of atom types as imported by pymatgen from lammps datafile \n",
    "# -- eg [C1, H1, C1, N1]\n",
    "# -- ff_dict should be the output of the ff.as_dict() pymatgen lammps forcefield object \n",
    "# -- topology should be the name of the relation you want to type (Bonds, Angles, Dihedrals, Impropers)\n",
    "def get_topo_type(relation, ff_dict, topology):\n",
    "    \n",
    "    topo_type = \"\"\n",
    "    topo_coeff = \"\"\n",
    "    \n",
    "    # convert standard topology name to singular + \" Coeff\" format for pymatgen ff_dict format\n",
    "    topo = {\"Bond\", \"Angle\", \"Dihedral\", \"Improper\"}\n",
    "    for i in topo:\n",
    "        if i in topology:\n",
    "            topo_coeff = i + \" Coeffs\"\n",
    "    \n",
    "    if topo_coeff == \"\":\n",
    "        raise Exception(\"Topology not found\")\n",
    "    \n",
    "    # check the original or reverse order of the topological relation (bond, angle...) \n",
    "    for i in range(len(ff_dict['topo_coeffs'][topo_coeff])):\n",
    "        # print(relation, ff_dict['topo_coeffs'][topo_coeff][i]['types'][0])\n",
    "        if relation in ff_dict['topo_coeffs'][topo_coeff][i]['types']:\n",
    "            topo_type = i\n",
    "        elif relation[::-1] in ff_dict['topo_coeffs'][topo_coeff][i]['types']:\n",
    "            topo_type = i\n",
    "    \n",
    "    if type(topo_type) == int:\n",
    "        return topo_type\n",
    "    else:\n",
    "        raise Exception(\"type not found\")"
   ]
  },
  {
   "cell_type": "code",
   "execution_count": 16,
   "id": "bb271d2a-8436-46d6-b72d-792421910c7b",
   "metadata": {},
   "outputs": [
    {
     "data": {
      "text/plain": [
       "3"
      ]
     },
     "execution_count": 16,
     "metadata": {},
     "output_type": "execute_result"
    }
   ],
   "source": [
    "dihed_typed = [get_ff_type(x,tops[0]) for x in tops[0].topologies[\"Dihedrals\"][0]]\n",
    "dihed_typed\n",
    "get_topo_type(dihed_typed, forcefield, \"Dihedrals\")"
   ]
  },
  {
   "cell_type": "raw",
   "id": "9fcf6310-e1cb-4e66-81d0-5b8039c0472e",
   "metadata": {
    "jupyter": {
     "outputs_hidden": true
    },
    "tags": []
   },
   "source": [
    "i = 0\n",
    "forcefield = ff.as_dict()\n",
    "for bond in tops[0].topologies['Bonds']:\n",
    "    i  += 1\n",
    "    bonded_pair = [get_ff_type(x,tops[0]) for x in bond]\n",
    "    test = get_bond_type(bonded_pair, forcefield)\n",
    "    lammps_bond = [str(i + 1) for i in bond]\n",
    "    print(i, test + 1, \" \".join(lammps_bond))"
   ]
  },
  {
   "cell_type": "code",
   "execution_count": 22,
   "id": "6fe470e9-b813-4854-adc9-efad3cfb90a0",
   "metadata": {},
   "outputs": [],
   "source": [
    "# writes out the desired lammps topology in molecule-file compatible format \n",
    "# note the \"+ 1\"s to convert to lammps 1-based indexing\n",
    "def get_lammps_topology(structure, ff_dict, topology):\n",
    "    i = 0\n",
    "    dat = []\n",
    "    for neighbor in structure.topologies[topology]:\n",
    "        i  += 1\n",
    "        neighbor_types = [get_ff_type(x,structure) for x in neighbor] # get ff types for each element in the connected relation\n",
    "        relation_type = get_topo_type(neighbor_types, ff_dict, topology) # get type of the relation\n",
    "        lammps_bond = [str(i + 1) for i in neighbor] # convert to LAMMPS 1-based indexing\n",
    "        # print(i, relation_type + 1, \" \".join(lammps_bond))\n",
    "        dat.append(f\"{i} {relation_type + 1} {' '.join(lammps_bond)}\\n\")\n",
    "    \n",
    "    return dat\n",
    "\n",
    "def write_lammps_topology(filename, topo_dat):\n",
    "    with open(filename, \"w\") as f:\n",
    "        for line in topo_dat:\n",
    "            f.write(line)"
   ]
  },
  {
   "cell_type": "code",
   "execution_count": 23,
   "id": "c9eb538d-e40e-4607-a85b-1a35915f4de2",
   "metadata": {
    "tags": []
   },
   "outputs": [
    {
     "data": {
      "text/plain": [
       "['1 1 1 2\\n', '2 1 1 31\\n', '3 2 1 32\\n', '4 2 1 33\\n', '5 1 2 3\\n']"
      ]
     },
     "execution_count": 23,
     "metadata": {},
     "output_type": "execute_result"
    }
   ],
   "source": [
    "dat = get_lammps_topology(tops[0], forcefield, \"Bonds\")\n",
    "write_lammps_topology(\"xlig_bonds_test.dat\", dat)\n",
    "dat[0:5]"
   ]
  },
  {
   "cell_type": "code",
   "execution_count": 6,
   "id": "1efdd738-999e-4318-99d3-792dfeb20dae",
   "metadata": {},
   "outputs": [],
   "source": [
    "def generate_neighbors(topology,structure):\n",
    "    neighbors = {atom: set() for atom in range(1,len(structure)+1)}\n",
    "    for relation in topology:\n",
    "        neighbors[relation[0] + 1].add(relation[-1] + 1)\n",
    "        neighbors[relation[-1] + 1].add(relation[0] + 1)\n",
    "    return neighbors"
   ]
  },
  {
   "cell_type": "code",
   "execution_count": 7,
   "id": "a14060c3-6efa-4f08-961a-17779c83e092",
   "metadata": {},
   "outputs": [],
   "source": [
    "def get_special_bonds(neighbors,structure):\n",
    "    special_bonds = {atom: set() for atom in range(1, len(structure) + 1)}\n",
    "    for top in ['Bonds', 'Angles', 'Dihedrals', 'Impropers']:\n",
    "        for atom in special_bonds:\n",
    "            special_bonds[atom] = special_bonds[atom].union(neighbors[top][atom])\n",
    "    \n",
    "    return special_bonds\n",
    "\n",
    "\n",
    "def get_special_bond_counts(neighbors, structure):\n",
    "    special_bond_counts = {atom: [] for atom in range(1, len(structure) + 1)}\n",
    "    for top in ['Bonds', 'Angles', 'Dihedrals']:\n",
    "        for atom in special_bond_counts:\n",
    "            if top == \"Bonds\" or top == \"Angles\":\n",
    "                special_bond_counts[atom].append(len(neighbors[top][atom]))\n",
    "            elif top == \"Dihedrals\":\n",
    "                count = 0\n",
    "                for i in neighbors[top][atom]:\n",
    "                    if i not in neighbors[\"Angles\"][atom]:\n",
    "                        count += 1\n",
    "                special_bond_counts[atom].append(count)\n",
    "    \n",
    "    return special_bond_counts"
   ]
  },
  {
   "cell_type": "code",
   "execution_count": null,
   "id": "2e995f68-2ce4-4407-871b-2e0486b90607",
   "metadata": {},
   "outputs": [],
   "source": []
  },
  {
   "cell_type": "code",
   "execution_count": 12,
   "id": "bee359a3-5768-411c-a0a3-14adbeb50729",
   "metadata": {},
   "outputs": [],
   "source": [
    "topologies = ['Bonds', 'Angles', 'Dihedrals', 'Impropers']\n",
    "neighbors = {topology: generate_neighbors(tops[0].topologies[topology], xlig) for topology in topologies}\n",
    "special_bonds = get_special_bonds(neighbors)\n",
    "special_bond_counts = get_special_bond_counts(neighbors)"
   ]
  },
  {
   "cell_type": "code",
   "execution_count": 21,
   "id": "62e75ea4-7723-4bc1-b5c7-35d7e9ee965c",
   "metadata": {
    "collapsed": true,
    "jupyter": {
     "outputs_hidden": true
    },
    "tags": []
   },
   "outputs": [
    {
     "data": {
      "text/plain": [
       "{1: {20},\n",
       " 2: {20},\n",
       " 3: set(),\n",
       " 4: set(),\n",
       " 5: set(),\n",
       " 6: set(),\n",
       " 7: set(),\n",
       " 8: set(),\n",
       " 9: set(),\n",
       " 10: set(),\n",
       " 11: {15},\n",
       " 12: set(),\n",
       " 13: set(),\n",
       " 14: {17},\n",
       " 15: {11, 17, 45},\n",
       " 16: set(),\n",
       " 17: {14, 15, 48},\n",
       " 18: {20},\n",
       " 19: set(),\n",
       " 20: {1, 2, 18},\n",
       " 21: set(),\n",
       " 22: set(),\n",
       " 23: set(),\n",
       " 24: set(),\n",
       " 25: set(),\n",
       " 26: set(),\n",
       " 27: set(),\n",
       " 28: set(),\n",
       " 29: set(),\n",
       " 30: set(),\n",
       " 31: set(),\n",
       " 32: set(),\n",
       " 33: set(),\n",
       " 34: set(),\n",
       " 35: set(),\n",
       " 36: set(),\n",
       " 37: set(),\n",
       " 38: set(),\n",
       " 39: set(),\n",
       " 40: set(),\n",
       " 41: set(),\n",
       " 42: set(),\n",
       " 43: set(),\n",
       " 44: set(),\n",
       " 45: {15},\n",
       " 46: set(),\n",
       " 47: set(),\n",
       " 48: {17},\n",
       " 49: set(),\n",
       " 50: set(),\n",
       " 51: set(),\n",
       " 52: set(),\n",
       " 53: set(),\n",
       " 54: set()}"
      ]
     },
     "execution_count": 21,
     "metadata": {},
     "output_type": "execute_result"
    }
   ],
   "source": [
    "neighbors['Impropers']"
   ]
  },
  {
   "cell_type": "code",
   "execution_count": 13,
   "id": "7a6da015-deec-4944-b6d8-06c660b9102e",
   "metadata": {},
   "outputs": [],
   "source": [
    "coords = []\n",
    "types = []\n",
    "charges = []\n",
    "with open(\"coords.txt\") as f:\n",
    "    dat = f.readlines()\n",
    "    \n",
    "for line in dat:\n",
    "    raw = line.split()\n",
    "    x = round(float(raw[3]),1)\n",
    "    y = round(float(raw[4]),1)\n",
    "    z = round(float(raw[5]),1)\n",
    "    pos = [int(raw[0]), x,y,z]\n",
    "    at = [int(raw[0]), int(raw[2])]\n",
    "    charge = [int(raw[0]), float(raw[6])]\n",
    "    charges.append(charge)\n",
    "    types.append(at)\n",
    "    coords.append(pos)"
   ]
  },
  {
   "cell_type": "code",
   "execution_count": 14,
   "id": "dfa1bbbe-007d-4dc9-8412-47586525614f",
   "metadata": {},
   "outputs": [],
   "source": [
    "with open(\"clean_coords.txt\", \"w\") as f:\n",
    "    f.write(\"Coords\\n\\n\")\n",
    "    for pos in coords:\n",
    "        f.write(f\"{pos[0]}    {pos[1]} {pos[2]} {pos[3]}\\n\")\n",
    "    f.write(\"\\nTypes\\n\\n\")\n",
    "    for at in types:\n",
    "        f.write(f\"{at[0]}    {at[1]}\\n\")\n",
    "    f.write(\"\\nCharges\\n\\n\")\n",
    "    for charge in charges:\n",
    "        f.write(f\"{charge[0]}    {charge[1]}\\n\")\n",
    "    f.write(\"\\nSpecial Bond Counts\\n\\n\")\n",
    "    for atom in special_bond_counts:\n",
    "        f.write(f\"{atom}    {' '.join([str(x) for x in special_bond_counts[atom]])}\\n\")\n",
    "    f.write(\"\\nSpecial Bonds\\n\\n\")\n",
    "    for atom in special_bonds:\n",
    "        f.write(f\"{atom}    {' '.join([str(x) for x in special_bonds[atom]])}\\n\")"
   ]
  },
  {
   "cell_type": "code",
   "execution_count": 17,
   "id": "6992aa54-1547-480f-baf8-69a6b05b3d55",
   "metadata": {},
   "outputs": [
    {
     "data": {
      "text/plain": [
       "53"
      ]
     },
     "execution_count": 17,
     "metadata": {},
     "output_type": "execute_result"
    }
   ],
   "source": [
    "len(tops[1].topologies[\"Bonds\"])"
   ]
  },
  {
   "cell_type": "code",
   "execution_count": 19,
   "id": "7c5bb021-a3ad-4e1d-a188-638f03727acf",
   "metadata": {},
   "outputs": [],
   "source": [
    "topologies = ['Bonds', 'Angles', 'Dihedrals', 'Impropers']\n",
    "neighbors = {topology: generate_neighbors(tops[1].topologies[topology], oleic) for topology in topologies}\n",
    "special_bonds = get_special_bonds(neighbors, oleic)\n",
    "special_bond_counts = get_special_bond_counts(neighbors, oleic)"
   ]
  },
  {
   "cell_type": "code",
   "execution_count": 22,
   "id": "5eaf7df4-a36c-4932-a166-8e150aaab13e",
   "metadata": {},
   "outputs": [
    {
     "data": {
      "text/plain": [
       "{1: {20},\n",
       " 2: {20},\n",
       " 3: set(),\n",
       " 4: set(),\n",
       " 5: set(),\n",
       " 6: set(),\n",
       " 7: set(),\n",
       " 8: set(),\n",
       " 9: set(),\n",
       " 10: set(),\n",
       " 11: {15},\n",
       " 12: set(),\n",
       " 13: set(),\n",
       " 14: {17},\n",
       " 15: {11, 17, 45},\n",
       " 16: set(),\n",
       " 17: {14, 15, 48},\n",
       " 18: {20},\n",
       " 19: set(),\n",
       " 20: {1, 2, 18},\n",
       " 21: set(),\n",
       " 22: set(),\n",
       " 23: set(),\n",
       " 24: set(),\n",
       " 25: set(),\n",
       " 26: set(),\n",
       " 27: set(),\n",
       " 28: set(),\n",
       " 29: set(),\n",
       " 30: set(),\n",
       " 31: set(),\n",
       " 32: set(),\n",
       " 33: set(),\n",
       " 34: set(),\n",
       " 35: set(),\n",
       " 36: set(),\n",
       " 37: set(),\n",
       " 38: set(),\n",
       " 39: set(),\n",
       " 40: set(),\n",
       " 41: set(),\n",
       " 42: set(),\n",
       " 43: set(),\n",
       " 44: set(),\n",
       " 45: {15},\n",
       " 46: set(),\n",
       " 47: set(),\n",
       " 48: {17},\n",
       " 49: set(),\n",
       " 50: set(),\n",
       " 51: set(),\n",
       " 52: set(),\n",
       " 53: set(),\n",
       " 54: set()}"
      ]
     },
     "execution_count": 22,
     "metadata": {},
     "output_type": "execute_result"
    }
   ],
   "source": [
    "neighbors['Impropers']"
   ]
  },
  {
   "cell_type": "code",
   "execution_count": 20,
   "id": "f767d367-36d8-4f75-a531-e7d8e28c70d4",
   "metadata": {},
   "outputs": [],
   "source": [
    "coords = []\n",
    "types = []\n",
    "charges = []\n",
    "with open(\"oleic_coords.txt\") as f:\n",
    "    dat = f.readlines()\n",
    "    \n",
    "for line in dat:\n",
    "    raw = line.split()\n",
    "    x = round(float(raw[3]),1)\n",
    "    y = round(float(raw[4]),1)\n",
    "    z = round(float(raw[5]),1)\n",
    "    pos = [int(raw[0]), x,y,z]\n",
    "    at = [int(raw[0]), int(raw[2])]\n",
    "    charge = [int(raw[0]), float(raw[6])]\n",
    "    charges.append(charge)\n",
    "    types.append(at)\n",
    "    coords.append(pos)\n",
    "\n",
    "with open(\"oleic_dat.txt\", \"w\") as f:\n",
    "    f.write(\"Coords\\n\\n\")\n",
    "    for pos in coords:\n",
    "        f.write(f\"{pos[0]}    {pos[1]} {pos[2]} {pos[3]}\\n\")\n",
    "    f.write(\"\\nTypes\\n\\n\")\n",
    "    for at in types:\n",
    "        f.write(f\"{at[0]}    {at[1]}\\n\")\n",
    "    f.write(\"\\nCharges\\n\\n\")\n",
    "    for charge in charges:\n",
    "        f.write(f\"{charge[0]}    {charge[1]}\\n\")\n",
    "    f.write(\"\\nSpecial Bond Counts\\n\\n\")\n",
    "    for atom in special_bond_counts:\n",
    "        f.write(f\"{atom}    {' '.join([str(x) for x in special_bond_counts[atom]])}\\n\")\n",
    "    f.write(\"\\nSpecial Bonds\\n\\n\")\n",
    "    for atom in special_bonds:\n",
    "        f.write(f\"{atom}    {' '.join([str(x) for x in special_bonds[atom]])}\\n\")"
   ]
  },
  {
   "cell_type": "code",
   "execution_count": null,
   "id": "ce19d33b-c537-41b5-8619-840f05ae252a",
   "metadata": {},
   "outputs": [],
   "source": []
  }
 ],
 "metadata": {
  "kernelspec": {
   "display_name": "openmm",
   "language": "python",
   "name": "openmm"
  },
  "language_info": {
   "codemirror_mode": {
    "name": "ipython",
    "version": 3
   },
   "file_extension": ".py",
   "mimetype": "text/x-python",
   "name": "python",
   "nbconvert_exporter": "python",
   "pygments_lexer": "ipython3",
   "version": "3.9.7"
  }
 },
 "nbformat": 4,
 "nbformat_minor": 5
}
