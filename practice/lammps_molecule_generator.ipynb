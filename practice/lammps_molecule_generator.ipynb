{
 "cells": [
  {
   "cell_type": "code",
   "execution_count": 1,
   "id": "31d30f79-e60d-4e46-9b2d-6e35342eab82",
   "metadata": {},
   "outputs": [],
   "source": [
    "from pymatgen.io.lammps.data import *"
   ]
  },
  {
   "cell_type": "markdown",
   "id": "6fd0cd1e-c238-423e-9dd4-c9b902b3d05b",
   "metadata": {},
   "source": [
    "## Looks like I interpreted the special bond counts keyword incorrectly, it's counting the number of those bonds, not the number of atoms participating in those bonds. This counting method only works for the bonds. Need to see how many angles and dihedrals END with each atom"
   ]
  },
  {
   "cell_type": "code",
   "execution_count": 2,
   "id": "fd5c8fc3-1cb2-45c2-958d-33990b82dbf7",
   "metadata": {},
   "outputs": [],
   "source": [
    "system = LammpsData.from_file(\"data.montecarlo_test\")\n",
    "xlig_dat = LammpsData.from_file(\"data.xligand\")\n",
    "oleic_dat = LammpsData.from_file(\"data.oleic_acid\")\n",
    "\n",
    "xlig = xlig_dat.structure\n",
    "oleic = oleic_dat.structure"
   ]
  },
  {
   "cell_type": "code",
   "execution_count": 3,
   "id": "a195f469-1442-4486-9313-c2ffc92d6e37",
   "metadata": {},
   "outputs": [],
   "source": [
    "box, ff, tops = system.disassemble()"
   ]
  },
  {
   "cell_type": "code",
   "execution_count": 11,
   "id": "0ed8a6bc-7fdf-4b5d-929d-490c6e7032d1",
   "metadata": {
    "collapsed": true,
    "jupyter": {
     "outputs_hidden": true
    },
    "tags": []
   },
   "outputs": [
    {
     "data": {
      "text/plain": [
       "[[2, 1, 0],\n",
       " [2, 3, 30],\n",
       " [3, 2, 1],\n",
       " [3, 2, 35],\n",
       " [3, 2, 36],\n",
       " [3, 4, 29],\n",
       " [3, 30, 0],\n",
       " [4, 3, 2],\n",
       " [4, 3, 30],\n",
       " [4, 5, 37],\n",
       " [4, 29, 28],\n",
       " [5, 4, 3],\n",
       " [5, 4, 29],\n",
       " [5, 6, 38],\n",
       " [6, 5, 4],\n",
       " [6, 5, 37],\n",
       " [6, 7, 28],\n",
       " [7, 6, 5],\n",
       " [7, 6, 38],\n",
       " [7, 8, 9],\n",
       " [7, 8, 10],\n",
       " [7, 28, 29],\n",
       " [7, 28, 64],\n",
       " [8, 7, 6],\n",
       " [8, 7, 28],\n",
       " [8, 10, 11],\n",
       " [8, 10, 27],\n",
       " [10, 8, 9],\n",
       " [12, 11, 10],\n",
       " [13, 12, 11],\n",
       " [14, 13, 12],\n",
       " [15, 14, 13],\n",
       " [16, 15, 14],\n",
       " [17, 16, 15],\n",
       " [18, 17, 16],\n",
       " [19, 18, 17],\n",
       " [20, 19, 18],\n",
       " [21, 20, 19],\n",
       " [22, 21, 20],\n",
       " [23, 22, 21],\n",
       " [24, 23, 22],\n",
       " [25, 24, 23],\n",
       " [26, 13, 12],\n",
       " [26, 13, 14],\n",
       " [26, 27, 10],\n",
       " [27, 10, 11],\n",
       " [27, 26, 13],\n",
       " [30, 0, 1],\n",
       " [31, 0, 1],\n",
       " [31, 0, 30],\n",
       " [32, 0, 1],\n",
       " [32, 0, 30],\n",
       " [32, 0, 31],\n",
       " [33, 1, 0],\n",
       " [33, 1, 2],\n",
       " [34, 1, 0],\n",
       " [34, 1, 2],\n",
       " [34, 1, 33],\n",
       " [35, 2, 1],\n",
       " [36, 2, 1],\n",
       " [36, 2, 35],\n",
       " [39, 11, 10],\n",
       " [39, 11, 12],\n",
       " [40, 12, 11],\n",
       " [40, 12, 13],\n",
       " [41, 15, 14],\n",
       " [41, 15, 16],\n",
       " [42, 15, 14],\n",
       " [42, 15, 16],\n",
       " [42, 15, 41],\n",
       " [43, 16, 15],\n",
       " [43, 16, 17],\n",
       " [44, 16, 15],\n",
       " [44, 16, 17],\n",
       " [44, 16, 43],\n",
       " [45, 17, 16],\n",
       " [45, 17, 18],\n",
       " [46, 17, 16],\n",
       " [46, 17, 18],\n",
       " [46, 17, 45],\n",
       " [47, 18, 17],\n",
       " [47, 18, 19],\n",
       " [48, 18, 17],\n",
       " [48, 18, 19],\n",
       " [48, 18, 47],\n",
       " [49, 19, 18],\n",
       " [49, 19, 20],\n",
       " [50, 19, 18],\n",
       " [50, 19, 20],\n",
       " [50, 19, 49],\n",
       " [51, 20, 19],\n",
       " [51, 20, 21],\n",
       " [52, 20, 19],\n",
       " [52, 20, 21],\n",
       " [52, 20, 51],\n",
       " [53, 21, 20],\n",
       " [53, 21, 22],\n",
       " [54, 21, 20],\n",
       " [54, 21, 22],\n",
       " [54, 21, 53],\n",
       " [55, 22, 21],\n",
       " [55, 22, 23],\n",
       " [56, 22, 21],\n",
       " [56, 22, 23],\n",
       " [56, 22, 55],\n",
       " [57, 23, 22],\n",
       " [57, 23, 24],\n",
       " [58, 23, 22],\n",
       " [58, 23, 24],\n",
       " [58, 23, 57],\n",
       " [59, 24, 23],\n",
       " [59, 24, 25],\n",
       " [60, 24, 23],\n",
       " [60, 24, 25],\n",
       " [60, 24, 59],\n",
       " [61, 25, 24],\n",
       " [62, 26, 13],\n",
       " [62, 26, 27],\n",
       " [63, 27, 10],\n",
       " [63, 27, 26],\n",
       " [64, 28, 29],\n",
       " [65, 29, 4],\n",
       " [65, 29, 28],\n",
       " [66, 30, 0],\n",
       " [66, 30, 3],\n",
       " [67, 30, 0],\n",
       " [67, 30, 3],\n",
       " [67, 30, 66]]"
      ]
     },
     "execution_count": 11,
     "metadata": {},
     "output_type": "execute_result"
    }
   ],
   "source": [
    "tops[0].topologies[\"Angles\"]"
   ]
  },
  {
   "cell_type": "code",
   "execution_count": 4,
   "id": "dc626cd2-56c3-4987-b0e9-83e6cc91db3d",
   "metadata": {},
   "outputs": [],
   "source": [
    "def generate_neighbors(topology,structure):\n",
    "    neighbors = {atom: set() for atom in range(len(structure))}\n",
    "    for relation in topology:\n",
    "        for i in range(len(relation)):\n",
    "            for j in range(i+1, len(relation)):\n",
    "                neighbors[relation[i]].add(relation[j])\n",
    "                neighbors[relation[j]].add(relation[i])\n",
    "    return neighbors"
   ]
  },
  {
   "cell_type": "code",
   "execution_count": 32,
   "id": "4f997ea0-a214-4b13-90d9-3b512674aea0",
   "metadata": {},
   "outputs": [],
   "source": [
    "special_bond_counts = {atom + 1: [0,0,0,0] for atom in range(len(xlig))}\n",
    "\n",
    "idx = -1\n",
    "for top in topologies:\n",
    "    idx += 1\n",
    "    for adi in tops[0].topologies[top]:\n",
    "        for atom in adi:\n",
    "            special_bond_counts[atom + 1][idx] += 1"
   ]
  },
  {
   "cell_type": "code",
   "execution_count": 33,
   "id": "4f030228-76a4-49be-bbe5-74d77b73076c",
   "metadata": {
    "tags": []
   },
   "outputs": [
    {
     "data": {
      "text/plain": [
       "{1: [4, 12, 23, 0],\n",
       " 2: [4, 12, 23, 0],\n",
       " 3: [4, 11, 23, 0],\n",
       " 4: [3, 11, 26, 3],\n",
       " 5: [3, 9, 22, 9],\n",
       " 6: [3, 7, 14, 9],\n",
       " 7: [3, 7, 14, 9],\n",
       " 8: [3, 9, 18, 12],\n",
       " 9: [3, 7, 16, 9],\n",
       " 10: [1, 2, 4, 3],\n",
       " 11: [3, 9, 18, 12],\n",
       " 12: [3, 7, 14, 9],\n",
       " 13: [3, 7, 13, 9],\n",
       " 14: [3, 8, 17, 9],\n",
       " 15: [2, 6, 12, 3],\n",
       " 16: [4, 10, 17, 0],\n",
       " 17: [4, 12, 22, 0],\n",
       " 18: [4, 12, 24, 0],\n",
       " 19: [4, 12, 24, 0],\n",
       " 20: [4, 12, 24, 0],\n",
       " 21: [4, 12, 24, 0],\n",
       " 22: [4, 12, 24, 0],\n",
       " 23: [4, 12, 24, 0],\n",
       " 24: [4, 12, 22, 0],\n",
       " 25: [4, 10, 15, 0],\n",
       " 26: [2, 4, 6, 0],\n",
       " 27: [3, 7, 13, 9],\n",
       " 28: [3, 7, 14, 9],\n",
       " 29: [3, 7, 14, 9],\n",
       " 30: [3, 7, 14, 9],\n",
       " 31: [4, 11, 23, 0],\n",
       " 32: [1, 3, 6, 0],\n",
       " 33: [1, 3, 6, 0],\n",
       " 34: [1, 3, 6, 0],\n",
       " 35: [1, 3, 6, 0],\n",
       " 36: [1, 3, 5, 0],\n",
       " 37: [1, 3, 5, 0],\n",
       " 38: [1, 2, 4, 3],\n",
       " 39: [1, 2, 4, 3],\n",
       " 40: [1, 2, 4, 3],\n",
       " 41: [1, 2, 4, 3],\n",
       " 42: [1, 3, 4, 0],\n",
       " 43: [1, 3, 4, 0],\n",
       " 44: [1, 3, 6, 0],\n",
       " 45: [1, 3, 6, 0],\n",
       " 46: [1, 3, 6, 0],\n",
       " 47: [1, 3, 6, 0],\n",
       " 48: [1, 3, 6, 0],\n",
       " 49: [1, 3, 6, 0],\n",
       " 50: [1, 3, 6, 0],\n",
       " 51: [1, 3, 6, 0],\n",
       " 52: [1, 3, 6, 0],\n",
       " 53: [1, 3, 6, 0],\n",
       " 54: [1, 3, 6, 0],\n",
       " 55: [1, 3, 6, 0],\n",
       " 56: [1, 3, 6, 0],\n",
       " 57: [1, 3, 6, 0],\n",
       " 58: [1, 3, 6, 0],\n",
       " 59: [1, 3, 6, 0],\n",
       " 60: [1, 3, 4, 0],\n",
       " 61: [1, 3, 4, 0],\n",
       " 62: [1, 1, 3, 0],\n",
       " 63: [1, 2, 4, 3],\n",
       " 64: [1, 2, 4, 3],\n",
       " 65: [1, 2, 4, 3],\n",
       " 66: [1, 2, 4, 3],\n",
       " 67: [1, 3, 5, 0],\n",
       " 68: [1, 3, 5, 0]}"
      ]
     },
     "execution_count": 33,
     "metadata": {},
     "output_type": "execute_result"
    }
   ],
   "source": [
    "special_bond_counts"
   ]
  },
  {
   "cell_type": "code",
   "execution_count": 5,
   "id": "17a95676-343f-4192-9f77-40bf390e4d44",
   "metadata": {
    "tags": []
   },
   "outputs": [],
   "source": [
    "topologies = ['Bonds', 'Angles', 'Dihedrals', 'Impropers']\n",
    "neighbors = {topology: generate_neighbors(tops[0].topologies[topology], xlig) for topology in topologies}"
   ]
  },
  {
   "cell_type": "code",
   "execution_count": 8,
   "id": "fd167b5f-3737-441e-b860-20dc0f26f6ed",
   "metadata": {
    "tags": []
   },
   "outputs": [],
   "source": [
    "neighbors[\"one_four\"] = {at: neighbors['Dihedrals'][at].union(neighbors['Impropers'][at]) for at in neighbors['Dihedrals']}"
   ]
  },
  {
   "cell_type": "code",
   "execution_count": 12,
   "id": "6edb02c4-7c35-4849-93c4-3acda09016db",
   "metadata": {
    "collapsed": true,
    "jupyter": {
     "outputs_hidden": true
    },
    "tags": []
   },
   "outputs": [
    {
     "data": {
      "text/plain": [
       "{0: {1, 2, 3, 30, 31, 32, 33, 34, 66, 67},\n",
       " 1: {0, 2, 3, 30, 31, 32, 33, 34, 35, 36},\n",
       " 2: {0, 1, 3, 4, 30, 33, 34, 35, 36},\n",
       " 3: {0, 1, 2, 4, 5, 29, 30, 35, 36, 66, 67},\n",
       " 4: {2, 3, 5, 6, 28, 29, 30, 37, 65},\n",
       " 5: {3, 4, 6, 7, 29, 37, 38},\n",
       " 6: {4, 5, 7, 8, 28, 37, 38},\n",
       " 7: {5, 6, 8, 9, 10, 28, 29, 38, 64},\n",
       " 8: {6, 7, 9, 10, 11, 27, 28},\n",
       " 9: {7, 8, 10},\n",
       " 10: {7, 8, 9, 11, 12, 26, 27, 39, 63},\n",
       " 11: {8, 10, 12, 13, 27, 39, 40},\n",
       " 12: {10, 11, 13, 14, 26, 39, 40},\n",
       " 13: {11, 12, 14, 15, 26, 27, 40, 62},\n",
       " 14: {12, 13, 15, 16, 26, 41, 42},\n",
       " 15: {13, 14, 16, 17, 41, 42, 43, 44},\n",
       " 16: {14, 15, 17, 18, 41, 42, 43, 44, 45, 46},\n",
       " 17: {15, 16, 18, 19, 43, 44, 45, 46, 47, 48},\n",
       " 18: {16, 17, 19, 20, 45, 46, 47, 48, 49, 50},\n",
       " 19: {17, 18, 20, 21, 47, 48, 49, 50, 51, 52},\n",
       " 20: {18, 19, 21, 22, 49, 50, 51, 52, 53, 54},\n",
       " 21: {19, 20, 22, 23, 51, 52, 53, 54, 55, 56},\n",
       " 22: {20, 21, 23, 24, 53, 54, 55, 56, 57, 58},\n",
       " 23: {21, 22, 24, 25, 55, 56, 57, 58, 59, 60},\n",
       " 24: {22, 23, 25, 57, 58, 59, 60, 61},\n",
       " 25: {23, 24, 59, 60, 61},\n",
       " 26: {10, 12, 13, 14, 27, 62, 63},\n",
       " 27: {8, 10, 11, 13, 26, 62, 63},\n",
       " 28: {4, 6, 7, 8, 29, 64, 65},\n",
       " 29: {3, 4, 5, 7, 28, 64, 65},\n",
       " 30: {0, 1, 2, 3, 4, 31, 32, 66, 67},\n",
       " 31: {0, 1, 30, 32},\n",
       " 32: {0, 1, 30, 31},\n",
       " 33: {0, 1, 2, 34},\n",
       " 34: {0, 1, 2, 33},\n",
       " 35: {1, 2, 3, 36},\n",
       " 36: {1, 2, 3, 35},\n",
       " 37: {4, 5, 6},\n",
       " 38: {5, 6, 7},\n",
       " 39: {10, 11, 12},\n",
       " 40: {11, 12, 13},\n",
       " 41: {14, 15, 16, 42},\n",
       " 42: {14, 15, 16, 41},\n",
       " 43: {15, 16, 17, 44},\n",
       " 44: {15, 16, 17, 43},\n",
       " 45: {16, 17, 18, 46},\n",
       " 46: {16, 17, 18, 45},\n",
       " 47: {17, 18, 19, 48},\n",
       " 48: {17, 18, 19, 47},\n",
       " 49: {18, 19, 20, 50},\n",
       " 50: {18, 19, 20, 49},\n",
       " 51: {19, 20, 21, 52},\n",
       " 52: {19, 20, 21, 51},\n",
       " 53: {20, 21, 22, 54},\n",
       " 54: {20, 21, 22, 53},\n",
       " 55: {21, 22, 23, 56},\n",
       " 56: {21, 22, 23, 55},\n",
       " 57: {22, 23, 24, 58},\n",
       " 58: {22, 23, 24, 57},\n",
       " 59: {23, 24, 25, 60},\n",
       " 60: {23, 24, 25, 59},\n",
       " 61: {24, 25},\n",
       " 62: {13, 26, 27},\n",
       " 63: {10, 26, 27},\n",
       " 64: {7, 28, 29},\n",
       " 65: {4, 28, 29},\n",
       " 66: {0, 3, 30, 67},\n",
       " 67: {0, 3, 30, 66}}"
      ]
     },
     "execution_count": 12,
     "metadata": {},
     "output_type": "execute_result"
    }
   ],
   "source": [
    "neighbors[\"Angles\"]"
   ]
  },
  {
   "cell_type": "code",
   "execution_count": null,
   "id": "a0f27b5d-0be2-44d6-b6f5-8fb47c555eee",
   "metadata": {},
   "outputs": [],
   "source": [
    "special_bond_counts = {atom: [] for atom in range(len(xlig))}\n",
    "special_bonds = {atom: set() for atom in range(len(xlig))}\n",
    "for top in ['Bonds', 'Angles', 'one_four']:\n",
    "    for atom in special_bond_counts:\n",
    "        "
   ]
  },
  {
   "cell_type": "code",
   "execution_count": 35,
   "id": "c2f12dd7-923f-4407-9d4a-316b969f7a6a",
   "metadata": {},
   "outputs": [],
   "source": [
    "# special_bond_counts = {atom: [] for atom in range(len(xlig))}\n",
    "special_bonds = {atom + 1: set() for atom in range(len(xlig))}\n",
    "for top in ['Bonds', 'Angles', 'Dihedrals', 'Impropers']:\n",
    "    for atom in special_bond_counts:\n",
    "        # special_bond_counts[atom].append(len(neighbors[top][atom]))\n",
    "        special_bonds[atom] = special_bonds[atom].union(neighbors[top][atom-1])"
   ]
  },
  {
   "cell_type": "code",
   "execution_count": 36,
   "id": "6f3ee819-b5a7-4a7d-b7f5-8e06d7266052",
   "metadata": {
    "tags": []
   },
   "outputs": [
    {
     "data": {
      "text/plain": [
       "{1: {1, 2, 3, 4, 30, 31, 32, 33, 34, 35, 36, 66, 67},\n",
       " 2: {0, 2, 3, 4, 30, 31, 32, 33, 34, 35, 36, 66, 67},\n",
       " 3: {0, 1, 3, 4, 5, 29, 30, 31, 32, 33, 34, 35, 36, 66, 67},\n",
       " 4: {0, 1, 2, 4, 5, 6, 28, 29, 30, 31, 32, 33, 34, 35, 36, 37, 65, 66, 67},\n",
       " 5: {0, 1, 2, 3, 5, 6, 7, 28, 29, 30, 35, 36, 37, 38, 64, 65, 66, 67},\n",
       " 6: {2, 3, 4, 6, 7, 8, 28, 29, 30, 37, 38, 65},\n",
       " 7: {3, 4, 5, 7, 8, 9, 10, 28, 29, 37, 38, 64},\n",
       " 8: {4, 5, 6, 8, 9, 10, 11, 27, 28, 29, 37, 38, 64, 65},\n",
       " 9: {5, 6, 7, 9, 10, 11, 12, 26, 27, 28, 29, 38, 39, 63, 64},\n",
       " 10: {6, 7, 8, 10, 11, 27, 28},\n",
       " 11: {6, 7, 8, 9, 11, 12, 13, 26, 27, 28, 39, 40, 62, 63},\n",
       " 12: {7, 8, 9, 10, 12, 13, 14, 26, 27, 39, 40, 63},\n",
       " 13: {8, 10, 11, 13, 14, 15, 26, 27, 39, 40, 62},\n",
       " 14: {10, 11, 12, 14, 15, 16, 26, 27, 39, 40, 41, 42, 62, 63},\n",
       " 15: {11, 12, 13, 15, 16, 17, 26, 27, 40, 41, 42, 43, 44, 62},\n",
       " 16: {12, 13, 14, 16, 17, 18, 26, 41, 42, 43, 44, 45, 46},\n",
       " 17: {13, 14, 15, 17, 18, 19, 41, 42, 43, 44, 45, 46, 47, 48},\n",
       " 18: {14, 15, 16, 18, 19, 20, 41, 42, 43, 44, 45, 46, 47, 48, 49, 50},\n",
       " 19: {15, 16, 17, 19, 20, 21, 43, 44, 45, 46, 47, 48, 49, 50, 51, 52},\n",
       " 20: {16, 17, 18, 20, 21, 22, 45, 46, 47, 48, 49, 50, 51, 52, 53, 54},\n",
       " 21: {17, 18, 19, 21, 22, 23, 47, 48, 49, 50, 51, 52, 53, 54, 55, 56},\n",
       " 22: {18, 19, 20, 22, 23, 24, 49, 50, 51, 52, 53, 54, 55, 56, 57, 58},\n",
       " 23: {19, 20, 21, 23, 24, 25, 51, 52, 53, 54, 55, 56, 57, 58, 59, 60},\n",
       " 24: {20, 21, 22, 24, 25, 53, 54, 55, 56, 57, 58, 59, 60, 61},\n",
       " 25: {21, 22, 23, 25, 55, 56, 57, 58, 59, 60, 61},\n",
       " 26: {22, 23, 24, 57, 58, 59, 60, 61},\n",
       " 27: {8, 10, 11, 12, 13, 14, 15, 27, 40, 62, 63},\n",
       " 28: {7, 8, 9, 10, 11, 12, 13, 14, 26, 39, 62, 63},\n",
       " 29: {3, 4, 5, 6, 7, 8, 9, 10, 29, 38, 64, 65},\n",
       " 30: {2, 3, 4, 5, 6, 7, 8, 28, 30, 37, 64, 65},\n",
       " 31: {0, 1, 2, 3, 4, 5, 29, 31, 32, 33, 34, 35, 36, 66, 67},\n",
       " 32: {0, 1, 2, 3, 30, 32, 33, 34, 66, 67},\n",
       " 33: {0, 1, 2, 3, 30, 31, 33, 34, 66, 67},\n",
       " 34: {0, 1, 2, 3, 30, 31, 32, 34, 35, 36},\n",
       " 35: {0, 1, 2, 3, 30, 31, 32, 33, 35, 36},\n",
       " 36: {0, 1, 2, 3, 4, 30, 33, 34, 36},\n",
       " 37: {0, 1, 2, 3, 4, 30, 33, 34, 35},\n",
       " 38: {3, 4, 5, 6, 7, 29, 38},\n",
       " 39: {4, 5, 6, 7, 8, 28, 37},\n",
       " 40: {8, 10, 11, 12, 13, 27, 40},\n",
       " 41: {10, 11, 12, 13, 14, 26, 39},\n",
       " 42: {13, 14, 15, 16, 17, 42, 43, 44},\n",
       " 43: {13, 14, 15, 16, 17, 41, 43, 44},\n",
       " 44: {14, 15, 16, 17, 18, 41, 42, 44, 45, 46},\n",
       " 45: {14, 15, 16, 17, 18, 41, 42, 43, 45, 46},\n",
       " 46: {15, 16, 17, 18, 19, 43, 44, 46, 47, 48},\n",
       " 47: {15, 16, 17, 18, 19, 43, 44, 45, 47, 48},\n",
       " 48: {16, 17, 18, 19, 20, 45, 46, 48, 49, 50},\n",
       " 49: {16, 17, 18, 19, 20, 45, 46, 47, 49, 50},\n",
       " 50: {17, 18, 19, 20, 21, 47, 48, 50, 51, 52},\n",
       " 51: {17, 18, 19, 20, 21, 47, 48, 49, 51, 52},\n",
       " 52: {18, 19, 20, 21, 22, 49, 50, 52, 53, 54},\n",
       " 53: {18, 19, 20, 21, 22, 49, 50, 51, 53, 54},\n",
       " 54: {19, 20, 21, 22, 23, 51, 52, 54, 55, 56},\n",
       " 55: {19, 20, 21, 22, 23, 51, 52, 53, 55, 56},\n",
       " 56: {20, 21, 22, 23, 24, 53, 54, 56, 57, 58},\n",
       " 57: {20, 21, 22, 23, 24, 53, 54, 55, 57, 58},\n",
       " 58: {21, 22, 23, 24, 25, 55, 56, 58, 59, 60},\n",
       " 59: {21, 22, 23, 24, 25, 55, 56, 57, 59, 60},\n",
       " 60: {22, 23, 24, 25, 57, 58, 60, 61},\n",
       " 61: {22, 23, 24, 25, 57, 58, 59, 61},\n",
       " 62: {23, 24, 25, 59, 60},\n",
       " 63: {10, 12, 13, 14, 26, 27, 63},\n",
       " 64: {8, 10, 11, 13, 26, 27, 62},\n",
       " 65: {4, 6, 7, 8, 28, 29, 65},\n",
       " 66: {3, 4, 5, 7, 28, 29, 64},\n",
       " 67: {0, 1, 2, 3, 4, 30, 31, 32, 67},\n",
       " 68: {0, 1, 2, 3, 4, 30, 31, 32, 66}}"
      ]
     },
     "execution_count": 36,
     "metadata": {},
     "output_type": "execute_result"
    }
   ],
   "source": [
    "special_bonds"
   ]
  },
  {
   "cell_type": "raw",
   "id": "a69ed948-369d-44ab-ac5c-d7cbc3b13ceb",
   "metadata": {
    "jupyter": {
     "outputs_hidden": true
    },
    "tags": []
   },
   "source": [
    "for at in neighbors['Dihedrals']:\n",
    "    if neighbors['Impropers'][at] != set():\n",
    "        print(neighbors['Impropers'][at], neighbors[\"Dihedrals\"][at])"
   ]
  },
  {
   "cell_type": "raw",
   "id": "83b202c5-9cc6-446d-98fa-50ad67607c2e",
   "metadata": {
    "tags": []
   },
   "source": [
    "for i in neighbors['one_four']:\n",
    "    if neighbors['one_four'][i] != neighbors[\"Dihedrals\"][i]:\n",
    "        print(neighbors['one_four'][i], neighbors[\"Dihedrals\"][i])"
   ]
  },
  {
   "cell_type": "code",
   "execution_count": 79,
   "id": "00771c52-76f9-46db-8903-5c6087cca501",
   "metadata": {},
   "outputs": [],
   "source": [
    "special_bond_counts = []\n",
    "\n"
   ]
  },
  {
   "cell_type": "raw",
   "id": "b62645fc-f62e-4f93-9df7-133a6240c377",
   "metadata": {
    "tags": []
   },
   "source": [
    "bond_neighbors = {atom: set() for atom in range(len(xlig))}\n",
    "for bond in tops[0].topologies['Bonds']:\n",
    "    bond_neighbors[bond[0]].add(bond[1])\n",
    "    bond_neighbors[bond[1]].add(bond[0])"
   ]
  },
  {
   "cell_type": "raw",
   "id": "d1ebbe02-51c2-4db8-8712-6b0657a639d2",
   "metadata": {},
   "source": [
    "# rob's way\n",
    "%%time\n",
    "angle_neighbors = {atom: set() for atom in range(len(xlig))}\n",
    "for angle in tops[0].topologies['Angles']:\n",
    "    for atom in angle:\n",
    "        for i in range(len(angle)):\n",
    "            if atom != angle[i]:\n",
    "                angle_neighbors[atom].add(angle[i])"
   ]
  },
  {
   "cell_type": "raw",
   "id": "2bdea197-06d5-4dde-863d-8d7094091961",
   "metadata": {},
   "source": [
    "#chatgpt way\n",
    "%%time\n",
    "test_neighbors = {atom: set() for atom in range(len(xlig))}\n",
    "for angle in tops[0].topologies['Angles']:\n",
    "    for i in range(len(angle)):\n",
    "        for j in range(i+1, len(angle)):\n",
    "            test_neighbors[angle[i]].add(angle[j])\n",
    "            test_neighbors[angle[j]].add(angle[i])"
   ]
  },
  {
   "cell_type": "raw",
   "id": "242c3797-3ad1-4a6e-a4d1-2ec26a9f848e",
   "metadata": {
    "tags": []
   },
   "source": [
    "%%time\n",
    "dihedral_neighbors = {atom: set() for atom in range(len(xlig))}\n",
    "for dihedral in tops[0].topologies['Dihedrals']:\n",
    "    for i in range(len(dihedral)):\n",
    "        for j in range(i+1, len(dihedral)):\n",
    "            dihedral_neighbors[dihedral[i]].add(dihedral[j])\n",
    "            dihedral_neighbors[dihedral[j]].add(dihedral[i])"
   ]
  },
  {
   "cell_type": "raw",
   "id": "4ac028b3-7f9c-4bce-9122-208020f1c7fb",
   "metadata": {},
   "source": [
    "%%time\n",
    "test_neighbors = {atom: set() for atom in range(len(xlig))}\n",
    "for dihedral in tops[0].topologies['Dihedrals']:\n",
    "    for atom in dihedral:\n",
    "        for i in range(len(dihedral)):\n",
    "            if atom != dihedral[i]:\n",
    "                test_neighbors[atom].add(dihedral[i])"
   ]
  },
  {
   "cell_type": "raw",
   "id": "ee644a59-1086-4c76-b4a9-61ec29ae0c2f",
   "metadata": {},
   "source": [
    "%%time\n",
    "improper_neighbors = {atom: set() for atom in range(len(xlig))}\n",
    "for improper in tops[0].topologies['Impropers']:\n",
    "    for i in range(len(improper)):\n",
    "        for j in range(i+1, len(improper)):\n",
    "            improper_neighbors[improper[i]].add(improper[j])\n",
    "            improper_neighbors[improper[j]].add(improper[i])"
   ]
  },
  {
   "cell_type": "code",
   "execution_count": null,
   "id": "102e3b5f-5e99-4898-98f0-9709872f241d",
   "metadata": {},
   "outputs": [],
   "source": []
  },
  {
   "cell_type": "raw",
   "id": "95069907-626a-4d03-95b8-b749c4b0e097",
   "metadata": {
    "tags": []
   },
   "source": [
    "topology = {\"Angles\": [[2, 1, 0],\n",
    "                      [2, 3, 30],\n",
    "                      [3, 2, 1],\n",
    "                      [3, 2, 35],\n",
    "                      [3, 2, 36],\n",
    "                      [3, 4, 29],\n",
    "                      [3, 30, 0],\n",
    "                      [4, 3, 2],\n",
    "                      [4, 3, 30],\n",
    "                      [4, 5, 37]]}\n",
    "\n",
    "atoms = set([atom for angle in topology['Angles'] for atom in angle])\n",
    "\n",
    "angle_neighbors = {}\n",
    "for i in atoms:\n",
    "    angle_neighbors[i] = set()\n",
    "\n",
    "for angle in topology['Angles']:\n",
    "    for atom in angle:\n",
    "        for i in range(len(angle)):\n",
    "            if atom != angle[i]:\n",
    "                angle_neighbors[atom].add(i)"
   ]
  },
  {
   "cell_type": "raw",
   "id": "f264bf70-43a1-437e-8620-9e07bb4c64ae",
   "metadata": {},
   "source": [
    "topology = {\"Angles\": [[2, 1, 0],\n",
    "                      [2, 3, 30],\n",
    "                      [3, 2, 1],\n",
    "                      [3, 2, 35],\n",
    "                      [3, 2, 36],\n",
    "                      [3, 4, 29],\n",
    "                      [3, 30, 0],\n",
    "                      [4, 3, 2],\n",
    "                      [4, 3, 30],\n",
    "                      [4, 5, 37]]}\n",
    "\n",
    "atoms = set([atom for angle in topology['Angles'] for atom in angle])\n",
    "atoms"
   ]
  },
  {
   "cell_type": "raw",
   "id": "6996d3b0-a069-4c70-9a5a-d1d7dd4ac0d7",
   "metadata": {},
   "source": [
    "test = {1, 2, 3}\n",
    "test.append(4)"
   ]
  },
  {
   "cell_type": "code",
   "execution_count": 37,
   "id": "caca6ab2-1539-4dcf-8570-51650f62a12b",
   "metadata": {},
   "outputs": [],
   "source": [
    "coords = []\n",
    "types = []\n",
    "charges = []\n",
    "with open(\"coords.txt\") as f:\n",
    "    dat = f.readlines()\n",
    "    \n",
    "for line in dat:\n",
    "    raw = line.split()\n",
    "    x = round(float(raw[3]),1)\n",
    "    y = round(float(raw[4]),1)\n",
    "    z = round(float(raw[5]),1)\n",
    "    pos = [int(raw[0]), x,y,z]\n",
    "    at = [int(raw[0]), int(raw[2])]\n",
    "    charge = [int(raw[0]), float(raw[6])]\n",
    "    charges.append(charge)\n",
    "    types.append(at)\n",
    "    coords.append(pos)"
   ]
  },
  {
   "cell_type": "code",
   "execution_count": null,
   "id": "217728b4-5d57-4650-85a4-5ce9d0db7f84",
   "metadata": {},
   "outputs": [],
   "source": []
  },
  {
   "cell_type": "code",
   "execution_count": 38,
   "id": "61c9f55b-755b-4c39-b319-f0fdd8c62811",
   "metadata": {},
   "outputs": [],
   "source": [
    "with open(\"clean_coords_test.txt\", \"w\") as f:\n",
    "    f.write(\"Coords\\n\\n\")\n",
    "    for pos in coords:\n",
    "        f.write(f\"{pos[0]}    {pos[1]} {pos[2]} {pos[3]}\\n\")\n",
    "    f.write(\"\\nTypes\\n\\n\")\n",
    "    for at in types:\n",
    "        f.write(f\"{at[0]}    {at[1]}\\n\")\n",
    "    f.write(\"\\nCharges\\n\\n\")\n",
    "    for charge in charges:\n",
    "        f.write(f\"{charge[0]}    {charge[1]}\\n\")\n",
    "    f.write(\"\\nSpecial Bond Counts\\n\\n\")\n",
    "    for atom in special_bond_counts:\n",
    "        f.write(f\"{atom}    {' '.join([str(x) for x in special_bond_counts[atom]])}\\n\")\n",
    "    f.write(\"\\nSpecial Bonds\\n\\n\")\n",
    "    for atom in special_bonds:\n",
    "        f.write(f\"{atom}    {' '.join([str(x) for x in special_bonds[atom]])}\\n\")"
   ]
  },
  {
   "cell_type": "code",
   "execution_count": null,
   "id": "a221564f-1db0-495c-a04d-0c31039d447c",
   "metadata": {},
   "outputs": [],
   "source": [
    "with open(\"clean_types.txt\", \"w\") as f:\n",
    "    f.write()"
   ]
  }
 ],
 "metadata": {
  "kernelspec": {
   "display_name": "Python 3 (ipykernel)",
   "language": "python",
   "name": "python3"
  },
  "language_info": {
   "codemirror_mode": {
    "name": "ipython",
    "version": 3
   },
   "file_extension": ".py",
   "mimetype": "text/x-python",
   "name": "python",
   "nbconvert_exporter": "python",
   "pygments_lexer": "ipython3",
   "version": "3.10.5"
  }
 },
 "nbformat": 4,
 "nbformat_minor": 5
}
