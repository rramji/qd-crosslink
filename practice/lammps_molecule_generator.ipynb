{
 "cells": [
  {
   "cell_type": "code",
   "execution_count": 1,
   "id": "31d30f79-e60d-4e46-9b2d-6e35342eab82",
   "metadata": {},
   "outputs": [],
   "source": [
    "from pymatgen.io.lammps.data import *"
   ]
  },
  {
   "cell_type": "markdown",
   "id": "6fd0cd1e-c238-423e-9dd4-c9b902b3d05b",
   "metadata": {},
   "source": [
    "## Looks like I interpreted the special bond counts keyword incorrectly, it's counting the number of those bonds, not the number of atoms participating in those bonds. This counting method only works for the bonds. Need to see how many angles and dihedrals END with each atom"
   ]
  },
  {
   "cell_type": "code",
   "execution_count": 4,
   "id": "fd5c8fc3-1cb2-45c2-958d-33990b82dbf7",
   "metadata": {},
   "outputs": [],
   "source": [
    "system = LammpsData.from_file(\"data.montecarlo_test\")\n",
    "xlig_dat = LammpsData.from_file(\"data.xligand\")\n",
    "oleic_dat = LammpsData.from_file(\"data.oleic_acid\")\n",
    "\n",
    "xlig = xlig_dat.structure\n",
    "oleic = oleic_dat.structure"
   ]
  },
  {
   "cell_type": "code",
   "execution_count": 5,
   "id": "a195f469-1442-4486-9313-c2ffc92d6e37",
   "metadata": {},
   "outputs": [],
   "source": [
    "box, ff, tops = system.disassemble()"
   ]
  },
  {
   "cell_type": "code",
   "execution_count": 6,
   "id": "dc626cd2-56c3-4987-b0e9-83e6cc91db3d",
   "metadata": {},
   "outputs": [],
   "source": [
    "def generate_neighbors(topology,structure):\n",
    "    neighbors = {atom: set() for atom in range(len(structure))}\n",
    "    for relation in topology:\n",
    "        for i in range(len(relation)):\n",
    "            for j in range(i+1, len(relation)):\n",
    "                neighbors[relation[i]].add(relation[j])\n",
    "                neighbors[relation[j]].add(relation[i])\n",
    "    return neighbors"
   ]
  },
  {
   "cell_type": "code",
   "execution_count": 7,
   "id": "17a95676-343f-4192-9f77-40bf390e4d44",
   "metadata": {
    "tags": []
   },
   "outputs": [],
   "source": [
    "topologies = ['Bonds', 'Angles', 'Dihedrals', 'Impropers']\n",
    "neighbors = {topology: generate_neighbors(tops[0].topologies[topology], xlig) for topology in topologies}"
   ]
  },
  {
   "cell_type": "code",
   "execution_count": 8,
   "id": "fd167b5f-3737-441e-b860-20dc0f26f6ed",
   "metadata": {
    "tags": []
   },
   "outputs": [],
   "source": [
    "neighbors[\"one_four\"] = {at: neighbors['Dihedrals'][at].union(neighbors['Impropers'][at]) for at in neighbors['Dihedrals']}"
   ]
  },
  {
   "cell_type": "code",
   "execution_count": null,
   "id": "a0f27b5d-0be2-44d6-b6f5-8fb47c555eee",
   "metadata": {},
   "outputs": [],
   "source": [
    "special_bond_counts = {atom: [] for atom in range(len(xlig))}\n",
    "special_bonds = {atom: set() for atom in range(len(xlig))}\n",
    "for top in ['Bonds', 'Angles', 'one_four']:\n",
    "    for atom in special_bond_counts:\n",
    "        "
   ]
  },
  {
   "cell_type": "code",
   "execution_count": 9,
   "id": "c2f12dd7-923f-4407-9d4a-316b969f7a6a",
   "metadata": {},
   "outputs": [],
   "source": [
    "special_bond_counts = {atom: [] for atom in range(len(xlig))}\n",
    "special_bonds = {atom: set() for atom in range(len(xlig))}\n",
    "for top in ['Bonds', 'Angles', 'one_four']:\n",
    "    for atom in special_bond_counts:\n",
    "        special_bond_counts[atom].append(len(neighbors[top][atom]))\n",
    "        special_bonds[atom] = special_bonds[atom].union(neighbors[top][atom])"
   ]
  },
  {
   "cell_type": "code",
   "execution_count": 13,
   "id": "6f3ee819-b5a7-4a7d-b7f5-8e06d7266052",
   "metadata": {
    "tags": []
   },
   "outputs": [
    {
     "data": {
      "text/plain": [
       "{0: [4, 10, 13],\n",
       " 1: [4, 10, 13],\n",
       " 2: [4, 9, 15],\n",
       " 3: [3, 11, 19],\n",
       " 4: [3, 9, 18],\n",
       " 5: [3, 7, 12],\n",
       " 6: [3, 7, 12],\n",
       " 7: [3, 9, 14],\n",
       " 8: [3, 7, 15],\n",
       " 9: [1, 3, 7],\n",
       " 10: [3, 9, 14],\n",
       " 11: [3, 7, 12],\n",
       " 12: [3, 7, 11],\n",
       " 13: [3, 8, 14],\n",
       " 14: [2, 7, 14],\n",
       " 15: [4, 8, 13],\n",
       " 16: [4, 10, 14],\n",
       " 17: [4, 10, 16],\n",
       " 18: [4, 10, 16],\n",
       " 19: [4, 10, 16],\n",
       " 20: [4, 10, 16],\n",
       " 21: [4, 10, 16],\n",
       " 22: [4, 10, 16],\n",
       " 23: [4, 10, 14],\n",
       " 24: [4, 8, 11],\n",
       " 25: [2, 5, 8],\n",
       " 26: [3, 7, 11],\n",
       " 27: [3, 7, 12],\n",
       " 28: [3, 7, 12],\n",
       " 29: [3, 7, 12],\n",
       " 30: [4, 9, 15],\n",
       " 31: [1, 4, 9],\n",
       " 32: [1, 4, 9],\n",
       " 33: [1, 4, 9],\n",
       " 34: [1, 4, 9],\n",
       " 35: [1, 4, 8],\n",
       " 36: [1, 4, 8],\n",
       " 37: [1, 3, 7],\n",
       " 38: [1, 3, 7],\n",
       " 39: [1, 3, 7],\n",
       " 40: [1, 3, 7],\n",
       " 41: [1, 4, 7],\n",
       " 42: [1, 4, 7],\n",
       " 43: [1, 4, 9],\n",
       " 44: [1, 4, 9],\n",
       " 45: [1, 4, 9],\n",
       " 46: [1, 4, 9],\n",
       " 47: [1, 4, 9],\n",
       " 48: [1, 4, 9],\n",
       " 49: [1, 4, 9],\n",
       " 50: [1, 4, 9],\n",
       " 51: [1, 4, 9],\n",
       " 52: [1, 4, 9],\n",
       " 53: [1, 4, 9],\n",
       " 54: [1, 4, 9],\n",
       " 55: [1, 4, 9],\n",
       " 56: [1, 4, 9],\n",
       " 57: [1, 4, 9],\n",
       " 58: [1, 4, 9],\n",
       " 59: [1, 4, 7],\n",
       " 60: [1, 4, 7],\n",
       " 61: [1, 2, 5],\n",
       " 62: [1, 3, 7],\n",
       " 63: [1, 3, 7],\n",
       " 64: [1, 3, 7],\n",
       " 65: [1, 3, 7],\n",
       " 66: [1, 4, 8],\n",
       " 67: [1, 4, 8]}"
      ]
     },
     "execution_count": 13,
     "metadata": {},
     "output_type": "execute_result"
    }
   ],
   "source": [
    "special_bond_counts"
   ]
  },
  {
   "cell_type": "raw",
   "id": "a69ed948-369d-44ab-ac5c-d7cbc3b13ceb",
   "metadata": {
    "jupyter": {
     "outputs_hidden": true
    },
    "tags": []
   },
   "source": [
    "for at in neighbors['Dihedrals']:\n",
    "    if neighbors['Impropers'][at] != set():\n",
    "        print(neighbors['Impropers'][at], neighbors[\"Dihedrals\"][at])"
   ]
  },
  {
   "cell_type": "raw",
   "id": "83b202c5-9cc6-446d-98fa-50ad67607c2e",
   "metadata": {
    "tags": []
   },
   "source": [
    "for i in neighbors['one_four']:\n",
    "    if neighbors['one_four'][i] != neighbors[\"Dihedrals\"][i]:\n",
    "        print(neighbors['one_four'][i], neighbors[\"Dihedrals\"][i])"
   ]
  },
  {
   "cell_type": "code",
   "execution_count": 79,
   "id": "00771c52-76f9-46db-8903-5c6087cca501",
   "metadata": {},
   "outputs": [],
   "source": [
    "special_bond_counts = []\n",
    "\n"
   ]
  },
  {
   "cell_type": "raw",
   "id": "b62645fc-f62e-4f93-9df7-133a6240c377",
   "metadata": {
    "tags": []
   },
   "source": [
    "bond_neighbors = {atom: set() for atom in range(len(xlig))}\n",
    "for bond in tops[0].topologies['Bonds']:\n",
    "    bond_neighbors[bond[0]].add(bond[1])\n",
    "    bond_neighbors[bond[1]].add(bond[0])"
   ]
  },
  {
   "cell_type": "raw",
   "id": "d1ebbe02-51c2-4db8-8712-6b0657a639d2",
   "metadata": {},
   "source": [
    "# rob's way\n",
    "%%time\n",
    "angle_neighbors = {atom: set() for atom in range(len(xlig))}\n",
    "for angle in tops[0].topologies['Angles']:\n",
    "    for atom in angle:\n",
    "        for i in range(len(angle)):\n",
    "            if atom != angle[i]:\n",
    "                angle_neighbors[atom].add(angle[i])"
   ]
  },
  {
   "cell_type": "raw",
   "id": "2bdea197-06d5-4dde-863d-8d7094091961",
   "metadata": {},
   "source": [
    "#chatgpt way\n",
    "%%time\n",
    "test_neighbors = {atom: set() for atom in range(len(xlig))}\n",
    "for angle in tops[0].topologies['Angles']:\n",
    "    for i in range(len(angle)):\n",
    "        for j in range(i+1, len(angle)):\n",
    "            test_neighbors[angle[i]].add(angle[j])\n",
    "            test_neighbors[angle[j]].add(angle[i])"
   ]
  },
  {
   "cell_type": "raw",
   "id": "242c3797-3ad1-4a6e-a4d1-2ec26a9f848e",
   "metadata": {
    "tags": []
   },
   "source": [
    "%%time\n",
    "dihedral_neighbors = {atom: set() for atom in range(len(xlig))}\n",
    "for dihedral in tops[0].topologies['Dihedrals']:\n",
    "    for i in range(len(dihedral)):\n",
    "        for j in range(i+1, len(dihedral)):\n",
    "            dihedral_neighbors[dihedral[i]].add(dihedral[j])\n",
    "            dihedral_neighbors[dihedral[j]].add(dihedral[i])"
   ]
  },
  {
   "cell_type": "raw",
   "id": "4ac028b3-7f9c-4bce-9122-208020f1c7fb",
   "metadata": {},
   "source": [
    "%%time\n",
    "test_neighbors = {atom: set() for atom in range(len(xlig))}\n",
    "for dihedral in tops[0].topologies['Dihedrals']:\n",
    "    for atom in dihedral:\n",
    "        for i in range(len(dihedral)):\n",
    "            if atom != dihedral[i]:\n",
    "                test_neighbors[atom].add(dihedral[i])"
   ]
  },
  {
   "cell_type": "raw",
   "id": "ee644a59-1086-4c76-b4a9-61ec29ae0c2f",
   "metadata": {},
   "source": [
    "%%time\n",
    "improper_neighbors = {atom: set() for atom in range(len(xlig))}\n",
    "for improper in tops[0].topologies['Impropers']:\n",
    "    for i in range(len(improper)):\n",
    "        for j in range(i+1, len(improper)):\n",
    "            improper_neighbors[improper[i]].add(improper[j])\n",
    "            improper_neighbors[improper[j]].add(improper[i])"
   ]
  },
  {
   "cell_type": "code",
   "execution_count": null,
   "id": "102e3b5f-5e99-4898-98f0-9709872f241d",
   "metadata": {},
   "outputs": [],
   "source": []
  },
  {
   "cell_type": "raw",
   "id": "95069907-626a-4d03-95b8-b749c4b0e097",
   "metadata": {
    "tags": []
   },
   "source": [
    "topology = {\"Angles\": [[2, 1, 0],\n",
    "                      [2, 3, 30],\n",
    "                      [3, 2, 1],\n",
    "                      [3, 2, 35],\n",
    "                      [3, 2, 36],\n",
    "                      [3, 4, 29],\n",
    "                      [3, 30, 0],\n",
    "                      [4, 3, 2],\n",
    "                      [4, 3, 30],\n",
    "                      [4, 5, 37]]}\n",
    "\n",
    "atoms = set([atom for angle in topology['Angles'] for atom in angle])\n",
    "\n",
    "angle_neighbors = {}\n",
    "for i in atoms:\n",
    "    angle_neighbors[i] = set()\n",
    "\n",
    "for angle in topology['Angles']:\n",
    "    for atom in angle:\n",
    "        for i in range(len(angle)):\n",
    "            if atom != angle[i]:\n",
    "                angle_neighbors[atom].add(i)"
   ]
  },
  {
   "cell_type": "raw",
   "id": "f264bf70-43a1-437e-8620-9e07bb4c64ae",
   "metadata": {},
   "source": [
    "topology = {\"Angles\": [[2, 1, 0],\n",
    "                      [2, 3, 30],\n",
    "                      [3, 2, 1],\n",
    "                      [3, 2, 35],\n",
    "                      [3, 2, 36],\n",
    "                      [3, 4, 29],\n",
    "                      [3, 30, 0],\n",
    "                      [4, 3, 2],\n",
    "                      [4, 3, 30],\n",
    "                      [4, 5, 37]]}\n",
    "\n",
    "atoms = set([atom for angle in topology['Angles'] for atom in angle])\n",
    "atoms"
   ]
  },
  {
   "cell_type": "raw",
   "id": "6996d3b0-a069-4c70-9a5a-d1d7dd4ac0d7",
   "metadata": {},
   "source": [
    "test = {1, 2, 3}\n",
    "test.append(4)"
   ]
  },
  {
   "cell_type": "code",
   "execution_count": 17,
   "id": "caca6ab2-1539-4dcf-8570-51650f62a12b",
   "metadata": {},
   "outputs": [],
   "source": [
    "coords = []\n",
    "types = []\n",
    "charges = []\n",
    "with open(\"coords.txt\") as f:\n",
    "    dat = f.readlines()\n",
    "    \n",
    "for line in dat:\n",
    "    raw = line.split()\n",
    "    x = round(float(raw[3]),1)\n",
    "    y = round(float(raw[4]),1)\n",
    "    z = round(float(raw[5]),1)\n",
    "    pos = [int(raw[0]), x,y,z]\n",
    "    at = [int(raw[0]), int(raw[2])]\n",
    "    charge = [int(raw[0]), float(raw[6])]\n",
    "    charges.append(charge)\n",
    "    types.append(at)\n",
    "    coords.append(pos)"
   ]
  },
  {
   "cell_type": "code",
   "execution_count": null,
   "id": "217728b4-5d57-4650-85a4-5ce9d0db7f84",
   "metadata": {},
   "outputs": [],
   "source": []
  },
  {
   "cell_type": "code",
   "execution_count": 18,
   "id": "61c9f55b-755b-4c39-b319-f0fdd8c62811",
   "metadata": {},
   "outputs": [],
   "source": [
    "\n",
    "\n",
    "with open(\"clean_coords_test.txt\", \"w\") as f:\n",
    "    f.write(\"Coords\\n\\n\")\n",
    "    for pos in coords:\n",
    "        f.write(f\"{pos[0]}    {pos[1]} {pos[2]} {pos[3]}\\n\")\n",
    "    f.write(\"\\nTypes\\n\\n\")\n",
    "    for at in types:\n",
    "        f.write(f\"{at[0]}    {at[1]}\\n\")\n",
    "    f.write(\"\\nCharges\\n\\n\")\n",
    "    for charge in charges:\n",
    "        f.write(f\"{charge[0]}    {charge[1]}\\n\")\n",
    "    f.write(\"\\nSpecial Bond Counts\\n\\n\")\n",
    "    for atom in special_bond_counts:\n",
    "        f.write(f\"{atom}    {' '.join([str(x) for x in special_bond_counts[atom]])}\\n\")\n",
    "    f.write(\"\\nSpecial Bonds\\n\\n\")\n",
    "    for atom in special_bonds:\n",
    "        f.write(f\"{atom}    {' '.join([str(x) for x in special_bonds[atom]])}\\n\")"
   ]
  },
  {
   "cell_type": "code",
   "execution_count": null,
   "id": "a221564f-1db0-495c-a04d-0c31039d447c",
   "metadata": {},
   "outputs": [],
   "source": [
    "with open(\"clean_types.txt\", \"w\") as f:\n",
    "    f.write()"
   ]
  }
 ],
 "metadata": {
  "kernelspec": {
   "display_name": "openmm",
   "language": "python",
   "name": "openmm"
  },
  "language_info": {
   "codemirror_mode": {
    "name": "ipython",
    "version": 3
   },
   "file_extension": ".py",
   "mimetype": "text/x-python",
   "name": "python",
   "nbconvert_exporter": "python",
   "pygments_lexer": "ipython3",
   "version": "3.9.7"
  }
 },
 "nbformat": 4,
 "nbformat_minor": 5
}
