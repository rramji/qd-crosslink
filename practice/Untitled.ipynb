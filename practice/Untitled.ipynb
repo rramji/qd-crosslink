{
 "cells": [
  {
   "cell_type": "code",
   "execution_count": 19,
   "id": "e81ff96a-c17a-40a2-9954-711b7ae6b9c9",
   "metadata": {},
   "outputs": [],
   "source": [
    "coords = []\n",
    "types = []\n",
    "charges = []\n",
    "with open(\"coords.txt\") as f:\n",
    "    dat = f.readlines()\n",
    "    \n",
    "for line in dat:\n",
    "    raw = line.split()\n",
    "    x = round(float(raw[3]),1)\n",
    "    y = round(float(raw[4]),1)\n",
    "    z = round(float(raw[5]),1)\n",
    "    pos = [int(raw[0]), x,y,z]\n",
    "    at = [int(raw[0]), int(raw[2])]\n",
    "    charge = [int(raw[0]), float(raw[6])]\n",
    "    charges.append(charge)\n",
    "    types.append(at)\n",
    "    coords.append(pos)"
   ]
  },
  {
   "cell_type": "code",
   "execution_count": 20,
   "id": "61c9f55b-755b-4c39-b319-f0fdd8c62811",
   "metadata": {},
   "outputs": [],
   "source": [
    "with open(\"clean_coords.txt\", \"w\") as f:\n",
    "    f.write(\"Coords\\n\\n\")\n",
    "    for pos in coords:\n",
    "        f.write(f\"{pos[0]}    {pos[1]} {pos[2]} {pos[3]}\\n\")\n",
    "    \n",
    "    f.write(\"\\nTypes\\n\\n\")\n",
    "    for at in types:\n",
    "        f.write(f\"{at[0]}    {at[1]}\\n\")\n",
    "    f.write(\"\\nCharges\\n\\n\")\n",
    "    for charge in charges:\n",
    "        f.write(f\"{charge[0]}    {charge[1]}\\n\")"
   ]
  },
  {
   "cell_type": "code",
   "execution_count": null,
   "id": "a221564f-1db0-495c-a04d-0c31039d447c",
   "metadata": {},
   "outputs": [],
   "source": [
    "with open(\"clean_types.txt\", \"w\") as f:\n",
    "    f.wr"
   ]
  }
 ],
 "metadata": {
  "kernelspec": {
   "display_name": "openmm",
   "language": "python",
   "name": "openmm"
  },
  "language_info": {
   "codemirror_mode": {
    "name": "ipython",
    "version": 3
   },
   "file_extension": ".py",
   "mimetype": "text/x-python",
   "name": "python",
   "nbconvert_exporter": "python",
   "pygments_lexer": "ipython3",
   "version": "3.9.7"
  }
 },
 "nbformat": 4,
 "nbformat_minor": 5
}
