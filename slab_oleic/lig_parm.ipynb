{
 "cells": [
  {
   "cell_type": "code",
   "execution_count": 3,
   "id": "a06f98e0-2bba-4a5f-9881-005ef02535b6",
   "metadata": {},
   "outputs": [],
   "source": [
    "import mbuild as mb\n",
    "from mbuild.lib.recipes import TiledCompound\n",
    "import parmed as pmd\n",
    "import numpy as np\n",
    "import openmm\n",
    "import warnings\n",
    "from random import sample\n",
    "from copy import deepcopy\n",
    "import openbabel as ob\n",
    "from copy import deepcopy\n",
    "import foyer\n",
    "from foyer import Forcefield\n",
    "# from slab_builder import *\n",
    "warnings.simplefilter(\"ignore\")"
   ]
  },
  {
   "cell_type": "code",
   "execution_count": 12,
   "id": "bfb515e9-f196-48a2-a864-4cab65da1748",
   "metadata": {},
   "outputs": [],
   "source": [
    "\n",
    "# Load the OPLSAA forcefield\n",
    "oplsaa = Forcefield(name='oplsaa', debug=True)"
   ]
  },
  {
   "cell_type": "code",
   "execution_count": 5,
   "id": "bbfd10ef-35fa-4dd3-9bcc-68eef33c35fb",
   "metadata": {},
   "outputs": [],
   "source": [
    "structure = mb.load(\"ligand_system.mol2\")"
   ]
  },
  {
   "cell_type": "code",
   "execution_count": 14,
   "id": "361eb77f-6119-42a4-aa17-0b4ead7c511a",
   "metadata": {
    "collapsed": true,
    "jupyter": {
     "outputs_hidden": true
    },
    "tags": []
   },
   "outputs": [
    {
     "ename": "DocumentInvalid",
     "evalue": "Element 'Residues': This element is not expected., line 57",
     "output_type": "error",
     "traceback": [
      "\u001b[0;31m---------------------------------------------------------------------------\u001b[0m",
      "\u001b[0;31mDocumentInvalid\u001b[0m                           Traceback (most recent call last)",
      "Cell \u001b[0;32mIn[14], line 1\u001b[0m\n\u001b[0;32m----> 1\u001b[0m ligpargen_opls \u001b[38;5;241m=\u001b[39m \u001b[43mForcefield\u001b[49m\u001b[43m(\u001b[49m\u001b[43mforcefield_files\u001b[49m\u001b[38;5;241;43m=\u001b[39;49m\u001b[38;5;124;43m\"\u001b[39;49m\u001b[38;5;124;43mUNK_A25C58.xml\u001b[39;49m\u001b[38;5;124;43m\"\u001b[39;49m\u001b[43m,\u001b[49m\u001b[43m \u001b[49m\u001b[43mdebug\u001b[49m\u001b[38;5;241;43m=\u001b[39;49m\u001b[38;5;28;43;01mTrue\u001b[39;49;00m\u001b[43m)\u001b[49m\n",
      "File \u001b[0;32m~/miniconda3/envs/dev/lib/python3.11/site-packages/foyer/forcefield.py:535\u001b[0m, in \u001b[0;36mForcefield.__init__\u001b[0;34m(self, forcefield_files, name, validation, debug)\u001b[0m\n\u001b[1;32m    533\u001b[0m \u001b[38;5;28;01mif\u001b[39;00m validation:\n\u001b[1;32m    534\u001b[0m     \u001b[38;5;28;01mfor\u001b[39;00m ff_file_name \u001b[38;5;129;01min\u001b[39;00m preprocessed_files:\n\u001b[0;32m--> 535\u001b[0m         \u001b[43mValidator\u001b[49m\u001b[43m(\u001b[49m\u001b[43mff_file_name\u001b[49m\u001b[43m,\u001b[49m\u001b[43m \u001b[49m\u001b[43mdebug\u001b[49m\u001b[43m)\u001b[49m\n\u001b[1;32m    536\u001b[0m \u001b[38;5;28msuper\u001b[39m(Forcefield, \u001b[38;5;28mself\u001b[39m)\u001b[38;5;241m.\u001b[39m\u001b[38;5;21m__init__\u001b[39m(\u001b[38;5;241m*\u001b[39mpreprocessed_files)\n\u001b[1;32m    538\u001b[0m \u001b[38;5;28;01mif\u001b[39;00m \u001b[38;5;28mlen\u001b[39m(preprocessed_files) \u001b[38;5;241m==\u001b[39m \u001b[38;5;241m1\u001b[39m:\n",
      "File \u001b[0;32m~/miniconda3/envs/dev/lib/python3.11/site-packages/foyer/validator.py:28\u001b[0m, in \u001b[0;36mValidator.__init__\u001b[0;34m(self, ff_file_name, debug)\u001b[0m\n\u001b[1;32m     23\u001b[0m preprocessed_ff_file_name \u001b[38;5;241m=\u001b[39m preprocess_forcefield_files(\n\u001b[1;32m     24\u001b[0m     [ff_file_name]\n\u001b[1;32m     25\u001b[0m )\n\u001b[1;32m     27\u001b[0m ff_tree \u001b[38;5;241m=\u001b[39m etree\u001b[38;5;241m.\u001b[39mparse(preprocessed_ff_file_name[\u001b[38;5;241m0\u001b[39m])\n\u001b[0;32m---> 28\u001b[0m \u001b[38;5;28;43mself\u001b[39;49m\u001b[38;5;241;43m.\u001b[39;49m\u001b[43mvalidate_xsd\u001b[49m\u001b[43m(\u001b[49m\u001b[43mff_tree\u001b[49m\u001b[43m)\u001b[49m\n\u001b[1;32m     30\u001b[0m \u001b[38;5;28mself\u001b[39m\u001b[38;5;241m.\u001b[39matom_type_names \u001b[38;5;241m=\u001b[39m ff_tree\u001b[38;5;241m.\u001b[39mxpath(\n\u001b[1;32m     31\u001b[0m     \u001b[38;5;124m\"\u001b[39m\u001b[38;5;124m/ForceField/AtomTypes/Type/@name\u001b[39m\u001b[38;5;124m\"\u001b[39m\n\u001b[1;32m     32\u001b[0m )\n\u001b[1;32m     33\u001b[0m \u001b[38;5;28mself\u001b[39m\u001b[38;5;241m.\u001b[39matom_types \u001b[38;5;241m=\u001b[39m ff_tree\u001b[38;5;241m.\u001b[39mxpath(\u001b[38;5;124m\"\u001b[39m\u001b[38;5;124m/ForceField/AtomTypes/Type\u001b[39m\u001b[38;5;124m\"\u001b[39m)\n",
      "File \u001b[0;32m~/miniconda3/envs/dev/lib/python3.11/site-packages/foyer/validator.py:77\u001b[0m, in \u001b[0;36mValidator.validate_xsd\u001b[0;34m(ff_tree, xsd_file)\u001b[0m\n\u001b[1;32m     74\u001b[0m     \u001b[38;5;28;01mreturn\u001b[39;00m ValidationError(error_text, ex, line)\n\u001b[1;32m     76\u001b[0m \u001b[38;5;28;01mtry\u001b[39;00m:\n\u001b[0;32m---> 77\u001b[0m     \u001b[43mxmlschema\u001b[49m\u001b[38;5;241;43m.\u001b[39;49m\u001b[43massertValid\u001b[49m\u001b[43m(\u001b[49m\u001b[43mff_tree\u001b[49m\u001b[43m)\u001b[49m\n\u001b[1;32m     78\u001b[0m \u001b[38;5;28;01mexcept\u001b[39;00m DocumentInvalid \u001b[38;5;28;01mas\u001b[39;00m ex:\n\u001b[1;32m     79\u001b[0m     message \u001b[38;5;241m=\u001b[39m ex\u001b[38;5;241m.\u001b[39merror_log\u001b[38;5;241m.\u001b[39mlast_error\u001b[38;5;241m.\u001b[39mmessage\n",
      "File \u001b[0;32msrc/lxml/etree.pyx:3643\u001b[0m, in \u001b[0;36mlxml.etree._Validator.assertValid\u001b[0;34m()\u001b[0m\n",
      "\u001b[0;31mDocumentInvalid\u001b[0m: Element 'Residues': This element is not expected., line 57"
     ]
    }
   ],
   "source": [
    "ligpargen_opls = Forcefield(forcefield_files=\"UNK_A25C58.xml\", debug=True)"
   ]
  },
  {
   "cell_type": "code",
   "execution_count": 15,
   "id": "5dcb5daa-4ef5-4d76-9a9f-8889515a0928",
   "metadata": {},
   "outputs": [
    {
     "name": "stdout",
     "output_type": "stream",
     "text": [
      "Parameters have not been assigned to all proper dihedrals. Total system dihedrals: 2363, Parameterized dihedrals: 2329. Note that if your system contains torsions of Ryckaert-Bellemans functional form, all of these torsions are processed as propers.\n"
     ]
    }
   ],
   "source": [
    "# Apply the forcefield to your structure\n",
    "try:\n",
    "    typed_structure = oplsaa.apply(structure)\n",
    "except Exception as e:\n",
    "    print(e)"
   ]
  },
  {
   "cell_type": "code",
   "execution_count": 8,
   "id": "0cd0f0fc-2c77-4a12-a1fa-649910eb7c86",
   "metadata": {},
   "outputs": [
    {
     "ename": "AttributeError",
     "evalue": "'Compound' object has no attribute 'residues'",
     "output_type": "error",
     "traceback": [
      "\u001b[0;31m---------------------------------------------------------------------------\u001b[0m",
      "\u001b[0;31mAttributeError\u001b[0m                            Traceback (most recent call last)",
      "Cell \u001b[0;32mIn[8], line 1\u001b[0m\n\u001b[0;32m----> 1\u001b[0m untyped \u001b[38;5;241m=\u001b[39m \u001b[43moplsaa\u001b[49m\u001b[38;5;241;43m.\u001b[39;49m\u001b[43mrun_atomtyping\u001b[49m\u001b[43m(\u001b[49m\u001b[43mstructure\u001b[49m\u001b[43m,\u001b[49m\u001b[43m \u001b[49m\u001b[43mdebug\u001b[49m\u001b[38;5;241;43m=\u001b[39;49m\u001b[38;5;28;43;01mTrue\u001b[39;49;00m\u001b[43m)\u001b[49m\n\u001b[1;32m      2\u001b[0m \u001b[38;5;28mprint\u001b[39m(untyped)\n",
      "File \u001b[0;32m~/miniconda3/envs/dev/lib/python3.11/site-packages/foyer/forcefield.py:841\u001b[0m, in \u001b[0;36mForcefield.run_atomtyping\u001b[0;34m(self, structure, use_residue_map, **kwargs)\u001b[0m\n\u001b[1;32m    824\u001b[0m \u001b[38;5;250m\u001b[39m\u001b[38;5;124;03m\"\"\"Atomtype the topology.\u001b[39;00m\n\u001b[1;32m    825\u001b[0m \n\u001b[1;32m    826\u001b[0m \u001b[38;5;124;03mParameters\u001b[39;00m\n\u001b[0;32m   (...)\u001b[0m\n\u001b[1;32m    838\u001b[0m \u001b[38;5;124;03m    residues in the topology.\u001b[39;00m\n\u001b[1;32m    839\u001b[0m \u001b[38;5;124;03m\"\"\"\u001b[39;00m\n\u001b[1;32m    840\u001b[0m \u001b[38;5;28;01mif\u001b[39;00m use_residue_map:\n\u001b[0;32m--> 841\u001b[0m     independent_residues \u001b[38;5;241m=\u001b[39m \u001b[43m_check_independent_residues\u001b[49m\u001b[43m(\u001b[49m\u001b[43mstructure\u001b[49m\u001b[43m)\u001b[49m\n\u001b[1;32m    843\u001b[0m     \u001b[38;5;28;01mif\u001b[39;00m independent_residues:\n\u001b[1;32m    844\u001b[0m         residue_map \u001b[38;5;241m=\u001b[39m \u001b[38;5;28mdict\u001b[39m()\n",
      "File \u001b[0;32m~/miniconda3/envs/dev/lib/python3.11/site-packages/foyer/forcefield.py:271\u001b[0m, in \u001b[0;36m_check_independent_residues\u001b[0;34m(structure)\u001b[0m\n\u001b[1;32m    269\u001b[0m \u001b[38;5;28;01mdef\u001b[39;00m \u001b[38;5;21m_check_independent_residues\u001b[39m(structure):\n\u001b[1;32m    270\u001b[0m \u001b[38;5;250m    \u001b[39m\u001b[38;5;124;03m\"\"\"Check to see if residues will constitute independent graphs.\"\"\"\u001b[39;00m\n\u001b[0;32m--> 271\u001b[0m     \u001b[38;5;28;01mfor\u001b[39;00m res \u001b[38;5;129;01min\u001b[39;00m \u001b[43mstructure\u001b[49m\u001b[38;5;241;43m.\u001b[39;49m\u001b[43mresidues\u001b[49m:\n\u001b[1;32m    272\u001b[0m         atoms_in_residue \u001b[38;5;241m=\u001b[39m \u001b[38;5;28mset\u001b[39m([\u001b[38;5;241m*\u001b[39mres\u001b[38;5;241m.\u001b[39matoms])\n\u001b[1;32m    273\u001b[0m         bond_partners_in_residue \u001b[38;5;241m=\u001b[39m [\n\u001b[1;32m    274\u001b[0m             item\n\u001b[1;32m    275\u001b[0m             \u001b[38;5;28;01mfor\u001b[39;00m sublist \u001b[38;5;129;01min\u001b[39;00m [atom\u001b[38;5;241m.\u001b[39mbond_partners \u001b[38;5;28;01mfor\u001b[39;00m atom \u001b[38;5;129;01min\u001b[39;00m res\u001b[38;5;241m.\u001b[39matoms]\n\u001b[1;32m    276\u001b[0m             \u001b[38;5;28;01mfor\u001b[39;00m item \u001b[38;5;129;01min\u001b[39;00m sublist\n\u001b[1;32m    277\u001b[0m         ]\n",
      "\u001b[0;31mAttributeError\u001b[0m: 'Compound' object has no attribute 'residues'"
     ]
    }
   ],
   "source": []
  },
  {
   "cell_type": "code",
   "execution_count": null,
   "id": "e255dd5e-c792-4d15-86f1-a7b31acbab1d",
   "metadata": {},
   "outputs": [],
   "source": []
  }
 ],
 "metadata": {
  "kernelspec": {
   "display_name": "Python 3 (ipykernel)",
   "language": "python",
   "name": "python3"
  },
  "language_info": {
   "codemirror_mode": {
    "name": "ipython",
    "version": 3
   },
   "file_extension": ".py",
   "mimetype": "text/x-python",
   "name": "python",
   "nbconvert_exporter": "python",
   "pygments_lexer": "ipython3",
   "version": "3.11.3"
  }
 },
 "nbformat": 4,
 "nbformat_minor": 5
}
