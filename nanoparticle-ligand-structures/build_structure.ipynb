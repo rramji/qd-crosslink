{
 "cells": [
  {
   "cell_type": "code",
   "execution_count": 1,
   "id": "568c2fc3-6774-41fd-abf2-2c559becf42c",
   "metadata": {},
   "outputs": [
    {
     "name": "stderr",
     "output_type": "stream",
     "text": [
      "Warning: importing 'simtk.openmm' is deprecated.  Import 'openmm' instead.\n"
     ]
    }
   ],
   "source": [
    "import mbuild as mb\n",
    "from mbuild.lib.recipes import TiledCompound\n",
    "import parmed as pmd\n",
    "import numpy as np\n",
    "import openmm\n",
    "import warnings\n",
    "from random import sample\n",
    "from copy import deepcopy\n",
    "warnings.simplefilter(\"ignore\")"
   ]
  },
  {
   "cell_type": "code",
   "execution_count": 31,
   "id": "53387a41-7476-4eb5-99bb-e149cc3a594b",
   "metadata": {},
   "outputs": [],
   "source": [
    "slab = mb.load(\"ZnS.14sqnm.pdb\")\n",
    "# slab.save(\"lammps_test/ZnS.xyz\")"
   ]
  },
  {
   "cell_type": "code",
   "execution_count": 32,
   "id": "9c8c4f9c-737c-42b5-8350-99859419e515",
   "metadata": {},
   "outputs": [
    {
     "data": {
      "text/plain": [
       "<Compound 850 particles, 1352 bonds, non-periodic, id: 140026940928976>"
      ]
     },
     "execution_count": 32,
     "metadata": {},
     "output_type": "execute_result"
    }
   ],
   "source": [
    "slab"
   ]
  },
  {
   "cell_type": "raw",
   "id": "43114cb6-26c2-4434-a06c-2f74cfe8d360",
   "metadata": {},
   "source": [
    "slab.periodicity = (True, True, True)"
   ]
  },
  {
   "cell_type": "code",
   "execution_count": 33,
   "id": "331e21ba-834d-49cb-a44d-c1cbd2d3aa23",
   "metadata": {},
   "outputs": [
    {
     "data": {
      "application/vnd.jupyter.widget-view+json": {
       "model_id": "65e99371a0fa4a8e82fa8623be8be360",
       "version_major": 2,
       "version_minor": 0
      },
      "text/plain": [
       "NGLWidget()"
      ]
     },
     "metadata": {},
     "output_type": "display_data"
    }
   ],
   "source": [
    "slab.visualize(backend=\"nglview\")"
   ]
  },
  {
   "cell_type": "code",
   "execution_count": 34,
   "id": "461b78b0-d3d5-4079-b5b0-593aef726f57",
   "metadata": {
    "tags": []
   },
   "outputs": [],
   "source": [
    "slab = mb.load(\"ZnS.14sqnm.pdb\")\n",
    "for zn in slab:\n",
    "    if zn.element.symbol == 'Zn' and round(zn.pos[2],3) == 0.545:\n",
    "        #print(zn)\n",
    "        port = mb.Port(anchor=zn, orientation=[0,0,1], separation=0.05)\n",
    "        slab.add(port)"
   ]
  },
  {
   "cell_type": "code",
   "execution_count": 35,
   "id": "456b36f7-9d24-4d3b-8554-9020e5ffacc5",
   "metadata": {},
   "outputs": [],
   "source": [
    "from random import sample\n",
    "\n",
    "sites = sample(slab.all_ports(), k=28)"
   ]
  },
  {
   "cell_type": "raw",
   "id": "73882424-9e2e-4e10-b39b-5a16392b04e1",
   "metadata": {
    "jupyter": {
     "outputs_hidden": true
    },
    "tags": []
   },
   "source": [
    "sample?"
   ]
  },
  {
   "cell_type": "code",
   "execution_count": 36,
   "id": "325b5de9-307d-4e7f-a0a4-680dbbf0e430",
   "metadata": {
    "tags": []
   },
   "outputs": [
    {
     "data": {
      "application/vnd.jupyter.widget-view+json": {
       "model_id": "d267a322fc9a45e398fad0b2bd28516f",
       "version_major": 2,
       "version_minor": 0
      },
      "text/plain": [
       "NGLWidget()"
      ]
     },
     "metadata": {},
     "output_type": "display_data"
    }
   ],
   "source": [
    "oleic = mb.load('CCCCCCCCC=CCCCCCCCC(=O)O', smiles=True)\n",
    "oleic.add(mb.Port(anchor=oleic[18], separation=0.25, orientation=(oleic[18].pos - oleic[17].pos)))\n",
    "oleic.visualize(show_ports=True, backend=\"nglview\")"
   ]
  },
  {
   "cell_type": "raw",
   "id": "9d46fd4c-def0-42ce-be8f-5a60a6e34b96",
   "metadata": {
    "jupyter": {
     "outputs_hidden": true
    },
    "tags": []
   },
   "source": [
    "for i,particle in enumerate(oleic):\n",
    "    print(i, particle)"
   ]
  },
  {
   "cell_type": "code",
   "execution_count": null,
   "id": "76ca15e6-96cb-473d-8338-20559fd61402",
   "metadata": {},
   "outputs": [],
   "source": []
  },
  {
   "cell_type": "raw",
   "id": "521b5db9-4a04-4e48-be9a-49a0c912c50f",
   "metadata": {},
   "source": [
    "oleic.remove_bond((oleic[17],oleic[18]))"
   ]
  },
  {
   "cell_type": "raw",
   "id": "378a39de-35d1-4b92-9774-26897cbe6ad0",
   "metadata": {},
   "source": [
    "oleic.visualize()"
   ]
  },
  {
   "cell_type": "raw",
   "id": "b22b7dc4-f069-4b05-ae89-c7c93fa45dd6",
   "metadata": {},
   "source": [
    "sites[0]"
   ]
  },
  {
   "cell_type": "raw",
   "id": "23cc50e2-4c8a-420b-8376-bad18e1328ff",
   "metadata": {},
   "source": [
    "slab.remove_bond?"
   ]
  },
  {
   "cell_type": "code",
   "execution_count": 37,
   "id": "cffcf64c-76e6-4b1a-ab5b-8f024cffff82",
   "metadata": {},
   "outputs": [],
   "source": [
    "for site in sites:\n",
    "    #should be coo- \n",
    "    oleic = mb.load('CCCCCCCCC=CCCCCCCCC(=O)O', smiles=True)\n",
    "    oleic.add(mb.Port(anchor=oleic[18], separation=0.25, orientation=(oleic[18].pos - oleic[17].pos)))\n",
    "    mb.force_overlap(move_this=oleic,\n",
    "                     from_positions=oleic['Port[0]'],\n",
    "                     to_positions=site)\n",
    "    \n",
    "    # oleic.remove_bond((site.anchor, oleic[18]))\n",
    "    # slab.remove_bond((site.anchor, oleic[18]))\n",
    "    slab.add(oleic, label=\"OLC[$]\")"
   ]
  },
  {
   "cell_type": "code",
   "execution_count": 58,
   "id": "cbc195a8-e727-4214-939d-f5a20567f626",
   "metadata": {},
   "outputs": [],
   "source": [
    "oleic = mb.load('CCCCCCCCC=CCCCCCCCC(=O)O', smiles=True)\n",
    "oleic.save(\"oleic_test.mol2\")"
   ]
  },
  {
   "cell_type": "code",
   "execution_count": 59,
   "id": "d2611f92-9e37-4d72-a43c-49ff3b6657a1",
   "metadata": {},
   "outputs": [],
   "source": [
    "oleic_pmd = oleic.to_parmed()"
   ]
  },
  {
   "cell_type": "code",
   "execution_count": 60,
   "id": "7e64dc0a-17d2-4cd9-a07b-570084d785fe",
   "metadata": {},
   "outputs": [],
   "source": [
    "oleic_pmd.write_pdb(\"oleic.pdb\")"
   ]
  },
  {
   "cell_type": "code",
   "execution_count": 38,
   "id": "8b5cb0cd-ddfc-4c3e-824d-c928d31aad32",
   "metadata": {},
   "outputs": [
    {
     "data": {
      "application/vnd.jupyter.widget-view+json": {
       "model_id": "0411c78c21a44eb9a52d6093fb8d32ed",
       "version_major": 2,
       "version_minor": 0
      },
      "text/plain": [
       "NGLWidget()"
      ]
     },
     "metadata": {},
     "output_type": "display_data"
    }
   ],
   "source": [
    "slab.visualize(show_ports=True, backend='nglview')"
   ]
  },
  {
   "cell_type": "code",
   "execution_count": 39,
   "id": "cafc1fe3-fe9a-4e0c-abd4-e3b40dafdb39",
   "metadata": {
    "tags": []
   },
   "outputs": [],
   "source": [
    "counter_slab = deepcopy(slab)"
   ]
  },
  {
   "cell_type": "code",
   "execution_count": 40,
   "id": "3bf4a201-1fa1-48af-89f2-49b4119cb6d6",
   "metadata": {},
   "outputs": [],
   "source": [
    "counter_slab.rotate(np.pi, [1,1,0])\n",
    "counter_slab.translate([0,0,4])"
   ]
  },
  {
   "cell_type": "code",
   "execution_count": 41,
   "id": "867ae825-505b-42f1-a8cc-067524fab4e6",
   "metadata": {},
   "outputs": [
    {
     "data": {
      "application/vnd.jupyter.widget-view+json": {
       "model_id": "7aef13bede694177a1dce12be9e96579",
       "version_major": 2,
       "version_minor": 0
      },
      "text/plain": [
       "NGLWidget()"
      ]
     },
     "metadata": {},
     "output_type": "display_data"
    }
   ],
   "source": [
    "counter_slab.visualize(backend='nglview')"
   ]
  },
  {
   "cell_type": "code",
   "execution_count": 42,
   "id": "59b3969c-ed59-4c3f-8cfc-661b1a19000d",
   "metadata": {},
   "outputs": [
    {
     "data": {
      "application/vnd.jupyter.widget-view+json": {
       "model_id": "b9dd48348d5446f1b82056d90a0d9c80",
       "version_major": 2,
       "version_minor": 0
      },
      "text/plain": [
       "NGLWidget()"
      ]
     },
     "metadata": {},
     "output_type": "display_data"
    }
   ],
   "source": [
    "system = mb.Compound()\n",
    "system.add(slab)\n",
    "system.add(counter_slab)\n",
    "system.visualize(backend='nglview')"
   ]
  },
  {
   "cell_type": "code",
   "execution_count": 57,
   "id": "4d75049e-5d17-4759-9564-8052063ecfcb",
   "metadata": {
    "tags": []
   },
   "outputs": [],
   "source": [
    "writer = system.to_parmed()\n",
    "writer.write_pdb(\"\")"
   ]
  },
  {
   "cell_type": "code",
   "execution_count": 50,
   "id": "d5166569-1848-4956-84b6-f9ff64b6eeb7",
   "metadata": {},
   "outputs": [
    {
     "data": {
      "application/vnd.jupyter.widget-view+json": {
       "model_id": "8583478b1729419c96c42ae3c687a0ea",
       "version_major": 2,
       "version_minor": 0
      },
      "text/plain": [
       "NGLWidget()"
      ]
     },
     "metadata": {},
     "output_type": "display_data"
    }
   ],
   "source": [
    "xlig = mb.load(\"../monte-carlo-test/struct_file/ns-bp_crosslinkable_ligand.mol2\")\n",
    "xlig.add(mb.Port(anchor=xlig[25], separation=0.25, orientation=(xlig[25].pos - xlig[14].pos)))\n",
    "xlig.visualize(show_ports=True, backend=\"nglview\")"
   ]
  },
  {
   "cell_type": "code",
   "execution_count": 55,
   "id": "1f0cdb17-0890-4948-a4b0-27abcfc11370",
   "metadata": {},
   "outputs": [
    {
     "name": "stdout",
     "output_type": "stream",
     "text": [
      "(<C pos=([1.0842 0.2232 0.0589]), 4 bonds, id: 140026868098736>, <C pos=([ 1.1537  0.0995 -0.0017]), 4 bonds, id: 140026868098928>)\n",
      "(<C pos=([ 1.0431 -0.0076 -0.012 ]), 4 bonds, id: 140026867714656>, <C pos=([ 1.1537  0.0995 -0.0017]), 4 bonds, id: 140026868098928>)\n",
      "(<H pos=([ 1.1932  0.1228 -0.1006]), 1 bonds, id: 140026867714896>, <C pos=([ 1.1537  0.0995 -0.0017]), 4 bonds, id: 140026868098928>)\n",
      "(<H pos=([1.2337 0.0651 0.0639]), 1 bonds, id: 140026867715136>, <C pos=([ 1.1537  0.0995 -0.0017]), 4 bonds, id: 140026868098928>)\n",
      "(<C pos=([0.9374 0.1804 0.0801]), 4 bonds, id: 140026868097584>, <C pos=([1.0842 0.2232 0.0589]), 4 bonds, id: 140026868098736>)\n",
      "(<H pos=([1.1301 0.2495 0.1542]), 1 bonds, id: 140026867715376>, <C pos=([1.0842 0.2232 0.0589]), 4 bonds, id: 140026868098736>)\n",
      "(<H pos=([ 1.0896  0.3073 -0.0103]), 1 bonds, id: 140026867715616>, <C pos=([1.0842 0.2232 0.0589]), 4 bonds, id: 140026868098736>)\n",
      "(<N pos=([0.9427 0.0323 0.09  ]), 3 bonds, id: 140026868097248>, <C pos=([0.9374 0.1804 0.0801]), 4 bonds, id: 140026868097584>)\n",
      "(<H pos=([0.8982 0.2234 0.1723]), 1 bonds, id: 140026867715856>, <C pos=([0.9374 0.1804 0.0801]), 4 bonds, id: 140026868097584>)\n",
      "(<H pos=([ 0.8764  0.2106 -0.005 ]), 1 bonds, id: 140026867716096>, <C pos=([0.9374 0.1804 0.0801]), 4 bonds, id: 140026868097584>)\n",
      "(<C pos=([ 0.8186 -0.0239  0.0625]), 3 bonds, id: 140026868097392>, <N pos=([0.9427 0.0323 0.09  ]), 3 bonds, id: 140026868097248>)\n",
      "(<C pos=([ 1.0431 -0.0076 -0.012 ]), 4 bonds, id: 140026867714656>, <N pos=([0.9427 0.0323 0.09  ]), 3 bonds, id: 140026868097248>)\n",
      "(<C pos=([ 0.8109 -0.1489  0.0016]), 3 bonds, id: 140026868097536>, <C pos=([ 0.8186 -0.0239  0.0625]), 3 bonds, id: 140026868097392>)\n",
      "(<C pos=([0.7022 0.0446 0.0964]), 3 bonds, id: 140026867714416>, <C pos=([ 0.8186 -0.0239  0.0625]), 3 bonds, id: 140026868097392>)\n",
      "(<C pos=([ 0.6887 -0.2047 -0.0258]), 3 bonds, id: 140026843018288>, <C pos=([ 0.8109 -0.1489  0.0016]), 3 bonds, id: 140026868097536>)\n",
      "(<H pos=([ 0.9014 -0.202  -0.0243]), 1 bonds, id: 140026867716336>, <C pos=([ 0.8109 -0.1489  0.0016]), 3 bonds, id: 140026868097536>)\n",
      "(<C pos=([ 0.5716 -0.1358  0.0077]), 3 bonds, id: 140026843018528>, <C pos=([ 0.6887 -0.2047 -0.0258]), 3 bonds, id: 140026843018288>)\n",
      "(<H pos=([ 0.6828 -0.3016 -0.0731]), 1 bonds, id: 140026867716576>, <C pos=([ 0.6887 -0.2047 -0.0258]), 3 bonds, id: 140026843018288>)\n",
      "(<C pos=([ 0.4399 -0.1955 -0.0215]), 3 bonds, id: 140026867896656>, <C pos=([ 0.5716 -0.1358  0.0077]), 3 bonds, id: 140026843018528>)\n",
      "(<C pos=([ 0.5796 -0.0103  0.0689]), 3 bonds, id: 140026868099552>, <C pos=([ 0.5716 -0.1358  0.0077]), 3 bonds, id: 140026843018528>)\n",
      "(<O pos=([ 0.4293 -0.316  -0.0347]), 1 bonds, id: 140026867893008>, <C pos=([ 0.4399 -0.1955 -0.0215]), 3 bonds, id: 140026867896656>)\n",
      "(<C pos=([ 0.3212 -0.1092 -0.0348]), 3 bonds, id: 140026867907120>, <C pos=([ 0.4399 -0.1955 -0.0215]), 3 bonds, id: 140026867896656>)\n",
      "(<C pos=([ 0.3361  0.0261 -0.0674]), 3 bonds, id: 140026867907216>, <C pos=([ 0.3212 -0.1092 -0.0348]), 3 bonds, id: 140026867907120>)\n",
      "(<C pos=([ 0.1933 -0.1624 -0.0152]), 3 bonds, id: 140026868097296>, <C pos=([ 0.3212 -0.1092 -0.0348]), 3 bonds, id: 140026867907120>)\n",
      "(<C pos=([ 0.2259  0.1058 -0.0796]), 3 bonds, id: 140026867907456>, <C pos=([ 0.3361  0.0261 -0.0674]), 3 bonds, id: 140026867907216>)\n",
      "(<H pos=([ 0.4347  0.0674 -0.083 ]), 1 bonds, id: 140026867716816>, <C pos=([ 0.3361  0.0261 -0.0674]), 3 bonds, id: 140026867907216>)\n",
      "(<C pos=([ 0.0987  0.0526 -0.0595]), 3 bonds, id: 140026867907696>, <C pos=([ 0.2259  0.1058 -0.0796]), 3 bonds, id: 140026867907456>)\n",
      "(<H pos=([ 0.2374  0.2102 -0.1048]), 1 bonds, id: 140026867717056>, <C pos=([ 0.2259  0.1058 -0.0796]), 3 bonds, id: 140026867907456>)\n",
      "(<S pos=([-0.0433  0.1558 -0.0753]), 2 bonds, id: 140026867907936>, <C pos=([ 0.0987  0.0526 -0.0595]), 3 bonds, id: 140026867907696>)\n",
      "(<C pos=([ 0.0835 -0.082  -0.0269]), 3 bonds, id: 140026868097728>, <C pos=([ 0.0987  0.0526 -0.0595]), 3 bonds, id: 140026867907696>)\n",
      "(<C pos=([-0.1804  0.0423 -0.0404]), 4 bonds, id: 140026867908176>, <S pos=([-0.0433  0.1558 -0.0753]), 2 bonds, id: 140026867907936>)\n",
      "(<C pos=([-0.313   0.1179 -0.0503]), 4 bonds, id: 140026867908416>, <C pos=([-0.1804  0.0423 -0.0404]), 4 bonds, id: 140026867908176>)\n",
      "(<H pos=([-0.1795 -0.0391 -0.1129]), 1 bonds, id: 140026867717296>, <C pos=([-0.1804  0.0423 -0.0404]), 4 bonds, id: 140026867908176>)\n",
      "(<H pos=([-0.1691  0.0016  0.0601]), 1 bonds, id: 140026867717536>, <C pos=([-0.1804  0.0423 -0.0404]), 4 bonds, id: 140026867908176>)\n",
      "(<C pos=([-0.4286  0.0222 -0.0208]), 4 bonds, id: 140026867908464>, <C pos=([-0.313   0.1179 -0.0503]), 4 bonds, id: 140026867908416>)\n",
      "(<H pos=([-0.3139  0.1993  0.0222]), 1 bonds, id: 140026867717776>, <C pos=([-0.313   0.1179 -0.0503]), 4 bonds, id: 140026867908416>)\n",
      "(<H pos=([-0.3242  0.1586 -0.1508]), 1 bonds, id: 140026867718016>, <C pos=([-0.313   0.1179 -0.0503]), 4 bonds, id: 140026867908416>)\n",
      "(<C pos=([-0.5612  0.0978 -0.0307]), 4 bonds, id: 140026867712352>, <C pos=([-0.4286  0.0222 -0.0208]), 4 bonds, id: 140026867908464>)\n",
      "(<H pos=([-0.4277 -0.0593 -0.0933]), 1 bonds, id: 140026867718256>, <C pos=([-0.4286  0.0222 -0.0208]), 4 bonds, id: 140026867908464>)\n",
      "(<H pos=([-0.4174 -0.0185  0.0797]), 1 bonds, id: 140026867718496>, <C pos=([-0.4286  0.0222 -0.0208]), 4 bonds, id: 140026867908464>)\n",
      "(<C pos=([-0.6769  0.002  -0.0012]), 4 bonds, id: 140026867712592>, <C pos=([-0.5612  0.0978 -0.0307]), 4 bonds, id: 140026867712352>)\n",
      "(<H pos=([-0.5621  0.1792  0.0418]), 1 bonds, id: 140026867718736>, <C pos=([-0.5612  0.0978 -0.0307]), 4 bonds, id: 140026867712352>)\n",
      "(<H pos=([-0.5725  0.1385 -0.1312]), 1 bonds, id: 140026867718976>, <C pos=([-0.5612  0.0978 -0.0307]), 4 bonds, id: 140026867712352>)\n",
      "(<C pos=([-0.8095  0.0777 -0.0111]), 4 bonds, id: 140026867712832>, <C pos=([-0.6769  0.002  -0.0012]), 4 bonds, id: 140026867712592>)\n",
      "(<H pos=([-0.676  -0.0794 -0.0737]), 1 bonds, id: 140026867719216>, <C pos=([-0.6769  0.002  -0.0012]), 4 bonds, id: 140026867712592>)\n",
      "(<H pos=([-0.6657 -0.0387  0.0993]), 1 bonds, id: 140026867719456>, <C pos=([-0.6769  0.002  -0.0012]), 4 bonds, id: 140026867712592>)\n",
      "(<C pos=([-0.9251 -0.0181  0.0183]), 4 bonds, id: 140026867713072>, <C pos=([-0.8095  0.0777 -0.0111]), 4 bonds, id: 140026867712832>)\n",
      "(<H pos=([-0.8104  0.1591  0.0614]), 1 bonds, id: 140026867719696>, <C pos=([-0.8095  0.0777 -0.0111]), 4 bonds, id: 140026867712832>)\n",
      "(<H pos=([-0.8207  0.1183 -0.1116]), 1 bonds, id: 140026867719936>, <C pos=([-0.8095  0.0777 -0.0111]), 4 bonds, id: 140026867712832>)\n",
      "(<C pos=([-1.0578  0.0575  0.0084]), 4 bonds, id: 140026867713312>, <C pos=([-0.9251 -0.0181  0.0183]), 4 bonds, id: 140026867713072>)\n",
      "(<H pos=([-0.9243 -0.0995 -0.0541]), 1 bonds, id: 140026867720176>, <C pos=([-0.9251 -0.0181  0.0183]), 4 bonds, id: 140026867713072>)\n",
      "(<H pos=([-0.9139 -0.0588  0.1188]), 1 bonds, id: 140026867720416>, <C pos=([-0.9251 -0.0181  0.0183]), 4 bonds, id: 140026867713072>)\n",
      "(<C pos=([-1.1734 -0.0382  0.0379]), 4 bonds, id: 140026867713552>, <C pos=([-1.0578  0.0575  0.0084]), 4 bonds, id: 140026867713312>)\n",
      "(<H pos=([-1.0587  0.1389  0.0809]), 1 bonds, id: 140026867720656>, <C pos=([-1.0578  0.0575  0.0084]), 4 bonds, id: 140026867713312>)\n",
      "(<H pos=([-1.069   0.0982 -0.092 ]), 1 bonds, id: 140026867720896>, <C pos=([-1.0578  0.0575  0.0084]), 4 bonds, id: 140026867713312>)\n",
      "(<C pos=([-1.306   0.0374  0.028 ]), 4 bonds, id: 140026867713792>, <C pos=([-1.1734 -0.0382  0.0379]), 4 bonds, id: 140026867713552>)\n",
      "(<H pos=([-1.1725 -0.1196 -0.0346]), 1 bonds, id: 140026867721136>, <C pos=([-1.1734 -0.0382  0.0379]), 4 bonds, id: 140026867713552>)\n",
      "(<H pos=([-1.1622 -0.0789  0.1384]), 1 bonds, id: 140026867721376>, <C pos=([-1.1734 -0.0382  0.0379]), 4 bonds, id: 140026867713552>)\n",
      "(<S pos=([-1.4432 -0.0761  0.0629]), 2 bonds, id: 140026868098976>, <C pos=([-1.306   0.0374  0.028 ]), 4 bonds, id: 140026867713792>)\n",
      "(<H pos=([-1.3069  0.1188  0.1005]), 1 bonds, id: 140026867721616>, <C pos=([-1.306   0.0374  0.028 ]), 4 bonds, id: 140026867713792>)\n",
      "(<H pos=([-1.3173  0.0781 -0.0725]), 1 bonds, id: 140026867721856>, <C pos=([-1.306   0.0374  0.028 ]), 4 bonds, id: 140026867713792>)\n",
      "(<H pos=([-1.5515  0.0026  0.0509]), 1 bonds, id: 140026867722096>, <S pos=([-1.4432 -0.0761  0.0629]), 2 bonds, id: 140026868098976>)\n",
      "(<C pos=([ 0.1933 -0.1624 -0.0152]), 3 bonds, id: 140026868097296>, <C pos=([ 0.0835 -0.082  -0.0269]), 3 bonds, id: 140026868097728>)\n",
      "(<H pos=([-0.0153 -0.1229 -0.0114]), 1 bonds, id: 140026867722336>, <C pos=([ 0.0835 -0.082  -0.0269]), 3 bonds, id: 140026868097728>)\n",
      "(<H pos=([ 0.1814 -0.2668  0.01  ]), 1 bonds, id: 140026867722576>, <C pos=([ 0.1933 -0.1624 -0.0152]), 3 bonds, id: 140026868097296>)\n",
      "(<C pos=([0.7022 0.0446 0.0964]), 3 bonds, id: 140026867714416>, <C pos=([ 0.5796 -0.0103  0.0689]), 3 bonds, id: 140026868099552>)\n",
      "(<H pos=([0.4894 0.0431 0.0948]), 1 bonds, id: 140026867722816>, <C pos=([ 0.5796 -0.0103  0.0689]), 3 bonds, id: 140026868099552>)\n",
      "(<H pos=([0.7085 0.1415 0.1437]), 1 bonds, id: 140026867723056>, <C pos=([0.7022 0.0446 0.0964]), 3 bonds, id: 140026867714416>)\n",
      "(<H pos=([ 0.9985 -0.0068 -0.1115]), 1 bonds, id: 140026867723296>, <C pos=([ 1.0431 -0.0076 -0.012 ]), 4 bonds, id: 140026867714656>)\n",
      "(<H pos=([ 1.0834 -0.1063  0.0109]), 1 bonds, id: 140026867723536>, <C pos=([ 1.0431 -0.0076 -0.012 ]), 4 bonds, id: 140026867714656>)\n"
     ]
    }
   ],
   "source": [
    "for b in xlig.bonds():\n",
    "    print(b)"
   ]
  },
  {
   "cell_type": "code",
   "execution_count": 47,
   "id": "e9fee233-d7c7-4216-85b2-9d683909d4a1",
   "metadata": {},
   "outputs": [
    {
     "name": "stdout",
     "output_type": "stream",
     "text": [
      "0 <C pos=([ 1.1537  0.0995 -0.0017]), 4 bonds, id: 140026842934976>\n",
      "1 <C pos=([1.0842 0.2232 0.0589]), 4 bonds, id: 140026842937808>\n",
      "2 <C pos=([0.9374 0.1804 0.0801]), 4 bonds, id: 140026842925184>\n",
      "3 <N pos=([0.9427 0.0323 0.09  ]), 3 bonds, id: 140026842927344>\n",
      "4 <C pos=([ 0.8186 -0.0239  0.0625]), 3 bonds, id: 140026842927536>\n",
      "5 <C pos=([ 0.8109 -0.1489  0.0016]), 3 bonds, id: 140026842927104>\n",
      "6 <C pos=([ 0.6887 -0.2047 -0.0258]), 3 bonds, id: 140026842938192>\n",
      "7 <C pos=([ 0.5716 -0.1358  0.0077]), 3 bonds, id: 140026842926720>\n",
      "8 <C pos=([ 0.4399 -0.1955 -0.0215]), 3 bonds, id: 140026842925520>\n",
      "9 <O pos=([ 0.4293 -0.316  -0.0347]), 1 bonds, id: 140026862553552>\n",
      "10 <C pos=([ 0.3212 -0.1092 -0.0348]), 3 bonds, id: 140026842927392>\n",
      "11 <C pos=([ 0.3361  0.0261 -0.0674]), 3 bonds, id: 140026842604704>\n",
      "12 <C pos=([ 0.2259  0.1058 -0.0796]), 3 bonds, id: 140026842604944>\n",
      "13 <C pos=([ 0.0987  0.0526 -0.0595]), 3 bonds, id: 140026842605184>\n",
      "14 <S pos=([-0.0433  0.1558 -0.0753]), 2 bonds, id: 140026842605424>\n",
      "15 <C pos=([-0.1804  0.0423 -0.0404]), 4 bonds, id: 140026842605664>\n",
      "16 <C pos=([-0.313   0.1179 -0.0503]), 4 bonds, id: 140026842605904>\n",
      "17 <C pos=([-0.4286  0.0222 -0.0208]), 4 bonds, id: 140026842606144>\n",
      "18 <C pos=([-0.5612  0.0978 -0.0307]), 4 bonds, id: 140026842606384>\n",
      "19 <C pos=([-0.6769  0.002  -0.0012]), 4 bonds, id: 140026842606624>\n",
      "20 <C pos=([-0.8095  0.0777 -0.0111]), 4 bonds, id: 140026842606864>\n",
      "21 <C pos=([-0.9251 -0.0181  0.0183]), 4 bonds, id: 140026842607104>\n",
      "22 <C pos=([-1.0578  0.0575  0.0084]), 4 bonds, id: 140026842607344>\n",
      "23 <C pos=([-1.1734 -0.0382  0.0379]), 4 bonds, id: 140026842607584>\n",
      "24 <C pos=([-1.306   0.0374  0.028 ]), 4 bonds, id: 140026842607824>\n",
      "25 <S pos=([-1.4432 -0.0761  0.0629]), 2 bonds, id: 140026842608064>\n",
      "26 <C pos=([ 0.0835 -0.082  -0.0269]), 3 bonds, id: 140026842608304>\n",
      "27 <C pos=([ 0.1933 -0.1624 -0.0152]), 3 bonds, id: 140026842608544>\n",
      "28 <C pos=([ 0.5796 -0.0103  0.0689]), 3 bonds, id: 140026842608784>\n",
      "29 <C pos=([0.7022 0.0446 0.0964]), 3 bonds, id: 140026842609024>\n",
      "30 <C pos=([ 1.0431 -0.0076 -0.012 ]), 4 bonds, id: 140026842609264>\n",
      "31 <H pos=([ 1.1932  0.1228 -0.1006]), 1 bonds, id: 140026842609504>\n",
      "32 <H pos=([1.2337 0.0651 0.0639]), 1 bonds, id: 140026842609744>\n",
      "33 <H pos=([1.1301 0.2495 0.1542]), 1 bonds, id: 140026842609984>\n",
      "34 <H pos=([ 1.0896  0.3073 -0.0103]), 1 bonds, id: 140026842610224>\n",
      "35 <H pos=([0.8982 0.2234 0.1723]), 1 bonds, id: 140026842610464>\n",
      "36 <H pos=([ 0.8764  0.2106 -0.005 ]), 1 bonds, id: 140026842610704>\n",
      "37 <H pos=([ 0.9014 -0.202  -0.0243]), 1 bonds, id: 140026842610944>\n",
      "38 <H pos=([ 0.6828 -0.3016 -0.0731]), 1 bonds, id: 140026842611184>\n",
      "39 <H pos=([ 0.4347  0.0674 -0.083 ]), 1 bonds, id: 140026842611424>\n",
      "40 <H pos=([ 0.2374  0.2102 -0.1048]), 1 bonds, id: 140026862855760>\n",
      "41 <H pos=([-0.1795 -0.0391 -0.1129]), 1 bonds, id: 140026842611664>\n",
      "42 <H pos=([-0.1691  0.0016  0.0601]), 1 bonds, id: 140026842927584>\n",
      "43 <H pos=([-0.3139  0.1993  0.0222]), 1 bonds, id: 140026842928496>\n",
      "44 <H pos=([-0.3242  0.1586 -0.1508]), 1 bonds, id: 140026842928592>\n",
      "45 <H pos=([-0.4277 -0.0593 -0.0933]), 1 bonds, id: 140026842928976>\n",
      "46 <H pos=([-0.4174 -0.0185  0.0797]), 1 bonds, id: 140026842929120>\n",
      "47 <H pos=([-0.5621  0.1792  0.0418]), 1 bonds, id: 140026842929456>\n",
      "48 <H pos=([-0.5725  0.1385 -0.1312]), 1 bonds, id: 140026842929600>\n",
      "49 <H pos=([-0.676  -0.0794 -0.0737]), 1 bonds, id: 140026842929936>\n",
      "50 <H pos=([-0.6657 -0.0387  0.0993]), 1 bonds, id: 140026842930080>\n",
      "51 <H pos=([-0.8104  0.1591  0.0614]), 1 bonds, id: 140026842930416>\n",
      "52 <H pos=([-0.8207  0.1183 -0.1116]), 1 bonds, id: 140026842930560>\n",
      "53 <H pos=([-0.9243 -0.0995 -0.0541]), 1 bonds, id: 140026842930896>\n",
      "54 <H pos=([-0.9139 -0.0588  0.1188]), 1 bonds, id: 140026842931040>\n",
      "55 <H pos=([-1.0587  0.1389  0.0809]), 1 bonds, id: 140026842931376>\n",
      "56 <H pos=([-1.069   0.0982 -0.092 ]), 1 bonds, id: 140026842931520>\n",
      "57 <H pos=([-1.1725 -0.1196 -0.0346]), 1 bonds, id: 140026842931856>\n",
      "58 <H pos=([-1.1622 -0.0789  0.1384]), 1 bonds, id: 140026842932000>\n",
      "59 <H pos=([-1.3069  0.1188  0.1005]), 1 bonds, id: 140026842932336>\n",
      "60 <H pos=([-1.3173  0.0781 -0.0725]), 1 bonds, id: 140026842932480>\n",
      "61 <H pos=([-1.5515  0.0026  0.0509]), 1 bonds, id: 140026842932816>\n",
      "62 <H pos=([-0.0153 -0.1229 -0.0114]), 1 bonds, id: 140026842932960>\n",
      "63 <H pos=([ 0.1814 -0.2668  0.01  ]), 1 bonds, id: 140026842933296>\n",
      "64 <H pos=([0.4894 0.0431 0.0948]), 1 bonds, id: 140026842933440>\n",
      "65 <H pos=([0.7085 0.1415 0.1437]), 1 bonds, id: 140026842933776>\n",
      "66 <H pos=([ 0.9985 -0.0068 -0.1115]), 1 bonds, id: 140026842933920>\n",
      "67 <H pos=([ 1.0834 -0.1063  0.0109]), 1 bonds, id: 140026842934256>\n"
     ]
    }
   ],
   "source": [
    "for i,particle in enumerate(xlig):\n",
    "    print(i, particle)"
   ]
  },
  {
   "cell_type": "markdown",
   "id": "167627bb-076b-4174-8710-2c19a81ea15e",
   "metadata": {},
   "source": [
    "## Trying to get periodicity to actually work"
   ]
  },
  {
   "cell_type": "code",
   "execution_count": null,
   "id": "27b7a734-668a-44ba-8f16-d39ff41c3c50",
   "metadata": {},
   "outputs": [],
   "source": [
    "mini_slab = mb.load(\"ZnS.mol2\")"
   ]
  },
  {
   "cell_type": "code",
   "execution_count": null,
   "id": "38242de5-1176-40e9-8e85-0e9706fb7d4a",
   "metadata": {},
   "outputs": [],
   "source": [
    "mini_slab.visualize()"
   ]
  },
  {
   "cell_type": "code",
   "execution_count": null,
   "id": "160e2f95-015c-4552-bed1-68fae6396869",
   "metadata": {},
   "outputs": [],
   "source": [
    "mini_slab"
   ]
  },
  {
   "cell_type": "code",
   "execution_count": null,
   "id": "118edeef-1e60-4908-8d13-5439981ba405",
   "metadata": {},
   "outputs": [],
   "source": [
    "for i in mini_slab:\n",
    "    print(i.pos)"
   ]
  },
  {
   "cell_type": "code",
   "execution_count": 80,
   "id": "c4fc1e92-dc7a-4856-bcc0-67d8dab81473",
   "metadata": {},
   "outputs": [],
   "source": [
    "unit_cell = mb.Box([0.545027, 0.545027, 0.545027], [90, 90, 90])"
   ]
  },
  {
   "cell_type": "code",
   "execution_count": 81,
   "id": "324593aa-458f-42e2-9b08-3fe2734c3a0d",
   "metadata": {},
   "outputs": [],
   "source": [
    "mini_slab.box = unit_cell"
   ]
  },
  {
   "cell_type": "code",
   "execution_count": 82,
   "id": "90c3e90d-ed9a-4763-bb20-f87b2b709e2d",
   "metadata": {},
   "outputs": [
    {
     "data": {
      "text/plain": [
       "<Compound 46 particles, System box: Box: Lx=0.545027, Ly=0.545027, Lz=0.545027, xy=0.000000, xz=0.000000, yz=0.000000, , 56 bonds, id: 140311922202704>"
      ]
     },
     "execution_count": 82,
     "metadata": {},
     "output_type": "execute_result"
    }
   ],
   "source": [
    "mini_slab"
   ]
  },
  {
   "cell_type": "code",
   "execution_count": 83,
   "id": "4617926e-0d2d-468d-b95b-dd0616be1f15",
   "metadata": {},
   "outputs": [],
   "source": [
    "mini_slab.periodicity=(True,True,True)"
   ]
  },
  {
   "cell_type": "code",
   "execution_count": 58,
   "id": "cb4ad324-a38b-49e2-8a21-e93e666073f9",
   "metadata": {},
   "outputs": [
    {
     "data": {
      "application/3dmoljs_load.v0": "<div id=\"3dmolviewer_16672588369998987\"  style=\"position: relative; width: 640px; height: 480px\">\n        <p id=\"3dmolwarning_16672588369998987\" style=\"background-color:#ffcccc;color:black\">You appear to be running in JupyterLab (or JavaScript failed to load for some other reason).  You need to install the 3dmol extension: <br>\n        <tt>jupyter labextension install jupyterlab_3dmol</tt></p>\n        </div>\n<script>\n\nvar loadScriptAsync = function(uri){\n  return new Promise((resolve, reject) => {\n    var tag = document.createElement('script');\n    tag.src = uri;\n    tag.async = true;\n    tag.onload = () => {\n      resolve();\n    };\n  var firstScriptTag = document.getElementsByTagName('script')[0];\n  firstScriptTag.parentNode.insertBefore(tag, firstScriptTag);\n});\n};\n\nif(typeof $3Dmolpromise === 'undefined') {\n$3Dmolpromise = null;\n  $3Dmolpromise = loadScriptAsync('https://3dmol.org/build/3Dmol.js');\n}\n\nvar viewer_16672588369998987 = null;\nvar warn = document.getElementById(\"3dmolwarning_16672588369998987\");\nif(warn) {\n    warn.parentNode.removeChild(warn);\n}\n$3Dmolpromise.then(function() {\nviewer_16672588369998987 = $3Dmol.createViewer($(\"#3dmolviewer_16672588369998987\"),{backgroundColor:\"white\"});\nviewer_16672588369998987.zoomTo();\n\tviewer_16672588369998987.addModel(\"@<TRIPOS>MOLECULE\\nRES\\n46 56 1 0 1\\nSMALL\\nNO_CHARGES\\n@<TRIPOS>CRYSIN\\n   13.1754    13.1754    13.1754    90.0000    90.0000    90.0000  1  1\\n@<TRIPOS>ATOM\\n       1 ZN           0.0000     0.0000     0.0000 ZN            1 RES     \\n       2 ZN           0.0000     0.0000     5.4503 ZN            1 RES     \\n       3 ZN           0.0000     5.4503     0.0000 ZN            1 RES     \\n       4 ZN           0.0000     5.4503     5.4503 ZN            1 RES     \\n       5 ZN           5.4503     0.0000     0.0000 ZN            1 RES     \\n       6 ZN           5.4503     0.0000     5.4503 ZN            1 RES     \\n       7 ZN           5.4503     5.4503     0.0000 ZN            1 RES     \\n       8 ZN           5.4503     5.4503     5.4503 ZN            1 RES     \\n       9 ZN           0.0000     2.7251     2.7251 ZN            1 RES     \\n      10 ZN           5.4503     2.7251     2.7251 ZN            1 RES     \\n      11 ZN           2.7251     0.0000     2.7251 ZN            1 RES     \\n      12 ZN           2.7251     5.4503     2.7251 ZN            1 RES     \\n      13 ZN           2.7251     2.7251     0.0000 ZN            1 RES     \\n      14 ZN           2.7251     2.7251     5.4503 ZN            1 RES     \\n      15 S            1.3626     1.3626     4.0877 S             1 RES     \\n      16 S            4.0877     4.0877     4.0877 S             1 RES     \\n      17 S            4.0877     1.3626     1.3626 S             1 RES     \\n      18 S            1.3626     4.0877     1.3626 S             1 RES     \\n      19 S           -1.3626    -1.3626    -1.3626 S             1 RES     \\n      20 S           -1.3626     1.3626     1.3626 S             1 RES     \\n      21 S            1.3626    -1.3626     1.3626 S             1 RES     \\n      22 S            1.3626     1.3626    -1.3626 S             1 RES     \\n      23 S           -1.3626    -1.3626     4.0877 S             1 RES     \\n      24 S           -1.3626     1.3626     6.8128 S             1 RES     \\n      25 S            1.3626    -1.3626     6.8128 S             1 RES     \\n      26 S           -1.3626     4.0877    -1.3626 S             1 RES     \\n      27 S           -1.3626     6.8128     1.3626 S             1 RES     \\n      28 S            1.3626     6.8128    -1.3626 S             1 RES     \\n      29 S           -1.3626     4.0877     4.0877 S             1 RES     \\n      30 S           -1.3626     6.8128     6.8128 S             1 RES     \\n      31 S            1.3626     4.0877     6.8128 S             1 RES     \\n      32 S            1.3626     6.8128     4.0877 S             1 RES     \\n      33 S            4.0877    -1.3626    -1.3626 S             1 RES     \\n      34 S            6.8128    -1.3626     1.3626 S             1 RES     \\n      35 S            6.8128     1.3626    -1.3626 S             1 RES     \\n      36 S            4.0877    -1.3626     4.0877 S             1 RES     \\n      37 S            4.0877     1.3626     6.8128 S             1 RES     \\n      38 S            6.8128    -1.3626     6.8128 S             1 RES     \\n      39 S            6.8128     1.3626     4.0877 S             1 RES     \\n      40 S            4.0877     4.0877    -1.3626 S             1 RES     \\n      41 S            4.0877     6.8128     1.3626 S             1 RES     \\n      42 S            6.8128     4.0877     1.3626 S             1 RES     \\n      43 S            6.8128     6.8128    -1.3626 S             1 RES     \\n      44 S            4.0877     6.8128     6.8128 S             1 RES     \\n      45 S            6.8128     4.0877     6.8128 S             1 RES     \\n      46 S            6.8128     6.8128     4.0877 S             1 RES     \\n@<TRIPOS>BOND\\n       1        3       28 1\\n       2       26        3 1\\n       3       27        3 1\\n       4       18        3 1\\n       5       13       18 1\\n       6        9       18 1\\n       7       12       18 1\\n       8        1       19 1\\n       9       22        1 1\\n      10       21        1 1\\n      11       20        1 1\\n      12       13       22 1\\n      13       11       21 1\\n      14        9       20 1\\n      15       40       13 1\\n      16       17       13 1\\n      17        7       40 1\\n      18        5       17 1\\n      19       11       17 1\\n      20       10       17 1\\n      21       43        7 1\\n      22       42        7 1\\n      23       41        7 1\\n      24       10       42 1\\n      25       12       41 1\\n      26        5       35 1\\n      27       33        5 1\\n      28       34        5 1\\n      29       39       10 1\\n      30       16       10 1\\n      31       16       12 1\\n      32       32       12 1\\n      33       15       11 1\\n      34       36       11 1\\n      35       15        9 1\\n      36       29        9 1\\n      37        2       15 1\\n      38       14       15 1\\n      39        6       36 1\\n      40        4       29 1\\n      41        6       39 1\\n      42       14       16 1\\n      43        8       16 1\\n      44        4       32 1\\n      45       23        2 1\\n      46       25        2 1\\n      47       24        2 1\\n      48       31       14 1\\n      49       37       14 1\\n      50       37        6 1\\n      51       38        6 1\\n      52       31        4 1\\n      53       30        4 1\\n      54       46        8 1\\n      55       44        8 1\\n      56       45        8 1\\n@<TRIPOS>SUBSTRUCTURE\\n       1 RES             1 RESIDUE    0 **** ROOT      0\\n\",\"mol2\");\n\tviewer_16672588369998987.setStyle({\"stick\": {\"radius\": 0.2, \"color\": \"grey\"}, \"sphere\": {\"scale\": 0.3, \"colorscheme\": {}}});\n\tviewer_16672588369998987.zoomTo();\nviewer_16672588369998987.render();\n});\n</script>",
      "text/html": [
       "<div id=\"3dmolviewer_16672588369998987\"  style=\"position: relative; width: 640px; height: 480px\">\n",
       "        <p id=\"3dmolwarning_16672588369998987\" style=\"background-color:#ffcccc;color:black\">You appear to be running in JupyterLab (or JavaScript failed to load for some other reason).  You need to install the 3dmol extension: <br>\n",
       "        <tt>jupyter labextension install jupyterlab_3dmol</tt></p>\n",
       "        </div>\n",
       "<script>\n",
       "\n",
       "var loadScriptAsync = function(uri){\n",
       "  return new Promise((resolve, reject) => {\n",
       "    var tag = document.createElement('script');\n",
       "    tag.src = uri;\n",
       "    tag.async = true;\n",
       "    tag.onload = () => {\n",
       "      resolve();\n",
       "    };\n",
       "  var firstScriptTag = document.getElementsByTagName('script')[0];\n",
       "  firstScriptTag.parentNode.insertBefore(tag, firstScriptTag);\n",
       "});\n",
       "};\n",
       "\n",
       "if(typeof $3Dmolpromise === 'undefined') {\n",
       "$3Dmolpromise = null;\n",
       "  $3Dmolpromise = loadScriptAsync('https://3dmol.org/build/3Dmol.js');\n",
       "}\n",
       "\n",
       "var viewer_16672588369998987 = null;\n",
       "var warn = document.getElementById(\"3dmolwarning_16672588369998987\");\n",
       "if(warn) {\n",
       "    warn.parentNode.removeChild(warn);\n",
       "}\n",
       "$3Dmolpromise.then(function() {\n",
       "viewer_16672588369998987 = $3Dmol.createViewer($(\"#3dmolviewer_16672588369998987\"),{backgroundColor:\"white\"});\n",
       "viewer_16672588369998987.zoomTo();\n",
       "\tviewer_16672588369998987.addModel(\"@<TRIPOS>MOLECULE\\nRES\\n46 56 1 0 1\\nSMALL\\nNO_CHARGES\\n@<TRIPOS>CRYSIN\\n   13.1754    13.1754    13.1754    90.0000    90.0000    90.0000  1  1\\n@<TRIPOS>ATOM\\n       1 ZN           0.0000     0.0000     0.0000 ZN            1 RES     \\n       2 ZN           0.0000     0.0000     5.4503 ZN            1 RES     \\n       3 ZN           0.0000     5.4503     0.0000 ZN            1 RES     \\n       4 ZN           0.0000     5.4503     5.4503 ZN            1 RES     \\n       5 ZN           5.4503     0.0000     0.0000 ZN            1 RES     \\n       6 ZN           5.4503     0.0000     5.4503 ZN            1 RES     \\n       7 ZN           5.4503     5.4503     0.0000 ZN            1 RES     \\n       8 ZN           5.4503     5.4503     5.4503 ZN            1 RES     \\n       9 ZN           0.0000     2.7251     2.7251 ZN            1 RES     \\n      10 ZN           5.4503     2.7251     2.7251 ZN            1 RES     \\n      11 ZN           2.7251     0.0000     2.7251 ZN            1 RES     \\n      12 ZN           2.7251     5.4503     2.7251 ZN            1 RES     \\n      13 ZN           2.7251     2.7251     0.0000 ZN            1 RES     \\n      14 ZN           2.7251     2.7251     5.4503 ZN            1 RES     \\n      15 S            1.3626     1.3626     4.0877 S             1 RES     \\n      16 S            4.0877     4.0877     4.0877 S             1 RES     \\n      17 S            4.0877     1.3626     1.3626 S             1 RES     \\n      18 S            1.3626     4.0877     1.3626 S             1 RES     \\n      19 S           -1.3626    -1.3626    -1.3626 S             1 RES     \\n      20 S           -1.3626     1.3626     1.3626 S             1 RES     \\n      21 S            1.3626    -1.3626     1.3626 S             1 RES     \\n      22 S            1.3626     1.3626    -1.3626 S             1 RES     \\n      23 S           -1.3626    -1.3626     4.0877 S             1 RES     \\n      24 S           -1.3626     1.3626     6.8128 S             1 RES     \\n      25 S            1.3626    -1.3626     6.8128 S             1 RES     \\n      26 S           -1.3626     4.0877    -1.3626 S             1 RES     \\n      27 S           -1.3626     6.8128     1.3626 S             1 RES     \\n      28 S            1.3626     6.8128    -1.3626 S             1 RES     \\n      29 S           -1.3626     4.0877     4.0877 S             1 RES     \\n      30 S           -1.3626     6.8128     6.8128 S             1 RES     \\n      31 S            1.3626     4.0877     6.8128 S             1 RES     \\n      32 S            1.3626     6.8128     4.0877 S             1 RES     \\n      33 S            4.0877    -1.3626    -1.3626 S             1 RES     \\n      34 S            6.8128    -1.3626     1.3626 S             1 RES     \\n      35 S            6.8128     1.3626    -1.3626 S             1 RES     \\n      36 S            4.0877    -1.3626     4.0877 S             1 RES     \\n      37 S            4.0877     1.3626     6.8128 S             1 RES     \\n      38 S            6.8128    -1.3626     6.8128 S             1 RES     \\n      39 S            6.8128     1.3626     4.0877 S             1 RES     \\n      40 S            4.0877     4.0877    -1.3626 S             1 RES     \\n      41 S            4.0877     6.8128     1.3626 S             1 RES     \\n      42 S            6.8128     4.0877     1.3626 S             1 RES     \\n      43 S            6.8128     6.8128    -1.3626 S             1 RES     \\n      44 S            4.0877     6.8128     6.8128 S             1 RES     \\n      45 S            6.8128     4.0877     6.8128 S             1 RES     \\n      46 S            6.8128     6.8128     4.0877 S             1 RES     \\n@<TRIPOS>BOND\\n       1        3       28 1\\n       2       26        3 1\\n       3       27        3 1\\n       4       18        3 1\\n       5       13       18 1\\n       6        9       18 1\\n       7       12       18 1\\n       8        1       19 1\\n       9       22        1 1\\n      10       21        1 1\\n      11       20        1 1\\n      12       13       22 1\\n      13       11       21 1\\n      14        9       20 1\\n      15       40       13 1\\n      16       17       13 1\\n      17        7       40 1\\n      18        5       17 1\\n      19       11       17 1\\n      20       10       17 1\\n      21       43        7 1\\n      22       42        7 1\\n      23       41        7 1\\n      24       10       42 1\\n      25       12       41 1\\n      26        5       35 1\\n      27       33        5 1\\n      28       34        5 1\\n      29       39       10 1\\n      30       16       10 1\\n      31       16       12 1\\n      32       32       12 1\\n      33       15       11 1\\n      34       36       11 1\\n      35       15        9 1\\n      36       29        9 1\\n      37        2       15 1\\n      38       14       15 1\\n      39        6       36 1\\n      40        4       29 1\\n      41        6       39 1\\n      42       14       16 1\\n      43        8       16 1\\n      44        4       32 1\\n      45       23        2 1\\n      46       25        2 1\\n      47       24        2 1\\n      48       31       14 1\\n      49       37       14 1\\n      50       37        6 1\\n      51       38        6 1\\n      52       31        4 1\\n      53       30        4 1\\n      54       46        8 1\\n      55       44        8 1\\n      56       45        8 1\\n@<TRIPOS>SUBSTRUCTURE\\n       1 RES             1 RESIDUE    0 **** ROOT      0\\n\",\"mol2\");\n",
       "\tviewer_16672588369998987.setStyle({\"stick\": {\"radius\": 0.2, \"color\": \"grey\"}, \"sphere\": {\"scale\": 0.3, \"colorscheme\": {}}});\n",
       "\tviewer_16672588369998987.zoomTo();\n",
       "viewer_16672588369998987.render();\n",
       "});\n",
       "</script>"
      ]
     },
     "metadata": {},
     "output_type": "display_data"
    },
    {
     "data": {
      "text/plain": [
       "<py3Dmol.view at 0x7f9ce432efd0>"
      ]
     },
     "execution_count": 58,
     "metadata": {},
     "output_type": "execute_result"
    }
   ],
   "source": [
    "mini_slab.visualize()"
   ]
  },
  {
   "cell_type": "code",
   "execution_count": 84,
   "id": "7120436a-a46d-462f-aff9-eda1cba263f2",
   "metadata": {},
   "outputs": [
    {
     "data": {
      "application/3dmoljs_load.v0": "<div id=\"3dmolviewer_16672601986601365\"  style=\"position: relative; width: 640px; height: 480px\">\n        <p id=\"3dmolwarning_16672601986601365\" style=\"background-color:#ffcccc;color:black\">You appear to be running in JupyterLab (or JavaScript failed to load for some other reason).  You need to install the 3dmol extension: <br>\n        <tt>jupyter labextension install jupyterlab_3dmol</tt></p>\n        </div>\n<script>\n\nvar loadScriptAsync = function(uri){\n  return new Promise((resolve, reject) => {\n    var tag = document.createElement('script');\n    tag.src = uri;\n    tag.async = true;\n    tag.onload = () => {\n      resolve();\n    };\n  var firstScriptTag = document.getElementsByTagName('script')[0];\n  firstScriptTag.parentNode.insertBefore(tag, firstScriptTag);\n});\n};\n\nif(typeof $3Dmolpromise === 'undefined') {\n$3Dmolpromise = null;\n  $3Dmolpromise = loadScriptAsync('https://3dmol.org/build/3Dmol.js');\n}\n\nvar viewer_16672601986601365 = null;\nvar warn = document.getElementById(\"3dmolwarning_16672601986601365\");\nif(warn) {\n    warn.parentNode.removeChild(warn);\n}\n$3Dmolpromise.then(function() {\nviewer_16672601986601365 = $3Dmol.createViewer($(\"#3dmolviewer_16672601986601365\"),{backgroundColor:\"white\"});\nviewer_16672601986601365.zoomTo();\n\tviewer_16672601986601365.addModel(\"@<TRIPOS>MOLECULE\\nRES\\n92 112 1 0 1\\nSMALL\\nNO_CHARGES\\n@<TRIPOS>CRYSIN\\n   10.9005     5.4503     5.4503    90.0000    90.0000    90.0000  1  1\\n@<TRIPOS>ATOM\\n       1 ZN           0.0000     0.0000     0.0000 ZN            1 RES     \\n       2 ZN           0.0000     0.0000     5.4503 ZN            1 RES     \\n       3 ZN           0.0000     5.4503     0.0000 ZN            1 RES     \\n       4 ZN           0.0000     5.4503     5.4503 ZN            1 RES     \\n       5 ZN           5.4503     0.0000     0.0000 ZN            1 RES     \\n       6 ZN           5.4503     0.0000     5.4503 ZN            1 RES     \\n       7 ZN           5.4503     5.4503     0.0000 ZN            1 RES     \\n       8 ZN           5.4503     5.4503     5.4503 ZN            1 RES     \\n       9 ZN           0.0000     2.7251     2.7251 ZN            1 RES     \\n      10 ZN           5.4503     2.7251     2.7251 ZN            1 RES     \\n      11 ZN           2.7251     0.0000     2.7251 ZN            1 RES     \\n      12 ZN           2.7251     5.4503     2.7251 ZN            1 RES     \\n      13 ZN           2.7251     2.7251     0.0000 ZN            1 RES     \\n      14 ZN           2.7251     2.7251     5.4503 ZN            1 RES     \\n      15 S            1.3626     1.3626     4.0877 S             1 RES     \\n      16 S            4.0877     4.0877     4.0877 S             1 RES     \\n      17 S            4.0877     1.3626     1.3626 S             1 RES     \\n      18 S            1.3626     4.0877     1.3626 S             1 RES     \\n      19 S           -1.3626    -1.3626    -1.3626 S             1 RES     \\n      20 S           -1.3626     1.3626     1.3626 S             1 RES     \\n      21 S            1.3626    -1.3626     1.3626 S             1 RES     \\n      22 S            1.3626     1.3626    -1.3626 S             1 RES     \\n      23 S           -1.3626    -1.3626     4.0877 S             1 RES     \\n      24 S           -1.3626     1.3626     6.8128 S             1 RES     \\n      25 S            1.3626    -1.3626     6.8128 S             1 RES     \\n      26 S           -1.3626     4.0877    -1.3626 S             1 RES     \\n      27 S           -1.3626     6.8128     1.3626 S             1 RES     \\n      28 S            1.3626     6.8128    -1.3626 S             1 RES     \\n      29 S           -1.3626     4.0877     4.0877 S             1 RES     \\n      30 S           -1.3626     6.8128     6.8128 S             1 RES     \\n      31 S            1.3626     4.0877     6.8128 S             1 RES     \\n      32 S            1.3626     6.8128     4.0877 S             1 RES     \\n      33 S            4.0877    -1.3626    -1.3626 S             1 RES     \\n      34 S            6.8128    -1.3626     1.3626 S             1 RES     \\n      35 S            6.8128     1.3626    -1.3626 S             1 RES     \\n      36 S            4.0877    -1.3626     4.0877 S             1 RES     \\n      37 S            4.0877     1.3626     6.8128 S             1 RES     \\n      38 S            6.8128    -1.3626     6.8128 S             1 RES     \\n      39 S            6.8128     1.3626     4.0877 S             1 RES     \\n      40 S            4.0877     4.0877    -1.3626 S             1 RES     \\n      41 S            4.0877     6.8128     1.3626 S             1 RES     \\n      42 S            6.8128     4.0877     1.3626 S             1 RES     \\n      43 S            6.8128     6.8128    -1.3626 S             1 RES     \\n      44 S            4.0877     6.8128     6.8128 S             1 RES     \\n      45 S            6.8128     4.0877     6.8128 S             1 RES     \\n      46 S            6.8128     6.8128     4.0877 S             1 RES     \\n      47 ZN           5.4503     0.0000     0.0000 ZN            1 RES     \\n      48 ZN           5.4503     0.0000     5.4503 ZN            1 RES     \\n      49 ZN           5.4503     5.4503     0.0000 ZN            1 RES     \\n      50 ZN           5.4503     5.4503     5.4503 ZN            1 RES     \\n      51 ZN          10.9006     0.0000     0.0000 ZN            1 RES     \\n      52 ZN          10.9006     0.0000     5.4503 ZN            1 RES     \\n      53 ZN          10.9006     5.4503     0.0000 ZN            1 RES     \\n      54 ZN          10.9006     5.4503     5.4503 ZN            1 RES     \\n      55 ZN           5.4503     2.7251     2.7251 ZN            1 RES     \\n      56 ZN          10.9006     2.7251     2.7251 ZN            1 RES     \\n      57 ZN           8.1754     0.0000     2.7251 ZN            1 RES     \\n      58 ZN           8.1754     5.4503     2.7251 ZN            1 RES     \\n      59 ZN           8.1754     2.7251     0.0000 ZN            1 RES     \\n      60 ZN           8.1754     2.7251     5.4503 ZN            1 RES     \\n      61 S            6.8129     1.3626     4.0877 S             1 RES     \\n      62 S            9.5380     4.0877     4.0877 S             1 RES     \\n      63 S            9.5380     1.3626     1.3626 S             1 RES     \\n      64 S            6.8129     4.0877     1.3626 S             1 RES     \\n      65 S            4.0877    -1.3626    -1.3626 S             1 RES     \\n      66 S            4.0877     1.3626     1.3626 S             1 RES     \\n      67 S            6.8129    -1.3626     1.3626 S             1 RES     \\n      68 S            6.8129     1.3626    -1.3626 S             1 RES     \\n      69 S            4.0877    -1.3626     4.0877 S             1 RES     \\n      70 S            4.0877     1.3626     6.8128 S             1 RES     \\n      71 S            6.8129    -1.3626     6.8128 S             1 RES     \\n      72 S            4.0877     4.0877    -1.3626 S             1 RES     \\n      73 S            4.0877     6.8128     1.3626 S             1 RES     \\n      74 S            6.8129     6.8128    -1.3626 S             1 RES     \\n      75 S            4.0877     4.0877     4.0877 S             1 RES     \\n      76 S            4.0877     6.8128     6.8128 S             1 RES     \\n      77 S            6.8129     4.0877     6.8128 S             1 RES     \\n      78 S            6.8129     6.8128     4.0877 S             1 RES     \\n      79 S            9.5380    -1.3626    -1.3626 S             1 RES     \\n      80 S           12.2631    -1.3626     1.3626 S             1 RES     \\n      81 S           12.2631     1.3626    -1.3626 S             1 RES     \\n      82 S            9.5380    -1.3626     4.0877 S             1 RES     \\n      83 S            9.5380     1.3626     6.8128 S             1 RES     \\n      84 S           12.2631    -1.3626     6.8128 S             1 RES     \\n      85 S           12.2631     1.3626     4.0877 S             1 RES     \\n      86 S            9.5380     4.0877    -1.3626 S             1 RES     \\n      87 S            9.5380     6.8128     1.3626 S             1 RES     \\n      88 S           12.2631     4.0877     1.3626 S             1 RES     \\n      89 S           12.2631     6.8128    -1.3626 S             1 RES     \\n      90 S            9.5380     6.8128     6.8128 S             1 RES     \\n      91 S           12.2631     4.0877     6.8128 S             1 RES     \\n      92 S           12.2631     6.8128     4.0877 S             1 RES     \\n@<TRIPOS>BOND\\n       1       28        3 1\\n       2       26        3 1\\n       3       27        3 1\\n       4       18        3 1\\n       5       13       18 1\\n       6        9       18 1\\n       7       12       18 1\\n       8       22       13 1\\n       9       40       13 1\\n      10       17       13 1\\n      11       20        9 1\\n      12       15        9 1\\n      13       29        9 1\\n      14       41       12 1\\n      15       16       12 1\\n      16       32       12 1\\n      17       19        1 1\\n      18       22        1 1\\n      19       21        1 1\\n      20       20        1 1\\n      21       11       21 1\\n      22       17       11 1\\n      23       15       11 1\\n      24       36       11 1\\n      25        7       40 1\\n      26        5       17 1\\n      27       10       17 1\\n      28       43        7 1\\n      29       42        7 1\\n      30       41        7 1\\n      31       35        5 1\\n      32       33        5 1\\n      33       34        5 1\\n      34       42       10 1\\n      35       39       10 1\\n      36       16       10 1\\n      37        6       39 1\\n      38       14       16 1\\n      39        8       16 1\\n      40        4       32 1\\n      41        2       15 1\\n      42       14       15 1\\n      43        6       36 1\\n      44        4       29 1\\n      45       23        2 1\\n      46       25        2 1\\n      47       24        2 1\\n      48       31       14 1\\n      49       37       14 1\\n      50       37        6 1\\n      51       38        6 1\\n      52       31        4 1\\n      53       30        4 1\\n      54       46        8 1\\n      55       44        8 1\\n      56       45        8 1\\n      57       74       49 1\\n      58       72       49 1\\n      59       73       49 1\\n      60       64       49 1\\n      61       59       64 1\\n      62       55       64 1\\n      63       58       64 1\\n      64       68       59 1\\n      65       86       59 1\\n      66       63       59 1\\n      67       66       55 1\\n      68       61       55 1\\n      69       75       55 1\\n      70       87       58 1\\n      71       62       58 1\\n      72       78       58 1\\n      73       65       47 1\\n      74       68       47 1\\n      75       67       47 1\\n      76       66       47 1\\n      77       57       67 1\\n      78       63       57 1\\n      79       61       57 1\\n      80       82       57 1\\n      81       53       86 1\\n      82       51       63 1\\n      83       56       63 1\\n      84       89       53 1\\n      85       88       53 1\\n      86       87       53 1\\n      87       81       51 1\\n      88       79       51 1\\n      89       80       51 1\\n      90       88       56 1\\n      91       85       56 1\\n      92       62       56 1\\n      93       52       85 1\\n      94       60       62 1\\n      95       54       62 1\\n      96       50       78 1\\n      97       48       61 1\\n      98       60       61 1\\n      99       52       82 1\\n     100       50       75 1\\n     101       69       48 1\\n     102       71       48 1\\n     103       70       48 1\\n     104       77       60 1\\n     105       83       60 1\\n     106       83       52 1\\n     107       84       52 1\\n     108       77       50 1\\n     109       76       50 1\\n     110       92       54 1\\n     111       90       54 1\\n     112       91       54 1\\n@<TRIPOS>SUBSTRUCTURE\\n       1 RES             1 RESIDUE    0 **** ROOT      0\\n\",\"mol2\");\n\tviewer_16672601986601365.setStyle({\"stick\": {\"radius\": 0.2, \"color\": \"grey\"}, \"sphere\": {\"scale\": 0.3, \"colorscheme\": {}}});\n\tviewer_16672601986601365.zoomTo();\nviewer_16672601986601365.render();\n});\n</script>",
      "text/html": [
       "<div id=\"3dmolviewer_16672601986601365\"  style=\"position: relative; width: 640px; height: 480px\">\n",
       "        <p id=\"3dmolwarning_16672601986601365\" style=\"background-color:#ffcccc;color:black\">You appear to be running in JupyterLab (or JavaScript failed to load for some other reason).  You need to install the 3dmol extension: <br>\n",
       "        <tt>jupyter labextension install jupyterlab_3dmol</tt></p>\n",
       "        </div>\n",
       "<script>\n",
       "\n",
       "var loadScriptAsync = function(uri){\n",
       "  return new Promise((resolve, reject) => {\n",
       "    var tag = document.createElement('script');\n",
       "    tag.src = uri;\n",
       "    tag.async = true;\n",
       "    tag.onload = () => {\n",
       "      resolve();\n",
       "    };\n",
       "  var firstScriptTag = document.getElementsByTagName('script')[0];\n",
       "  firstScriptTag.parentNode.insertBefore(tag, firstScriptTag);\n",
       "});\n",
       "};\n",
       "\n",
       "if(typeof $3Dmolpromise === 'undefined') {\n",
       "$3Dmolpromise = null;\n",
       "  $3Dmolpromise = loadScriptAsync('https://3dmol.org/build/3Dmol.js');\n",
       "}\n",
       "\n",
       "var viewer_16672601986601365 = null;\n",
       "var warn = document.getElementById(\"3dmolwarning_16672601986601365\");\n",
       "if(warn) {\n",
       "    warn.parentNode.removeChild(warn);\n",
       "}\n",
       "$3Dmolpromise.then(function() {\n",
       "viewer_16672601986601365 = $3Dmol.createViewer($(\"#3dmolviewer_16672601986601365\"),{backgroundColor:\"white\"});\n",
       "viewer_16672601986601365.zoomTo();\n",
       "\tviewer_16672601986601365.addModel(\"@<TRIPOS>MOLECULE\\nRES\\n92 112 1 0 1\\nSMALL\\nNO_CHARGES\\n@<TRIPOS>CRYSIN\\n   10.9005     5.4503     5.4503    90.0000    90.0000    90.0000  1  1\\n@<TRIPOS>ATOM\\n       1 ZN           0.0000     0.0000     0.0000 ZN            1 RES     \\n       2 ZN           0.0000     0.0000     5.4503 ZN            1 RES     \\n       3 ZN           0.0000     5.4503     0.0000 ZN            1 RES     \\n       4 ZN           0.0000     5.4503     5.4503 ZN            1 RES     \\n       5 ZN           5.4503     0.0000     0.0000 ZN            1 RES     \\n       6 ZN           5.4503     0.0000     5.4503 ZN            1 RES     \\n       7 ZN           5.4503     5.4503     0.0000 ZN            1 RES     \\n       8 ZN           5.4503     5.4503     5.4503 ZN            1 RES     \\n       9 ZN           0.0000     2.7251     2.7251 ZN            1 RES     \\n      10 ZN           5.4503     2.7251     2.7251 ZN            1 RES     \\n      11 ZN           2.7251     0.0000     2.7251 ZN            1 RES     \\n      12 ZN           2.7251     5.4503     2.7251 ZN            1 RES     \\n      13 ZN           2.7251     2.7251     0.0000 ZN            1 RES     \\n      14 ZN           2.7251     2.7251     5.4503 ZN            1 RES     \\n      15 S            1.3626     1.3626     4.0877 S             1 RES     \\n      16 S            4.0877     4.0877     4.0877 S             1 RES     \\n      17 S            4.0877     1.3626     1.3626 S             1 RES     \\n      18 S            1.3626     4.0877     1.3626 S             1 RES     \\n      19 S           -1.3626    -1.3626    -1.3626 S             1 RES     \\n      20 S           -1.3626     1.3626     1.3626 S             1 RES     \\n      21 S            1.3626    -1.3626     1.3626 S             1 RES     \\n      22 S            1.3626     1.3626    -1.3626 S             1 RES     \\n      23 S           -1.3626    -1.3626     4.0877 S             1 RES     \\n      24 S           -1.3626     1.3626     6.8128 S             1 RES     \\n      25 S            1.3626    -1.3626     6.8128 S             1 RES     \\n      26 S           -1.3626     4.0877    -1.3626 S             1 RES     \\n      27 S           -1.3626     6.8128     1.3626 S             1 RES     \\n      28 S            1.3626     6.8128    -1.3626 S             1 RES     \\n      29 S           -1.3626     4.0877     4.0877 S             1 RES     \\n      30 S           -1.3626     6.8128     6.8128 S             1 RES     \\n      31 S            1.3626     4.0877     6.8128 S             1 RES     \\n      32 S            1.3626     6.8128     4.0877 S             1 RES     \\n      33 S            4.0877    -1.3626    -1.3626 S             1 RES     \\n      34 S            6.8128    -1.3626     1.3626 S             1 RES     \\n      35 S            6.8128     1.3626    -1.3626 S             1 RES     \\n      36 S            4.0877    -1.3626     4.0877 S             1 RES     \\n      37 S            4.0877     1.3626     6.8128 S             1 RES     \\n      38 S            6.8128    -1.3626     6.8128 S             1 RES     \\n      39 S            6.8128     1.3626     4.0877 S             1 RES     \\n      40 S            4.0877     4.0877    -1.3626 S             1 RES     \\n      41 S            4.0877     6.8128     1.3626 S             1 RES     \\n      42 S            6.8128     4.0877     1.3626 S             1 RES     \\n      43 S            6.8128     6.8128    -1.3626 S             1 RES     \\n      44 S            4.0877     6.8128     6.8128 S             1 RES     \\n      45 S            6.8128     4.0877     6.8128 S             1 RES     \\n      46 S            6.8128     6.8128     4.0877 S             1 RES     \\n      47 ZN           5.4503     0.0000     0.0000 ZN            1 RES     \\n      48 ZN           5.4503     0.0000     5.4503 ZN            1 RES     \\n      49 ZN           5.4503     5.4503     0.0000 ZN            1 RES     \\n      50 ZN           5.4503     5.4503     5.4503 ZN            1 RES     \\n      51 ZN          10.9006     0.0000     0.0000 ZN            1 RES     \\n      52 ZN          10.9006     0.0000     5.4503 ZN            1 RES     \\n      53 ZN          10.9006     5.4503     0.0000 ZN            1 RES     \\n      54 ZN          10.9006     5.4503     5.4503 ZN            1 RES     \\n      55 ZN           5.4503     2.7251     2.7251 ZN            1 RES     \\n      56 ZN          10.9006     2.7251     2.7251 ZN            1 RES     \\n      57 ZN           8.1754     0.0000     2.7251 ZN            1 RES     \\n      58 ZN           8.1754     5.4503     2.7251 ZN            1 RES     \\n      59 ZN           8.1754     2.7251     0.0000 ZN            1 RES     \\n      60 ZN           8.1754     2.7251     5.4503 ZN            1 RES     \\n      61 S            6.8129     1.3626     4.0877 S             1 RES     \\n      62 S            9.5380     4.0877     4.0877 S             1 RES     \\n      63 S            9.5380     1.3626     1.3626 S             1 RES     \\n      64 S            6.8129     4.0877     1.3626 S             1 RES     \\n      65 S            4.0877    -1.3626    -1.3626 S             1 RES     \\n      66 S            4.0877     1.3626     1.3626 S             1 RES     \\n      67 S            6.8129    -1.3626     1.3626 S             1 RES     \\n      68 S            6.8129     1.3626    -1.3626 S             1 RES     \\n      69 S            4.0877    -1.3626     4.0877 S             1 RES     \\n      70 S            4.0877     1.3626     6.8128 S             1 RES     \\n      71 S            6.8129    -1.3626     6.8128 S             1 RES     \\n      72 S            4.0877     4.0877    -1.3626 S             1 RES     \\n      73 S            4.0877     6.8128     1.3626 S             1 RES     \\n      74 S            6.8129     6.8128    -1.3626 S             1 RES     \\n      75 S            4.0877     4.0877     4.0877 S             1 RES     \\n      76 S            4.0877     6.8128     6.8128 S             1 RES     \\n      77 S            6.8129     4.0877     6.8128 S             1 RES     \\n      78 S            6.8129     6.8128     4.0877 S             1 RES     \\n      79 S            9.5380    -1.3626    -1.3626 S             1 RES     \\n      80 S           12.2631    -1.3626     1.3626 S             1 RES     \\n      81 S           12.2631     1.3626    -1.3626 S             1 RES     \\n      82 S            9.5380    -1.3626     4.0877 S             1 RES     \\n      83 S            9.5380     1.3626     6.8128 S             1 RES     \\n      84 S           12.2631    -1.3626     6.8128 S             1 RES     \\n      85 S           12.2631     1.3626     4.0877 S             1 RES     \\n      86 S            9.5380     4.0877    -1.3626 S             1 RES     \\n      87 S            9.5380     6.8128     1.3626 S             1 RES     \\n      88 S           12.2631     4.0877     1.3626 S             1 RES     \\n      89 S           12.2631     6.8128    -1.3626 S             1 RES     \\n      90 S            9.5380     6.8128     6.8128 S             1 RES     \\n      91 S           12.2631     4.0877     6.8128 S             1 RES     \\n      92 S           12.2631     6.8128     4.0877 S             1 RES     \\n@<TRIPOS>BOND\\n       1       28        3 1\\n       2       26        3 1\\n       3       27        3 1\\n       4       18        3 1\\n       5       13       18 1\\n       6        9       18 1\\n       7       12       18 1\\n       8       22       13 1\\n       9       40       13 1\\n      10       17       13 1\\n      11       20        9 1\\n      12       15        9 1\\n      13       29        9 1\\n      14       41       12 1\\n      15       16       12 1\\n      16       32       12 1\\n      17       19        1 1\\n      18       22        1 1\\n      19       21        1 1\\n      20       20        1 1\\n      21       11       21 1\\n      22       17       11 1\\n      23       15       11 1\\n      24       36       11 1\\n      25        7       40 1\\n      26        5       17 1\\n      27       10       17 1\\n      28       43        7 1\\n      29       42        7 1\\n      30       41        7 1\\n      31       35        5 1\\n      32       33        5 1\\n      33       34        5 1\\n      34       42       10 1\\n      35       39       10 1\\n      36       16       10 1\\n      37        6       39 1\\n      38       14       16 1\\n      39        8       16 1\\n      40        4       32 1\\n      41        2       15 1\\n      42       14       15 1\\n      43        6       36 1\\n      44        4       29 1\\n      45       23        2 1\\n      46       25        2 1\\n      47       24        2 1\\n      48       31       14 1\\n      49       37       14 1\\n      50       37        6 1\\n      51       38        6 1\\n      52       31        4 1\\n      53       30        4 1\\n      54       46        8 1\\n      55       44        8 1\\n      56       45        8 1\\n      57       74       49 1\\n      58       72       49 1\\n      59       73       49 1\\n      60       64       49 1\\n      61       59       64 1\\n      62       55       64 1\\n      63       58       64 1\\n      64       68       59 1\\n      65       86       59 1\\n      66       63       59 1\\n      67       66       55 1\\n      68       61       55 1\\n      69       75       55 1\\n      70       87       58 1\\n      71       62       58 1\\n      72       78       58 1\\n      73       65       47 1\\n      74       68       47 1\\n      75       67       47 1\\n      76       66       47 1\\n      77       57       67 1\\n      78       63       57 1\\n      79       61       57 1\\n      80       82       57 1\\n      81       53       86 1\\n      82       51       63 1\\n      83       56       63 1\\n      84       89       53 1\\n      85       88       53 1\\n      86       87       53 1\\n      87       81       51 1\\n      88       79       51 1\\n      89       80       51 1\\n      90       88       56 1\\n      91       85       56 1\\n      92       62       56 1\\n      93       52       85 1\\n      94       60       62 1\\n      95       54       62 1\\n      96       50       78 1\\n      97       48       61 1\\n      98       60       61 1\\n      99       52       82 1\\n     100       50       75 1\\n     101       69       48 1\\n     102       71       48 1\\n     103       70       48 1\\n     104       77       60 1\\n     105       83       60 1\\n     106       83       52 1\\n     107       84       52 1\\n     108       77       50 1\\n     109       76       50 1\\n     110       92       54 1\\n     111       90       54 1\\n     112       91       54 1\\n@<TRIPOS>SUBSTRUCTURE\\n       1 RES             1 RESIDUE    0 **** ROOT      0\\n\",\"mol2\");\n",
       "\tviewer_16672601986601365.setStyle({\"stick\": {\"radius\": 0.2, \"color\": \"grey\"}, \"sphere\": {\"scale\": 0.3, \"colorscheme\": {}}});\n",
       "\tviewer_16672601986601365.zoomTo();\n",
       "viewer_16672601986601365.render();\n",
       "});\n",
       "</script>"
      ]
     },
     "metadata": {},
     "output_type": "display_data"
    },
    {
     "data": {
      "text/plain": [
       "<py3Dmol.view at 0x7f9ce2425a30>"
      ]
     },
     "execution_count": 84,
     "metadata": {},
     "output_type": "execute_result"
    }
   ],
   "source": [
    "mini_tiles = TiledCompound(mini_slab, (2,1,1))\n",
    "mini_tiles.visualize()"
   ]
  },
  {
   "cell_type": "code",
   "execution_count": 85,
   "id": "fb73cfee-02e3-445f-bbf8-562ab1f1964b",
   "metadata": {},
   "outputs": [
    {
     "data": {
      "text/plain": [
       "<Compound2-1-1 92 particles, System box: Box: Lx=1.090054, Ly=0.545027, Lz=0.545027, xy=0.000000, xz=0.000000, yz=0.000000, , 112 bonds, id: 140311789801536>"
      ]
     },
     "execution_count": 85,
     "metadata": {},
     "output_type": "execute_result"
    }
   ],
   "source": [
    "mini_tiles"
   ]
  },
  {
   "cell_type": "code",
   "execution_count": 65,
   "id": "9faee13d-318c-4301-9891-17ce060e0487",
   "metadata": {},
   "outputs": [
    {
     "data": {
      "text/plain": [
       "array([0., 0., 0.])"
      ]
     },
     "execution_count": 65,
     "metadata": {},
     "output_type": "execute_result"
    }
   ],
   "source": [
    "mini_tiles[0].pos"
   ]
  },
  {
   "cell_type": "code",
   "execution_count": 75,
   "id": "ae09a94b-a735-4dec-bf69-35fbcdcab1c7",
   "metadata": {},
   "outputs": [
    {
     "data": {
      "text/plain": [
       "[0.0, 0.0, 0.0]"
      ]
     },
     "execution_count": 75,
     "metadata": {},
     "output_type": "execute_result"
    }
   ],
   "source": [
    "pos1 = [round(p,2) for p in mini_tiles[0].pos]\n",
    "pos1"
   ]
  },
  {
   "cell_type": "code",
   "execution_count": 90,
   "id": "caddc329-3cfe-4d76-8926-ab0df2ffdedd",
   "metadata": {},
   "outputs": [
    {
     "name": "stdout",
     "output_type": "stream",
     "text": [
      "4 46 [0.54503 0.      0.     ]\n",
      "5 47 [0.54503 0.      0.54503]\n",
      "6 48 [0.54503 0.54503 0.     ]\n",
      "7 49 [0.54503 0.54503 0.54503]\n",
      "9 54 [0.54503    0.27250999 0.27250999]\n",
      "15 74 [0.40876999 0.40876999 0.40876999]\n",
      "16 65 [0.40876999 0.13626    0.13626   ]\n",
      "32 64 [ 0.40876999 -0.13626    -0.13626   ]\n",
      "33 66 [ 0.68128002 -0.13626     0.13626   ]\n",
      "34 67 [ 0.68128002  0.13626    -0.13626   ]\n",
      "35 68 [ 0.40876999 -0.13626     0.40876999]\n",
      "36 69 [0.40876999 0.13626    0.68128002]\n",
      "37 70 [ 0.68128002 -0.13626     0.68128002]\n",
      "38 60 [0.68128002 0.13626    0.40876999]\n",
      "39 71 [ 0.40876999  0.40876999 -0.13626   ]\n",
      "40 72 [0.40876999 0.68128002 0.13626   ]\n",
      "41 63 [0.68128002 0.40876999 0.13626   ]\n",
      "42 73 [ 0.68128002  0.68128002 -0.13626   ]\n",
      "43 75 [0.40876999 0.68128002 0.68128002]\n",
      "44 76 [0.68128002 0.40876999 0.68128002]\n",
      "45 77 [0.68128002 0.68128002 0.40876999]\n"
     ]
    }
   ],
   "source": [
    "matches = []\n",
    "for i,part1 in enumerate(mini_tiles):\n",
    "    pos1 = [round(p,1) for p in part1.pos]\n",
    "    for j,part2 in enumerate(mini_tiles):\n",
    "        pos2 = [round(p,1) for p in part2.pos]\n",
    "        if j != i and (part1,part2) not in matches and (part2,part1) not in matches:\n",
    "            if pos1 == pos2:\n",
    "                print(i,j, part1.pos)\n",
    "                matches.append([part1,part2))"
   ]
  },
  {
   "cell_type": "code",
   "execution_count": 93,
   "id": "071dfd43-257b-4355-b10d-bb6fa979d0d5",
   "metadata": {},
   "outputs": [],
   "source": [
    "for match in matches:\n",
    "    mini_tiles.remove(match[1])"
   ]
  },
  {
   "cell_type": "code",
   "execution_count": 94,
   "id": "2cc8f3ed-2619-478d-be02-d74d55f27294",
   "metadata": {},
   "outputs": [
    {
     "data": {
      "text/plain": [
       "<Compound2-1-1 71 particles, System box: Box: Lx=1.090054, Ly=0.545027, Lz=0.545027, xy=0.000000, xz=0.000000, yz=0.000000, , 84 bonds, id: 140311789801536>"
      ]
     },
     "execution_count": 94,
     "metadata": {},
     "output_type": "execute_result"
    }
   ],
   "source": [
    "mini_tiles"
   ]
  },
  {
   "cell_type": "code",
   "execution_count": 95,
   "id": "efe99611-3e37-4488-8b38-0e640ac85dbd",
   "metadata": {},
   "outputs": [
    {
     "data": {
      "application/3dmoljs_load.v0": "<div id=\"3dmolviewer_16672604447720208\"  style=\"position: relative; width: 640px; height: 480px\">\n        <p id=\"3dmolwarning_16672604447720208\" style=\"background-color:#ffcccc;color:black\">You appear to be running in JupyterLab (or JavaScript failed to load for some other reason).  You need to install the 3dmol extension: <br>\n        <tt>jupyter labextension install jupyterlab_3dmol</tt></p>\n        </div>\n<script>\n\nvar loadScriptAsync = function(uri){\n  return new Promise((resolve, reject) => {\n    var tag = document.createElement('script');\n    tag.src = uri;\n    tag.async = true;\n    tag.onload = () => {\n      resolve();\n    };\n  var firstScriptTag = document.getElementsByTagName('script')[0];\n  firstScriptTag.parentNode.insertBefore(tag, firstScriptTag);\n});\n};\n\nif(typeof $3Dmolpromise === 'undefined') {\n$3Dmolpromise = null;\n  $3Dmolpromise = loadScriptAsync('https://3dmol.org/build/3Dmol.js');\n}\n\nvar viewer_16672604447720208 = null;\nvar warn = document.getElementById(\"3dmolwarning_16672604447720208\");\nif(warn) {\n    warn.parentNode.removeChild(warn);\n}\n$3Dmolpromise.then(function() {\nviewer_16672604447720208 = $3Dmol.createViewer($(\"#3dmolviewer_16672604447720208\"),{backgroundColor:\"white\"});\nviewer_16672604447720208.zoomTo();\n\tviewer_16672604447720208.addModel(\"@<TRIPOS>MOLECULE\\nRES\\n135 84 2 0 1\\nBIOPOLYMER\\nNO_CHARGES\\n@<TRIPOS>CRYSIN\\n   10.9005     5.4503     5.4503    90.0000    90.0000    90.0000  1  1\\n@<TRIPOS>ATOM\\n       1 ZN           0.0000     0.0000     0.0000 ZN            1 RES     \\n       2 ZN           0.0000     0.0000     5.4503 ZN            1 RES     \\n       3 ZN           0.0000     5.4503     0.0000 ZN            1 RES     \\n       4 ZN           0.0000     5.4503     5.4503 ZN            1 RES     \\n       5 ZN           5.4503     0.0000     0.0000 ZN            1 RES     \\n       6 ZN           5.4503     0.0000     5.4503 ZN            1 RES     \\n       7 ZN           5.4503     5.4503     0.0000 ZN            1 RES     \\n       8 ZN           5.4503     5.4503     5.4503 ZN            1 RES     \\n       9 ZN           0.0000     2.7251     2.7251 ZN            1 RES     \\n      10 ZN           5.4503     2.7251     2.7251 ZN            1 RES     \\n      11 ZN           2.7251     0.0000     2.7251 ZN            1 RES     \\n      12 ZN           2.7251     5.4503     2.7251 ZN            1 RES     \\n      13 ZN           2.7251     2.7251     0.0000 ZN            1 RES     \\n      14 ZN           2.7251     2.7251     5.4503 ZN            1 RES     \\n      15 S            1.3626     1.3626     4.0877 S             1 RES     \\n      16 S            4.0877     4.0877     4.0877 S             1 RES     \\n      17 S            4.0877     1.3626     1.3626 S             1 RES     \\n      18 S            1.3626     4.0877     1.3626 S             1 RES     \\n      19 S           -1.3626    -1.3626    -1.3626 S             1 RES     \\n      20 S           -1.3626     1.3626     1.3626 S             1 RES     \\n      21 S            1.3626    -1.3626     1.3626 S             1 RES     \\n      22 S            1.3626     1.3626    -1.3626 S             1 RES     \\n      23 S           -1.3626    -1.3626     4.0877 S             1 RES     \\n      24 S           -1.3626     1.3626     6.8128 S             1 RES     \\n      25 S            1.3626    -1.3626     6.8128 S             1 RES     \\n      26 S           -1.3626     4.0877    -1.3626 S             1 RES     \\n      27 S           -1.3626     6.8128     1.3626 S             1 RES     \\n      28 S            1.3626     6.8128    -1.3626 S             1 RES     \\n      29 S           -1.3626     4.0877     4.0877 S             1 RES     \\n      30 S           -1.3626     6.8128     6.8128 S             1 RES     \\n      31 S            1.3626     4.0877     6.8128 S             1 RES     \\n      32 S            1.3626     6.8128     4.0877 S             1 RES     \\n      33 S            4.0877    -1.3626    -1.3626 S             1 RES     \\n      34 S            6.8128    -1.3626     1.3626 S             1 RES     \\n      35 S            6.8128     1.3626    -1.3626 S             1 RES     \\n      36 S            4.0877    -1.3626     4.0877 S             1 RES     \\n      37 S            4.0877     1.3626     6.8128 S             1 RES     \\n      38 S            6.8128    -1.3626     6.8128 S             1 RES     \\n      39 S            6.8128     1.3626     4.0877 S             1 RES     \\n      40 S            4.0877     4.0877    -1.3626 S             1 RES     \\n      41 S            4.0877     6.8128     1.3626 S             1 RES     \\n      42 S            6.8128     4.0877     1.3626 S             1 RES     \\n      43 S            6.8128     6.8128    -1.3626 S             1 RES     \\n      44 S            4.0877     6.8128     6.8128 S             1 RES     \\n      45 S            6.8128     4.0877     6.8128 S             1 RES     \\n      46 S            6.8128     6.8128     4.0877 S             1 RES     \\n      47 ZN          10.9006     0.0000     0.0000 ZN            1 RES     \\n      48 ZN          10.9006     0.0000     5.4503 ZN            1 RES     \\n      49 ZN          10.9006     5.4503     0.0000 ZN            1 RES     \\n      50 ZN          10.9006     5.4503     5.4503 ZN            1 RES     \\n      51 ZN          10.9006     2.7251     2.7251 ZN            1 RES     \\n      52 ZN           8.1754     0.0000     2.7251 ZN            1 RES     \\n      53 ZN           8.1754     5.4503     2.7251 ZN            1 RES     \\n      54 ZN           8.1754     2.7251     0.0000 ZN            1 RES     \\n      55 ZN           8.1754     2.7251     5.4503 ZN            1 RES     \\n      56 S            9.5380     4.0877     4.0877 S             1 RES     \\n      57 S            9.5380     1.3626     1.3626 S             1 RES     \\n      58 S            9.5380    -1.3626    -1.3626 S             1 RES     \\n      59 S           12.2631    -1.3626     1.3626 S             1 RES     \\n      60 S           12.2631     1.3626    -1.3626 S             1 RES     \\n      61 S            9.5380    -1.3626     4.0877 S             1 RES     \\n      62 S            9.5380     1.3626     6.8128 S             1 RES     \\n      63 S           12.2631    -1.3626     6.8128 S             1 RES     \\n      64 S           12.2631     1.3626     4.0877 S             1 RES     \\n      65 S            9.5380     4.0877    -1.3626 S             1 RES     \\n      66 S            9.5380     6.8128     1.3626 S             1 RES     \\n      67 S           12.2631     4.0877     1.3626 S             1 RES     \\n      68 S           12.2631     6.8128    -1.3626 S             1 RES     \\n      69 S            9.5380     6.8128     6.8128 S             1 RES     \\n      70 S           12.2631     4.0877     6.8128 S             1 RES     \\n      71 S           12.2631     6.8128     4.0877 S             1 RES     \\n      72 VS           7.5100    -0.6813     1.9847 VS            2 PRT     \\n      73 VS           7.3945    -0.7968     1.8692 VS            2 PRT     \\n      74 VS           7.5254    -0.7390     2.2002 VS            2 PRT     \\n      75 VS           7.5466    -0.5081     2.1213 VS            2 PRT     \\n      76 VS           7.5533    -0.6813     2.0280 VS            2 PRT     \\n      77 VS           7.6687    -0.5658     2.1435 VS            2 PRT     \\n      78 VS           7.3378    -0.6236     2.0125 VS            2 PRT     \\n      79 VS           7.4167    -0.8545     1.9914 VS            2 PRT     \\n      80 VS           7.5100     2.0438    -0.7404 VS            2 PRT     \\n      81 VS           7.3945     1.9284    -0.8559 VS            2 PRT     \\n      82 VS           7.5254     1.9861    -0.5250 VS            2 PRT     \\n      83 VS           7.5466     2.2171    -0.6038 VS            2 PRT     \\n      84 VS           7.5533     2.0439    -0.6971 VS            2 PRT     \\n      85 VS           7.6687     2.1593    -0.5817 VS            2 PRT     \\n      86 VS           7.3378     2.1016    -0.7126 VS            2 PRT     \\n      87 VS           7.4167     1.8706    -0.7338 VS            2 PRT     \\n      88 VS           7.5138     0.7390     3.4117 VS            2 PRT     \\n      89 VS           7.3984     0.8545     3.5272 VS            2 PRT     \\n      90 VS           7.4138     0.5658     3.3117 VS            2 PRT     \\n      91 VS           7.6504     0.5658     3.3751 VS            2 PRT     \\n      92 VS           7.4994     0.6236     3.4261 VS            2 PRT     \\n      93 VS           7.6149     0.5081     3.3106 VS            2 PRT     \\n      94 VS           7.3994     0.7968     3.3261 VS            2 PRT     \\n      95 VS           7.4628     0.7968     3.5627 VS            2 PRT     \\n      96 VS           7.5100     2.0438     4.7099 VS            2 PRT     \\n      97 VS           7.3945     1.9284     4.5944 VS            2 PRT     \\n      98 VS           7.5254     1.9861     4.9253 VS            2 PRT     \\n      99 VS           7.5466     2.2171     4.8465 VS            2 PRT     \\n     100 VS           7.5533     2.0439     4.7532 VS            2 PRT     \\n     101 VS           7.6687     2.1593     4.8686 VS            2 PRT     \\n     102 VS           7.3378     2.1016     4.7377 VS            2 PRT     \\n     103 VS           7.4167     1.8706     4.7165 VS            2 PRT     \\n     104 VS           7.5138     3.4641     0.6866 VS            2 PRT     \\n     105 VS           7.3984     3.5796     0.8021 VS            2 PRT     \\n     106 VS           7.4138     3.2909     0.5866 VS            2 PRT     \\n     107 VS           7.6504     3.2909     0.6500 VS            2 PRT     \\n     108 VS           7.4994     3.3487     0.7010 VS            2 PRT     \\n     109 VS           7.6149     3.2332     0.5855 VS            2 PRT     \\n     110 VS           7.3994     3.5219     0.6010 VS            2 PRT     \\n     111 VS           7.4628     3.5219     0.8376 VS            2 PRT     \\n     112 VS           7.5100     4.7690     1.9847 VS            2 PRT     \\n     113 VS           7.3945     4.6535     1.8692 VS            2 PRT     \\n     114 VS           7.5254     4.7113     2.2002 VS            2 PRT     \\n     115 VS           7.5466     4.9422     2.1213 VS            2 PRT     \\n     116 VS           7.5533     4.7690     2.0280 VS            2 PRT     \\n     117 VS           7.6687     4.8845     2.1435 VS            2 PRT     \\n     118 VS           7.3378     4.8267     2.0125 VS            2 PRT     \\n     119 VS           7.4167     4.5958     1.9914 VS            2 PRT     \\n     120 VS           7.5138     3.4641     6.1368 VS            2 PRT     \\n     121 VS           7.3984     3.5796     6.2523 VS            2 PRT     \\n     122 VS           7.4138     3.2909     6.0368 VS            2 PRT     \\n     123 VS           7.6504     3.2909     6.1002 VS            2 PRT     \\n     124 VS           7.4994     3.3487     6.1513 VS            2 PRT     \\n     125 VS           7.6149     3.2332     6.0358 VS            2 PRT     \\n     126 VS           7.3994     3.5219     6.0513 VS            2 PRT     \\n     127 VS           7.4628     3.5219     6.2879 VS            2 PRT     \\n     128 VS           7.5138     6.1893     3.4117 VS            2 PRT     \\n     129 VS           7.3984     6.3048     3.5272 VS            2 PRT     \\n     130 VS           7.4138     6.0161     3.3117 VS            2 PRT     \\n     131 VS           7.6504     6.0161     3.3751 VS            2 PRT     \\n     132 VS           7.4994     6.0738     3.4261 VS            2 PRT     \\n     133 VS           7.6149     5.9583     3.3106 VS            2 PRT     \\n     134 VS           7.3994     6.2470     3.3261 VS            2 PRT     \\n     135 VS           7.4628     6.2470     3.5627 VS            2 PRT     \\n@<TRIPOS>BOND\\n       1       28        3 1\\n       2       26        3 1\\n       3       27        3 1\\n       4       18        3 1\\n       5       13       18 1\\n       6        9       18 1\\n       7       12       18 1\\n       8       22       13 1\\n       9       40       13 1\\n      10       17       13 1\\n      11       20        9 1\\n      12       15        9 1\\n      13       29        9 1\\n      14       41       12 1\\n      15       16       12 1\\n      16       32       12 1\\n      17       19        1 1\\n      18       22        1 1\\n      19       21        1 1\\n      20       20        1 1\\n      21       11       21 1\\n      22       17       11 1\\n      23       15       11 1\\n      24       36       11 1\\n      25        7       40 1\\n      26        5       17 1\\n      27       10       17 1\\n      28       43        7 1\\n      29       42        7 1\\n      30       41        7 1\\n      31       35        5 1\\n      32       33        5 1\\n      33       34        5 1\\n      34       42       10 1\\n      35       39       10 1\\n      36       16       10 1\\n      37        6       39 1\\n      38       14       16 1\\n      39        8       16 1\\n      40        4       32 1\\n      41        2       15 1\\n      42       14       15 1\\n      43        6       36 1\\n      44        4       29 1\\n      45       23        2 1\\n      46       25        2 1\\n      47       24        2 1\\n      48       31       14 1\\n      49       37       14 1\\n      50       37        6 1\\n      51       38        6 1\\n      52       31        4 1\\n      53       30        4 1\\n      54       46        8 1\\n      55       44        8 1\\n      56       45        8 1\\n      57       54       65 1\\n      58       49       65 1\\n      59       57       54 1\\n      60       47       57 1\\n      61       52       57 1\\n      62       51       57 1\\n      63       68       49 1\\n      64       67       49 1\\n      65       66       49 1\\n      66       60       47 1\\n      67       58       47 1\\n      68       59       47 1\\n      69       61       52 1\\n      70       67       51 1\\n      71       64       51 1\\n      72       56       51 1\\n      73       53       66 1\\n      74       56       53 1\\n      75       48       64 1\\n      76       55       56 1\\n      77       50       56 1\\n      78       48       61 1\\n      79       62       48 1\\n      80       63       48 1\\n      81       62       55 1\\n      82       71       50 1\\n      83       69       50 1\\n      84       70       50 1\\n@<TRIPOS>SUBSTRUCTURE\\n       1 RES             1 RESIDUE    0 **** ROOT      0\\n       2 PRT            72 RESIDUE    0 **** ROOT      0\\n\",\"mol2\");\n\tviewer_16672604447720208.setStyle({\"stick\": {\"radius\": 0.2, \"color\": \"grey\"}, \"sphere\": {\"scale\": 0.3, \"colorscheme\": {}}});\n\tviewer_16672604447720208.zoomTo();\nviewer_16672604447720208.render();\n});\n</script>",
      "text/html": [
       "<div id=\"3dmolviewer_16672604447720208\"  style=\"position: relative; width: 640px; height: 480px\">\n",
       "        <p id=\"3dmolwarning_16672604447720208\" style=\"background-color:#ffcccc;color:black\">You appear to be running in JupyterLab (or JavaScript failed to load for some other reason).  You need to install the 3dmol extension: <br>\n",
       "        <tt>jupyter labextension install jupyterlab_3dmol</tt></p>\n",
       "        </div>\n",
       "<script>\n",
       "\n",
       "var loadScriptAsync = function(uri){\n",
       "  return new Promise((resolve, reject) => {\n",
       "    var tag = document.createElement('script');\n",
       "    tag.src = uri;\n",
       "    tag.async = true;\n",
       "    tag.onload = () => {\n",
       "      resolve();\n",
       "    };\n",
       "  var firstScriptTag = document.getElementsByTagName('script')[0];\n",
       "  firstScriptTag.parentNode.insertBefore(tag, firstScriptTag);\n",
       "});\n",
       "};\n",
       "\n",
       "if(typeof $3Dmolpromise === 'undefined') {\n",
       "$3Dmolpromise = null;\n",
       "  $3Dmolpromise = loadScriptAsync('https://3dmol.org/build/3Dmol.js');\n",
       "}\n",
       "\n",
       "var viewer_16672604447720208 = null;\n",
       "var warn = document.getElementById(\"3dmolwarning_16672604447720208\");\n",
       "if(warn) {\n",
       "    warn.parentNode.removeChild(warn);\n",
       "}\n",
       "$3Dmolpromise.then(function() {\n",
       "viewer_16672604447720208 = $3Dmol.createViewer($(\"#3dmolviewer_16672604447720208\"),{backgroundColor:\"white\"});\n",
       "viewer_16672604447720208.zoomTo();\n",
       "\tviewer_16672604447720208.addModel(\"@<TRIPOS>MOLECULE\\nRES\\n135 84 2 0 1\\nBIOPOLYMER\\nNO_CHARGES\\n@<TRIPOS>CRYSIN\\n   10.9005     5.4503     5.4503    90.0000    90.0000    90.0000  1  1\\n@<TRIPOS>ATOM\\n       1 ZN           0.0000     0.0000     0.0000 ZN            1 RES     \\n       2 ZN           0.0000     0.0000     5.4503 ZN            1 RES     \\n       3 ZN           0.0000     5.4503     0.0000 ZN            1 RES     \\n       4 ZN           0.0000     5.4503     5.4503 ZN            1 RES     \\n       5 ZN           5.4503     0.0000     0.0000 ZN            1 RES     \\n       6 ZN           5.4503     0.0000     5.4503 ZN            1 RES     \\n       7 ZN           5.4503     5.4503     0.0000 ZN            1 RES     \\n       8 ZN           5.4503     5.4503     5.4503 ZN            1 RES     \\n       9 ZN           0.0000     2.7251     2.7251 ZN            1 RES     \\n      10 ZN           5.4503     2.7251     2.7251 ZN            1 RES     \\n      11 ZN           2.7251     0.0000     2.7251 ZN            1 RES     \\n      12 ZN           2.7251     5.4503     2.7251 ZN            1 RES     \\n      13 ZN           2.7251     2.7251     0.0000 ZN            1 RES     \\n      14 ZN           2.7251     2.7251     5.4503 ZN            1 RES     \\n      15 S            1.3626     1.3626     4.0877 S             1 RES     \\n      16 S            4.0877     4.0877     4.0877 S             1 RES     \\n      17 S            4.0877     1.3626     1.3626 S             1 RES     \\n      18 S            1.3626     4.0877     1.3626 S             1 RES     \\n      19 S           -1.3626    -1.3626    -1.3626 S             1 RES     \\n      20 S           -1.3626     1.3626     1.3626 S             1 RES     \\n      21 S            1.3626    -1.3626     1.3626 S             1 RES     \\n      22 S            1.3626     1.3626    -1.3626 S             1 RES     \\n      23 S           -1.3626    -1.3626     4.0877 S             1 RES     \\n      24 S           -1.3626     1.3626     6.8128 S             1 RES     \\n      25 S            1.3626    -1.3626     6.8128 S             1 RES     \\n      26 S           -1.3626     4.0877    -1.3626 S             1 RES     \\n      27 S           -1.3626     6.8128     1.3626 S             1 RES     \\n      28 S            1.3626     6.8128    -1.3626 S             1 RES     \\n      29 S           -1.3626     4.0877     4.0877 S             1 RES     \\n      30 S           -1.3626     6.8128     6.8128 S             1 RES     \\n      31 S            1.3626     4.0877     6.8128 S             1 RES     \\n      32 S            1.3626     6.8128     4.0877 S             1 RES     \\n      33 S            4.0877    -1.3626    -1.3626 S             1 RES     \\n      34 S            6.8128    -1.3626     1.3626 S             1 RES     \\n      35 S            6.8128     1.3626    -1.3626 S             1 RES     \\n      36 S            4.0877    -1.3626     4.0877 S             1 RES     \\n      37 S            4.0877     1.3626     6.8128 S             1 RES     \\n      38 S            6.8128    -1.3626     6.8128 S             1 RES     \\n      39 S            6.8128     1.3626     4.0877 S             1 RES     \\n      40 S            4.0877     4.0877    -1.3626 S             1 RES     \\n      41 S            4.0877     6.8128     1.3626 S             1 RES     \\n      42 S            6.8128     4.0877     1.3626 S             1 RES     \\n      43 S            6.8128     6.8128    -1.3626 S             1 RES     \\n      44 S            4.0877     6.8128     6.8128 S             1 RES     \\n      45 S            6.8128     4.0877     6.8128 S             1 RES     \\n      46 S            6.8128     6.8128     4.0877 S             1 RES     \\n      47 ZN          10.9006     0.0000     0.0000 ZN            1 RES     \\n      48 ZN          10.9006     0.0000     5.4503 ZN            1 RES     \\n      49 ZN          10.9006     5.4503     0.0000 ZN            1 RES     \\n      50 ZN          10.9006     5.4503     5.4503 ZN            1 RES     \\n      51 ZN          10.9006     2.7251     2.7251 ZN            1 RES     \\n      52 ZN           8.1754     0.0000     2.7251 ZN            1 RES     \\n      53 ZN           8.1754     5.4503     2.7251 ZN            1 RES     \\n      54 ZN           8.1754     2.7251     0.0000 ZN            1 RES     \\n      55 ZN           8.1754     2.7251     5.4503 ZN            1 RES     \\n      56 S            9.5380     4.0877     4.0877 S             1 RES     \\n      57 S            9.5380     1.3626     1.3626 S             1 RES     \\n      58 S            9.5380    -1.3626    -1.3626 S             1 RES     \\n      59 S           12.2631    -1.3626     1.3626 S             1 RES     \\n      60 S           12.2631     1.3626    -1.3626 S             1 RES     \\n      61 S            9.5380    -1.3626     4.0877 S             1 RES     \\n      62 S            9.5380     1.3626     6.8128 S             1 RES     \\n      63 S           12.2631    -1.3626     6.8128 S             1 RES     \\n      64 S           12.2631     1.3626     4.0877 S             1 RES     \\n      65 S            9.5380     4.0877    -1.3626 S             1 RES     \\n      66 S            9.5380     6.8128     1.3626 S             1 RES     \\n      67 S           12.2631     4.0877     1.3626 S             1 RES     \\n      68 S           12.2631     6.8128    -1.3626 S             1 RES     \\n      69 S            9.5380     6.8128     6.8128 S             1 RES     \\n      70 S           12.2631     4.0877     6.8128 S             1 RES     \\n      71 S           12.2631     6.8128     4.0877 S             1 RES     \\n      72 VS           7.5100    -0.6813     1.9847 VS            2 PRT     \\n      73 VS           7.3945    -0.7968     1.8692 VS            2 PRT     \\n      74 VS           7.5254    -0.7390     2.2002 VS            2 PRT     \\n      75 VS           7.5466    -0.5081     2.1213 VS            2 PRT     \\n      76 VS           7.5533    -0.6813     2.0280 VS            2 PRT     \\n      77 VS           7.6687    -0.5658     2.1435 VS            2 PRT     \\n      78 VS           7.3378    -0.6236     2.0125 VS            2 PRT     \\n      79 VS           7.4167    -0.8545     1.9914 VS            2 PRT     \\n      80 VS           7.5100     2.0438    -0.7404 VS            2 PRT     \\n      81 VS           7.3945     1.9284    -0.8559 VS            2 PRT     \\n      82 VS           7.5254     1.9861    -0.5250 VS            2 PRT     \\n      83 VS           7.5466     2.2171    -0.6038 VS            2 PRT     \\n      84 VS           7.5533     2.0439    -0.6971 VS            2 PRT     \\n      85 VS           7.6687     2.1593    -0.5817 VS            2 PRT     \\n      86 VS           7.3378     2.1016    -0.7126 VS            2 PRT     \\n      87 VS           7.4167     1.8706    -0.7338 VS            2 PRT     \\n      88 VS           7.5138     0.7390     3.4117 VS            2 PRT     \\n      89 VS           7.3984     0.8545     3.5272 VS            2 PRT     \\n      90 VS           7.4138     0.5658     3.3117 VS            2 PRT     \\n      91 VS           7.6504     0.5658     3.3751 VS            2 PRT     \\n      92 VS           7.4994     0.6236     3.4261 VS            2 PRT     \\n      93 VS           7.6149     0.5081     3.3106 VS            2 PRT     \\n      94 VS           7.3994     0.7968     3.3261 VS            2 PRT     \\n      95 VS           7.4628     0.7968     3.5627 VS            2 PRT     \\n      96 VS           7.5100     2.0438     4.7099 VS            2 PRT     \\n      97 VS           7.3945     1.9284     4.5944 VS            2 PRT     \\n      98 VS           7.5254     1.9861     4.9253 VS            2 PRT     \\n      99 VS           7.5466     2.2171     4.8465 VS            2 PRT     \\n     100 VS           7.5533     2.0439     4.7532 VS            2 PRT     \\n     101 VS           7.6687     2.1593     4.8686 VS            2 PRT     \\n     102 VS           7.3378     2.1016     4.7377 VS            2 PRT     \\n     103 VS           7.4167     1.8706     4.7165 VS            2 PRT     \\n     104 VS           7.5138     3.4641     0.6866 VS            2 PRT     \\n     105 VS           7.3984     3.5796     0.8021 VS            2 PRT     \\n     106 VS           7.4138     3.2909     0.5866 VS            2 PRT     \\n     107 VS           7.6504     3.2909     0.6500 VS            2 PRT     \\n     108 VS           7.4994     3.3487     0.7010 VS            2 PRT     \\n     109 VS           7.6149     3.2332     0.5855 VS            2 PRT     \\n     110 VS           7.3994     3.5219     0.6010 VS            2 PRT     \\n     111 VS           7.4628     3.5219     0.8376 VS            2 PRT     \\n     112 VS           7.5100     4.7690     1.9847 VS            2 PRT     \\n     113 VS           7.3945     4.6535     1.8692 VS            2 PRT     \\n     114 VS           7.5254     4.7113     2.2002 VS            2 PRT     \\n     115 VS           7.5466     4.9422     2.1213 VS            2 PRT     \\n     116 VS           7.5533     4.7690     2.0280 VS            2 PRT     \\n     117 VS           7.6687     4.8845     2.1435 VS            2 PRT     \\n     118 VS           7.3378     4.8267     2.0125 VS            2 PRT     \\n     119 VS           7.4167     4.5958     1.9914 VS            2 PRT     \\n     120 VS           7.5138     3.4641     6.1368 VS            2 PRT     \\n     121 VS           7.3984     3.5796     6.2523 VS            2 PRT     \\n     122 VS           7.4138     3.2909     6.0368 VS            2 PRT     \\n     123 VS           7.6504     3.2909     6.1002 VS            2 PRT     \\n     124 VS           7.4994     3.3487     6.1513 VS            2 PRT     \\n     125 VS           7.6149     3.2332     6.0358 VS            2 PRT     \\n     126 VS           7.3994     3.5219     6.0513 VS            2 PRT     \\n     127 VS           7.4628     3.5219     6.2879 VS            2 PRT     \\n     128 VS           7.5138     6.1893     3.4117 VS            2 PRT     \\n     129 VS           7.3984     6.3048     3.5272 VS            2 PRT     \\n     130 VS           7.4138     6.0161     3.3117 VS            2 PRT     \\n     131 VS           7.6504     6.0161     3.3751 VS            2 PRT     \\n     132 VS           7.4994     6.0738     3.4261 VS            2 PRT     \\n     133 VS           7.6149     5.9583     3.3106 VS            2 PRT     \\n     134 VS           7.3994     6.2470     3.3261 VS            2 PRT     \\n     135 VS           7.4628     6.2470     3.5627 VS            2 PRT     \\n@<TRIPOS>BOND\\n       1       28        3 1\\n       2       26        3 1\\n       3       27        3 1\\n       4       18        3 1\\n       5       13       18 1\\n       6        9       18 1\\n       7       12       18 1\\n       8       22       13 1\\n       9       40       13 1\\n      10       17       13 1\\n      11       20        9 1\\n      12       15        9 1\\n      13       29        9 1\\n      14       41       12 1\\n      15       16       12 1\\n      16       32       12 1\\n      17       19        1 1\\n      18       22        1 1\\n      19       21        1 1\\n      20       20        1 1\\n      21       11       21 1\\n      22       17       11 1\\n      23       15       11 1\\n      24       36       11 1\\n      25        7       40 1\\n      26        5       17 1\\n      27       10       17 1\\n      28       43        7 1\\n      29       42        7 1\\n      30       41        7 1\\n      31       35        5 1\\n      32       33        5 1\\n      33       34        5 1\\n      34       42       10 1\\n      35       39       10 1\\n      36       16       10 1\\n      37        6       39 1\\n      38       14       16 1\\n      39        8       16 1\\n      40        4       32 1\\n      41        2       15 1\\n      42       14       15 1\\n      43        6       36 1\\n      44        4       29 1\\n      45       23        2 1\\n      46       25        2 1\\n      47       24        2 1\\n      48       31       14 1\\n      49       37       14 1\\n      50       37        6 1\\n      51       38        6 1\\n      52       31        4 1\\n      53       30        4 1\\n      54       46        8 1\\n      55       44        8 1\\n      56       45        8 1\\n      57       54       65 1\\n      58       49       65 1\\n      59       57       54 1\\n      60       47       57 1\\n      61       52       57 1\\n      62       51       57 1\\n      63       68       49 1\\n      64       67       49 1\\n      65       66       49 1\\n      66       60       47 1\\n      67       58       47 1\\n      68       59       47 1\\n      69       61       52 1\\n      70       67       51 1\\n      71       64       51 1\\n      72       56       51 1\\n      73       53       66 1\\n      74       56       53 1\\n      75       48       64 1\\n      76       55       56 1\\n      77       50       56 1\\n      78       48       61 1\\n      79       62       48 1\\n      80       63       48 1\\n      81       62       55 1\\n      82       71       50 1\\n      83       69       50 1\\n      84       70       50 1\\n@<TRIPOS>SUBSTRUCTURE\\n       1 RES             1 RESIDUE    0 **** ROOT      0\\n       2 PRT            72 RESIDUE    0 **** ROOT      0\\n\",\"mol2\");\n",
       "\tviewer_16672604447720208.setStyle({\"stick\": {\"radius\": 0.2, \"color\": \"grey\"}, \"sphere\": {\"scale\": 0.3, \"colorscheme\": {}}});\n",
       "\tviewer_16672604447720208.zoomTo();\n",
       "viewer_16672604447720208.render();\n",
       "});\n",
       "</script>"
      ]
     },
     "metadata": {},
     "output_type": "display_data"
    },
    {
     "data": {
      "text/plain": [
       "<py3Dmol.view at 0x7f9ce2331bb0>"
      ]
     },
     "execution_count": 95,
     "metadata": {},
     "output_type": "execute_result"
    }
   ],
   "source": [
    "mini_tiles.visualize(show_ports=True)"
   ]
  },
  {
   "cell_type": "code",
   "execution_count": null,
   "id": "b1a945da-8585-4de6-8e39-626eab4edf15",
   "metadata": {},
   "outputs": [],
   "source": [
    "for port in mini_tiles.all_ports()"
   ]
  },
  {
   "cell_type": "code",
   "execution_count": 96,
   "id": "81ec800f-e51f-421b-8f0d-934b30fbae42",
   "metadata": {},
   "outputs": [
    {
     "data": {
      "text/plain": [
       "[<Port, anchor: 'ZN', labels: , id: 140311788749776>,\n",
       " <Port, anchor: 'ZN', labels: , id: 140311788749680>,\n",
       " <Port, anchor: 'ZN', labels: , id: 140311786503616>,\n",
       " <Port, anchor: 'ZN', labels: , id: 140311788751408>,\n",
       " <Port, anchor: 'ZN', labels: , id: 140311786555616>,\n",
       " <Port, anchor: 'ZN', labels: , id: 140311788749392>,\n",
       " <Port, anchor: 'ZN', labels: , id: 140311788814448>,\n",
       " <Port, anchor: 'ZN', labels: , id: 140311788751888>]"
      ]
     },
     "execution_count": 96,
     "metadata": {},
     "output_type": "execute_result"
    }
   ],
   "source": [
    "mini_tiles.all_ports()"
   ]
  },
  {
   "cell_type": "code",
   "execution_count": 78,
   "id": "7d1e7eab-68a7-4a03-aea7-25b65fd58243",
   "metadata": {},
   "outputs": [],
   "source": [
    "mini_tiles.save(\"min_test.xyz\")"
   ]
  },
  {
   "cell_type": "code",
   "execution_count": 79,
   "id": "d6e6bbd9-e1c9-4afe-b596-f72f01a9809a",
   "metadata": {
    "collapsed": true,
    "jupyter": {
     "outputs_hidden": true
    },
    "tags": []
   },
   "outputs": [
    {
     "name": "stderr",
     "output_type": "stream",
     "text": [
      "==============================\n",
      "*** Open Babel Warning  in Translate\n",
      "  Cannot perform atom type translation: table cannot find requested types.\n",
      "==============================\n",
      "*** Open Babel Warning  in Translate\n",
      "  Cannot perform atom type translation: table cannot find requested types.\n",
      "==============================\n",
      "*** Open Babel Warning  in Translate\n",
      "  Cannot perform atom type translation: table cannot find requested types.\n",
      "==============================\n",
      "*** Open Babel Warning  in Translate\n",
      "  Cannot perform atom type translation: table cannot find requested types.\n",
      "==============================\n",
      "*** Open Babel Warning  in Translate\n",
      "  Cannot perform atom type translation: table cannot find requested types.\n",
      "==============================\n",
      "*** Open Babel Warning  in Translate\n",
      "  Cannot perform atom type translation: table cannot find requested types.\n",
      "==============================\n",
      "*** Open Babel Warning  in Translate\n",
      "  Cannot perform atom type translation: table cannot find requested types.\n",
      "==============================\n",
      "*** Open Babel Warning  in Translate\n",
      "  Cannot perform atom type translation: table cannot find requested types.\n",
      "==============================\n",
      "*** Open Babel Warning  in Translate\n",
      "  Cannot perform atom type translation: table cannot find requested types.\n",
      "==============================\n",
      "*** Open Babel Warning  in Translate\n",
      "  Cannot perform atom type translation: table cannot find requested types.\n",
      "==============================\n",
      "*** Open Babel Warning  in Translate\n",
      "  Cannot perform atom type translation: table cannot find requested types.\n",
      "==============================\n",
      "*** Open Babel Warning  in Translate\n",
      "  Cannot perform atom type translation: table cannot find requested types.\n",
      "==============================\n",
      "*** Open Babel Warning  in Translate\n",
      "  Cannot perform atom type translation: table cannot find requested types.\n",
      "==============================\n",
      "*** Open Babel Warning  in Translate\n",
      "  Cannot perform atom type translation: table cannot find requested types.\n",
      "==============================\n",
      "*** Open Babel Warning  in Translate\n",
      "  Cannot perform atom type translation: table cannot find requested types.\n",
      "==============================\n",
      "*** Open Babel Warning  in ReadMolecule\n",
      "  This Mol2 file is non-standard. Problem with molecule: RES Cannot interpret atom types correctly, instead attempting to interpret atom type: S as elements instead.\n",
      "==============================\n",
      "*** Open Babel Warning  in Translate\n",
      "  Cannot perform atom type translation: table cannot find requested types.\n",
      "==============================\n",
      "*** Open Babel Warning  in Translate\n",
      "  Cannot perform atom type translation: table cannot find requested types.\n",
      "==============================\n",
      "*** Open Babel Warning  in ReadMolecule\n",
      "  This Mol2 file is non-standard. Problem with molecule: RES Cannot interpret atom types correctly, instead attempting to interpret atom type: S as elements instead.\n",
      "==============================\n",
      "*** Open Babel Warning  in Translate\n",
      "  Cannot perform atom type translation: table cannot find requested types.\n",
      "==============================\n",
      "*** Open Babel Warning  in Translate\n",
      "  Cannot perform atom type translation: table cannot find requested types.\n",
      "==============================\n",
      "*** Open Babel Warning  in ReadMolecule\n",
      "  This Mol2 file is non-standard. Problem with molecule: RES Cannot interpret atom types correctly, instead attempting to interpret atom type: S as elements instead.\n",
      "==============================\n",
      "*** Open Babel Warning  in Translate\n",
      "  Cannot perform atom type translation: table cannot find requested types.\n",
      "==============================\n",
      "*** Open Babel Warning  in Translate\n",
      "  Cannot perform atom type translation: table cannot find requested types.\n",
      "==============================\n",
      "*** Open Babel Warning  in ReadMolecule\n",
      "  This Mol2 file is non-standard. Problem with molecule: RES Cannot interpret atom types correctly, instead attempting to interpret atom type: S as elements instead.\n",
      "==============================\n",
      "*** Open Babel Warning  in Translate\n",
      "  Cannot perform atom type translation: table cannot find requested types.\n",
      "==============================\n",
      "*** Open Babel Warning  in Translate\n",
      "  Cannot perform atom type translation: table cannot find requested types.\n",
      "==============================\n",
      "*** Open Babel Warning  in ReadMolecule\n",
      "  This Mol2 file is non-standard. Problem with molecule: RES Cannot interpret atom types correctly, instead attempting to interpret atom type: S as elements instead.\n",
      "==============================\n",
      "*** Open Babel Warning  in Translate\n",
      "  Cannot perform atom type translation: table cannot find requested types.\n",
      "==============================\n",
      "*** Open Babel Warning  in Translate\n",
      "  Cannot perform atom type translation: table cannot find requested types.\n",
      "==============================\n",
      "*** Open Babel Warning  in ReadMolecule\n",
      "  This Mol2 file is non-standard. Problem with molecule: RES Cannot interpret atom types correctly, instead attempting to interpret atom type: S as elements instead.\n",
      "==============================\n",
      "*** Open Babel Warning  in Translate\n",
      "  Cannot perform atom type translation: table cannot find requested types.\n",
      "==============================\n",
      "*** Open Babel Warning  in Translate\n",
      "  Cannot perform atom type translation: table cannot find requested types.\n",
      "==============================\n",
      "*** Open Babel Warning  in ReadMolecule\n",
      "  This Mol2 file is non-standard. Problem with molecule: RES Cannot interpret atom types correctly, instead attempting to interpret atom type: S as elements instead.\n",
      "==============================\n",
      "*** Open Babel Warning  in Translate\n",
      "  Cannot perform atom type translation: table cannot find requested types.\n",
      "==============================\n",
      "*** Open Babel Warning  in Translate\n",
      "  Cannot perform atom type translation: table cannot find requested types.\n",
      "==============================\n",
      "*** Open Babel Warning  in ReadMolecule\n",
      "  This Mol2 file is non-standard. Problem with molecule: RES Cannot interpret atom types correctly, instead attempting to interpret atom type: S as elements instead.\n",
      "==============================\n",
      "*** Open Babel Warning  in Translate\n",
      "  Cannot perform atom type translation: table cannot find requested types.\n",
      "==============================\n",
      "*** Open Babel Warning  in Translate\n",
      "  Cannot perform atom type translation: table cannot find requested types.\n",
      "==============================\n",
      "*** Open Babel Warning  in ReadMolecule\n",
      "  This Mol2 file is non-standard. Problem with molecule: RES Cannot interpret atom types correctly, instead attempting to interpret atom type: S as elements instead.\n",
      "==============================\n",
      "*** Open Babel Warning  in Translate\n",
      "  Cannot perform atom type translation: table cannot find requested types.\n",
      "==============================\n",
      "*** Open Babel Warning  in Translate\n",
      "  Cannot perform atom type translation: table cannot find requested types.\n",
      "==============================\n",
      "*** Open Babel Warning  in ReadMolecule\n",
      "  This Mol2 file is non-standard. Problem with molecule: RES Cannot interpret atom types correctly, instead attempting to interpret atom type: S as elements instead.\n",
      "==============================\n",
      "*** Open Babel Warning  in Translate\n",
      "  Cannot perform atom type translation: table cannot find requested types.\n",
      "==============================\n",
      "*** Open Babel Warning  in Translate\n",
      "  Cannot perform atom type translation: table cannot find requested types.\n",
      "==============================\n",
      "*** Open Babel Warning  in ReadMolecule\n",
      "  This Mol2 file is non-standard. Problem with molecule: RES Cannot interpret atom types correctly, instead attempting to interpret atom type: S as elements instead.\n",
      "==============================\n",
      "*** Open Babel Warning  in Translate\n",
      "  Cannot perform atom type translation: table cannot find requested types.\n",
      "==============================\n",
      "*** Open Babel Warning  in Translate\n",
      "  Cannot perform atom type translation: table cannot find requested types.\n",
      "==============================\n",
      "*** Open Babel Warning  in ReadMolecule\n",
      "  This Mol2 file is non-standard. Problem with molecule: RES Cannot interpret atom types correctly, instead attempting to interpret atom type: S as elements instead.\n",
      "==============================\n",
      "*** Open Babel Warning  in Translate\n",
      "  Cannot perform atom type translation: table cannot find requested types.\n",
      "==============================\n",
      "*** Open Babel Warning  in Translate\n",
      "  Cannot perform atom type translation: table cannot find requested types.\n",
      "==============================\n",
      "*** Open Babel Warning  in ReadMolecule\n",
      "  This Mol2 file is non-standard. Problem with molecule: RES Cannot interpret atom types correctly, instead attempting to interpret atom type: S as elements instead.\n",
      "==============================\n",
      "*** Open Babel Warning  in Translate\n",
      "  Cannot perform atom type translation: table cannot find requested types.\n",
      "==============================\n",
      "*** Open Babel Warning  in Translate\n",
      "  Cannot perform atom type translation: table cannot find requested types.\n",
      "==============================\n",
      "*** Open Babel Warning  in ReadMolecule\n",
      "  This Mol2 file is non-standard. Problem with molecule: RES Cannot interpret atom types correctly, instead attempting to interpret atom type: S as elements instead.\n",
      "==============================\n",
      "*** Open Babel Warning  in Translate\n",
      "  Cannot perform atom type translation: table cannot find requested types.\n",
      "==============================\n",
      "*** Open Babel Warning  in Translate\n",
      "  Cannot perform atom type translation: table cannot find requested types.\n",
      "==============================\n",
      "*** Open Babel Warning  in ReadMolecule\n",
      "  This Mol2 file is non-standard. Problem with molecule: RES Cannot interpret atom types correctly, instead attempting to interpret atom type: S as elements instead.\n",
      "==============================\n",
      "*** Open Babel Warning  in Translate\n",
      "  Cannot perform atom type translation: table cannot find requested types.\n",
      "==============================\n",
      "*** Open Babel Warning  in Translate\n",
      "  Cannot perform atom type translation: table cannot find requested types.\n",
      "==============================\n",
      "*** Open Babel Warning  in ReadMolecule\n",
      "  This Mol2 file is non-standard. Problem with molecule: RES Cannot interpret atom types correctly, instead attempting to interpret atom type: S as elements instead.\n",
      "==============================\n",
      "*** Open Babel Warning  in Translate\n",
      "  Cannot perform atom type translation: table cannot find requested types.\n",
      "==============================\n",
      "*** Open Babel Warning  in Translate\n",
      "  Cannot perform atom type translation: table cannot find requested types.\n",
      "==============================\n",
      "*** Open Babel Warning  in ReadMolecule\n",
      "  This Mol2 file is non-standard. Problem with molecule: RES Cannot interpret atom types correctly, instead attempting to interpret atom type: S as elements instead.\n",
      "==============================\n",
      "*** Open Babel Warning  in Translate\n",
      "  Cannot perform atom type translation: table cannot find requested types.\n",
      "==============================\n",
      "*** Open Babel Warning  in Translate\n",
      "  Cannot perform atom type translation: table cannot find requested types.\n",
      "==============================\n",
      "*** Open Babel Warning  in ReadMolecule\n",
      "  This Mol2 file is non-standard. Problem with molecule: RES Cannot interpret atom types correctly, instead attempting to interpret atom type: S as elements instead.\n",
      "==============================\n",
      "*** Open Babel Warning  in Translate\n",
      "  Cannot perform atom type translation: table cannot find requested types.\n",
      "==============================\n",
      "*** Open Babel Warning  in Translate\n",
      "  Cannot perform atom type translation: table cannot find requested types.\n",
      "==============================\n",
      "*** Open Babel Warning  in ReadMolecule\n",
      "  This Mol2 file is non-standard. Problem with molecule: RES Cannot interpret atom types correctly, instead attempting to interpret atom type: S as elements instead.\n",
      "==============================\n",
      "*** Open Babel Warning  in Translate\n",
      "  Cannot perform atom type translation: table cannot find requested types.\n",
      "==============================\n",
      "*** Open Babel Warning  in Translate\n",
      "  Cannot perform atom type translation: table cannot find requested types.\n",
      "==============================\n",
      "*** Open Babel Warning  in ReadMolecule\n",
      "  This Mol2 file is non-standard. Problem with molecule: RES Cannot interpret atom types correctly, instead attempting to interpret atom type: S as elements instead.\n",
      "==============================\n",
      "*** Open Babel Warning  in Translate\n",
      "  Cannot perform atom type translation: table cannot find requested types.\n",
      "==============================\n",
      "*** Open Babel Warning  in Translate\n",
      "  Cannot perform atom type translation: table cannot find requested types.\n",
      "==============================\n",
      "*** Open Babel Warning  in ReadMolecule\n",
      "  This Mol2 file is non-standard. Problem with molecule: RES Cannot interpret atom types correctly, instead attempting to interpret atom type: S as elements instead.\n",
      "==============================\n",
      "*** Open Babel Warning  in Translate\n",
      "  Cannot perform atom type translation: table cannot find requested types.\n",
      "==============================\n",
      "*** Open Babel Warning  in Translate\n",
      "  Cannot perform atom type translation: table cannot find requested types.\n",
      "==============================\n",
      "*** Open Babel Warning  in ReadMolecule\n",
      "  This Mol2 file is non-standard. Problem with molecule: RES Cannot interpret atom types correctly, instead attempting to interpret atom type: S as elements instead.\n",
      "==============================\n",
      "*** Open Babel Warning  in Translate\n",
      "  Cannot perform atom type translation: table cannot find requested types.\n",
      "==============================\n",
      "*** Open Babel Warning  in Translate\n",
      "  Cannot perform atom type translation: table cannot find requested types.\n",
      "==============================\n",
      "*** Open Babel Warning  in ReadMolecule\n",
      "  This Mol2 file is non-standard. Problem with molecule: RES Cannot interpret atom types correctly, instead attempting to interpret atom type: S as elements instead.\n",
      "==============================\n",
      "*** Open Babel Warning  in Translate\n",
      "  Cannot perform atom type translation: table cannot find requested types.\n",
      "==============================\n",
      "*** Open Babel Warning  in Translate\n",
      "  Cannot perform atom type translation: table cannot find requested types.\n",
      "==============================\n",
      "*** Open Babel Warning  in ReadMolecule\n",
      "  This Mol2 file is non-standard. Problem with molecule: RES Cannot interpret atom types correctly, instead attempting to interpret atom type: S as elements instead.\n",
      "==============================\n",
      "*** Open Babel Warning  in Translate\n",
      "  Cannot perform atom type translation: table cannot find requested types.\n",
      "==============================\n",
      "*** Open Babel Warning  in Translate\n",
      "  Cannot perform atom type translation: table cannot find requested types.\n",
      "==============================\n",
      "*** Open Babel Warning  in ReadMolecule\n",
      "  This Mol2 file is non-standard. Problem with molecule: RES Cannot interpret atom types correctly, instead attempting to interpret atom type: S as elements instead.\n",
      "==============================\n",
      "*** Open Babel Warning  in Translate\n",
      "  Cannot perform atom type translation: table cannot find requested types.\n",
      "==============================\n",
      "*** Open Babel Warning  in Translate\n",
      "  Cannot perform atom type translation: table cannot find requested types.\n",
      "==============================\n",
      "*** Open Babel Warning  in ReadMolecule\n",
      "  This Mol2 file is non-standard. Problem with molecule: RES Cannot interpret atom types correctly, instead attempting to interpret atom type: S as elements instead.\n",
      "==============================\n",
      "*** Open Babel Warning  in Translate\n",
      "  Cannot perform atom type translation: table cannot find requested types.\n",
      "==============================\n",
      "*** Open Babel Warning  in Translate\n",
      "  Cannot perform atom type translation: table cannot find requested types.\n",
      "==============================\n",
      "*** Open Babel Warning  in ReadMolecule\n",
      "  This Mol2 file is non-standard. Problem with molecule: RES Cannot interpret atom types correctly, instead attempting to interpret atom type: S as elements instead.\n",
      "==============================\n",
      "*** Open Babel Warning  in Translate\n",
      "  Cannot perform atom type translation: table cannot find requested types.\n",
      "==============================\n",
      "*** Open Babel Warning  in Translate\n",
      "  Cannot perform atom type translation: table cannot find requested types.\n",
      "==============================\n",
      "*** Open Babel Warning  in ReadMolecule\n",
      "  This Mol2 file is non-standard. Problem with molecule: RES Cannot interpret atom types correctly, instead attempting to interpret atom type: S as elements instead.\n",
      "==============================\n",
      "*** Open Babel Warning  in Translate\n",
      "  Cannot perform atom type translation: table cannot find requested types.\n",
      "==============================\n",
      "*** Open Babel Warning  in Translate\n",
      "  Cannot perform atom type translation: table cannot find requested types.\n",
      "==============================\n",
      "*** Open Babel Warning  in ReadMolecule\n",
      "  This Mol2 file is non-standard. Problem with molecule: RES Cannot interpret atom types correctly, instead attempting to interpret atom type: S as elements instead.\n",
      "==============================\n",
      "*** Open Babel Warning  in Translate\n",
      "  Cannot perform atom type translation: table cannot find requested types.\n",
      "==============================\n",
      "*** Open Babel Warning  in Translate\n",
      "  Cannot perform atom type translation: table cannot find requested types.\n",
      "==============================\n",
      "*** Open Babel Warning  in ReadMolecule\n",
      "  This Mol2 file is non-standard. Problem with molecule: RES Cannot interpret atom types correctly, instead attempting to interpret atom type: S as elements instead.\n",
      "==============================\n",
      "*** Open Babel Warning  in Translate\n",
      "  Cannot perform atom type translation: table cannot find requested types.\n",
      "==============================\n",
      "*** Open Babel Warning  in Translate\n",
      "  Cannot perform atom type translation: table cannot find requested types.\n",
      "==============================\n",
      "*** Open Babel Warning  in ReadMolecule\n",
      "  This Mol2 file is non-standard. Problem with molecule: RES Cannot interpret atom types correctly, instead attempting to interpret atom type: S as elements instead.\n",
      "==============================\n",
      "*** Open Babel Warning  in Translate\n",
      "  Cannot perform atom type translation: table cannot find requested types.\n",
      "==============================\n",
      "*** Open Babel Warning  in Translate\n",
      "  Cannot perform atom type translation: table cannot find requested types.\n",
      "==============================\n",
      "*** Open Babel Warning  in ReadMolecule\n",
      "  This Mol2 file is non-standard. Problem with molecule: RES Cannot interpret atom types correctly, instead attempting to interpret atom type: S as elements instead.\n",
      "==============================\n",
      "*** Open Babel Warning  in Translate\n",
      "  Cannot perform atom type translation: table cannot find requested types.\n",
      "==============================\n",
      "*** Open Babel Warning  in Translate\n",
      "  Cannot perform atom type translation: table cannot find requested types.\n",
      "==============================\n",
      "*** Open Babel Warning  in Translate\n",
      "  Cannot perform atom type translation: table cannot find requested types.\n",
      "==============================\n",
      "*** Open Babel Warning  in Translate\n",
      "  Cannot perform atom type translation: table cannot find requested types.\n",
      "==============================\n",
      "*** Open Babel Warning  in Translate\n",
      "  Cannot perform atom type translation: table cannot find requested types.\n",
      "==============================\n",
      "*** Open Babel Warning  in Translate\n",
      "  Cannot perform atom type translation: table cannot find requested types.\n",
      "==============================\n",
      "*** Open Babel Warning  in Translate\n",
      "  Cannot perform atom type translation: table cannot find requested types.\n",
      "==============================\n",
      "*** Open Babel Warning  in Translate\n",
      "  Cannot perform atom type translation: table cannot find requested types.\n",
      "==============================\n",
      "*** Open Babel Warning  in Translate\n",
      "  Cannot perform atom type translation: table cannot find requested types.\n",
      "==============================\n",
      "*** Open Babel Warning  in Translate\n",
      "  Cannot perform atom type translation: table cannot find requested types.\n",
      "==============================\n",
      "*** Open Babel Warning  in Translate\n",
      "  Cannot perform atom type translation: table cannot find requested types.\n",
      "==============================\n",
      "*** Open Babel Warning  in Translate\n",
      "  Cannot perform atom type translation: table cannot find requested types.\n",
      "==============================\n",
      "*** Open Babel Warning  in Translate\n",
      "  Cannot perform atom type translation: table cannot find requested types.\n",
      "==============================\n",
      "*** Open Babel Warning  in Translate\n",
      "  Cannot perform atom type translation: table cannot find requested types.\n",
      "==============================\n",
      "*** Open Babel Warning  in Translate\n",
      "  Cannot perform atom type translation: table cannot find requested types.\n",
      "==============================\n",
      "*** Open Babel Warning  in Translate\n",
      "  Cannot perform atom type translation: table cannot find requested types.\n",
      "==============================\n",
      "*** Open Babel Warning  in ReadMolecule\n",
      "  This Mol2 file is non-standard. Problem with molecule: RES Cannot interpret atom types correctly, instead attempting to interpret atom type: S as elements instead.\n",
      "==============================\n",
      "*** Open Babel Warning  in Translate\n",
      "  Cannot perform atom type translation: table cannot find requested types.\n",
      "==============================\n",
      "*** Open Babel Warning  in Translate\n",
      "  Cannot perform atom type translation: table cannot find requested types.\n",
      "==============================\n",
      "*** Open Babel Warning  in ReadMolecule\n",
      "  This Mol2 file is non-standard. Problem with molecule: RES Cannot interpret atom types correctly, instead attempting to interpret atom type: S as elements instead.\n",
      "==============================\n",
      "*** Open Babel Warning  in Translate\n",
      "  Cannot perform atom type translation: table cannot find requested types.\n",
      "==============================\n",
      "*** Open Babel Warning  in Translate\n",
      "  Cannot perform atom type translation: table cannot find requested types.\n",
      "==============================\n",
      "*** Open Babel Warning  in ReadMolecule\n",
      "  This Mol2 file is non-standard. Problem with molecule: RES Cannot interpret atom types correctly, instead attempting to interpret atom type: S as elements instead.\n",
      "==============================\n",
      "*** Open Babel Warning  in Translate\n",
      "  Cannot perform atom type translation: table cannot find requested types.\n",
      "==============================\n",
      "*** Open Babel Warning  in Translate\n",
      "  Cannot perform atom type translation: table cannot find requested types.\n",
      "==============================\n",
      "*** Open Babel Warning  in ReadMolecule\n",
      "  This Mol2 file is non-standard. Problem with molecule: RES Cannot interpret atom types correctly, instead attempting to interpret atom type: S as elements instead.\n",
      "==============================\n",
      "*** Open Babel Warning  in Translate\n",
      "  Cannot perform atom type translation: table cannot find requested types.\n",
      "==============================\n",
      "*** Open Babel Warning  in Translate\n",
      "  Cannot perform atom type translation: table cannot find requested types.\n",
      "==============================\n",
      "*** Open Babel Warning  in ReadMolecule\n",
      "  This Mol2 file is non-standard. Problem with molecule: RES Cannot interpret atom types correctly, instead attempting to interpret atom type: S as elements instead.\n",
      "==============================\n",
      "*** Open Babel Warning  in Translate\n",
      "  Cannot perform atom type translation: table cannot find requested types.\n",
      "==============================\n",
      "*** Open Babel Warning  in Translate\n",
      "  Cannot perform atom type translation: table cannot find requested types.\n",
      "==============================\n",
      "*** Open Babel Warning  in ReadMolecule\n",
      "  This Mol2 file is non-standard. Problem with molecule: RES Cannot interpret atom types correctly, instead attempting to interpret atom type: S as elements instead.\n",
      "==============================\n",
      "*** Open Babel Warning  in Translate\n",
      "  Cannot perform atom type translation: table cannot find requested types.\n",
      "==============================\n",
      "*** Open Babel Warning  in Translate\n",
      "  Cannot perform atom type translation: table cannot find requested types.\n",
      "==============================\n",
      "*** Open Babel Warning  in ReadMolecule\n",
      "  This Mol2 file is non-standard. Problem with molecule: RES Cannot interpret atom types correctly, instead attempting to interpret atom type: S as elements instead.\n",
      "==============================\n",
      "*** Open Babel Warning  in Translate\n",
      "  Cannot perform atom type translation: table cannot find requested types.\n",
      "==============================\n",
      "*** Open Babel Warning  in Translate\n",
      "  Cannot perform atom type translation: table cannot find requested types.\n",
      "==============================\n",
      "*** Open Babel Warning  in ReadMolecule\n",
      "  This Mol2 file is non-standard. Problem with molecule: RES Cannot interpret atom types correctly, instead attempting to interpret atom type: S as elements instead.\n",
      "==============================\n",
      "*** Open Babel Warning  in Translate\n",
      "  Cannot perform atom type translation: table cannot find requested types.\n",
      "==============================\n",
      "*** Open Babel Warning  in Translate\n",
      "  Cannot perform atom type translation: table cannot find requested types.\n",
      "==============================\n",
      "*** Open Babel Warning  in ReadMolecule\n",
      "  This Mol2 file is non-standard. Problem with molecule: RES Cannot interpret atom types correctly, instead attempting to interpret atom type: S as elements instead.\n",
      "==============================\n",
      "*** Open Babel Warning  in Translate\n",
      "  Cannot perform atom type translation: table cannot find requested types.\n",
      "==============================\n",
      "*** Open Babel Warning  in Translate\n",
      "  Cannot perform atom type translation: table cannot find requested types.\n",
      "==============================\n",
      "*** Open Babel Warning  in ReadMolecule\n",
      "  This Mol2 file is non-standard. Problem with molecule: RES Cannot interpret atom types correctly, instead attempting to interpret atom type: S as elements instead.\n",
      "==============================\n",
      "*** Open Babel Warning  in Translate\n",
      "  Cannot perform atom type translation: table cannot find requested types.\n",
      "==============================\n",
      "*** Open Babel Warning  in Translate\n",
      "  Cannot perform atom type translation: table cannot find requested types.\n",
      "==============================\n",
      "*** Open Babel Warning  in ReadMolecule\n",
      "  This Mol2 file is non-standard. Problem with molecule: RES Cannot interpret atom types correctly, instead attempting to interpret atom type: S as elements instead.\n",
      "==============================\n",
      "*** Open Babel Warning  in Translate\n",
      "  Cannot perform atom type translation: table cannot find requested types.\n",
      "==============================\n",
      "*** Open Babel Warning  in Translate\n",
      "  Cannot perform atom type translation: table cannot find requested types.\n",
      "==============================\n",
      "*** Open Babel Warning  in ReadMolecule\n",
      "  This Mol2 file is non-standard. Problem with molecule: RES Cannot interpret atom types correctly, instead attempting to interpret atom type: S as elements instead.\n",
      "==============================\n",
      "*** Open Babel Warning  in Translate\n",
      "  Cannot perform atom type translation: table cannot find requested types.\n",
      "==============================\n",
      "*** Open Babel Warning  in Translate\n",
      "  Cannot perform atom type translation: table cannot find requested types.\n",
      "==============================\n",
      "*** Open Babel Warning  in ReadMolecule\n",
      "  This Mol2 file is non-standard. Problem with molecule: RES Cannot interpret atom types correctly, instead attempting to interpret atom type: S as elements instead.\n",
      "==============================\n",
      "*** Open Babel Warning  in Translate\n",
      "  Cannot perform atom type translation: table cannot find requested types.\n",
      "==============================\n",
      "*** Open Babel Warning  in Translate\n",
      "  Cannot perform atom type translation: table cannot find requested types.\n",
      "==============================\n",
      "*** Open Babel Warning  in ReadMolecule\n",
      "  This Mol2 file is non-standard. Problem with molecule: RES Cannot interpret atom types correctly, instead attempting to interpret atom type: S as elements instead.\n",
      "==============================\n",
      "*** Open Babel Warning  in Translate\n",
      "  Cannot perform atom type translation: table cannot find requested types.\n",
      "==============================\n",
      "*** Open Babel Warning  in Translate\n",
      "  Cannot perform atom type translation: table cannot find requested types.\n",
      "==============================\n",
      "*** Open Babel Warning  in ReadMolecule\n",
      "  This Mol2 file is non-standard. Problem with molecule: RES Cannot interpret atom types correctly, instead attempting to interpret atom type: S as elements instead.\n",
      "==============================\n",
      "*** Open Babel Warning  in Translate\n",
      "  Cannot perform atom type translation: table cannot find requested types.\n",
      "==============================\n",
      "*** Open Babel Warning  in Translate\n",
      "  Cannot perform atom type translation: table cannot find requested types.\n",
      "==============================\n",
      "*** Open Babel Warning  in ReadMolecule\n",
      "  This Mol2 file is non-standard. Problem with molecule: RES Cannot interpret atom types correctly, instead attempting to interpret atom type: S as elements instead.\n",
      "==============================\n",
      "*** Open Babel Warning  in Translate\n",
      "  Cannot perform atom type translation: table cannot find requested types.\n",
      "==============================\n",
      "*** Open Babel Warning  in Translate\n",
      "  Cannot perform atom type translation: table cannot find requested types.\n",
      "==============================\n",
      "*** Open Babel Warning  in ReadMolecule\n",
      "  This Mol2 file is non-standard. Problem with molecule: RES Cannot interpret atom types correctly, instead attempting to interpret atom type: S as elements instead.\n",
      "==============================\n",
      "*** Open Babel Warning  in Translate\n",
      "  Cannot perform atom type translation: table cannot find requested types.\n",
      "==============================\n",
      "*** Open Babel Warning  in Translate\n",
      "  Cannot perform atom type translation: table cannot find requested types.\n",
      "==============================\n",
      "*** Open Babel Warning  in ReadMolecule\n",
      "  This Mol2 file is non-standard. Problem with molecule: RES Cannot interpret atom types correctly, instead attempting to interpret atom type: S as elements instead.\n",
      "==============================\n",
      "*** Open Babel Warning  in Translate\n",
      "  Cannot perform atom type translation: table cannot find requested types.\n",
      "==============================\n",
      "*** Open Babel Warning  in Translate\n",
      "  Cannot perform atom type translation: table cannot find requested types.\n",
      "==============================\n",
      "*** Open Babel Warning  in ReadMolecule\n",
      "  This Mol2 file is non-standard. Problem with molecule: RES Cannot interpret atom types correctly, instead attempting to interpret atom type: S as elements instead.\n",
      "==============================\n",
      "*** Open Babel Warning  in Translate\n",
      "  Cannot perform atom type translation: table cannot find requested types.\n",
      "==============================\n",
      "*** Open Babel Warning  in Translate\n",
      "  Cannot perform atom type translation: table cannot find requested types.\n",
      "==============================\n",
      "*** Open Babel Warning  in ReadMolecule\n",
      "  This Mol2 file is non-standard. Problem with molecule: RES Cannot interpret atom types correctly, instead attempting to interpret atom type: S as elements instead.\n",
      "==============================\n",
      "*** Open Babel Warning  in Translate\n",
      "  Cannot perform atom type translation: table cannot find requested types.\n",
      "==============================\n",
      "*** Open Babel Warning  in Translate\n",
      "  Cannot perform atom type translation: table cannot find requested types.\n",
      "==============================\n",
      "*** Open Babel Warning  in ReadMolecule\n",
      "  This Mol2 file is non-standard. Problem with molecule: RES Cannot interpret atom types correctly, instead attempting to interpret atom type: S as elements instead.\n",
      "==============================\n",
      "*** Open Babel Warning  in Translate\n",
      "  Cannot perform atom type translation: table cannot find requested types.\n",
      "==============================\n",
      "*** Open Babel Warning  in Translate\n",
      "  Cannot perform atom type translation: table cannot find requested types.\n",
      "==============================\n",
      "*** Open Babel Warning  in ReadMolecule\n",
      "  This Mol2 file is non-standard. Problem with molecule: RES Cannot interpret atom types correctly, instead attempting to interpret atom type: S as elements instead.\n",
      "==============================\n",
      "*** Open Babel Warning  in Translate\n",
      "  Cannot perform atom type translation: table cannot find requested types.\n",
      "==============================\n",
      "*** Open Babel Warning  in Translate\n",
      "  Cannot perform atom type translation: table cannot find requested types.\n",
      "==============================\n",
      "*** Open Babel Warning  in ReadMolecule\n",
      "  This Mol2 file is non-standard. Problem with molecule: RES Cannot interpret atom types correctly, instead attempting to interpret atom type: S as elements instead.\n",
      "==============================\n",
      "*** Open Babel Warning  in Translate\n",
      "  Cannot perform atom type translation: table cannot find requested types.\n",
      "==============================\n",
      "*** Open Babel Warning  in Translate\n",
      "  Cannot perform atom type translation: table cannot find requested types.\n",
      "==============================\n",
      "*** Open Babel Warning  in ReadMolecule\n",
      "  This Mol2 file is non-standard. Problem with molecule: RES Cannot interpret atom types correctly, instead attempting to interpret atom type: S as elements instead.\n",
      "==============================\n",
      "*** Open Babel Warning  in Translate\n",
      "  Cannot perform atom type translation: table cannot find requested types.\n",
      "==============================\n",
      "*** Open Babel Warning  in Translate\n",
      "  Cannot perform atom type translation: table cannot find requested types.\n",
      "==============================\n",
      "*** Open Babel Warning  in ReadMolecule\n",
      "  This Mol2 file is non-standard. Problem with molecule: RES Cannot interpret atom types correctly, instead attempting to interpret atom type: S as elements instead.\n",
      "==============================\n",
      "*** Open Babel Warning  in Translate\n",
      "  Cannot perform atom type translation: table cannot find requested types.\n",
      "==============================\n",
      "*** Open Babel Warning  in Translate\n",
      "  Cannot perform atom type translation: table cannot find requested types.\n",
      "==============================\n",
      "*** Open Babel Warning  in ReadMolecule\n",
      "  This Mol2 file is non-standard. Problem with molecule: RES Cannot interpret atom types correctly, instead attempting to interpret atom type: S as elements instead.\n",
      "==============================\n",
      "*** Open Babel Warning  in Translate\n",
      "  Cannot perform atom type translation: table cannot find requested types.\n",
      "==============================\n",
      "*** Open Babel Warning  in Translate\n",
      "  Cannot perform atom type translation: table cannot find requested types.\n",
      "==============================\n",
      "*** Open Babel Warning  in ReadMolecule\n",
      "  This Mol2 file is non-standard. Problem with molecule: RES Cannot interpret atom types correctly, instead attempting to interpret atom type: S as elements instead.\n",
      "==============================\n",
      "*** Open Babel Warning  in Translate\n",
      "  Cannot perform atom type translation: table cannot find requested types.\n",
      "==============================\n",
      "*** Open Babel Warning  in Translate\n",
      "  Cannot perform atom type translation: table cannot find requested types.\n",
      "==============================\n",
      "*** Open Babel Warning  in ReadMolecule\n",
      "  This Mol2 file is non-standard. Problem with molecule: RES Cannot interpret atom types correctly, instead attempting to interpret atom type: S as elements instead.\n",
      "==============================\n",
      "*** Open Babel Warning  in Translate\n",
      "  Cannot perform atom type translation: table cannot find requested types.\n",
      "==============================\n",
      "*** Open Babel Warning  in Translate\n",
      "  Cannot perform atom type translation: table cannot find requested types.\n",
      "==============================\n",
      "*** Open Babel Warning  in ReadMolecule\n",
      "  This Mol2 file is non-standard. Problem with molecule: RES Cannot interpret atom types correctly, instead attempting to interpret atom type: S as elements instead.\n",
      "==============================\n",
      "*** Open Babel Warning  in Translate\n",
      "  Cannot perform atom type translation: table cannot find requested types.\n",
      "==============================\n",
      "*** Open Babel Warning  in Translate\n",
      "  Cannot perform atom type translation: table cannot find requested types.\n",
      "==============================\n",
      "*** Open Babel Warning  in ReadMolecule\n",
      "  This Mol2 file is non-standard. Problem with molecule: RES Cannot interpret atom types correctly, instead attempting to interpret atom type: S as elements instead.\n",
      "==============================\n",
      "*** Open Babel Warning  in Translate\n",
      "  Cannot perform atom type translation: table cannot find requested types.\n",
      "==============================\n",
      "*** Open Babel Warning  in Translate\n",
      "  Cannot perform atom type translation: table cannot find requested types.\n",
      "==============================\n",
      "*** Open Babel Warning  in ReadMolecule\n",
      "  This Mol2 file is non-standard. Problem with molecule: RES Cannot interpret atom types correctly, instead attempting to interpret atom type: S as elements instead.\n",
      "==============================\n",
      "*** Open Babel Warning  in Translate\n",
      "  Cannot perform atom type translation: table cannot find requested types.\n",
      "==============================\n",
      "*** Open Babel Warning  in Translate\n",
      "  Cannot perform atom type translation: table cannot find requested types.\n",
      "==============================\n",
      "*** Open Babel Warning  in ReadMolecule\n",
      "  This Mol2 file is non-standard. Problem with molecule: RES Cannot interpret atom types correctly, instead attempting to interpret atom type: S as elements instead.\n",
      "==============================\n",
      "*** Open Babel Warning  in Translate\n",
      "  Cannot perform atom type translation: table cannot find requested types.\n"
     ]
    }
   ],
   "source": [
    "mini_tiles.energy_minimize()"
   ]
  },
  {
   "cell_type": "code",
   "execution_count": 2,
   "id": "c6063aa0-4a87-4b3f-9e17-3a1c53291e78",
   "metadata": {},
   "outputs": [
    {
     "name": "stderr",
     "output_type": "stream",
     "text": [
      "/home/rramji/.conda/envs/openmm/lib/python3.9/site-packages/mbuild/conversion.py:481: UserWarning: Using parmed reader. Bonds may be inferred from inter-particle distances and standard residue templates. Please check that the bonds in mb.Compound are accurate\n",
      "  warn(\n"
     ]
    },
    {
     "data": {
      "application/3dmoljs_load.v0": "<div id=\"3dmolviewer_16667503207510118\"  style=\"position: relative; width: 640px; height: 480px\">\n        <p id=\"3dmolwarning_16667503207510118\" style=\"background-color:#ffcccc;color:black\">You appear to be running in JupyterLab (or JavaScript failed to load for some other reason).  You need to install the 3dmol extension: <br>\n        <tt>jupyter labextension install jupyterlab_3dmol</tt></p>\n        </div>\n<script>\n\nvar loadScriptAsync = function(uri){\n  return new Promise((resolve, reject) => {\n    var tag = document.createElement('script');\n    tag.src = uri;\n    tag.async = true;\n    tag.onload = () => {\n      resolve();\n    };\n  var firstScriptTag = document.getElementsByTagName('script')[0];\n  firstScriptTag.parentNode.insertBefore(tag, firstScriptTag);\n});\n};\n\nif(typeof $3Dmolpromise === 'undefined') {\n$3Dmolpromise = null;\n  $3Dmolpromise = loadScriptAsync('https://3dmol.org/build/3Dmol.js');\n}\n\nvar viewer_16667503207510118 = null;\nvar warn = document.getElementById(\"3dmolwarning_16667503207510118\");\nif(warn) {\n    warn.parentNode.removeChild(warn);\n}\n$3Dmolpromise.then(function() {\nviewer_16667503207510118 = $3Dmol.createViewer($(\"#3dmolviewer_16667503207510118\"),{backgroundColor:\"white\"});\nviewer_16667503207510118.zoomTo();\n\tviewer_16667503207510118.addModel(\"@<TRIPOS>MOLECULE\\nRES\\n21 20 1 0 1\\nSMALL\\nNO_CHARGES\\n@<TRIPOS>CRYSIN\\n    8.4524    12.7690     6.7950    90.0000    90.0000    90.0000  1  1\\n@<TRIPOS>ATOM\\n       1 C           -0.0000     5.6000     0.0000 C             1 RES     \\n       2 H           -1.1000     5.6000     0.0000 H             1 RES     \\n       3 H            1.1000     5.6000     0.0000 H             1 RES     \\n       4 C           -0.0000     4.2000     0.0000 C             1 RES     \\n       5 H           -1.1000     4.2000     0.0000 H             1 RES     \\n       6 H            1.1000     4.2000     0.0000 H             1 RES     \\n       7 C           -0.0000     2.8000     0.0000 C             1 RES     \\n       8 H           -1.1000     2.8000     0.0000 H             1 RES     \\n       9 H            1.1000     2.8000     0.0000 H             1 RES     \\n      10 C           -0.0000     1.4000     0.0000 C             1 RES     \\n      11 H           -1.1000     1.4000    -0.0000 H             1 RES     \\n      12 H            1.1000     1.4000     0.0000 H             1 RES     \\n      13 C           -0.0000     7.0000     0.0000 C             1 RES     \\n      14 H            1.0700     7.0000     0.0000 H             1 RES     \\n      15 H           -0.3570     7.7690     0.6530 H             1 RES     \\n      16 H           -0.3570     7.1810    -0.9930 H             1 RES     \\n      17 Si           0.0000     0.0000     0.0000 Si            1 RES     \\n      18 O            1.3073     0.0000     0.0000 O             1 RES     \\n      19 H            1.6345     0.0316    -0.6710 H             1 RES     \\n      20 O           -1.4502     0.1509     0.0000 O             1 RES     \\n      21 H           -1.8179     0.0683     0.8020 H             1 RES     \\n@<TRIPOS>BOND\\n       1        2        1 1\\n       2        3        1 1\\n       3        4        1 1\\n       4       13        1 1\\n       5        5        4 1\\n       6        6        4 1\\n       7        7        4 1\\n       8       14       13 1\\n       9       15       13 1\\n      10       16       13 1\\n      11        8        7 1\\n      12        9        7 1\\n      13       10        7 1\\n      14       11       10 1\\n      15       12       10 1\\n      16       17       10 1\\n      17       18       17 1\\n      18       20       17 1\\n      19       19       18 1\\n      20       21       20 1\\n@<TRIPOS>SUBSTRUCTURE\\n       1 RES             1 RESIDUE    0 **** ROOT      0\\n\",\"mol2\");\n\tviewer_16667503207510118.setStyle({\"stick\": {\"radius\": 0.2, \"color\": \"grey\"}, \"sphere\": {\"scale\": 0.3, \"colorscheme\": {}}});\n\tviewer_16667503207510118.zoomTo();\nviewer_16667503207510118.render();\n});\n</script>",
      "text/html": [
       "<div id=\"3dmolviewer_16667503207510118\"  style=\"position: relative; width: 640px; height: 480px\">\n",
       "        <p id=\"3dmolwarning_16667503207510118\" style=\"background-color:#ffcccc;color:black\">You appear to be running in JupyterLab (or JavaScript failed to load for some other reason).  You need to install the 3dmol extension: <br>\n",
       "        <tt>jupyter labextension install jupyterlab_3dmol</tt></p>\n",
       "        </div>\n",
       "<script>\n",
       "\n",
       "var loadScriptAsync = function(uri){\n",
       "  return new Promise((resolve, reject) => {\n",
       "    var tag = document.createElement('script');\n",
       "    tag.src = uri;\n",
       "    tag.async = true;\n",
       "    tag.onload = () => {\n",
       "      resolve();\n",
       "    };\n",
       "  var firstScriptTag = document.getElementsByTagName('script')[0];\n",
       "  firstScriptTag.parentNode.insertBefore(tag, firstScriptTag);\n",
       "});\n",
       "};\n",
       "\n",
       "if(typeof $3Dmolpromise === 'undefined') {\n",
       "$3Dmolpromise = null;\n",
       "  $3Dmolpromise = loadScriptAsync('https://3dmol.org/build/3Dmol.js');\n",
       "}\n",
       "\n",
       "var viewer_16667503207510118 = null;\n",
       "var warn = document.getElementById(\"3dmolwarning_16667503207510118\");\n",
       "if(warn) {\n",
       "    warn.parentNode.removeChild(warn);\n",
       "}\n",
       "$3Dmolpromise.then(function() {\n",
       "viewer_16667503207510118 = $3Dmol.createViewer($(\"#3dmolviewer_16667503207510118\"),{backgroundColor:\"white\"});\n",
       "viewer_16667503207510118.zoomTo();\n",
       "\tviewer_16667503207510118.addModel(\"@<TRIPOS>MOLECULE\\nRES\\n21 20 1 0 1\\nSMALL\\nNO_CHARGES\\n@<TRIPOS>CRYSIN\\n    8.4524    12.7690     6.7950    90.0000    90.0000    90.0000  1  1\\n@<TRIPOS>ATOM\\n       1 C           -0.0000     5.6000     0.0000 C             1 RES     \\n       2 H           -1.1000     5.6000     0.0000 H             1 RES     \\n       3 H            1.1000     5.6000     0.0000 H             1 RES     \\n       4 C           -0.0000     4.2000     0.0000 C             1 RES     \\n       5 H           -1.1000     4.2000     0.0000 H             1 RES     \\n       6 H            1.1000     4.2000     0.0000 H             1 RES     \\n       7 C           -0.0000     2.8000     0.0000 C             1 RES     \\n       8 H           -1.1000     2.8000     0.0000 H             1 RES     \\n       9 H            1.1000     2.8000     0.0000 H             1 RES     \\n      10 C           -0.0000     1.4000     0.0000 C             1 RES     \\n      11 H           -1.1000     1.4000    -0.0000 H             1 RES     \\n      12 H            1.1000     1.4000     0.0000 H             1 RES     \\n      13 C           -0.0000     7.0000     0.0000 C             1 RES     \\n      14 H            1.0700     7.0000     0.0000 H             1 RES     \\n      15 H           -0.3570     7.7690     0.6530 H             1 RES     \\n      16 H           -0.3570     7.1810    -0.9930 H             1 RES     \\n      17 Si           0.0000     0.0000     0.0000 Si            1 RES     \\n      18 O            1.3073     0.0000     0.0000 O             1 RES     \\n      19 H            1.6345     0.0316    -0.6710 H             1 RES     \\n      20 O           -1.4502     0.1509     0.0000 O             1 RES     \\n      21 H           -1.8179     0.0683     0.8020 H             1 RES     \\n@<TRIPOS>BOND\\n       1        2        1 1\\n       2        3        1 1\\n       3        4        1 1\\n       4       13        1 1\\n       5        5        4 1\\n       6        6        4 1\\n       7        7        4 1\\n       8       14       13 1\\n       9       15       13 1\\n      10       16       13 1\\n      11        8        7 1\\n      12        9        7 1\\n      13       10        7 1\\n      14       11       10 1\\n      15       12       10 1\\n      16       17       10 1\\n      17       18       17 1\\n      18       20       17 1\\n      19       19       18 1\\n      20       21       20 1\\n@<TRIPOS>SUBSTRUCTURE\\n       1 RES             1 RESIDUE    0 **** ROOT      0\\n\",\"mol2\");\n",
       "\tviewer_16667503207510118.setStyle({\"stick\": {\"radius\": 0.2, \"color\": \"grey\"}, \"sphere\": {\"scale\": 0.3, \"colorscheme\": {}}});\n",
       "\tviewer_16667503207510118.zoomTo();\n",
       "viewer_16667503207510118.render();\n",
       "});\n",
       "</script>"
      ]
     },
     "metadata": {},
     "output_type": "display_data"
    },
    {
     "data": {
      "text/plain": [
       "<py3Dmol.view at 0x7fc3e3995ee0>"
      ]
     },
     "execution_count": 2,
     "metadata": {},
     "output_type": "execute_result"
    }
   ],
   "source": [
    "slab = \n",
    "for zn in slab:\n",
    "    if zn.element.symbol == 'Zn' and round(zn.pos[2],3) == 0.545:\n",
    "        print(zn)\n",
    "        port = mb.Port(anchor=zn, orientation=[0,0,1], separation=0.05)\n",
    "        slab.add(port)"
   ]
  },
  {
   "cell_type": "code",
   "execution_count": 3,
   "id": "abd9af96-2bb4-434c-a626-10567bbfce87",
   "metadata": {},
   "outputs": [
    {
     "name": "stderr",
     "output_type": "stream",
     "text": [
      "\n",
      "\u001b[91m#######################################################\u001b[0m\n",
      "The code at conversion.py:429 requires the gmso package\n",
      "\u001b[91m#######################################################\u001b[0m\n"
     ]
    },
    {
     "ename": "DelayImportError",
     "evalue": "The code at conversion.py:429 requires the gmso package",
     "output_type": "error",
     "traceback": [
      "\u001b[0;31m---------------------------------------------------------------------------\u001b[0m",
      "\u001b[0;31mModuleNotFoundError\u001b[0m                       Traceback (most recent call last)",
      "File \u001b[0;32m~/.conda/envs/openmm/lib/python3.9/site-packages/mbuild/utils/io.py:237\u001b[0m, in \u001b[0;36mimport_\u001b[0;34m(module)\u001b[0m\n\u001b[1;32m    236\u001b[0m \u001b[38;5;28;01mtry\u001b[39;00m:\n\u001b[0;32m--> 237\u001b[0m     \u001b[38;5;28;01mreturn\u001b[39;00m \u001b[43mimportlib\u001b[49m\u001b[38;5;241;43m.\u001b[39;49m\u001b[43mimport_module\u001b[49m\u001b[43m(\u001b[49m\u001b[43mmodule\u001b[49m\u001b[43m)\u001b[49m\n\u001b[1;32m    238\u001b[0m \u001b[38;5;28;01mexcept\u001b[39;00m \u001b[38;5;167;01mImportError\u001b[39;00m \u001b[38;5;28;01mas\u001b[39;00m e:\n",
      "File \u001b[0;32m~/.conda/envs/openmm/lib/python3.9/importlib/__init__.py:127\u001b[0m, in \u001b[0;36mimport_module\u001b[0;34m(name, package)\u001b[0m\n\u001b[1;32m    126\u001b[0m         level \u001b[38;5;241m+\u001b[39m\u001b[38;5;241m=\u001b[39m \u001b[38;5;241m1\u001b[39m\n\u001b[0;32m--> 127\u001b[0m \u001b[38;5;28;01mreturn\u001b[39;00m \u001b[43m_bootstrap\u001b[49m\u001b[38;5;241;43m.\u001b[39;49m\u001b[43m_gcd_import\u001b[49m\u001b[43m(\u001b[49m\u001b[43mname\u001b[49m\u001b[43m[\u001b[49m\u001b[43mlevel\u001b[49m\u001b[43m:\u001b[49m\u001b[43m]\u001b[49m\u001b[43m,\u001b[49m\u001b[43m \u001b[49m\u001b[43mpackage\u001b[49m\u001b[43m,\u001b[49m\u001b[43m \u001b[49m\u001b[43mlevel\u001b[49m\u001b[43m)\u001b[49m\n",
      "File \u001b[0;32m<frozen importlib._bootstrap>:1030\u001b[0m, in \u001b[0;36m_gcd_import\u001b[0;34m(name, package, level)\u001b[0m\n",
      "File \u001b[0;32m<frozen importlib._bootstrap>:1007\u001b[0m, in \u001b[0;36m_find_and_load\u001b[0;34m(name, import_)\u001b[0m\n",
      "File \u001b[0;32m<frozen importlib._bootstrap>:984\u001b[0m, in \u001b[0;36m_find_and_load_unlocked\u001b[0;34m(name, import_)\u001b[0m\n",
      "\u001b[0;31mModuleNotFoundError\u001b[0m: No module named 'gmso'",
      "\nDuring handling of the above exception, another exception occurred:\n",
      "\u001b[0;31mDelayImportError\u001b[0m                          Traceback (most recent call last)",
      "Input \u001b[0;32mIn [3]\u001b[0m, in \u001b[0;36m<cell line: 4>\u001b[0;34m()\u001b[0m\n\u001b[1;32m      1\u001b[0m \u001b[38;5;28;01mimport\u001b[39;00m \u001b[38;5;21;01mmbuild\u001b[39;00m \u001b[38;5;28;01mas\u001b[39;00m \u001b[38;5;21;01mmb\u001b[39;00m\n\u001b[1;32m      2\u001b[0m \u001b[38;5;28;01mfrom\u001b[39;00m \u001b[38;5;21;01mmbuild\u001b[39;00m\u001b[38;5;21;01m.\u001b[39;00m\u001b[38;5;21;01mlib\u001b[39;00m\u001b[38;5;21;01m.\u001b[39;00m\u001b[38;5;21;01msurfaces\u001b[39;00m \u001b[38;5;28;01mimport\u001b[39;00m Betacristobalite\n\u001b[0;32m----> 4\u001b[0m surface \u001b[38;5;241m=\u001b[39m \u001b[43mBetacristobalite\u001b[49m\u001b[43m(\u001b[49m\u001b[43m)\u001b[49m\n\u001b[1;32m      5\u001b[0m tiled_surface \u001b[38;5;241m=\u001b[39m mb\u001b[38;5;241m.\u001b[39mlib\u001b[38;5;241m.\u001b[39mrecipes\u001b[38;5;241m.\u001b[39mTiledCompound(surface, n_tiles\u001b[38;5;241m=\u001b[39m(\u001b[38;5;241m2\u001b[39m, \u001b[38;5;241m1\u001b[39m, \u001b[38;5;241m1\u001b[39m))\n",
      "File \u001b[0;32m~/.conda/envs/openmm/lib/python3.9/site-packages/mbuild/lib/surfaces/betacristobalite.py:25\u001b[0m, in \u001b[0;36mBetacristobalite.__init__\u001b[0;34m(self)\u001b[0m\n\u001b[1;32m     22\u001b[0m \u001b[38;5;28;01mdef\u001b[39;00m \u001b[38;5;21m__init__\u001b[39m(\u001b[38;5;28mself\u001b[39m):\n\u001b[1;32m     23\u001b[0m     \u001b[38;5;28msuper\u001b[39m(Betacristobalite, \u001b[38;5;28mself\u001b[39m)\u001b[38;5;241m.\u001b[39m\u001b[38;5;21m__init__\u001b[39m()\n\u001b[0;32m---> 25\u001b[0m     \u001b[43mmb\u001b[49m\u001b[38;5;241;43m.\u001b[39;49m\u001b[43mload\u001b[49m\u001b[43m(\u001b[49m\n\u001b[1;32m     26\u001b[0m \u001b[43m        \u001b[49m\u001b[38;5;124;43m\"\u001b[39;49m\u001b[38;5;124;43mbeta-cristobalite-expanded.mol2\u001b[39;49m\u001b[38;5;124;43m\"\u001b[39;49m\u001b[43m,\u001b[49m\n\u001b[1;32m     27\u001b[0m \u001b[43m        \u001b[49m\u001b[43mcompound\u001b[49m\u001b[38;5;241;43m=\u001b[39;49m\u001b[38;5;28;43mself\u001b[39;49m\u001b[43m,\u001b[49m\n\u001b[1;32m     28\u001b[0m \u001b[43m        \u001b[49m\u001b[43mrelative_to_module\u001b[49m\u001b[38;5;241;43m=\u001b[39;49m\u001b[38;5;28;43mself\u001b[39;49m\u001b[38;5;241;43m.\u001b[39;49m\u001b[38;5;18;43m__module__\u001b[39;49m\u001b[43m,\u001b[49m\n\u001b[1;32m     29\u001b[0m \u001b[43m        \u001b[49m\u001b[43mbackend\u001b[49m\u001b[38;5;241;43m=\u001b[39;49m\u001b[38;5;124;43m\"\u001b[39;49m\u001b[38;5;124;43mgmso\u001b[39;49m\u001b[38;5;124;43m\"\u001b[39;49m\u001b[43m,\u001b[49m\n\u001b[1;32m     30\u001b[0m \u001b[43m    \u001b[49m\u001b[43m)\u001b[49m\n\u001b[1;32m     31\u001b[0m     \u001b[38;5;28mself\u001b[39m\u001b[38;5;241m.\u001b[39mperiodicity \u001b[38;5;241m=\u001b[39m (\u001b[38;5;28;01mTrue\u001b[39;00m, \u001b[38;5;28;01mTrue\u001b[39;00m, \u001b[38;5;28;01mFalse\u001b[39;00m)\n\u001b[1;32m     32\u001b[0m     \u001b[38;5;66;03m# 1.3200 taken from boundingbox length rounded to 4 decimal places\u001b[39;00m\n",
      "File \u001b[0;32m~/.conda/envs/openmm/lib/python3.9/site-packages/mbuild/conversion.py:127\u001b[0m, in \u001b[0;36mload\u001b[0;34m(filename_or_object, relative_to_module, compound, coords_only, rigid, smiles, infer_hierarchy, backend, ignore_box_warn, **kwargs)\u001b[0m\n\u001b[1;32m    117\u001b[0m     \u001b[38;5;28;01mreturn\u001b[39;00m load_smiles(\n\u001b[1;32m    118\u001b[0m         smiles_or_filename\u001b[38;5;241m=\u001b[39mfilename_or_object,\n\u001b[1;32m    119\u001b[0m         compound\u001b[38;5;241m=\u001b[39mcompound,\n\u001b[0;32m   (...)\u001b[0m\n\u001b[1;32m    123\u001b[0m         \u001b[38;5;241m*\u001b[39m\u001b[38;5;241m*\u001b[39mkwargs,\n\u001b[1;32m    124\u001b[0m     )\n\u001b[1;32m    125\u001b[0m \u001b[38;5;66;03m# Last, if none of the above, load from file\u001b[39;00m\n\u001b[1;32m    126\u001b[0m \u001b[38;5;28;01melse\u001b[39;00m:\n\u001b[0;32m--> 127\u001b[0m     \u001b[38;5;28;01mreturn\u001b[39;00m \u001b[43mload_file\u001b[49m\u001b[43m(\u001b[49m\n\u001b[1;32m    128\u001b[0m \u001b[43m        \u001b[49m\u001b[43mfilename\u001b[49m\u001b[38;5;241;43m=\u001b[39;49m\u001b[43mfilename_or_object\u001b[49m\u001b[43m,\u001b[49m\n\u001b[1;32m    129\u001b[0m \u001b[43m        \u001b[49m\u001b[43mrelative_to_module\u001b[49m\u001b[38;5;241;43m=\u001b[39;49m\u001b[43mrelative_to_module\u001b[49m\u001b[43m,\u001b[49m\n\u001b[1;32m    130\u001b[0m \u001b[43m        \u001b[49m\u001b[43mcompound\u001b[49m\u001b[38;5;241;43m=\u001b[39;49m\u001b[43mcompound\u001b[49m\u001b[43m,\u001b[49m\n\u001b[1;32m    131\u001b[0m \u001b[43m        \u001b[49m\u001b[43mcoords_only\u001b[49m\u001b[38;5;241;43m=\u001b[39;49m\u001b[43mcoords_only\u001b[49m\u001b[43m,\u001b[49m\n\u001b[1;32m    132\u001b[0m \u001b[43m        \u001b[49m\u001b[43mrigid\u001b[49m\u001b[38;5;241;43m=\u001b[39;49m\u001b[43mrigid\u001b[49m\u001b[43m,\u001b[49m\n\u001b[1;32m    133\u001b[0m \u001b[43m        \u001b[49m\u001b[43mbackend\u001b[49m\u001b[38;5;241;43m=\u001b[39;49m\u001b[43mbackend\u001b[49m\u001b[43m,\u001b[49m\n\u001b[1;32m    134\u001b[0m \u001b[43m        \u001b[49m\u001b[43minfer_hierarchy\u001b[49m\u001b[38;5;241;43m=\u001b[39;49m\u001b[43minfer_hierarchy\u001b[49m\u001b[43m,\u001b[49m\n\u001b[1;32m    135\u001b[0m \u001b[43m        \u001b[49m\u001b[38;5;241;43m*\u001b[39;49m\u001b[38;5;241;43m*\u001b[39;49m\u001b[43mkwargs\u001b[49m\u001b[43m,\u001b[49m\n\u001b[1;32m    136\u001b[0m \u001b[43m    \u001b[49m\u001b[43m)\u001b[49m\n",
      "File \u001b[0;32m~/.conda/envs/openmm/lib/python3.9/site-packages/mbuild/conversion.py:429\u001b[0m, in \u001b[0;36mload_file\u001b[0;34m(filename, relative_to_module, compound, coords_only, rigid, backend, infer_hierarchy, **kwargs)\u001b[0m\n\u001b[1;32m    427\u001b[0m \u001b[38;5;66;03m# Then gmso reader\u001b[39;00m\n\u001b[1;32m    428\u001b[0m \u001b[38;5;28;01mif\u001b[39;00m backend \u001b[38;5;241m==\u001b[39m \u001b[38;5;124m\"\u001b[39m\u001b[38;5;124mgmso\u001b[39m\u001b[38;5;124m\"\u001b[39m:\n\u001b[0;32m--> 429\u001b[0m     gmso \u001b[38;5;241m=\u001b[39m \u001b[43mimport_\u001b[49m\u001b[43m(\u001b[49m\u001b[38;5;124;43m\"\u001b[39;49m\u001b[38;5;124;43mgmso\u001b[39;49m\u001b[38;5;124;43m\"\u001b[39;49m\u001b[43m)\u001b[49m\n\u001b[1;32m    431\u001b[0m     top \u001b[38;5;241m=\u001b[39m gmso\u001b[38;5;241m.\u001b[39mTopology\u001b[38;5;241m.\u001b[39mload(filename\u001b[38;5;241m=\u001b[39mfilename)\n\u001b[1;32m    432\u001b[0m     compound \u001b[38;5;241m=\u001b[39m from_gmso(\n\u001b[1;32m    433\u001b[0m         topology\u001b[38;5;241m=\u001b[39mtop,\n\u001b[1;32m    434\u001b[0m         compound\u001b[38;5;241m=\u001b[39mcompound,\n\u001b[1;32m    435\u001b[0m         coords_only\u001b[38;5;241m=\u001b[39mcoords_only,\n\u001b[1;32m    436\u001b[0m         infer_hierarchy\u001b[38;5;241m=\u001b[39minfer_hierarchy,\n\u001b[1;32m    437\u001b[0m     )\n",
      "File \u001b[0;32m~/.conda/envs/openmm/lib/python3.9/site-packages/mbuild/utils/io.py:272\u001b[0m, in \u001b[0;36mimport_\u001b[0;34m(module)\u001b[0m\n\u001b[1;32m    270\u001b[0m \u001b[38;5;28mprint\u001b[39m(m, file\u001b[38;5;241m=\u001b[39msys\u001b[38;5;241m.\u001b[39mstderr)\n\u001b[1;32m    271\u001b[0m \u001b[38;5;28mprint\u001b[39m(bar, file\u001b[38;5;241m=\u001b[39msys\u001b[38;5;241m.\u001b[39mstderr)\n\u001b[0;32m--> 272\u001b[0m \u001b[38;5;28;01mraise\u001b[39;00m DelayImportError(m)\n",
      "\u001b[0;31mDelayImportError\u001b[0m: The code at conversion.py:429 requires the gmso package"
     ]
    }
   ],
   "source": [
    "import mbuild as mb\n",
    "from mbuild.lib.surfaces import Betacristobalite\n",
    "\n",
    "surface = Betacristobalite()\n",
    "tiled_surface = mb.lib.recipes.TiledCompound(surface, n_tiles=(2, 1, 1))"
   ]
  },
  {
   "cell_type": "code",
   "execution_count": null,
   "id": "fffb6d5c-1f72-415d-856a-9b4dd0c52949",
   "metadata": {},
   "outputs": [],
   "source": []
  }
 ],
 "metadata": {
  "kernelspec": {
   "display_name": "Python 3 (ipykernel)",
   "language": "python",
   "name": "python3"
  },
  "language_info": {
   "codemirror_mode": {
    "name": "ipython",
    "version": 3
   },
   "file_extension": ".py",
   "mimetype": "text/x-python",
   "name": "python",
   "nbconvert_exporter": "python",
   "pygments_lexer": "ipython3",
   "version": "3.10.5"
  }
 },
 "nbformat": 4,
 "nbformat_minor": 5
}
