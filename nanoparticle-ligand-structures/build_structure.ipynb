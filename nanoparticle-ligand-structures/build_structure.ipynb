{
 "cells": [
  {
   "cell_type": "code",
   "execution_count": 2,
   "id": "568c2fc3-6774-41fd-abf2-2c559becf42c",
   "metadata": {},
   "outputs": [
    {
     "name": "stderr",
     "output_type": "stream",
     "text": [
      "Warning: importing 'simtk.openmm' is deprecated.  Import 'openmm' instead.\n"
     ]
    }
   ],
   "source": [
    "import mbuild as mb\n",
    "from mbuild.lib.recipes import TiledCompound\n",
    "import parmed as pmd\n",
    "import numpy as np\n",
    "import openmm\n",
    "import warnings\n",
    "from scipy.spatial.distance import pdist, squareform\n",
    "import random\n",
    "from copy import deepcopy\n",
    "import openbabel as ob\n",
    "warnings.simplefilter(\"ignore\")"
   ]
  },
  {
   "cell_type": "code",
   "execution_count": 11,
   "id": "64d83bcc-7c20-4548-84a3-6e923d42346a",
   "metadata": {},
   "outputs": [],
   "source": [
    "# Randomly select N sites from `coords`, with a minimum of X distance between them\n",
    "# Usage: select_coordinates(coords, N, X)\n",
    "# clearly there are issues with this implementation, sometimes it can't find enough sites even when\n",
    "# it should be possible\n",
    "\n",
    "def select_coordinates(coords, num_to_select, min_distance):\n",
    "    num_coords = len(coords)\n",
    "    if num_to_select > num_coords:\n",
    "        print(\"Warning: Not enough coordinates available to select.\")\n",
    "        return None\n",
    "\n",
    "    distance_matrix = squareform(pdist(coords))\n",
    "\n",
    "    valid_indices = set(range(num_coords))\n",
    "    selected_indices = []\n",
    "\n",
    "    for _ in range(num_to_select):\n",
    "        if not valid_indices:\n",
    "            print(\"Warning: Unable to find enough coordinates with the given constraints.\")\n",
    "            break\n",
    "\n",
    "        index = random.choice(list(valid_indices))\n",
    "        selected_indices.append(index)\n",
    "        valid_indices.remove(index)\n",
    "\n",
    "        too_close_indices = set(np.where(distance_matrix[index] < min_distance)[0])\n",
    "        valid_indices -= too_close_indices\n",
    "\n",
    "    return selected_indices"
   ]
  },
  {
   "cell_type": "code",
   "execution_count": 77,
   "id": "b7866cfb-fcd1-43ee-a115-9d6aae1ce348",
   "metadata": {},
   "outputs": [],
   "source": [
    "test_slab = mb.load(\"ZnS.14sqnm.pdb\")\n",
    "for S in test_slab:\n",
    "    if S.element.symbol == 'S' and round(S.pos[2],3) == 0.681:\n",
    "        # print(S)\n",
    "        port = mb.Port(anchor=S, orientation=[0,0,1], separation=0.05)\n",
    "        test_slab.add(port)"
   ]
  },
  {
   "cell_type": "code",
   "execution_count": 22,
   "id": "748cf831-6e2b-407d-a37f-6825fa304ac7",
   "metadata": {
    "tags": []
   },
   "outputs": [],
   "source": [
    "# # This is where you should visualize the system if something is going wrong\n",
    "# test_slab.visualize(show_ports=True, backend=\"nglview\")"
   ]
  },
  {
   "cell_type": "code",
   "execution_count": 78,
   "id": "fcfb14db-ce3e-46b9-b5a7-86ee1dc59e3a",
   "metadata": {},
   "outputs": [],
   "source": [
    "# Get the coordinates of all the available bonding sites (surface Sulfur atoms)\n",
    "coords = [port.pos for port in test_slab.all_ports()]\n",
    "\n",
    "# Randomly select N sites from `coords`, with a minimum of X distance between them\n",
    "# select_coordinates(coords, N, X)\n",
    "# will throw a warning if unable to find specified N sites given coords + X criteria\n",
    "selected_sites = select_coordinates(coords, 28, 0.75)\n",
    "ports = [test_slab.all_ports()[site] for site in selected_sites]"
   ]
  },
  {
   "cell_type": "code",
   "execution_count": 79,
   "id": "32e97409-eda4-4b4a-8bf9-c825f725c4aa",
   "metadata": {},
   "outputs": [
    {
     "data": {
      "text/plain": [
       "28"
      ]
     },
     "execution_count": 79,
     "metadata": {},
     "output_type": "execute_result"
    }
   ],
   "source": [
    "len(ports)"
   ]
  },
  {
   "cell_type": "code",
   "execution_count": 80,
   "id": "c823007b-51bd-4cd8-9552-a7130a4d5062",
   "metadata": {},
   "outputs": [],
   "source": [
    "# At each of the selected sites, add an oleic acid ligand\n",
    "\n",
    "for site in ports:\n",
    "    #should be coo- \n",
    "    oleic = mb.load('CCCCCCCCC=CCCCCCCCC(=O)O', smiles=True)\n",
    "    oleic.add(mb.Port(anchor=oleic[18], separation=0.12, orientation=(oleic[18].pos - oleic[17].pos)))\n",
    "    mb.force_overlap(move_this=oleic,\n",
    "                     from_positions=oleic['Port[0]'],\n",
    "                     to_positions=site)\n",
    "    \n",
    "    # oleic.remove_bond((site.anchor, oleic[18]))\n",
    "    # slab.remove_bond((site.anchor, oleic[18]))\n",
    "    test_slab.add(oleic, label=\"OLC[$]\")\n",
    "\n",
    "# for some reason I left this in here?? Need to check and remove\n",
    "test_slab.rotate(np.pi, [1,1,0])\n",
    "test_slab.translate([0,0,4])"
   ]
  },
  {
   "cell_type": "code",
   "execution_count": 81,
   "id": "3f50cd2c-a329-4469-afdb-6d8d26b71c9f",
   "metadata": {},
   "outputs": [
    {
     "data": {
      "application/vnd.jupyter.widget-view+json": {
       "model_id": "a34e0a74bb0544709eabc8e766ad7d23",
       "version_major": 2,
       "version_minor": 0
      },
      "text/plain": [
       "NGLWidget()"
      ]
     },
     "metadata": {},
     "output_type": "display_data"
    }
   ],
   "source": [
    "## Visualize here to confirm that the distribution of ports is reasonable\n",
    "test_slab.visualize(backend=\"nglview\")"
   ]
  },
  {
   "cell_type": "code",
   "execution_count": null,
   "id": "325142d9-0091-40c1-9b90-068c14f16d43",
   "metadata": {},
   "outputs": [],
   "source": [
    "## convert the single slab to parmed for proper file writing (mbuild mol2 writer doesn't work)\n",
    "## write the slab file to PDB\n",
    "## create the needed openbabel objects to convert file to BGF\n",
    "\n",
    "\n",
    "# pmd_system = test_slab.to_parmed()\n",
    "# pmd_system.write_pdb(\"new_single_slab_28lig.pdb\")\n",
    "\n",
    "# ob_conversion = ob.OBConversion()\n",
    "# ob_conversion.SetInAndOutFormats(\"pdb\", \"bgf\")\n",
    "# molecule = ob.OBMol()\n",
    "\n",
    "# ob_conversion.ReadFile(molecule, \"new_single_slab_28lig.pdb\")\n",
    "# ob_conversion.WriteFile(molecule, \"new_single_slab_28lig.bgf\")"
   ]
  },
  {
   "cell_type": "code",
   "execution_count": null,
   "id": "561f81b0-0858-4044-acc3-085387ce67a5",
   "metadata": {},
   "outputs": [],
   "source": [
    "# copy the original slab\n",
    "# copy and flip to make an opposing slab\n",
    "cool_slab = deepcopy(test_slab)\n",
    "counter_slab = deepcopy(test_slab)\n",
    "counter_slab.rotate(np.pi, [1,1,0])\n",
    "counter_slab.translate([0,0,3])\n",
    "\n",
    "# use the copied slabs to create a 2-slab system\n",
    "system = mb.Compound()\n",
    "system.add(cool_slab)\n",
    "system.add(counter_slab)"
   ]
  },
  {
   "cell_type": "code",
   "execution_count": null,
   "id": "6117c330-1b22-4d06-8b2c-8188c40bab85",
   "metadata": {},
   "outputs": [],
   "source": [
    "# visualize the system\n",
    "system.visualize(backend=\"nglview\")"
   ]
  },
  {
   "cell_type": "code",
   "execution_count": null,
   "id": "19c7eca6-6b23-4844-b36e-70ed89d7122c",
   "metadata": {},
   "outputs": [],
   "source": [
    "## As before, convert to parmed, save the file, and convert format to bgf with openbabel\n",
    "\n",
    "# pmd_system = system.to_parmed()\n",
    "# pmd_system.write_pdb(\"new_doubleslab_revised.pdb\")\n",
    "\n",
    "# ob_conversion = ob.OBConversion()\n",
    "# ob_conversion.SetInAndOutFormats(\"pdb\", \"bgf\")\n",
    "# molecule = ob.OBMol()\n",
    "\n",
    "# ob_conversion.ReadFile(molecule, \"new_doubleslab_revised.pdb\")\n",
    "# ob_conversion.WriteFile(molecule, \"new_doubleslab_revised.bgf\")"
   ]
  },
  {
   "cell_type": "code",
   "execution_count": null,
   "id": "328e4f3a-c1a5-42ed-b7df-4a035dcc8371",
   "metadata": {},
   "outputs": [],
   "source": []
  },
  {
   "cell_type": "markdown",
   "id": "35de6261-c3e9-4e16-9ee4-cb3b21a414e5",
   "metadata": {},
   "source": [
    "## Unfortunately the system is too big to use with antechamber... \n",
    "\n",
    "Either need to assemble a smaller system here, ignore the missing torsion terms, manually set some stand-in torsion terms, get the torsion terms from a paper, or get the parameters from CHARMM-GUI"
   ]
  },
  {
   "cell_type": "code",
   "execution_count": 88,
   "id": "a60d3412-94cd-4bd5-bd49-ccdd4bcf5c4f",
   "metadata": {},
   "outputs": [],
   "source": [
    "small_slab = mb.load(\"ZnS_2x2.pdb\")\n",
    "for S in small_slab:\n",
    "    if S.element.symbol == 'S' and round(S.pos[2],3) == 0.681:\n",
    "        # print(S)\n",
    "        port = mb.Port(anchor=S, orientation=[0,0,1], separation=0.05)\n",
    "        small_slab.add(port)"
   ]
  },
  {
   "cell_type": "code",
   "execution_count": 89,
   "id": "25d63356-0358-4be6-a3d6-b588f6648cbf",
   "metadata": {},
   "outputs": [],
   "source": [
    "# Get the coordinates of all the available bonding sites (surface Sulfur atoms)\n",
    "coords = [port.pos for port in small_slab.all_ports()]\n",
    "\n",
    "# Randomly select N sites from `coords`, with a minimum of X distance between them\n",
    "# select_coordinates(coords, N, X)\n",
    "# will throw a warning if unable to find specified N sites given coords + X criteria\n",
    "selected_sites = select_coordinates(coords, 4, 0.75)\n",
    "ports = [small_slab.all_ports()[site] for site in selected_sites]"
   ]
  },
  {
   "cell_type": "code",
   "execution_count": 90,
   "id": "8f5f2506-118d-48bc-ba08-06af9a8fe379",
   "metadata": {},
   "outputs": [],
   "source": [
    "# At each of the selected sites, add an oleic acid ligand\n",
    "for site in ports:\n",
    "    #should be coo- \n",
    "    oleic = mb.load('CCCCCCCCC=CCCCCCCCC(=O)O', smiles=True)\n",
    "    oleic.add(mb.Port(anchor=oleic[18], separation=0.12, orientation=(oleic[18].pos - oleic[17].pos)))\n",
    "    mb.force_overlap(move_this=oleic,\n",
    "                     from_positions=oleic['Port[0]'],\n",
    "                     to_positions=site)\n",
    "    \n",
    "    # oleic.remove_bond((site.anchor, oleic[18]))\n",
    "    # slab.remove_bond((site.anchor, oleic[18]))\n",
    "    small_slab.add(oleic, label=\"OLC[$]\")"
   ]
  },
  {
   "cell_type": "code",
   "execution_count": 91,
   "id": "6d7be387-8c81-4f34-abaa-476f68bd6947",
   "metadata": {},
   "outputs": [
    {
     "data": {
      "application/vnd.jupyter.widget-view+json": {
       "model_id": "cf6f45165e5d4203ad535d65e412998c",
       "version_major": 2,
       "version_minor": 0
      },
      "text/plain": [
       "NGLWidget()"
      ]
     },
     "metadata": {},
     "output_type": "display_data"
    }
   ],
   "source": [
    "small_slab.visualize(backend=\"nglview\")"
   ]
  },
  {
   "cell_type": "markdown",
   "id": "16798407-79c3-44e9-b0ad-2141b7a25975",
   "metadata": {},
   "source": [
    "### Getting ready to incorporate the crosslinkable ligands"
   ]
  },
  {
   "cell_type": "code",
   "execution_count": 50,
   "id": "d5166569-1848-4956-84b6-f9ff64b6eeb7",
   "metadata": {},
   "outputs": [
    {
     "data": {
      "application/vnd.jupyter.widget-view+json": {
       "model_id": "8583478b1729419c96c42ae3c687a0ea",
       "version_major": 2,
       "version_minor": 0
      },
      "text/plain": [
       "NGLWidget()"
      ]
     },
     "metadata": {},
     "output_type": "display_data"
    }
   ],
   "source": [
    "xlig = mb.load(\"../monte-carlo-test/struct_file/ns-bp_crosslinkable_ligand.mol2\")\n",
    "xlig.add(mb.Port(anchor=xlig[25], separation=0.25, orientation=(xlig[25].pos - xlig[14].pos)))\n",
    "xlig.visualize(show_ports=True, backend=\"nglview\")"
   ]
  },
  {
   "cell_type": "raw",
   "id": "b45be1e6-e079-47d3-8119-3abf1be37339",
   "metadata": {},
   "source": [
    "for b in xlig.bonds():\n",
    "    print(b)"
   ]
  },
  {
   "cell_type": "raw",
   "id": "e5a1630c-8e71-4e92-a04c-2086b5a04c61",
   "metadata": {},
   "source": [
    "for i,particle in enumerate(xlig):\n",
    "    print(i, particle)"
   ]
  },
  {
   "cell_type": "markdown",
   "id": "167627bb-076b-4174-8710-2c19a81ea15e",
   "metadata": {},
   "source": [
    "## Trying to get periodicity to actually work"
   ]
  },
  {
   "cell_type": "code",
   "execution_count": null,
   "id": "27b7a734-668a-44ba-8f16-d39ff41c3c50",
   "metadata": {},
   "outputs": [],
   "source": [
    "mini_slab = mb.load(\"ZnS.mol2\")"
   ]
  },
  {
   "cell_type": "code",
   "execution_count": null,
   "id": "38242de5-1176-40e9-8e85-0e9706fb7d4a",
   "metadata": {},
   "outputs": [],
   "source": [
    "mini_slab.visualize()"
   ]
  },
  {
   "cell_type": "code",
   "execution_count": null,
   "id": "160e2f95-015c-4552-bed1-68fae6396869",
   "metadata": {},
   "outputs": [],
   "source": [
    "mini_slab"
   ]
  },
  {
   "cell_type": "code",
   "execution_count": null,
   "id": "118edeef-1e60-4908-8d13-5439981ba405",
   "metadata": {},
   "outputs": [],
   "source": [
    "for i in mini_slab:\n",
    "    print(i.pos)"
   ]
  },
  {
   "cell_type": "code",
   "execution_count": 80,
   "id": "c4fc1e92-dc7a-4856-bcc0-67d8dab81473",
   "metadata": {},
   "outputs": [],
   "source": [
    "unit_cell = mb.Box([0.545027, 0.545027, 0.545027], [90, 90, 90])"
   ]
  },
  {
   "cell_type": "code",
   "execution_count": 81,
   "id": "324593aa-458f-42e2-9b08-3fe2734c3a0d",
   "metadata": {},
   "outputs": [],
   "source": [
    "mini_slab.box = unit_cell"
   ]
  },
  {
   "cell_type": "code",
   "execution_count": 82,
   "id": "90c3e90d-ed9a-4763-bb20-f87b2b709e2d",
   "metadata": {},
   "outputs": [
    {
     "data": {
      "text/plain": [
       "<Compound 46 particles, System box: Box: Lx=0.545027, Ly=0.545027, Lz=0.545027, xy=0.000000, xz=0.000000, yz=0.000000, , 56 bonds, id: 140311922202704>"
      ]
     },
     "execution_count": 82,
     "metadata": {},
     "output_type": "execute_result"
    }
   ],
   "source": [
    "mini_slab"
   ]
  },
  {
   "cell_type": "code",
   "execution_count": 83,
   "id": "4617926e-0d2d-468d-b95b-dd0616be1f15",
   "metadata": {},
   "outputs": [],
   "source": [
    "mini_slab.periodicity=(True,True,True)"
   ]
  },
  {
   "cell_type": "raw",
   "id": "39f93e13-cc2e-4fbf-a48f-9decc235a9af",
   "metadata": {},
   "source": [
    "mini_slab.visualize()"
   ]
  },
  {
   "cell_type": "raw",
   "id": "a621495f-0ee2-46c4-80e9-051d410d4df5",
   "metadata": {},
   "source": [
    "mini_tiles = TiledCompound(mini_slab, (2,1,1))\n",
    "mini_tiles.visualize()"
   ]
  },
  {
   "cell_type": "code",
   "execution_count": 85,
   "id": "fb73cfee-02e3-445f-bbf8-562ab1f1964b",
   "metadata": {},
   "outputs": [
    {
     "data": {
      "text/plain": [
       "<Compound2-1-1 92 particles, System box: Box: Lx=1.090054, Ly=0.545027, Lz=0.545027, xy=0.000000, xz=0.000000, yz=0.000000, , 112 bonds, id: 140311789801536>"
      ]
     },
     "execution_count": 85,
     "metadata": {},
     "output_type": "execute_result"
    }
   ],
   "source": [
    "mini_tiles"
   ]
  },
  {
   "cell_type": "code",
   "execution_count": 65,
   "id": "9faee13d-318c-4301-9891-17ce060e0487",
   "metadata": {},
   "outputs": [
    {
     "data": {
      "text/plain": [
       "array([0., 0., 0.])"
      ]
     },
     "execution_count": 65,
     "metadata": {},
     "output_type": "execute_result"
    }
   ],
   "source": [
    "mini_tiles[0].pos"
   ]
  },
  {
   "cell_type": "code",
   "execution_count": 75,
   "id": "ae09a94b-a735-4dec-bf69-35fbcdcab1c7",
   "metadata": {},
   "outputs": [
    {
     "data": {
      "text/plain": [
       "[0.0, 0.0, 0.0]"
      ]
     },
     "execution_count": 75,
     "metadata": {},
     "output_type": "execute_result"
    }
   ],
   "source": [
    "pos1 = [round(p,2) for p in mini_tiles[0].pos]\n",
    "pos1"
   ]
  },
  {
   "cell_type": "raw",
   "id": "ef7e22f4-3f54-40f2-b9e6-f069aa4bd4f1",
   "metadata": {},
   "source": [
    "matches = []\n",
    "for i,part1 in enumerate(mini_tiles):\n",
    "    pos1 = [round(p,1) for p in part1.pos]\n",
    "    for j,part2 in enumerate(mini_tiles):\n",
    "        pos2 = [round(p,1) for p in part2.pos]\n",
    "        if j != i and (part1,part2) not in matches and (part2,part1) not in matches:\n",
    "            if pos1 == pos2:\n",
    "                print(i,j, part1.pos)\n",
    "                matches.append([part1,part2))"
   ]
  },
  {
   "cell_type": "code",
   "execution_count": 93,
   "id": "071dfd43-257b-4355-b10d-bb6fa979d0d5",
   "metadata": {},
   "outputs": [],
   "source": [
    "for match in matches:\n",
    "    mini_tiles.remove(match[1])"
   ]
  },
  {
   "cell_type": "code",
   "execution_count": 94,
   "id": "2cc8f3ed-2619-478d-be02-d74d55f27294",
   "metadata": {},
   "outputs": [
    {
     "data": {
      "text/plain": [
       "<Compound2-1-1 71 particles, System box: Box: Lx=1.090054, Ly=0.545027, Lz=0.545027, xy=0.000000, xz=0.000000, yz=0.000000, , 84 bonds, id: 140311789801536>"
      ]
     },
     "execution_count": 94,
     "metadata": {},
     "output_type": "execute_result"
    }
   ],
   "source": [
    "mini_tiles"
   ]
  },
  {
   "cell_type": "raw",
   "id": "338a5433-9f07-4e95-99ec-a9689da3afd9",
   "metadata": {},
   "source": [
    "mini_tiles.visualize(show_ports=True)"
   ]
  },
  {
   "cell_type": "code",
   "execution_count": null,
   "id": "b1a945da-8585-4de6-8e39-626eab4edf15",
   "metadata": {},
   "outputs": [],
   "source": [
    "for port in mini_tiles.all_ports()"
   ]
  },
  {
   "cell_type": "raw",
   "id": "c340d373-4390-4e4c-84bd-47932d4b6118",
   "metadata": {},
   "source": [
    "mini_tiles.all_ports()"
   ]
  },
  {
   "cell_type": "code",
   "execution_count": 78,
   "id": "7d1e7eab-68a7-4a03-aea7-25b65fd58243",
   "metadata": {},
   "outputs": [],
   "source": [
    "mini_tiles.save(\"min_test.xyz\")"
   ]
  },
  {
   "cell_type": "code",
   "execution_count": 79,
   "id": "d6e6bbd9-e1c9-4afe-b596-f72f01a9809a",
   "metadata": {
    "collapsed": true,
    "jupyter": {
     "outputs_hidden": true
    },
    "tags": []
   },
   "outputs": [
    {
     "name": "stderr",
     "output_type": "stream",
     "text": [
      "==============================\n",
      "*** Open Babel Warning  in Translate\n",
      "  Cannot perform atom type translation: table cannot find requested types.\n",
      "==============================\n",
      "*** Open Babel Warning  in Translate\n",
      "  Cannot perform atom type translation: table cannot find requested types.\n",
      "==============================\n",
      "*** Open Babel Warning  in Translate\n",
      "  Cannot perform atom type translation: table cannot find requested types.\n",
      "==============================\n",
      "*** Open Babel Warning  in Translate\n",
      "  Cannot perform atom type translation: table cannot find requested types.\n",
      "==============================\n",
      "*** Open Babel Warning  in Translate\n",
      "  Cannot perform atom type translation: table cannot find requested types.\n",
      "==============================\n",
      "*** Open Babel Warning  in Translate\n",
      "  Cannot perform atom type translation: table cannot find requested types.\n",
      "==============================\n",
      "*** Open Babel Warning  in Translate\n",
      "  Cannot perform atom type translation: table cannot find requested types.\n",
      "==============================\n",
      "*** Open Babel Warning  in Translate\n",
      "  Cannot perform atom type translation: table cannot find requested types.\n",
      "==============================\n",
      "*** Open Babel Warning  in Translate\n",
      "  Cannot perform atom type translation: table cannot find requested types.\n",
      "==============================\n",
      "*** Open Babel Warning  in Translate\n",
      "  Cannot perform atom type translation: table cannot find requested types.\n",
      "==============================\n",
      "*** Open Babel Warning  in Translate\n",
      "  Cannot perform atom type translation: table cannot find requested types.\n",
      "==============================\n",
      "*** Open Babel Warning  in Translate\n",
      "  Cannot perform atom type translation: table cannot find requested types.\n",
      "==============================\n",
      "*** Open Babel Warning  in Translate\n",
      "  Cannot perform atom type translation: table cannot find requested types.\n",
      "==============================\n",
      "*** Open Babel Warning  in Translate\n",
      "  Cannot perform atom type translation: table cannot find requested types.\n",
      "==============================\n",
      "*** Open Babel Warning  in Translate\n",
      "  Cannot perform atom type translation: table cannot find requested types.\n",
      "==============================\n",
      "*** Open Babel Warning  in ReadMolecule\n",
      "  This Mol2 file is non-standard. Problem with molecule: RES Cannot interpret atom types correctly, instead attempting to interpret atom type: S as elements instead.\n",
      "==============================\n",
      "*** Open Babel Warning  in Translate\n",
      "  Cannot perform atom type translation: table cannot find requested types.\n",
      "==============================\n",
      "*** Open Babel Warning  in Translate\n",
      "  Cannot perform atom type translation: table cannot find requested types.\n",
      "==============================\n",
      "*** Open Babel Warning  in ReadMolecule\n",
      "  This Mol2 file is non-standard. Problem with molecule: RES Cannot interpret atom types correctly, instead attempting to interpret atom type: S as elements instead.\n",
      "==============================\n",
      "*** Open Babel Warning  in Translate\n",
      "  Cannot perform atom type translation: table cannot find requested types.\n",
      "==============================\n",
      "*** Open Babel Warning  in Translate\n",
      "  Cannot perform atom type translation: table cannot find requested types.\n",
      "==============================\n",
      "*** Open Babel Warning  in ReadMolecule\n",
      "  This Mol2 file is non-standard. Problem with molecule: RES Cannot interpret atom types correctly, instead attempting to interpret atom type: S as elements instead.\n",
      "==============================\n",
      "*** Open Babel Warning  in Translate\n",
      "  Cannot perform atom type translation: table cannot find requested types.\n",
      "==============================\n",
      "*** Open Babel Warning  in Translate\n",
      "  Cannot perform atom type translation: table cannot find requested types.\n",
      "==============================\n",
      "*** Open Babel Warning  in ReadMolecule\n",
      "  This Mol2 file is non-standard. Problem with molecule: RES Cannot interpret atom types correctly, instead attempting to interpret atom type: S as elements instead.\n",
      "==============================\n",
      "*** Open Babel Warning  in Translate\n",
      "  Cannot perform atom type translation: table cannot find requested types.\n",
      "==============================\n",
      "*** Open Babel Warning  in Translate\n",
      "  Cannot perform atom type translation: table cannot find requested types.\n",
      "==============================\n",
      "*** Open Babel Warning  in ReadMolecule\n",
      "  This Mol2 file is non-standard. Problem with molecule: RES Cannot interpret atom types correctly, instead attempting to interpret atom type: S as elements instead.\n",
      "==============================\n",
      "*** Open Babel Warning  in Translate\n",
      "  Cannot perform atom type translation: table cannot find requested types.\n",
      "==============================\n",
      "*** Open Babel Warning  in Translate\n",
      "  Cannot perform atom type translation: table cannot find requested types.\n",
      "==============================\n",
      "*** Open Babel Warning  in ReadMolecule\n",
      "  This Mol2 file is non-standard. Problem with molecule: RES Cannot interpret atom types correctly, instead attempting to interpret atom type: S as elements instead.\n",
      "==============================\n",
      "*** Open Babel Warning  in Translate\n",
      "  Cannot perform atom type translation: table cannot find requested types.\n",
      "==============================\n",
      "*** Open Babel Warning  in Translate\n",
      "  Cannot perform atom type translation: table cannot find requested types.\n",
      "==============================\n",
      "*** Open Babel Warning  in ReadMolecule\n",
      "  This Mol2 file is non-standard. Problem with molecule: RES Cannot interpret atom types correctly, instead attempting to interpret atom type: S as elements instead.\n",
      "==============================\n",
      "*** Open Babel Warning  in Translate\n",
      "  Cannot perform atom type translation: table cannot find requested types.\n",
      "==============================\n",
      "*** Open Babel Warning  in Translate\n",
      "  Cannot perform atom type translation: table cannot find requested types.\n",
      "==============================\n",
      "*** Open Babel Warning  in ReadMolecule\n",
      "  This Mol2 file is non-standard. Problem with molecule: RES Cannot interpret atom types correctly, instead attempting to interpret atom type: S as elements instead.\n",
      "==============================\n",
      "*** Open Babel Warning  in Translate\n",
      "  Cannot perform atom type translation: table cannot find requested types.\n",
      "==============================\n",
      "*** Open Babel Warning  in Translate\n",
      "  Cannot perform atom type translation: table cannot find requested types.\n",
      "==============================\n",
      "*** Open Babel Warning  in ReadMolecule\n",
      "  This Mol2 file is non-standard. Problem with molecule: RES Cannot interpret atom types correctly, instead attempting to interpret atom type: S as elements instead.\n",
      "==============================\n",
      "*** Open Babel Warning  in Translate\n",
      "  Cannot perform atom type translation: table cannot find requested types.\n",
      "==============================\n",
      "*** Open Babel Warning  in Translate\n",
      "  Cannot perform atom type translation: table cannot find requested types.\n",
      "==============================\n",
      "*** Open Babel Warning  in ReadMolecule\n",
      "  This Mol2 file is non-standard. Problem with molecule: RES Cannot interpret atom types correctly, instead attempting to interpret atom type: S as elements instead.\n",
      "==============================\n",
      "*** Open Babel Warning  in Translate\n",
      "  Cannot perform atom type translation: table cannot find requested types.\n",
      "==============================\n",
      "*** Open Babel Warning  in Translate\n",
      "  Cannot perform atom type translation: table cannot find requested types.\n",
      "==============================\n",
      "*** Open Babel Warning  in ReadMolecule\n",
      "  This Mol2 file is non-standard. Problem with molecule: RES Cannot interpret atom types correctly, instead attempting to interpret atom type: S as elements instead.\n",
      "==============================\n",
      "*** Open Babel Warning  in Translate\n",
      "  Cannot perform atom type translation: table cannot find requested types.\n",
      "==============================\n",
      "*** Open Babel Warning  in Translate\n",
      "  Cannot perform atom type translation: table cannot find requested types.\n",
      "==============================\n",
      "*** Open Babel Warning  in ReadMolecule\n",
      "  This Mol2 file is non-standard. Problem with molecule: RES Cannot interpret atom types correctly, instead attempting to interpret atom type: S as elements instead.\n",
      "==============================\n",
      "*** Open Babel Warning  in Translate\n",
      "  Cannot perform atom type translation: table cannot find requested types.\n",
      "==============================\n",
      "*** Open Babel Warning  in Translate\n",
      "  Cannot perform atom type translation: table cannot find requested types.\n",
      "==============================\n",
      "*** Open Babel Warning  in ReadMolecule\n",
      "  This Mol2 file is non-standard. Problem with molecule: RES Cannot interpret atom types correctly, instead attempting to interpret atom type: S as elements instead.\n",
      "==============================\n",
      "*** Open Babel Warning  in Translate\n",
      "  Cannot perform atom type translation: table cannot find requested types.\n",
      "==============================\n",
      "*** Open Babel Warning  in Translate\n",
      "  Cannot perform atom type translation: table cannot find requested types.\n",
      "==============================\n",
      "*** Open Babel Warning  in ReadMolecule\n",
      "  This Mol2 file is non-standard. Problem with molecule: RES Cannot interpret atom types correctly, instead attempting to interpret atom type: S as elements instead.\n",
      "==============================\n",
      "*** Open Babel Warning  in Translate\n",
      "  Cannot perform atom type translation: table cannot find requested types.\n",
      "==============================\n",
      "*** Open Babel Warning  in Translate\n",
      "  Cannot perform atom type translation: table cannot find requested types.\n",
      "==============================\n",
      "*** Open Babel Warning  in ReadMolecule\n",
      "  This Mol2 file is non-standard. Problem with molecule: RES Cannot interpret atom types correctly, instead attempting to interpret atom type: S as elements instead.\n",
      "==============================\n",
      "*** Open Babel Warning  in Translate\n",
      "  Cannot perform atom type translation: table cannot find requested types.\n",
      "==============================\n",
      "*** Open Babel Warning  in Translate\n",
      "  Cannot perform atom type translation: table cannot find requested types.\n",
      "==============================\n",
      "*** Open Babel Warning  in ReadMolecule\n",
      "  This Mol2 file is non-standard. Problem with molecule: RES Cannot interpret atom types correctly, instead attempting to interpret atom type: S as elements instead.\n",
      "==============================\n",
      "*** Open Babel Warning  in Translate\n",
      "  Cannot perform atom type translation: table cannot find requested types.\n",
      "==============================\n",
      "*** Open Babel Warning  in Translate\n",
      "  Cannot perform atom type translation: table cannot find requested types.\n",
      "==============================\n",
      "*** Open Babel Warning  in ReadMolecule\n",
      "  This Mol2 file is non-standard. Problem with molecule: RES Cannot interpret atom types correctly, instead attempting to interpret atom type: S as elements instead.\n",
      "==============================\n",
      "*** Open Babel Warning  in Translate\n",
      "  Cannot perform atom type translation: table cannot find requested types.\n",
      "==============================\n",
      "*** Open Babel Warning  in Translate\n",
      "  Cannot perform atom type translation: table cannot find requested types.\n",
      "==============================\n",
      "*** Open Babel Warning  in ReadMolecule\n",
      "  This Mol2 file is non-standard. Problem with molecule: RES Cannot interpret atom types correctly, instead attempting to interpret atom type: S as elements instead.\n",
      "==============================\n",
      "*** Open Babel Warning  in Translate\n",
      "  Cannot perform atom type translation: table cannot find requested types.\n",
      "==============================\n",
      "*** Open Babel Warning  in Translate\n",
      "  Cannot perform atom type translation: table cannot find requested types.\n",
      "==============================\n",
      "*** Open Babel Warning  in ReadMolecule\n",
      "  This Mol2 file is non-standard. Problem with molecule: RES Cannot interpret atom types correctly, instead attempting to interpret atom type: S as elements instead.\n",
      "==============================\n",
      "*** Open Babel Warning  in Translate\n",
      "  Cannot perform atom type translation: table cannot find requested types.\n",
      "==============================\n",
      "*** Open Babel Warning  in Translate\n",
      "  Cannot perform atom type translation: table cannot find requested types.\n",
      "==============================\n",
      "*** Open Babel Warning  in ReadMolecule\n",
      "  This Mol2 file is non-standard. Problem with molecule: RES Cannot interpret atom types correctly, instead attempting to interpret atom type: S as elements instead.\n",
      "==============================\n",
      "*** Open Babel Warning  in Translate\n",
      "  Cannot perform atom type translation: table cannot find requested types.\n",
      "==============================\n",
      "*** Open Babel Warning  in Translate\n",
      "  Cannot perform atom type translation: table cannot find requested types.\n",
      "==============================\n",
      "*** Open Babel Warning  in ReadMolecule\n",
      "  This Mol2 file is non-standard. Problem with molecule: RES Cannot interpret atom types correctly, instead attempting to interpret atom type: S as elements instead.\n",
      "==============================\n",
      "*** Open Babel Warning  in Translate\n",
      "  Cannot perform atom type translation: table cannot find requested types.\n",
      "==============================\n",
      "*** Open Babel Warning  in Translate\n",
      "  Cannot perform atom type translation: table cannot find requested types.\n",
      "==============================\n",
      "*** Open Babel Warning  in ReadMolecule\n",
      "  This Mol2 file is non-standard. Problem with molecule: RES Cannot interpret atom types correctly, instead attempting to interpret atom type: S as elements instead.\n",
      "==============================\n",
      "*** Open Babel Warning  in Translate\n",
      "  Cannot perform atom type translation: table cannot find requested types.\n",
      "==============================\n",
      "*** Open Babel Warning  in Translate\n",
      "  Cannot perform atom type translation: table cannot find requested types.\n",
      "==============================\n",
      "*** Open Babel Warning  in ReadMolecule\n",
      "  This Mol2 file is non-standard. Problem with molecule: RES Cannot interpret atom types correctly, instead attempting to interpret atom type: S as elements instead.\n",
      "==============================\n",
      "*** Open Babel Warning  in Translate\n",
      "  Cannot perform atom type translation: table cannot find requested types.\n",
      "==============================\n",
      "*** Open Babel Warning  in Translate\n",
      "  Cannot perform atom type translation: table cannot find requested types.\n",
      "==============================\n",
      "*** Open Babel Warning  in ReadMolecule\n",
      "  This Mol2 file is non-standard. Problem with molecule: RES Cannot interpret atom types correctly, instead attempting to interpret atom type: S as elements instead.\n",
      "==============================\n",
      "*** Open Babel Warning  in Translate\n",
      "  Cannot perform atom type translation: table cannot find requested types.\n",
      "==============================\n",
      "*** Open Babel Warning  in Translate\n",
      "  Cannot perform atom type translation: table cannot find requested types.\n",
      "==============================\n",
      "*** Open Babel Warning  in ReadMolecule\n",
      "  This Mol2 file is non-standard. Problem with molecule: RES Cannot interpret atom types correctly, instead attempting to interpret atom type: S as elements instead.\n",
      "==============================\n",
      "*** Open Babel Warning  in Translate\n",
      "  Cannot perform atom type translation: table cannot find requested types.\n",
      "==============================\n",
      "*** Open Babel Warning  in Translate\n",
      "  Cannot perform atom type translation: table cannot find requested types.\n",
      "==============================\n",
      "*** Open Babel Warning  in ReadMolecule\n",
      "  This Mol2 file is non-standard. Problem with molecule: RES Cannot interpret atom types correctly, instead attempting to interpret atom type: S as elements instead.\n",
      "==============================\n",
      "*** Open Babel Warning  in Translate\n",
      "  Cannot perform atom type translation: table cannot find requested types.\n",
      "==============================\n",
      "*** Open Babel Warning  in Translate\n",
      "  Cannot perform atom type translation: table cannot find requested types.\n",
      "==============================\n",
      "*** Open Babel Warning  in ReadMolecule\n",
      "  This Mol2 file is non-standard. Problem with molecule: RES Cannot interpret atom types correctly, instead attempting to interpret atom type: S as elements instead.\n",
      "==============================\n",
      "*** Open Babel Warning  in Translate\n",
      "  Cannot perform atom type translation: table cannot find requested types.\n",
      "==============================\n",
      "*** Open Babel Warning  in Translate\n",
      "  Cannot perform atom type translation: table cannot find requested types.\n",
      "==============================\n",
      "*** Open Babel Warning  in ReadMolecule\n",
      "  This Mol2 file is non-standard. Problem with molecule: RES Cannot interpret atom types correctly, instead attempting to interpret atom type: S as elements instead.\n",
      "==============================\n",
      "*** Open Babel Warning  in Translate\n",
      "  Cannot perform atom type translation: table cannot find requested types.\n",
      "==============================\n",
      "*** Open Babel Warning  in Translate\n",
      "  Cannot perform atom type translation: table cannot find requested types.\n",
      "==============================\n",
      "*** Open Babel Warning  in ReadMolecule\n",
      "  This Mol2 file is non-standard. Problem with molecule: RES Cannot interpret atom types correctly, instead attempting to interpret atom type: S as elements instead.\n",
      "==============================\n",
      "*** Open Babel Warning  in Translate\n",
      "  Cannot perform atom type translation: table cannot find requested types.\n",
      "==============================\n",
      "*** Open Babel Warning  in Translate\n",
      "  Cannot perform atom type translation: table cannot find requested types.\n",
      "==============================\n",
      "*** Open Babel Warning  in ReadMolecule\n",
      "  This Mol2 file is non-standard. Problem with molecule: RES Cannot interpret atom types correctly, instead attempting to interpret atom type: S as elements instead.\n",
      "==============================\n",
      "*** Open Babel Warning  in Translate\n",
      "  Cannot perform atom type translation: table cannot find requested types.\n",
      "==============================\n",
      "*** Open Babel Warning  in Translate\n",
      "  Cannot perform atom type translation: table cannot find requested types.\n",
      "==============================\n",
      "*** Open Babel Warning  in ReadMolecule\n",
      "  This Mol2 file is non-standard. Problem with molecule: RES Cannot interpret atom types correctly, instead attempting to interpret atom type: S as elements instead.\n",
      "==============================\n",
      "*** Open Babel Warning  in Translate\n",
      "  Cannot perform atom type translation: table cannot find requested types.\n",
      "==============================\n",
      "*** Open Babel Warning  in Translate\n",
      "  Cannot perform atom type translation: table cannot find requested types.\n",
      "==============================\n",
      "*** Open Babel Warning  in ReadMolecule\n",
      "  This Mol2 file is non-standard. Problem with molecule: RES Cannot interpret atom types correctly, instead attempting to interpret atom type: S as elements instead.\n",
      "==============================\n",
      "*** Open Babel Warning  in Translate\n",
      "  Cannot perform atom type translation: table cannot find requested types.\n",
      "==============================\n",
      "*** Open Babel Warning  in Translate\n",
      "  Cannot perform atom type translation: table cannot find requested types.\n",
      "==============================\n",
      "*** Open Babel Warning  in Translate\n",
      "  Cannot perform atom type translation: table cannot find requested types.\n",
      "==============================\n",
      "*** Open Babel Warning  in Translate\n",
      "  Cannot perform atom type translation: table cannot find requested types.\n",
      "==============================\n",
      "*** Open Babel Warning  in Translate\n",
      "  Cannot perform atom type translation: table cannot find requested types.\n",
      "==============================\n",
      "*** Open Babel Warning  in Translate\n",
      "  Cannot perform atom type translation: table cannot find requested types.\n",
      "==============================\n",
      "*** Open Babel Warning  in Translate\n",
      "  Cannot perform atom type translation: table cannot find requested types.\n",
      "==============================\n",
      "*** Open Babel Warning  in Translate\n",
      "  Cannot perform atom type translation: table cannot find requested types.\n",
      "==============================\n",
      "*** Open Babel Warning  in Translate\n",
      "  Cannot perform atom type translation: table cannot find requested types.\n",
      "==============================\n",
      "*** Open Babel Warning  in Translate\n",
      "  Cannot perform atom type translation: table cannot find requested types.\n",
      "==============================\n",
      "*** Open Babel Warning  in Translate\n",
      "  Cannot perform atom type translation: table cannot find requested types.\n",
      "==============================\n",
      "*** Open Babel Warning  in Translate\n",
      "  Cannot perform atom type translation: table cannot find requested types.\n",
      "==============================\n",
      "*** Open Babel Warning  in Translate\n",
      "  Cannot perform atom type translation: table cannot find requested types.\n",
      "==============================\n",
      "*** Open Babel Warning  in Translate\n",
      "  Cannot perform atom type translation: table cannot find requested types.\n",
      "==============================\n",
      "*** Open Babel Warning  in Translate\n",
      "  Cannot perform atom type translation: table cannot find requested types.\n",
      "==============================\n",
      "*** Open Babel Warning  in Translate\n",
      "  Cannot perform atom type translation: table cannot find requested types.\n",
      "==============================\n",
      "*** Open Babel Warning  in ReadMolecule\n",
      "  This Mol2 file is non-standard. Problem with molecule: RES Cannot interpret atom types correctly, instead attempting to interpret atom type: S as elements instead.\n",
      "==============================\n",
      "*** Open Babel Warning  in Translate\n",
      "  Cannot perform atom type translation: table cannot find requested types.\n",
      "==============================\n",
      "*** Open Babel Warning  in Translate\n",
      "  Cannot perform atom type translation: table cannot find requested types.\n",
      "==============================\n",
      "*** Open Babel Warning  in ReadMolecule\n",
      "  This Mol2 file is non-standard. Problem with molecule: RES Cannot interpret atom types correctly, instead attempting to interpret atom type: S as elements instead.\n",
      "==============================\n",
      "*** Open Babel Warning  in Translate\n",
      "  Cannot perform atom type translation: table cannot find requested types.\n",
      "==============================\n",
      "*** Open Babel Warning  in Translate\n",
      "  Cannot perform atom type translation: table cannot find requested types.\n",
      "==============================\n",
      "*** Open Babel Warning  in ReadMolecule\n",
      "  This Mol2 file is non-standard. Problem with molecule: RES Cannot interpret atom types correctly, instead attempting to interpret atom type: S as elements instead.\n",
      "==============================\n",
      "*** Open Babel Warning  in Translate\n",
      "  Cannot perform atom type translation: table cannot find requested types.\n",
      "==============================\n",
      "*** Open Babel Warning  in Translate\n",
      "  Cannot perform atom type translation: table cannot find requested types.\n",
      "==============================\n",
      "*** Open Babel Warning  in ReadMolecule\n",
      "  This Mol2 file is non-standard. Problem with molecule: RES Cannot interpret atom types correctly, instead attempting to interpret atom type: S as elements instead.\n",
      "==============================\n",
      "*** Open Babel Warning  in Translate\n",
      "  Cannot perform atom type translation: table cannot find requested types.\n",
      "==============================\n",
      "*** Open Babel Warning  in Translate\n",
      "  Cannot perform atom type translation: table cannot find requested types.\n",
      "==============================\n",
      "*** Open Babel Warning  in ReadMolecule\n",
      "  This Mol2 file is non-standard. Problem with molecule: RES Cannot interpret atom types correctly, instead attempting to interpret atom type: S as elements instead.\n",
      "==============================\n",
      "*** Open Babel Warning  in Translate\n",
      "  Cannot perform atom type translation: table cannot find requested types.\n",
      "==============================\n",
      "*** Open Babel Warning  in Translate\n",
      "  Cannot perform atom type translation: table cannot find requested types.\n",
      "==============================\n",
      "*** Open Babel Warning  in ReadMolecule\n",
      "  This Mol2 file is non-standard. Problem with molecule: RES Cannot interpret atom types correctly, instead attempting to interpret atom type: S as elements instead.\n",
      "==============================\n",
      "*** Open Babel Warning  in Translate\n",
      "  Cannot perform atom type translation: table cannot find requested types.\n",
      "==============================\n",
      "*** Open Babel Warning  in Translate\n",
      "  Cannot perform atom type translation: table cannot find requested types.\n",
      "==============================\n",
      "*** Open Babel Warning  in ReadMolecule\n",
      "  This Mol2 file is non-standard. Problem with molecule: RES Cannot interpret atom types correctly, instead attempting to interpret atom type: S as elements instead.\n",
      "==============================\n",
      "*** Open Babel Warning  in Translate\n",
      "  Cannot perform atom type translation: table cannot find requested types.\n",
      "==============================\n",
      "*** Open Babel Warning  in Translate\n",
      "  Cannot perform atom type translation: table cannot find requested types.\n",
      "==============================\n",
      "*** Open Babel Warning  in ReadMolecule\n",
      "  This Mol2 file is non-standard. Problem with molecule: RES Cannot interpret atom types correctly, instead attempting to interpret atom type: S as elements instead.\n",
      "==============================\n",
      "*** Open Babel Warning  in Translate\n",
      "  Cannot perform atom type translation: table cannot find requested types.\n",
      "==============================\n",
      "*** Open Babel Warning  in Translate\n",
      "  Cannot perform atom type translation: table cannot find requested types.\n",
      "==============================\n",
      "*** Open Babel Warning  in ReadMolecule\n",
      "  This Mol2 file is non-standard. Problem with molecule: RES Cannot interpret atom types correctly, instead attempting to interpret atom type: S as elements instead.\n",
      "==============================\n",
      "*** Open Babel Warning  in Translate\n",
      "  Cannot perform atom type translation: table cannot find requested types.\n",
      "==============================\n",
      "*** Open Babel Warning  in Translate\n",
      "  Cannot perform atom type translation: table cannot find requested types.\n",
      "==============================\n",
      "*** Open Babel Warning  in ReadMolecule\n",
      "  This Mol2 file is non-standard. Problem with molecule: RES Cannot interpret atom types correctly, instead attempting to interpret atom type: S as elements instead.\n",
      "==============================\n",
      "*** Open Babel Warning  in Translate\n",
      "  Cannot perform atom type translation: table cannot find requested types.\n",
      "==============================\n",
      "*** Open Babel Warning  in Translate\n",
      "  Cannot perform atom type translation: table cannot find requested types.\n",
      "==============================\n",
      "*** Open Babel Warning  in ReadMolecule\n",
      "  This Mol2 file is non-standard. Problem with molecule: RES Cannot interpret atom types correctly, instead attempting to interpret atom type: S as elements instead.\n",
      "==============================\n",
      "*** Open Babel Warning  in Translate\n",
      "  Cannot perform atom type translation: table cannot find requested types.\n",
      "==============================\n",
      "*** Open Babel Warning  in Translate\n",
      "  Cannot perform atom type translation: table cannot find requested types.\n",
      "==============================\n",
      "*** Open Babel Warning  in ReadMolecule\n",
      "  This Mol2 file is non-standard. Problem with molecule: RES Cannot interpret atom types correctly, instead attempting to interpret atom type: S as elements instead.\n",
      "==============================\n",
      "*** Open Babel Warning  in Translate\n",
      "  Cannot perform atom type translation: table cannot find requested types.\n",
      "==============================\n",
      "*** Open Babel Warning  in Translate\n",
      "  Cannot perform atom type translation: table cannot find requested types.\n",
      "==============================\n",
      "*** Open Babel Warning  in ReadMolecule\n",
      "  This Mol2 file is non-standard. Problem with molecule: RES Cannot interpret atom types correctly, instead attempting to interpret atom type: S as elements instead.\n",
      "==============================\n",
      "*** Open Babel Warning  in Translate\n",
      "  Cannot perform atom type translation: table cannot find requested types.\n",
      "==============================\n",
      "*** Open Babel Warning  in Translate\n",
      "  Cannot perform atom type translation: table cannot find requested types.\n",
      "==============================\n",
      "*** Open Babel Warning  in ReadMolecule\n",
      "  This Mol2 file is non-standard. Problem with molecule: RES Cannot interpret atom types correctly, instead attempting to interpret atom type: S as elements instead.\n",
      "==============================\n",
      "*** Open Babel Warning  in Translate\n",
      "  Cannot perform atom type translation: table cannot find requested types.\n",
      "==============================\n",
      "*** Open Babel Warning  in Translate\n",
      "  Cannot perform atom type translation: table cannot find requested types.\n",
      "==============================\n",
      "*** Open Babel Warning  in ReadMolecule\n",
      "  This Mol2 file is non-standard. Problem with molecule: RES Cannot interpret atom types correctly, instead attempting to interpret atom type: S as elements instead.\n",
      "==============================\n",
      "*** Open Babel Warning  in Translate\n",
      "  Cannot perform atom type translation: table cannot find requested types.\n",
      "==============================\n",
      "*** Open Babel Warning  in Translate\n",
      "  Cannot perform atom type translation: table cannot find requested types.\n",
      "==============================\n",
      "*** Open Babel Warning  in ReadMolecule\n",
      "  This Mol2 file is non-standard. Problem with molecule: RES Cannot interpret atom types correctly, instead attempting to interpret atom type: S as elements instead.\n",
      "==============================\n",
      "*** Open Babel Warning  in Translate\n",
      "  Cannot perform atom type translation: table cannot find requested types.\n",
      "==============================\n",
      "*** Open Babel Warning  in Translate\n",
      "  Cannot perform atom type translation: table cannot find requested types.\n",
      "==============================\n",
      "*** Open Babel Warning  in ReadMolecule\n",
      "  This Mol2 file is non-standard. Problem with molecule: RES Cannot interpret atom types correctly, instead attempting to interpret atom type: S as elements instead.\n",
      "==============================\n",
      "*** Open Babel Warning  in Translate\n",
      "  Cannot perform atom type translation: table cannot find requested types.\n",
      "==============================\n",
      "*** Open Babel Warning  in Translate\n",
      "  Cannot perform atom type translation: table cannot find requested types.\n",
      "==============================\n",
      "*** Open Babel Warning  in ReadMolecule\n",
      "  This Mol2 file is non-standard. Problem with molecule: RES Cannot interpret atom types correctly, instead attempting to interpret atom type: S as elements instead.\n",
      "==============================\n",
      "*** Open Babel Warning  in Translate\n",
      "  Cannot perform atom type translation: table cannot find requested types.\n",
      "==============================\n",
      "*** Open Babel Warning  in Translate\n",
      "  Cannot perform atom type translation: table cannot find requested types.\n",
      "==============================\n",
      "*** Open Babel Warning  in ReadMolecule\n",
      "  This Mol2 file is non-standard. Problem with molecule: RES Cannot interpret atom types correctly, instead attempting to interpret atom type: S as elements instead.\n",
      "==============================\n",
      "*** Open Babel Warning  in Translate\n",
      "  Cannot perform atom type translation: table cannot find requested types.\n",
      "==============================\n",
      "*** Open Babel Warning  in Translate\n",
      "  Cannot perform atom type translation: table cannot find requested types.\n",
      "==============================\n",
      "*** Open Babel Warning  in ReadMolecule\n",
      "  This Mol2 file is non-standard. Problem with molecule: RES Cannot interpret atom types correctly, instead attempting to interpret atom type: S as elements instead.\n",
      "==============================\n",
      "*** Open Babel Warning  in Translate\n",
      "  Cannot perform atom type translation: table cannot find requested types.\n",
      "==============================\n",
      "*** Open Babel Warning  in Translate\n",
      "  Cannot perform atom type translation: table cannot find requested types.\n",
      "==============================\n",
      "*** Open Babel Warning  in ReadMolecule\n",
      "  This Mol2 file is non-standard. Problem with molecule: RES Cannot interpret atom types correctly, instead attempting to interpret atom type: S as elements instead.\n",
      "==============================\n",
      "*** Open Babel Warning  in Translate\n",
      "  Cannot perform atom type translation: table cannot find requested types.\n",
      "==============================\n",
      "*** Open Babel Warning  in Translate\n",
      "  Cannot perform atom type translation: table cannot find requested types.\n",
      "==============================\n",
      "*** Open Babel Warning  in ReadMolecule\n",
      "  This Mol2 file is non-standard. Problem with molecule: RES Cannot interpret atom types correctly, instead attempting to interpret atom type: S as elements instead.\n",
      "==============================\n",
      "*** Open Babel Warning  in Translate\n",
      "  Cannot perform atom type translation: table cannot find requested types.\n",
      "==============================\n",
      "*** Open Babel Warning  in Translate\n",
      "  Cannot perform atom type translation: table cannot find requested types.\n",
      "==============================\n",
      "*** Open Babel Warning  in ReadMolecule\n",
      "  This Mol2 file is non-standard. Problem with molecule: RES Cannot interpret atom types correctly, instead attempting to interpret atom type: S as elements instead.\n",
      "==============================\n",
      "*** Open Babel Warning  in Translate\n",
      "  Cannot perform atom type translation: table cannot find requested types.\n",
      "==============================\n",
      "*** Open Babel Warning  in Translate\n",
      "  Cannot perform atom type translation: table cannot find requested types.\n",
      "==============================\n",
      "*** Open Babel Warning  in ReadMolecule\n",
      "  This Mol2 file is non-standard. Problem with molecule: RES Cannot interpret atom types correctly, instead attempting to interpret atom type: S as elements instead.\n",
      "==============================\n",
      "*** Open Babel Warning  in Translate\n",
      "  Cannot perform atom type translation: table cannot find requested types.\n",
      "==============================\n",
      "*** Open Babel Warning  in Translate\n",
      "  Cannot perform atom type translation: table cannot find requested types.\n",
      "==============================\n",
      "*** Open Babel Warning  in ReadMolecule\n",
      "  This Mol2 file is non-standard. Problem with molecule: RES Cannot interpret atom types correctly, instead attempting to interpret atom type: S as elements instead.\n",
      "==============================\n",
      "*** Open Babel Warning  in Translate\n",
      "  Cannot perform atom type translation: table cannot find requested types.\n",
      "==============================\n",
      "*** Open Babel Warning  in Translate\n",
      "  Cannot perform atom type translation: table cannot find requested types.\n",
      "==============================\n",
      "*** Open Babel Warning  in ReadMolecule\n",
      "  This Mol2 file is non-standard. Problem with molecule: RES Cannot interpret atom types correctly, instead attempting to interpret atom type: S as elements instead.\n",
      "==============================\n",
      "*** Open Babel Warning  in Translate\n",
      "  Cannot perform atom type translation: table cannot find requested types.\n",
      "==============================\n",
      "*** Open Babel Warning  in Translate\n",
      "  Cannot perform atom type translation: table cannot find requested types.\n",
      "==============================\n",
      "*** Open Babel Warning  in ReadMolecule\n",
      "  This Mol2 file is non-standard. Problem with molecule: RES Cannot interpret atom types correctly, instead attempting to interpret atom type: S as elements instead.\n",
      "==============================\n",
      "*** Open Babel Warning  in Translate\n",
      "  Cannot perform atom type translation: table cannot find requested types.\n",
      "==============================\n",
      "*** Open Babel Warning  in Translate\n",
      "  Cannot perform atom type translation: table cannot find requested types.\n",
      "==============================\n",
      "*** Open Babel Warning  in ReadMolecule\n",
      "  This Mol2 file is non-standard. Problem with molecule: RES Cannot interpret atom types correctly, instead attempting to interpret atom type: S as elements instead.\n",
      "==============================\n",
      "*** Open Babel Warning  in Translate\n",
      "  Cannot perform atom type translation: table cannot find requested types.\n",
      "==============================\n",
      "*** Open Babel Warning  in Translate\n",
      "  Cannot perform atom type translation: table cannot find requested types.\n",
      "==============================\n",
      "*** Open Babel Warning  in ReadMolecule\n",
      "  This Mol2 file is non-standard. Problem with molecule: RES Cannot interpret atom types correctly, instead attempting to interpret atom type: S as elements instead.\n",
      "==============================\n",
      "*** Open Babel Warning  in Translate\n",
      "  Cannot perform atom type translation: table cannot find requested types.\n",
      "==============================\n",
      "*** Open Babel Warning  in Translate\n",
      "  Cannot perform atom type translation: table cannot find requested types.\n",
      "==============================\n",
      "*** Open Babel Warning  in ReadMolecule\n",
      "  This Mol2 file is non-standard. Problem with molecule: RES Cannot interpret atom types correctly, instead attempting to interpret atom type: S as elements instead.\n",
      "==============================\n",
      "*** Open Babel Warning  in Translate\n",
      "  Cannot perform atom type translation: table cannot find requested types.\n",
      "==============================\n",
      "*** Open Babel Warning  in Translate\n",
      "  Cannot perform atom type translation: table cannot find requested types.\n",
      "==============================\n",
      "*** Open Babel Warning  in ReadMolecule\n",
      "  This Mol2 file is non-standard. Problem with molecule: RES Cannot interpret atom types correctly, instead attempting to interpret atom type: S as elements instead.\n",
      "==============================\n",
      "*** Open Babel Warning  in Translate\n",
      "  Cannot perform atom type translation: table cannot find requested types.\n",
      "==============================\n",
      "*** Open Babel Warning  in Translate\n",
      "  Cannot perform atom type translation: table cannot find requested types.\n",
      "==============================\n",
      "*** Open Babel Warning  in ReadMolecule\n",
      "  This Mol2 file is non-standard. Problem with molecule: RES Cannot interpret atom types correctly, instead attempting to interpret atom type: S as elements instead.\n",
      "==============================\n",
      "*** Open Babel Warning  in Translate\n",
      "  Cannot perform atom type translation: table cannot find requested types.\n"
     ]
    }
   ],
   "source": [
    "mini_tiles.energy_minimize()"
   ]
  },
  {
   "cell_type": "raw",
   "id": "1474b988-9775-44e9-a9da-d16d989bf9fa",
   "metadata": {},
   "source": [
    "import mbuild as mb\n",
    "from mbuild.lib.surfaces import Betacristobalite\n",
    "\n",
    "surface = Betacristobalite()\n",
    "tiled_surface = mb.lib.recipes.TiledCompound(surface, n_tiles=(2, 1, 1))"
   ]
  },
  {
   "cell_type": "code",
   "execution_count": null,
   "id": "fffb6d5c-1f72-415d-856a-9b4dd0c52949",
   "metadata": {},
   "outputs": [],
   "source": []
  }
 ],
 "metadata": {
  "kernelspec": {
   "display_name": "Python 3 (ipykernel)",
   "language": "python",
   "name": "python3"
  },
  "language_info": {
   "codemirror_mode": {
    "name": "ipython",
    "version": 3
   },
   "file_extension": ".py",
   "mimetype": "text/x-python",
   "name": "python",
   "nbconvert_exporter": "python",
   "pygments_lexer": "ipython3",
   "version": "3.10.5"
  }
 },
 "nbformat": 4,
 "nbformat_minor": 5
}
