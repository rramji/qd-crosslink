{
 "cells": [
  {
   "cell_type": "code",
   "execution_count": 7,
   "id": "08688c85-3cbe-45ad-9151-2dfc978bca25",
   "metadata": {},
   "outputs": [],
   "source": [
    "import mbuild as mb\n",
    "import parmed as pmd\n",
    "import numpy as np\n",
    "import openmm\n",
    "import warnings\n",
    "warnings.simplefilter(\"ignore\")"
   ]
  },
  {
   "cell_type": "markdown",
   "id": "a1de7c37-e026-4e04-b82b-cf7da16fd946",
   "metadata": {},
   "source": [
    "SMILES for crosslinker: C6CCN(C5=CC=C(C(=O)C4=CC=C(SCCOCCOCCSC3=CC=C(C(=O)C2=CC=C(N1CCCC1)C=C2)C=C3)C=C4)C=C5)C6\n",
    "SMILES for xlig: C3CN(C1=CC=C(C=C1)C(C2=CC=C(C=C2)SCCCCCCCCCCS)=O)CC3"
   ]
  },
  {
   "cell_type": "code",
   "execution_count": 52,
   "id": "eb5a534d-af09-4c9e-8cf8-1100dc6f7ad7",
   "metadata": {},
   "outputs": [
    {
     "data": {
      "application/3dmoljs_load.v0": "<div id=\"3dmolviewer_16668025289199553\"  style=\"position: relative; width: 640px; height: 480px\">\n        <p id=\"3dmolwarning_16668025289199553\" style=\"background-color:#ffcccc;color:black\">You appear to be running in JupyterLab (or JavaScript failed to load for some other reason).  You need to install the 3dmol extension: <br>\n        <tt>jupyter labextension install jupyterlab_3dmol</tt></p>\n        </div>\n<script>\n\nvar loadScriptAsync = function(uri){\n  return new Promise((resolve, reject) => {\n    var tag = document.createElement('script');\n    tag.src = uri;\n    tag.async = true;\n    tag.onload = () => {\n      resolve();\n    };\n  var firstScriptTag = document.getElementsByTagName('script')[0];\n  firstScriptTag.parentNode.insertBefore(tag, firstScriptTag);\n});\n};\n\nif(typeof $3Dmolpromise === 'undefined') {\n$3Dmolpromise = null;\n  $3Dmolpromise = loadScriptAsync('https://cdn.jsdelivr.net/npm/3dmol@latest/build/3Dmol-min.min.js');\n}\n\nvar viewer_16668025289199553 = null;\nvar warn = document.getElementById(\"3dmolwarning_16668025289199553\");\nif(warn) {\n    warn.parentNode.removeChild(warn);\n}\n$3Dmolpromise.then(function() {\nviewer_16668025289199553 = $3Dmol.createViewer($(\"#3dmolviewer_16668025289199553\"),{backgroundColor:\"white\"});\nviewer_16668025289199553.zoomTo();\n\tviewer_16668025289199553.addModel(\"@<TRIPOS>MOLECULE\\nRES\\n62 53 2 0 1\\nBIOPOLYMER\\nNO_CHARGES\\n@<TRIPOS>CRYSIN\\n   21.4027    10.7894    10.5400    90.0000    90.0000    90.0000  1  1\\n@<TRIPOS>ATOM\\n       1 C           -7.3203    -0.2535     1.8042 C             1 RES     \\n       2 C           -7.0653    -0.0593     0.3094 C             1 RES     \\n       3 C           -5.6349     0.4134     0.0079 C             1 RES     \\n       4 C           -4.5818    -0.6705     0.2982 C             1 RES     \\n       5 C           -3.1912    -0.3002    -0.2407 C             1 RES     \\n       6 C           -2.5692     0.8943     0.5048 C             1 RES     \\n       7 C           -1.0865     1.0971     0.1569 C             1 RES     \\n       8 C           -0.8832     1.6277    -1.2705 C             1 RES     \\n       9 C            0.5749     1.8901    -1.5459 C             1 RES     \\n      10 C            1.4775     0.9478    -1.8789 C             1 RES     \\n      11 C            1.1686    -0.5181    -2.0827 C             1 RES     \\n      12 C            2.2081    -1.4043    -1.3851 C             1 RES     \\n      13 C            2.0624    -1.3678     0.1463 C             1 RES     \\n      14 C            3.2010    -2.1285     0.8572 C             1 RES     \\n      15 C            4.2730    -1.2028     1.4580 C             1 RES     \\n      16 C            5.0609    -0.4300     0.3909 C             1 RES     \\n      17 C            6.2013     0.3723     1.0239 C             1 RES     \\n      18 C            6.9463     1.1365    -0.0243 C             1 RES     \\n      19 O            8.0074     0.6661    -0.5158 O             1 RES     \\n      20 O            6.4430     2.3489    -0.4861 O             1 RES     \\n      21 H           -6.7257    -1.1049     2.1961 H             1 RES     \\n      22 H           -8.3953    -0.4770     1.9695 H             1 RES     \\n      23 H           -7.0612     0.6690     2.3664 H             1 RES     \\n      24 H           -7.7755     0.7079    -0.0685 H             1 RES     \\n      25 H           -7.2770    -1.0075    -0.2311 H             1 RES     \\n      26 H           -5.5851     0.6893    -1.0681 H             1 RES     \\n      27 H           -5.4183     1.3267     0.6026 H             1 RES     \\n      28 H           -4.5142    -0.8560     1.3916 H             1 RES     \\n      29 H           -4.8952    -1.6203    -0.1871 H             1 RES     \\n      30 H           -2.5307    -1.1872    -0.1219 H             1 RES     \\n      31 H           -3.2668    -0.0784    -1.3266 H             1 RES     \\n      32 H           -3.1316     1.8251     0.2763 H             1 RES     \\n      33 H           -2.6414     0.7148     1.5999 H             1 RES     \\n      34 H           -0.5373     0.1441     0.3043 H             1 RES     \\n      35 H           -0.6618     1.8357     0.8726 H             1 RES     \\n      36 H           -1.4316     2.5892    -1.3729 H             1 RES     \\n      37 H           -1.2966     0.9345    -2.0319 H             1 RES     \\n      38 H            0.9146     2.9202    -1.4906 H             1 RES     \\n      39 H            2.4927     1.2760    -2.0851 H             1 RES     \\n      40 H            0.1564    -0.8012    -1.7311 H             1 RES     \\n      41 H            1.2046    -0.7230    -3.1736 H             1 RES     \\n      42 H            3.2285    -1.0927    -1.6939 H             1 RES     \\n      43 H            2.0663    -2.4518    -1.7302 H             1 RES     \\n      44 H            2.0132    -0.3179     0.5086 H             1 RES     \\n      45 H            1.0938    -1.8463     0.4118 H             1 RES     \\n      46 H            3.6782    -2.8692     0.1780 H             1 RES     \\n      47 H            2.7592    -2.7102     1.6959 H             1 RES     \\n      48 H            4.9790    -1.8312     2.0442 H             1 RES     \\n      49 H            3.7946    -0.4879     2.1634 H             1 RES     \\n      50 H            5.4816    -1.1453    -0.3501 H             1 RES     \\n      51 H            4.3791     0.2737    -0.1343 H             1 RES     \\n      52 H            5.7899     1.0887     1.7676 H             1 RES     \\n      53 H            6.9000    -0.3140     1.5515 H             1 RES     \\n      54 H            6.9215     2.8679    -1.2126 H             1 RES     \\n      55 VS          10.1135    -0.3279    -1.4932 VS            2 PRT     \\n      56 VS          10.2818    -0.4026    -1.5712 VS            2 PRT     \\n      57 VS          10.0554    -0.1223    -1.5589 VS            2 PRT     \\n      58 VS           9.9975    -0.2143    -1.3394 VS            2 PRT     \\n      59 VS          10.1092    -0.2056    -1.4912 VS            2 PRT     \\n      60 VS           9.9408    -0.1310    -1.4132 VS            2 PRT     \\n      61 VS          10.0966    -0.4113    -1.5780 VS            2 PRT     \\n      62 VS          10.3015    -0.3192    -1.4803 VS            2 PRT     \\n@<TRIPOS>BOND\\n       1        2        1 1\\n       2       21        1 1\\n       3       22        1 1\\n       4       23        1 1\\n       5        3        2 1\\n       6       24        2 1\\n       7       25        2 1\\n       8        4        3 1\\n       9       26        3 1\\n      10       27        3 1\\n      11        5        4 1\\n      12       28        4 1\\n      13       29        4 1\\n      14        6        5 1\\n      15       30        5 1\\n      16       31        5 1\\n      17        7        6 1\\n      18       32        6 1\\n      19       33        6 1\\n      20        8        7 1\\n      21       34        7 1\\n      22       35        7 1\\n      23        9        8 1\\n      24       36        8 1\\n      25       37        8 1\\n      26       10        9 1\\n      27       38        9 1\\n      28       11       10 1\\n      29       39       10 1\\n      30       12       11 1\\n      31       40       11 1\\n      32       41       11 1\\n      33       13       12 1\\n      34       42       12 1\\n      35       43       12 1\\n      36       14       13 1\\n      37       44       13 1\\n      38       45       13 1\\n      39       15       14 1\\n      40       46       14 1\\n      41       47       14 1\\n      42       16       15 1\\n      43       48       15 1\\n      44       49       15 1\\n      45       17       16 1\\n      46       50       16 1\\n      47       51       16 1\\n      48       18       17 1\\n      49       52       17 1\\n      50       53       17 1\\n      51       19       18 1\\n      52       20       18 1\\n      53       54       20 1\\n@<TRIPOS>SUBSTRUCTURE\\n       1 RES             1 RESIDUE    0 **** ROOT      0\\n       2 PRT            55 RESIDUE    0 **** ROOT      0\\n\",\"mol2\");\n\tviewer_16668025289199553.setStyle({\"stick\": {\"radius\": 0.2, \"color\": \"grey\"}, \"sphere\": {\"scale\": 0.3, \"colorscheme\": {}}});\n\tviewer_16668025289199553.zoomTo();\nviewer_16668025289199553.render();\n});\n</script>",
      "text/html": [
       "<div id=\"3dmolviewer_16668025289199553\"  style=\"position: relative; width: 640px; height: 480px\">\n",
       "        <p id=\"3dmolwarning_16668025289199553\" style=\"background-color:#ffcccc;color:black\">You appear to be running in JupyterLab (or JavaScript failed to load for some other reason).  You need to install the 3dmol extension: <br>\n",
       "        <tt>jupyter labextension install jupyterlab_3dmol</tt></p>\n",
       "        </div>\n",
       "<script>\n",
       "\n",
       "var loadScriptAsync = function(uri){\n",
       "  return new Promise((resolve, reject) => {\n",
       "    var tag = document.createElement('script');\n",
       "    tag.src = uri;\n",
       "    tag.async = true;\n",
       "    tag.onload = () => {\n",
       "      resolve();\n",
       "    };\n",
       "  var firstScriptTag = document.getElementsByTagName('script')[0];\n",
       "  firstScriptTag.parentNode.insertBefore(tag, firstScriptTag);\n",
       "});\n",
       "};\n",
       "\n",
       "if(typeof $3Dmolpromise === 'undefined') {\n",
       "$3Dmolpromise = null;\n",
       "  $3Dmolpromise = loadScriptAsync('https://cdn.jsdelivr.net/npm/3dmol@latest/build/3Dmol-min.min.js');\n",
       "}\n",
       "\n",
       "var viewer_16668025289199553 = null;\n",
       "var warn = document.getElementById(\"3dmolwarning_16668025289199553\");\n",
       "if(warn) {\n",
       "    warn.parentNode.removeChild(warn);\n",
       "}\n",
       "$3Dmolpromise.then(function() {\n",
       "viewer_16668025289199553 = $3Dmol.createViewer($(\"#3dmolviewer_16668025289199553\"),{backgroundColor:\"white\"});\n",
       "viewer_16668025289199553.zoomTo();\n",
       "\tviewer_16668025289199553.addModel(\"@<TRIPOS>MOLECULE\\nRES\\n62 53 2 0 1\\nBIOPOLYMER\\nNO_CHARGES\\n@<TRIPOS>CRYSIN\\n   21.4027    10.7894    10.5400    90.0000    90.0000    90.0000  1  1\\n@<TRIPOS>ATOM\\n       1 C           -7.3203    -0.2535     1.8042 C             1 RES     \\n       2 C           -7.0653    -0.0593     0.3094 C             1 RES     \\n       3 C           -5.6349     0.4134     0.0079 C             1 RES     \\n       4 C           -4.5818    -0.6705     0.2982 C             1 RES     \\n       5 C           -3.1912    -0.3002    -0.2407 C             1 RES     \\n       6 C           -2.5692     0.8943     0.5048 C             1 RES     \\n       7 C           -1.0865     1.0971     0.1569 C             1 RES     \\n       8 C           -0.8832     1.6277    -1.2705 C             1 RES     \\n       9 C            0.5749     1.8901    -1.5459 C             1 RES     \\n      10 C            1.4775     0.9478    -1.8789 C             1 RES     \\n      11 C            1.1686    -0.5181    -2.0827 C             1 RES     \\n      12 C            2.2081    -1.4043    -1.3851 C             1 RES     \\n      13 C            2.0624    -1.3678     0.1463 C             1 RES     \\n      14 C            3.2010    -2.1285     0.8572 C             1 RES     \\n      15 C            4.2730    -1.2028     1.4580 C             1 RES     \\n      16 C            5.0609    -0.4300     0.3909 C             1 RES     \\n      17 C            6.2013     0.3723     1.0239 C             1 RES     \\n      18 C            6.9463     1.1365    -0.0243 C             1 RES     \\n      19 O            8.0074     0.6661    -0.5158 O             1 RES     \\n      20 O            6.4430     2.3489    -0.4861 O             1 RES     \\n      21 H           -6.7257    -1.1049     2.1961 H             1 RES     \\n      22 H           -8.3953    -0.4770     1.9695 H             1 RES     \\n      23 H           -7.0612     0.6690     2.3664 H             1 RES     \\n      24 H           -7.7755     0.7079    -0.0685 H             1 RES     \\n      25 H           -7.2770    -1.0075    -0.2311 H             1 RES     \\n      26 H           -5.5851     0.6893    -1.0681 H             1 RES     \\n      27 H           -5.4183     1.3267     0.6026 H             1 RES     \\n      28 H           -4.5142    -0.8560     1.3916 H             1 RES     \\n      29 H           -4.8952    -1.6203    -0.1871 H             1 RES     \\n      30 H           -2.5307    -1.1872    -0.1219 H             1 RES     \\n      31 H           -3.2668    -0.0784    -1.3266 H             1 RES     \\n      32 H           -3.1316     1.8251     0.2763 H             1 RES     \\n      33 H           -2.6414     0.7148     1.5999 H             1 RES     \\n      34 H           -0.5373     0.1441     0.3043 H             1 RES     \\n      35 H           -0.6618     1.8357     0.8726 H             1 RES     \\n      36 H           -1.4316     2.5892    -1.3729 H             1 RES     \\n      37 H           -1.2966     0.9345    -2.0319 H             1 RES     \\n      38 H            0.9146     2.9202    -1.4906 H             1 RES     \\n      39 H            2.4927     1.2760    -2.0851 H             1 RES     \\n      40 H            0.1564    -0.8012    -1.7311 H             1 RES     \\n      41 H            1.2046    -0.7230    -3.1736 H             1 RES     \\n      42 H            3.2285    -1.0927    -1.6939 H             1 RES     \\n      43 H            2.0663    -2.4518    -1.7302 H             1 RES     \\n      44 H            2.0132    -0.3179     0.5086 H             1 RES     \\n      45 H            1.0938    -1.8463     0.4118 H             1 RES     \\n      46 H            3.6782    -2.8692     0.1780 H             1 RES     \\n      47 H            2.7592    -2.7102     1.6959 H             1 RES     \\n      48 H            4.9790    -1.8312     2.0442 H             1 RES     \\n      49 H            3.7946    -0.4879     2.1634 H             1 RES     \\n      50 H            5.4816    -1.1453    -0.3501 H             1 RES     \\n      51 H            4.3791     0.2737    -0.1343 H             1 RES     \\n      52 H            5.7899     1.0887     1.7676 H             1 RES     \\n      53 H            6.9000    -0.3140     1.5515 H             1 RES     \\n      54 H            6.9215     2.8679    -1.2126 H             1 RES     \\n      55 VS          10.1135    -0.3279    -1.4932 VS            2 PRT     \\n      56 VS          10.2818    -0.4026    -1.5712 VS            2 PRT     \\n      57 VS          10.0554    -0.1223    -1.5589 VS            2 PRT     \\n      58 VS           9.9975    -0.2143    -1.3394 VS            2 PRT     \\n      59 VS          10.1092    -0.2056    -1.4912 VS            2 PRT     \\n      60 VS           9.9408    -0.1310    -1.4132 VS            2 PRT     \\n      61 VS          10.0966    -0.4113    -1.5780 VS            2 PRT     \\n      62 VS          10.3015    -0.3192    -1.4803 VS            2 PRT     \\n@<TRIPOS>BOND\\n       1        2        1 1\\n       2       21        1 1\\n       3       22        1 1\\n       4       23        1 1\\n       5        3        2 1\\n       6       24        2 1\\n       7       25        2 1\\n       8        4        3 1\\n       9       26        3 1\\n      10       27        3 1\\n      11        5        4 1\\n      12       28        4 1\\n      13       29        4 1\\n      14        6        5 1\\n      15       30        5 1\\n      16       31        5 1\\n      17        7        6 1\\n      18       32        6 1\\n      19       33        6 1\\n      20        8        7 1\\n      21       34        7 1\\n      22       35        7 1\\n      23        9        8 1\\n      24       36        8 1\\n      25       37        8 1\\n      26       10        9 1\\n      27       38        9 1\\n      28       11       10 1\\n      29       39       10 1\\n      30       12       11 1\\n      31       40       11 1\\n      32       41       11 1\\n      33       13       12 1\\n      34       42       12 1\\n      35       43       12 1\\n      36       14       13 1\\n      37       44       13 1\\n      38       45       13 1\\n      39       15       14 1\\n      40       46       14 1\\n      41       47       14 1\\n      42       16       15 1\\n      43       48       15 1\\n      44       49       15 1\\n      45       17       16 1\\n      46       50       16 1\\n      47       51       16 1\\n      48       18       17 1\\n      49       52       17 1\\n      50       53       17 1\\n      51       19       18 1\\n      52       20       18 1\\n      53       54       20 1\\n@<TRIPOS>SUBSTRUCTURE\\n       1 RES             1 RESIDUE    0 **** ROOT      0\\n       2 PRT            55 RESIDUE    0 **** ROOT      0\\n\",\"mol2\");\n",
       "\tviewer_16668025289199553.setStyle({\"stick\": {\"radius\": 0.2, \"color\": \"grey\"}, \"sphere\": {\"scale\": 0.3, \"colorscheme\": {}}});\n",
       "\tviewer_16668025289199553.zoomTo();\n",
       "viewer_16668025289199553.render();\n",
       "});\n",
       "</script>"
      ]
     },
     "metadata": {},
     "output_type": "display_data"
    },
    {
     "data": {
      "text/plain": [
       "<py3Dmol.view at 0x7f6ab9525f60>"
      ]
     },
     "execution_count": 52,
     "metadata": {},
     "output_type": "execute_result"
    }
   ],
   "source": [
    "#should be coo- \n",
    "oleic = mb.load('CCCCCCCCC=CCCCCCCCC(=O)O', smiles=True)\n",
    "oleic.add(mb.Port(anchor=oleic[18], separation=0.25, orientation=(oleic[18].pos - oleic[17].pos)))\n",
    "oleic.visualize(show_ports=True)"
   ]
  },
  {
   "cell_type": "code",
   "execution_count": 47,
   "id": "93e29f54-2b70-473d-b23f-777d920501eb",
   "metadata": {},
   "outputs": [],
   "source": [
    "oleic['Port[0]'].anchor = None"
   ]
  },
  {
   "cell_type": "code",
   "execution_count": 49,
   "id": "5552679c-24bb-419b-a1e8-1e02db81beb8",
   "metadata": {},
   "outputs": [
    {
     "data": {
      "text/plain": [
       "[<Port, anchor: 'O', labels: ['Port[0]'], id: 140096386414672>]"
      ]
     },
     "execution_count": 49,
     "metadata": {},
     "output_type": "execute_result"
    }
   ],
   "source": [
    "oleic.all_ports()"
   ]
  },
  {
   "cell_type": "code",
   "execution_count": 54,
   "id": "d060cb90-92ff-42ab-ba95-84bf3bda3d33",
   "metadata": {
    "collapsed": true,
    "jupyter": {
     "outputs_hidden": true
    },
    "tags": []
   },
   "outputs": [
    {
     "name": "stdout",
     "output_type": "stream",
     "text": [
      "0 <C pos=([ 1.1678  0.0115 -0.1115]), 4 bonds, id: 140096375766224>\n",
      "1 <C pos=([ 1.0228  0.0425 -0.153 ]), 4 bonds, id: 140096375765984>\n",
      "2 <N pos=([ 0.9364 -0.0581 -0.0874]), 3 bonds, id: 140096375763584>\n",
      "3 <C pos=([ 0.8136 -0.0032 -0.0525]), 3 bonds, id: 140096375764688>\n",
      "4 <C pos=([0.8087 0.1115 0.0264]), 3 bonds, id: 140096375765024>\n",
      "5 <C pos=([0.6878 0.1659 0.0611]), 3 bonds, id: 140096375765120>\n",
      "6 <C pos=([0.5692 0.106  0.0172]), 3 bonds, id: 140096375766032>\n",
      "7 <C pos=([0.4389 0.1643 0.0544]), 3 bonds, id: 140096375765408>\n",
      "8 <C pos=([0.318 0.08  0.055]), 3 bonds, id: 140096370469008>\n",
      "9 <C pos=([ 0.3293 -0.0587  0.0692]), 3 bonds, id: 140096370465360>\n",
      "10 <C pos=([ 0.2171 -0.1365  0.0697]), 3 bonds, id: 140096370458880>\n",
      "11 <C pos=([ 0.0914 -0.0779  0.0561]), 3 bonds, id: 140096370465456>\n",
      "12 <S pos=([-0.0532 -0.1787  0.0568]), 2 bonds, id: 140096370465696>\n",
      "13 <C pos=([-0.1871 -0.058   0.0367]), 4 bonds, id: 140096370465936>\n",
      "14 <C pos=([-0.3216 -0.1309  0.0353]), 4 bonds, id: 140096370466176>\n",
      "15 <C pos=([-0.4346 -0.0291  0.0183]), 4 bonds, id: 140096370466416>\n",
      "16 <C pos=([-0.5691 -0.102   0.0169]), 4 bonds, id: 140096370466656>\n",
      "17 <C pos=([-6.821e-01 -2.200e-04 -9.000e-05]), 4 bonds, id: 140096370466896>\n",
      "18 <C pos=([-0.8166 -0.0731 -0.0015]), 4 bonds, id: 140096370467136>\n",
      "19 <C pos=([-0.9296  0.0287 -0.0185]), 4 bonds, id: 140096370467376>\n",
      "20 <C pos=([-1.0641 -0.0442 -0.0199]), 4 bonds, id: 140096370467616>\n",
      "21 <C pos=([-1.1771  0.0576 -0.0369]), 4 bonds, id: 140096370467856>\n",
      "22 <C pos=([-1.3116 -0.0153 -0.0382]), 4 bonds, id: 140096370468096>\n",
      "23 <S pos=([-1.4455  0.1054 -0.0584]), 2 bonds, id: 140096370468336>\n",
      "24 <C pos=([0.0798 0.0602 0.042 ]), 3 bonds, id: 140096370468576>\n",
      "25 <C pos=([0.1916 0.1387 0.042 ]), 3 bonds, id: 140096370471696>\n",
      "26 <O pos=([0.4312 0.2819 0.0845]), 1 bonds, id: 140096370471936>\n",
      "27 <C pos=([ 0.5745 -0.0091 -0.062 ]), 3 bonds, id: 140096370472176>\n",
      "28 <C pos=([ 0.6957 -0.0627 -0.0968]), 3 bonds, id: 140096370472416>\n",
      "29 <C pos=([ 1.0109 -0.1031  0.0329]), 4 bonds, id: 140096370472656>\n",
      "30 <C pos=([ 1.1575 -0.1101 -0.0166]), 4 bonds, id: 140096370472896>\n",
      "31 <H pos=([ 1.2276 -0.0137 -0.199 ]), 1 bonds, id: 140096370473136>\n",
      "32 <H pos=([ 1.2112  0.0967 -0.0592]), 1 bonds, id: 140096370473376>\n",
      "33 <H pos=([ 0.9951  0.1425 -0.1195]), 1 bonds, id: 140096370473616>\n",
      "34 <H pos=([ 1.0127  0.0352 -0.2613]), 1 bonds, id: 140096370473856>\n",
      "35 <H pos=([0.9003 0.1576 0.0602]), 1 bonds, id: 140096370474096>\n",
      "36 <H pos=([0.6841 0.2548 0.1223]), 1 bonds, id: 140096370474336>\n",
      "37 <H pos=([ 0.4267 -0.1042  0.0797]), 1 bonds, id: 140096370474576>\n",
      "38 <H pos=([ 0.2257 -0.2436  0.0807]), 1 bonds, id: 140096370474816>\n",
      "39 <H pos=([-0.185   0.0128  0.1195]), 1 bonds, id: 140096370474864>\n",
      "40 <H pos=([-0.1739 -0.0044 -0.0573]), 1 bonds, id: 140096370475360>\n",
      "41 <H pos=([-0.3237 -0.2017 -0.0476]), 1 bonds, id: 140096370475600>\n",
      "42 <H pos=([-0.3349 -0.1845  0.1292]), 1 bonds, id: 140096370475840>\n",
      "43 <H pos=([-0.4325  0.0417  0.1011]), 1 bonds, id: 140096370476080>\n",
      "44 <H pos=([-0.4214  0.0245 -0.0757]), 1 bonds, id: 140096370476320>\n",
      "45 <H pos=([-0.5712 -0.1728 -0.0659]), 1 bonds, id: 140096370476560>\n",
      "46 <H pos=([-0.5824 -0.1556  0.1109]), 1 bonds, id: 140096370476800>\n",
      "47 <H pos=([-0.68    0.0706  0.0828]), 1 bonds, id: 140096370477040>\n",
      "48 <H pos=([-0.6689  0.0534 -0.094 ]), 1 bonds, id: 140096370477280>\n",
      "49 <H pos=([-0.8187 -0.1439 -0.0843]), 1 bonds, id: 140096370477520>\n",
      "50 <H pos=([-0.8299 -0.1267  0.0925]), 1 bonds, id: 140096370477760>\n",
      "51 <H pos=([-0.9275  0.0995  0.0644]), 1 bonds, id: 140096370478000>\n",
      "52 <H pos=([-0.9164  0.0823 -0.1124]), 1 bonds, id: 140096370478240>\n",
      "53 <H pos=([-1.0662 -0.115  -0.1027]), 1 bonds, id: 140096370478480>\n",
      "54 <H pos=([-1.0774 -0.0978  0.0741]), 1 bonds, id: 140096370478720>\n",
      "55 <H pos=([-1.175   0.1284  0.046 ]), 1 bonds, id: 140096370478960>\n",
      "56 <H pos=([-1.1638  0.1112 -0.1308]), 1 bonds, id: 140096370479200>\n",
      "57 <H pos=([-1.3137 -0.0861 -0.1211]), 1 bonds, id: 140096370479440>\n",
      "58 <H pos=([-1.3248 -0.0689  0.0557]), 1 bonds, id: 140096370479680>\n",
      "59 <H pos=([-1.5559  0.0284 -0.0578]), 1 bonds, id: 140096370479920>\n",
      "60 <H pos=([-0.0178  0.1054  0.0315]), 1 bonds, id: 140096370480160>\n",
      "61 <H pos=([0.1825 0.2457 0.0311]), 1 bonds, id: 140096370480400>\n",
      "62 <H pos=([ 0.4831 -0.0555 -0.096 ]), 1 bonds, id: 140096370480640>\n",
      "63 <H pos=([ 0.6999 -0.1516 -0.158 ]), 1 bonds, id: 140096370480880>\n",
      "64 <H pos=([ 1.001  -0.0305  0.1137]), 1 bonds, id: 140096370481120>\n",
      "65 <H pos=([ 0.9764 -0.2014  0.065 ]), 1 bonds, id: 140096370481360>\n",
      "66 <H pos=([ 1.1755 -0.2029 -0.0708]), 1 bonds, id: 140096370481600>\n",
      "67 <H pos=([ 1.2269 -0.0999  0.0668]), 1 bonds, id: 140096370481840>\n"
     ]
    }
   ],
   "source": [
    "for i, part in enumerate(xlinkable):\n",
    "    print(i,part)"
   ]
  },
  {
   "cell_type": "code",
   "execution_count": 62,
   "id": "890e42f8-3431-4ac1-aa31-3837a7de05a7",
   "metadata": {},
   "outputs": [
    {
     "data": {
      "application/3dmoljs_load.v0": "<div id=\"3dmolviewer_166680291111654\"  style=\"position: relative; width: 640px; height: 480px\">\n        <p id=\"3dmolwarning_166680291111654\" style=\"background-color:#ffcccc;color:black\">You appear to be running in JupyterLab (or JavaScript failed to load for some other reason).  You need to install the 3dmol extension: <br>\n        <tt>jupyter labextension install jupyterlab_3dmol</tt></p>\n        </div>\n<script>\n\nvar loadScriptAsync = function(uri){\n  return new Promise((resolve, reject) => {\n    var tag = document.createElement('script');\n    tag.src = uri;\n    tag.async = true;\n    tag.onload = () => {\n      resolve();\n    };\n  var firstScriptTag = document.getElementsByTagName('script')[0];\n  firstScriptTag.parentNode.insertBefore(tag, firstScriptTag);\n});\n};\n\nif(typeof $3Dmolpromise === 'undefined') {\n$3Dmolpromise = null;\n  $3Dmolpromise = loadScriptAsync('https://cdn.jsdelivr.net/npm/3dmol@latest/build/3Dmol-min.min.js');\n}\n\nvar viewer_166680291111654 = null;\nvar warn = document.getElementById(\"3dmolwarning_166680291111654\");\nif(warn) {\n    warn.parentNode.removeChild(warn);\n}\n$3Dmolpromise.then(function() {\nviewer_166680291111654 = $3Dmol.createViewer($(\"#3dmolviewer_166680291111654\"),{backgroundColor:\"white\"});\nviewer_166680291111654.zoomTo();\n\tviewer_166680291111654.addModel(\"@<TRIPOS>MOLECULE\\nRES\\n76 70 2 0 1\\nBIOPOLYMER\\nNO_CHARGES\\n@<TRIPOS>CRYSIN\\n   32.8347    10.2557     8.9050    90.0000    90.0000    90.0000  1  1\\n@<TRIPOS>ATOM\\n       1 C           11.6777     0.1152    -1.1148 C             1 RES     \\n       2 C           10.2275     0.4251    -1.5297 C             1 RES     \\n       3 N            9.3642    -0.5814    -0.8745 N             1 RES     \\n       4 C            8.1361    -0.0322    -0.5245 C             1 RES     \\n       5 C            8.0873     1.1147     0.2639 C             1 RES     \\n       6 C            6.8777     1.6586     0.6113 C             1 RES     \\n       7 C            5.6918     1.0605     0.1725 C             1 RES     \\n       8 C            4.3890     1.6431     0.5437 C             1 RES     \\n       9 C            3.1797     0.8002     0.5500 C             1 RES     \\n      10 C            3.2928    -0.5872     0.6919 C             1 RES     \\n      11 C            2.1705    -1.3654     0.6972 C             1 RES     \\n      12 C            0.9137    -0.7791     0.5612 C             1 RES     \\n      13 S           -0.5318    -1.7867     0.5681 S             1 RES     \\n      14 C           -1.8712    -0.5800     0.3667 C             1 RES     \\n      15 C           -3.2164    -1.3088     0.3528 C             1 RES     \\n      16 C           -4.3461    -0.2911     0.1829 C             1 RES     \\n      17 C           -5.6913    -1.0199     0.1690 C             1 RES     \\n      18 C           -6.8210    -0.0022    -0.0009 C             1 RES     \\n      19 C           -8.1662    -0.7310    -0.0148 C             1 RES     \\n      20 C           -9.2959     0.2867    -0.1847 C             1 RES     \\n      21 C          -10.6411    -0.4421    -0.1986 C             1 RES     \\n      22 C          -11.7708     0.5757    -0.3685 C             1 RES     \\n      23 C          -13.1160    -0.1532    -0.3823 C             1 RES     \\n      24 S          -14.4554     1.0535    -0.5838 S             1 RES     \\n      25 C            0.7977     0.6023     0.4203 C             1 RES     \\n      26 C            1.9158     1.3865     0.4199 C             1 RES     \\n      27 O            4.3123     2.8193     0.8449 O             1 RES     \\n      28 C            5.7445    -0.0912    -0.6197 C             1 RES     \\n      29 C            6.9575    -0.6269    -0.9678 C             1 RES     \\n      30 C           10.1087    -1.0311     0.3295 C             1 RES     \\n      31 C           11.5751    -1.1010    -0.1660 C             1 RES     \\n      32 H           12.2759    -0.1374    -1.9903 H             1 RES     \\n      33 H           12.1120     0.9673    -0.5919 H             1 RES     \\n      34 H            9.9513     1.4252    -1.1955 H             1 RES     \\n      35 H           10.1273     0.3517    -2.6126 H             1 RES     \\n      36 H            9.0033     1.5760     0.6023 H             1 RES     \\n      37 H            6.8405     2.5477     1.2233 H             1 RES     \\n      38 H            4.2667    -1.0423     0.7966 H             1 RES     \\n      39 H            2.2572    -2.4364     0.8067 H             1 RES     \\n      40 H           -1.8501     0.1280     1.1952 H             1 RES     \\n      41 H           -1.7388    -0.0437    -0.5730 H             1 RES     \\n      42 H           -3.2375    -2.0168    -0.4757 H             1 RES     \\n      43 H           -3.3488    -1.8451     1.2924 H             1 RES     \\n      44 H           -4.3250     0.4169     1.0114 H             1 RES     \\n      45 H           -4.2137     0.2452    -0.7568 H             1 RES     \\n      46 H           -5.7124    -1.7279    -0.6595 H             1 RES     \\n      47 H           -5.8237    -1.5562     1.1087 H             1 RES     \\n      48 H           -6.7999     0.7058     0.8276 H             1 RES     \\n      49 H           -6.6886     0.5341    -0.9405 H             1 RES     \\n      50 H           -8.1873    -1.4390    -0.8433 H             1 RES     \\n      51 H           -8.2986    -1.2673     0.9249 H             1 RES     \\n      52 H           -9.2748     0.9947     0.6438 H             1 RES     \\n      53 H           -9.1635     0.8230    -1.1243 H             1 RES     \\n      54 H          -10.6622    -1.1501    -1.0271 H             1 RES     \\n      55 H          -10.7735    -0.9784     0.7411 H             1 RES     \\n      56 H          -11.7497     1.2836     0.4601 H             1 RES     \\n      57 H          -11.6384     1.1119    -1.3081 H             1 RES     \\n      58 H          -13.1371    -0.8611    -1.2108 H             1 RES     \\n      59 H          -13.2484    -0.6895     0.5573 H             1 RES     \\n      60 H          -15.5588     0.2844    -0.5785 H             1 RES     \\n      61 H           -0.1778     1.0538     0.3154 H             1 RES     \\n      62 H            1.8252     2.4572     0.3110 H             1 RES     \\n      63 H            4.8307    -0.5554    -0.9601 H             1 RES     \\n      64 H            6.9989    -1.5159    -1.5797 H             1 RES     \\n      65 H           10.0096    -0.3053     1.1366 H             1 RES     \\n      66 H            9.7638    -2.0141     0.6502 H             1 RES     \\n      67 H           11.7552    -2.0294    -0.7080 H             1 RES     \\n      68 H           12.2693    -0.9992     0.6681 H             1 RES     \\n      69 VS         -16.9441     1.4252    -0.8006 VS            2 PRT     \\n      70 VS         -17.1419     1.4509    -0.8155 VS            2 PRT     \\n      71 VS         -16.8719     1.2146    -0.7800 VS            2 PRT     \\n      72 VS         -16.7529     1.4070    -0.6861 VS            2 PRT     \\n      73 VS         -16.9069     1.3236    -0.7977 VS            2 PRT     \\n      74 VS         -16.7091     1.2980    -0.7828 VS            2 PRT     \\n      75 VS         -16.9814     1.5342    -0.7883 VS            2 PRT     \\n      76 VS         -17.1132     1.3418    -0.7133 VS            2 PRT     \\n@<TRIPOS>BOND\\n       1        2        1 1\\n       2       31        1 1\\n       3       32        1 1\\n       4       33        1 1\\n       5        3        2 1\\n       6       34        2 1\\n       7       35        2 1\\n       8        4        3 1\\n       9       30        3 1\\n      10        5        4 1\\n      11       29        4 1\\n      12        6        5 1\\n      13       36        5 1\\n      14        7        6 1\\n      15       37        6 1\\n      16        8        7 1\\n      17       28        7 1\\n      18        9        8 1\\n      19       27        8 1\\n      20       10        9 1\\n      21       26        9 1\\n      22       11       10 1\\n      23       38       10 1\\n      24       12       11 1\\n      25       39       11 1\\n      26       13       12 1\\n      27       25       12 1\\n      28       14       13 1\\n      29       15       14 1\\n      30       40       14 1\\n      31       41       14 1\\n      32       16       15 1\\n      33       42       15 1\\n      34       43       15 1\\n      35       17       16 1\\n      36       44       16 1\\n      37       45       16 1\\n      38       18       17 1\\n      39       46       17 1\\n      40       47       17 1\\n      41       19       18 1\\n      42       48       18 1\\n      43       49       18 1\\n      44       20       19 1\\n      45       50       19 1\\n      46       51       19 1\\n      47       21       20 1\\n      48       52       20 1\\n      49       53       20 1\\n      50       22       21 1\\n      51       54       21 1\\n      52       55       21 1\\n      53       23       22 1\\n      54       56       22 1\\n      55       57       22 1\\n      56       24       23 1\\n      57       58       23 1\\n      58       59       23 1\\n      59       60       24 1\\n      60       26       25 1\\n      61       61       25 1\\n      62       62       26 1\\n      63       29       28 1\\n      64       63       28 1\\n      65       64       29 1\\n      66       31       30 1\\n      67       65       30 1\\n      68       66       30 1\\n      69       67       31 1\\n      70       68       31 1\\n@<TRIPOS>SUBSTRUCTURE\\n       1 RES             1 RESIDUE    0 **** ROOT      0\\n       2 PRT            69 RESIDUE    0 **** ROOT      0\\n\",\"mol2\");\n\tviewer_166680291111654.setStyle({\"stick\": {\"radius\": 0.2, \"color\": \"grey\"}, \"sphere\": {\"scale\": 0.3, \"colorscheme\": {}}});\n\tviewer_166680291111654.zoomTo();\nviewer_166680291111654.render();\n});\n</script>",
      "text/html": [
       "<div id=\"3dmolviewer_166680291111654\"  style=\"position: relative; width: 640px; height: 480px\">\n",
       "        <p id=\"3dmolwarning_166680291111654\" style=\"background-color:#ffcccc;color:black\">You appear to be running in JupyterLab (or JavaScript failed to load for some other reason).  You need to install the 3dmol extension: <br>\n",
       "        <tt>jupyter labextension install jupyterlab_3dmol</tt></p>\n",
       "        </div>\n",
       "<script>\n",
       "\n",
       "var loadScriptAsync = function(uri){\n",
       "  return new Promise((resolve, reject) => {\n",
       "    var tag = document.createElement('script');\n",
       "    tag.src = uri;\n",
       "    tag.async = true;\n",
       "    tag.onload = () => {\n",
       "      resolve();\n",
       "    };\n",
       "  var firstScriptTag = document.getElementsByTagName('script')[0];\n",
       "  firstScriptTag.parentNode.insertBefore(tag, firstScriptTag);\n",
       "});\n",
       "};\n",
       "\n",
       "if(typeof $3Dmolpromise === 'undefined') {\n",
       "$3Dmolpromise = null;\n",
       "  $3Dmolpromise = loadScriptAsync('https://cdn.jsdelivr.net/npm/3dmol@latest/build/3Dmol-min.min.js');\n",
       "}\n",
       "\n",
       "var viewer_166680291111654 = null;\n",
       "var warn = document.getElementById(\"3dmolwarning_166680291111654\");\n",
       "if(warn) {\n",
       "    warn.parentNode.removeChild(warn);\n",
       "}\n",
       "$3Dmolpromise.then(function() {\n",
       "viewer_166680291111654 = $3Dmol.createViewer($(\"#3dmolviewer_166680291111654\"),{backgroundColor:\"white\"});\n",
       "viewer_166680291111654.zoomTo();\n",
       "\tviewer_166680291111654.addModel(\"@<TRIPOS>MOLECULE\\nRES\\n76 70 2 0 1\\nBIOPOLYMER\\nNO_CHARGES\\n@<TRIPOS>CRYSIN\\n   32.8347    10.2557     8.9050    90.0000    90.0000    90.0000  1  1\\n@<TRIPOS>ATOM\\n       1 C           11.6777     0.1152    -1.1148 C             1 RES     \\n       2 C           10.2275     0.4251    -1.5297 C             1 RES     \\n       3 N            9.3642    -0.5814    -0.8745 N             1 RES     \\n       4 C            8.1361    -0.0322    -0.5245 C             1 RES     \\n       5 C            8.0873     1.1147     0.2639 C             1 RES     \\n       6 C            6.8777     1.6586     0.6113 C             1 RES     \\n       7 C            5.6918     1.0605     0.1725 C             1 RES     \\n       8 C            4.3890     1.6431     0.5437 C             1 RES     \\n       9 C            3.1797     0.8002     0.5500 C             1 RES     \\n      10 C            3.2928    -0.5872     0.6919 C             1 RES     \\n      11 C            2.1705    -1.3654     0.6972 C             1 RES     \\n      12 C            0.9137    -0.7791     0.5612 C             1 RES     \\n      13 S           -0.5318    -1.7867     0.5681 S             1 RES     \\n      14 C           -1.8712    -0.5800     0.3667 C             1 RES     \\n      15 C           -3.2164    -1.3088     0.3528 C             1 RES     \\n      16 C           -4.3461    -0.2911     0.1829 C             1 RES     \\n      17 C           -5.6913    -1.0199     0.1690 C             1 RES     \\n      18 C           -6.8210    -0.0022    -0.0009 C             1 RES     \\n      19 C           -8.1662    -0.7310    -0.0148 C             1 RES     \\n      20 C           -9.2959     0.2867    -0.1847 C             1 RES     \\n      21 C          -10.6411    -0.4421    -0.1986 C             1 RES     \\n      22 C          -11.7708     0.5757    -0.3685 C             1 RES     \\n      23 C          -13.1160    -0.1532    -0.3823 C             1 RES     \\n      24 S          -14.4554     1.0535    -0.5838 S             1 RES     \\n      25 C            0.7977     0.6023     0.4203 C             1 RES     \\n      26 C            1.9158     1.3865     0.4199 C             1 RES     \\n      27 O            4.3123     2.8193     0.8449 O             1 RES     \\n      28 C            5.7445    -0.0912    -0.6197 C             1 RES     \\n      29 C            6.9575    -0.6269    -0.9678 C             1 RES     \\n      30 C           10.1087    -1.0311     0.3295 C             1 RES     \\n      31 C           11.5751    -1.1010    -0.1660 C             1 RES     \\n      32 H           12.2759    -0.1374    -1.9903 H             1 RES     \\n      33 H           12.1120     0.9673    -0.5919 H             1 RES     \\n      34 H            9.9513     1.4252    -1.1955 H             1 RES     \\n      35 H           10.1273     0.3517    -2.6126 H             1 RES     \\n      36 H            9.0033     1.5760     0.6023 H             1 RES     \\n      37 H            6.8405     2.5477     1.2233 H             1 RES     \\n      38 H            4.2667    -1.0423     0.7966 H             1 RES     \\n      39 H            2.2572    -2.4364     0.8067 H             1 RES     \\n      40 H           -1.8501     0.1280     1.1952 H             1 RES     \\n      41 H           -1.7388    -0.0437    -0.5730 H             1 RES     \\n      42 H           -3.2375    -2.0168    -0.4757 H             1 RES     \\n      43 H           -3.3488    -1.8451     1.2924 H             1 RES     \\n      44 H           -4.3250     0.4169     1.0114 H             1 RES     \\n      45 H           -4.2137     0.2452    -0.7568 H             1 RES     \\n      46 H           -5.7124    -1.7279    -0.6595 H             1 RES     \\n      47 H           -5.8237    -1.5562     1.1087 H             1 RES     \\n      48 H           -6.7999     0.7058     0.8276 H             1 RES     \\n      49 H           -6.6886     0.5341    -0.9405 H             1 RES     \\n      50 H           -8.1873    -1.4390    -0.8433 H             1 RES     \\n      51 H           -8.2986    -1.2673     0.9249 H             1 RES     \\n      52 H           -9.2748     0.9947     0.6438 H             1 RES     \\n      53 H           -9.1635     0.8230    -1.1243 H             1 RES     \\n      54 H          -10.6622    -1.1501    -1.0271 H             1 RES     \\n      55 H          -10.7735    -0.9784     0.7411 H             1 RES     \\n      56 H          -11.7497     1.2836     0.4601 H             1 RES     \\n      57 H          -11.6384     1.1119    -1.3081 H             1 RES     \\n      58 H          -13.1371    -0.8611    -1.2108 H             1 RES     \\n      59 H          -13.2484    -0.6895     0.5573 H             1 RES     \\n      60 H          -15.5588     0.2844    -0.5785 H             1 RES     \\n      61 H           -0.1778     1.0538     0.3154 H             1 RES     \\n      62 H            1.8252     2.4572     0.3110 H             1 RES     \\n      63 H            4.8307    -0.5554    -0.9601 H             1 RES     \\n      64 H            6.9989    -1.5159    -1.5797 H             1 RES     \\n      65 H           10.0096    -0.3053     1.1366 H             1 RES     \\n      66 H            9.7638    -2.0141     0.6502 H             1 RES     \\n      67 H           11.7552    -2.0294    -0.7080 H             1 RES     \\n      68 H           12.2693    -0.9992     0.6681 H             1 RES     \\n      69 VS         -16.9441     1.4252    -0.8006 VS            2 PRT     \\n      70 VS         -17.1419     1.4509    -0.8155 VS            2 PRT     \\n      71 VS         -16.8719     1.2146    -0.7800 VS            2 PRT     \\n      72 VS         -16.7529     1.4070    -0.6861 VS            2 PRT     \\n      73 VS         -16.9069     1.3236    -0.7977 VS            2 PRT     \\n      74 VS         -16.7091     1.2980    -0.7828 VS            2 PRT     \\n      75 VS         -16.9814     1.5342    -0.7883 VS            2 PRT     \\n      76 VS         -17.1132     1.3418    -0.7133 VS            2 PRT     \\n@<TRIPOS>BOND\\n       1        2        1 1\\n       2       31        1 1\\n       3       32        1 1\\n       4       33        1 1\\n       5        3        2 1\\n       6       34        2 1\\n       7       35        2 1\\n       8        4        3 1\\n       9       30        3 1\\n      10        5        4 1\\n      11       29        4 1\\n      12        6        5 1\\n      13       36        5 1\\n      14        7        6 1\\n      15       37        6 1\\n      16        8        7 1\\n      17       28        7 1\\n      18        9        8 1\\n      19       27        8 1\\n      20       10        9 1\\n      21       26        9 1\\n      22       11       10 1\\n      23       38       10 1\\n      24       12       11 1\\n      25       39       11 1\\n      26       13       12 1\\n      27       25       12 1\\n      28       14       13 1\\n      29       15       14 1\\n      30       40       14 1\\n      31       41       14 1\\n      32       16       15 1\\n      33       42       15 1\\n      34       43       15 1\\n      35       17       16 1\\n      36       44       16 1\\n      37       45       16 1\\n      38       18       17 1\\n      39       46       17 1\\n      40       47       17 1\\n      41       19       18 1\\n      42       48       18 1\\n      43       49       18 1\\n      44       20       19 1\\n      45       50       19 1\\n      46       51       19 1\\n      47       21       20 1\\n      48       52       20 1\\n      49       53       20 1\\n      50       22       21 1\\n      51       54       21 1\\n      52       55       21 1\\n      53       23       22 1\\n      54       56       22 1\\n      55       57       22 1\\n      56       24       23 1\\n      57       58       23 1\\n      58       59       23 1\\n      59       60       24 1\\n      60       26       25 1\\n      61       61       25 1\\n      62       62       26 1\\n      63       29       28 1\\n      64       63       28 1\\n      65       64       29 1\\n      66       31       30 1\\n      67       65       30 1\\n      68       66       30 1\\n      69       67       31 1\\n      70       68       31 1\\n@<TRIPOS>SUBSTRUCTURE\\n       1 RES             1 RESIDUE    0 **** ROOT      0\\n       2 PRT            69 RESIDUE    0 **** ROOT      0\\n\",\"mol2\");\n",
       "\tviewer_166680291111654.setStyle({\"stick\": {\"radius\": 0.2, \"color\": \"grey\"}, \"sphere\": {\"scale\": 0.3, \"colorscheme\": {}}});\n",
       "\tviewer_166680291111654.zoomTo();\n",
       "viewer_166680291111654.render();\n",
       "});\n",
       "</script>"
      ]
     },
     "metadata": {},
     "output_type": "display_data"
    },
    {
     "data": {
      "text/plain": [
       "<py3Dmol.view at 0x7f6ab9458250>"
      ]
     },
     "execution_count": 62,
     "metadata": {},
     "output_type": "execute_result"
    }
   ],
   "source": [
    "#should be S-\n",
    "xlig = mb.load(\"xlig.mol2\")\n",
    "xlig.add(mb.Port(anchor=xlig[23], separation=0.25, orientation=(xlig[23].pos-xlig[13].pos)))\n",
    "xlig.visualize(show_ports=True)"
   ]
  },
  {
   "cell_type": "code",
   "execution_count": 17,
   "id": "049717e3-4a72-4ac3-a1c5-10505116828b",
   "metadata": {},
   "outputs": [],
   "source": [
    "slab = mb.load(\"ZnS.mol2\")"
   ]
  },
  {
   "cell_type": "code",
   "execution_count": 65,
   "id": "23c9fc9b-7566-48f8-ab26-4f9c1c483703",
   "metadata": {
    "collapsed": true,
    "jupyter": {
     "outputs_hidden": true
    },
    "tags": []
   },
   "outputs": [
    {
     "name": "stdout",
     "output_type": "stream",
     "text": [
      "0 <ZN pos=([0. 0. 0.]), 4 bonds, id: 140096352953120>\n",
      "1 <ZN pos=([0.    0.    0.545]), 4 bonds, id: 140096352953648>\n",
      "2 <ZN pos=([0.   1.09 0.  ]), 4 bonds, id: 140096353001120>\n",
      "3 <ZN pos=([0.    1.09  0.545]), 4 bonds, id: 140096352952880>\n",
      "4 <ZN pos=([1.09 0.   0.  ]), 4 bonds, id: 140096351607136>\n",
      "5 <ZN pos=([1.09  0.    0.545]), 4 bonds, id: 140096351606464>\n",
      "6 <ZN pos=([1.09 1.09 0.  ]), 4 bonds, id: 140096351603104>\n",
      "7 <ZN pos=([1.09  1.09  0.545]), 4 bonds, id: 140096351602720>\n",
      "8 <ZN pos=([0.    0.545 0.   ]), 4 bonds, id: 140096351603152>\n",
      "9 <ZN pos=([0.    0.545 0.545]), 4 bonds, id: 140096351609296>\n",
      "10 <ZN pos=([1.09  0.545 0.   ]), 4 bonds, id: 140096351607184>\n",
      "11 <ZN pos=([1.09  0.545 0.545]), 4 bonds, id: 140096351606944>\n",
      "12 <ZN pos=([0.545 0.    0.   ]), 4 bonds, id: 140096351604544>\n",
      "13 <ZN pos=([0.545 0.    0.545]), 4 bonds, id: 140096351606512>\n",
      "14 <ZN pos=([0.545 1.09  0.   ]), 4 bonds, id: 140096353079584>\n",
      "15 <ZN pos=([0.545 1.09  0.545]), 4 bonds, id: 140096353081408>\n",
      "16 <ZN pos=([0.545 0.545 0.   ]), 4 bonds, id: 140096353081648>\n",
      "17 <ZN pos=([0.545 0.545 0.545]), 4 bonds, id: 140096353076656>\n",
      "18 <ZN pos=([0.     0.2725 0.2725]), 4 bonds, id: 140096353075936>\n",
      "19 <ZN pos=([1.09   0.2725 0.2725]), 4 bonds, id: 140096353078048>\n",
      "20 <ZN pos=([0.     0.8175 0.2725]), 4 bonds, id: 140096353078528>\n",
      "21 <ZN pos=([1.09   0.8175 0.2725]), 4 bonds, id: 140096353077328>\n",
      "22 <ZN pos=([0.545  0.2725 0.2725]), 4 bonds, id: 140096353077952>\n",
      "23 <ZN pos=([0.545  0.8175 0.2725]), 4 bonds, id: 140096353077520>\n",
      "24 <ZN pos=([0.2725 0.     0.2725]), 4 bonds, id: 140096353083664>\n",
      "25 <ZN pos=([0.2725 1.09   0.2725]), 4 bonds, id: 140096353084768>\n",
      "26 <ZN pos=([0.2725 0.545  0.2725]), 4 bonds, id: 140096353085008>\n",
      "27 <ZN pos=([0.8175 0.     0.2725]), 4 bonds, id: 140096353085440>\n",
      "28 <ZN pos=([0.8175 1.09   0.2725]), 4 bonds, id: 140096353085776>\n",
      "29 <ZN pos=([0.8175 0.545  0.2725]), 4 bonds, id: 140096353085920>\n",
      "30 <ZN pos=([0.2725 0.2725 0.    ]), 4 bonds, id: 140096353086256>\n",
      "31 <ZN pos=([0.2725 0.2725 0.545 ]), 4 bonds, id: 140096353086400>\n",
      "32 <ZN pos=([0.2725 0.8175 0.    ]), 4 bonds, id: 140096353086736>\n",
      "33 <ZN pos=([0.2725 0.8175 0.545 ]), 4 bonds, id: 140096353086880>\n",
      "34 <ZN pos=([0.8175 0.2725 0.    ]), 4 bonds, id: 140096353083616>\n",
      "35 <ZN pos=([0.8175 0.2725 0.545 ]), 4 bonds, id: 140096353087408>\n",
      "36 <ZN pos=([0.8175 0.8175 0.    ]), 4 bonds, id: 140096353087744>\n",
      "37 <ZN pos=([0.8175 0.8175 0.545 ]), 4 bonds, id: 140096353076944>\n",
      "38 <S pos=([0.1363 0.1363 0.4088]), 4 bonds, id: 140096353088128>\n",
      "39 <S pos=([0.1363 0.6813 0.4088]), 4 bonds, id: 140096353088368>\n",
      "40 <S pos=([0.6813 0.1363 0.4088]), 4 bonds, id: 140096353082368>\n",
      "41 <S pos=([0.6813 0.6813 0.4088]), 4 bonds, id: 140096353082272>\n",
      "42 <S pos=([0.1363 0.4088 0.1363]), 4 bonds, id: 140096353075408>\n",
      "43 <S pos=([0.1363 0.9538 0.1363]), 4 bonds, id: 140096353075264>\n",
      "44 <S pos=([0.6813 0.4088 0.1363]), 4 bonds, id: 140096353081456>\n",
      "45 <S pos=([0.6813 0.9538 0.1363]), 4 bonds, id: 140096353081312>\n",
      "46 <S pos=([0.4088 0.1363 0.1363]), 4 bonds, id: 140096353080784>\n",
      "47 <S pos=([0.4088 0.6813 0.1363]), 4 bonds, id: 140096353080640>\n",
      "48 <S pos=([0.9538 0.1363 0.1363]), 4 bonds, id: 140096353080016>\n",
      "49 <S pos=([0.9538 0.6813 0.1363]), 4 bonds, id: 140096353079968>\n",
      "50 <S pos=([0.4088 0.4088 0.4088]), 4 bonds, id: 140096353079344>\n",
      "51 <S pos=([0.4088 0.9538 0.4088]), 4 bonds, id: 140096353082704>\n",
      "52 <S pos=([0.9538 0.4088 0.4088]), 4 bonds, id: 140096353078960>\n",
      "53 <S pos=([0.9538 0.9538 0.4088]), 4 bonds, id: 140096353080448>\n",
      "54 <S pos=([-0.1363 -0.1363 -0.1363]), 1 bonds, id: 140096353081696>\n",
      "55 <S pos=([-0.1363  0.1363  0.1363]), 2 bonds, id: 140096353076176>\n",
      "56 <S pos=([ 0.1363 -0.1363  0.1363]), 2 bonds, id: 140096353077808>\n",
      "57 <S pos=([ 0.1363  0.1363 -0.1363]), 2 bonds, id: 140096353084960>\n",
      "58 <S pos=([-0.1363 -0.1363  0.4088]), 1 bonds, id: 140096353090240>\n",
      "59 <S pos=([-0.1363  0.1363  0.6813]), 1 bonds, id: 140096353132624>\n",
      "60 <S pos=([ 0.1363 -0.1363  0.6813]), 1 bonds, id: 140096353129744>\n",
      "61 <S pos=([-0.1363  0.9538 -0.1363]), 1 bonds, id: 140096353130176>\n",
      "62 <S pos=([-0.1363  1.2263  0.1363]), 1 bonds, id: 140096353133392>\n",
      "63 <S pos=([ 0.1363  1.2263 -0.1363]), 1 bonds, id: 140096353129600>\n",
      "64 <S pos=([-0.1363  0.9538  0.4088]), 2 bonds, id: 140096353130368>\n",
      "65 <S pos=([-0.1363  1.2263  0.6813]), 1 bonds, id: 140096353133296>\n",
      "66 <S pos=([0.1363 0.9538 0.6813]), 2 bonds, id: 140096353132768>\n",
      "67 <S pos=([0.1363 1.2263 0.4088]), 2 bonds, id: 140096353129888>\n",
      "68 <S pos=([ 0.9538 -0.1363 -0.1363]), 1 bonds, id: 140096353129408>\n",
      "69 <S pos=([ 1.2263 -0.1363  0.1363]), 1 bonds, id: 140096353132720>\n",
      "70 <S pos=([ 1.2263  0.1363 -0.1363]), 1 bonds, id: 140096353133680>\n",
      "71 <S pos=([ 0.9538 -0.1363  0.4088]), 2 bonds, id: 140096353134016>\n",
      "72 <S pos=([0.9538 0.1363 0.6813]), 2 bonds, id: 140096353131136>\n",
      "73 <S pos=([ 1.2263 -0.1363  0.6813]), 1 bonds, id: 140096351818592>\n",
      "74 <S pos=([1.2263 0.1363 0.4088]), 2 bonds, id: 140096351818832>\n",
      "75 <S pos=([ 0.9538  0.9538 -0.1363]), 2 bonds, id: 140096351819072>\n",
      "76 <S pos=([0.9538 1.2263 0.1363]), 2 bonds, id: 140096351819312>\n",
      "77 <S pos=([1.2263 0.9538 0.1363]), 2 bonds, id: 140096351819552>\n",
      "78 <S pos=([ 1.2263  1.2263 -0.1363]), 1 bonds, id: 140096351819792>\n",
      "79 <S pos=([0.9538 1.2263 0.6813]), 1 bonds, id: 140096351820032>\n",
      "80 <S pos=([1.2263 0.9538 0.6813]), 1 bonds, id: 140096351820272>\n",
      "81 <S pos=([1.2263 1.2263 0.4088]), 1 bonds, id: 140096351820512>\n",
      "82 <S pos=([-0.1363  0.4088 -0.1363]), 1 bonds, id: 140096351820752>\n",
      "83 <S pos=([-0.1363  0.6813  0.1363]), 2 bonds, id: 140096351820992>\n",
      "84 <S pos=([ 0.1363  0.6813 -0.1363]), 2 bonds, id: 140096351821232>\n",
      "85 <S pos=([-0.1363  0.4088  0.4088]), 2 bonds, id: 140096351821472>\n",
      "86 <S pos=([-0.1363  0.6813  0.6813]), 1 bonds, id: 140096351821712>\n",
      "87 <S pos=([0.1363 0.4088 0.6813]), 2 bonds, id: 140096351821952>\n",
      "88 <S pos=([ 0.9538  0.4088 -0.1363]), 2 bonds, id: 140096351822192>\n",
      "89 <S pos=([1.2263 0.4088 0.1363]), 2 bonds, id: 140096351822432>\n",
      "90 <S pos=([ 1.2263  0.6813 -0.1363]), 1 bonds, id: 140096351822672>\n",
      "91 <S pos=([0.9538 0.6813 0.6813]), 2 bonds, id: 140096351822912>\n",
      "92 <S pos=([1.2263 0.4088 0.6813]), 1 bonds, id: 140096351823152>\n",
      "93 <S pos=([1.2263 0.6813 0.4088]), 2 bonds, id: 140096351823392>\n",
      "94 <S pos=([ 0.4088 -0.1363 -0.1363]), 1 bonds, id: 140096351823632>\n",
      "95 <S pos=([ 0.6813 -0.1363  0.1363]), 2 bonds, id: 140096351823872>\n",
      "96 <S pos=([ 0.6813  0.1363 -0.1363]), 2 bonds, id: 140096351824112>\n",
      "97 <S pos=([ 0.4088 -0.1363  0.4088]), 2 bonds, id: 140096351824352>\n",
      "98 <S pos=([0.4088 0.1363 0.6813]), 2 bonds, id: 140096351824592>\n",
      "99 <S pos=([ 0.6813 -0.1363  0.6813]), 1 bonds, id: 140096351824832>\n",
      "100 <S pos=([ 0.4088  0.9538 -0.1363]), 2 bonds, id: 140096351825072>\n",
      "101 <S pos=([0.4088 1.2263 0.1363]), 2 bonds, id: 140096351825312>\n",
      "102 <S pos=([ 0.6813  1.2263 -0.1363]), 1 bonds, id: 140096351825552>\n",
      "103 <S pos=([0.4088 1.2263 0.6813]), 1 bonds, id: 140096351825792>\n",
      "104 <S pos=([0.6813 0.9538 0.6813]), 2 bonds, id: 140096351826032>\n",
      "105 <S pos=([0.6813 1.2263 0.4088]), 2 bonds, id: 140096351826272>\n",
      "106 <S pos=([ 0.4088  0.4088 -0.1363]), 2 bonds, id: 140096351826512>\n",
      "107 <S pos=([ 0.6813  0.6813 -0.1363]), 2 bonds, id: 140096351826752>\n",
      "108 <S pos=([0.4088 0.6813 0.6813]), 2 bonds, id: 140096351826992>\n",
      "109 <S pos=([0.6813 0.4088 0.6813]), 2 bonds, id: 140096351827232>\n"
     ]
    }
   ],
   "source": [
    "for i,part in enumerate(slab):\n",
    "    print(i,part)"
   ]
  },
  {
   "cell_type": "code",
   "execution_count": 64,
   "id": "5f629ef2-a8d2-44ea-9a29-c03c858fc8b5",
   "metadata": {},
   "outputs": [
    {
     "data": {
      "application/3dmoljs_load.v0": "<div id=\"3dmolviewer_16668039859619145\"  style=\"position: relative; width: 640px; height: 480px\">\n        <p id=\"3dmolwarning_16668039859619145\" style=\"background-color:#ffcccc;color:black\">You appear to be running in JupyterLab (or JavaScript failed to load for some other reason).  You need to install the 3dmol extension: <br>\n        <tt>jupyter labextension install jupyterlab_3dmol</tt></p>\n        </div>\n<script>\n\nvar loadScriptAsync = function(uri){\n  return new Promise((resolve, reject) => {\n    var tag = document.createElement('script');\n    tag.src = uri;\n    tag.async = true;\n    tag.onload = () => {\n      resolve();\n    };\n  var firstScriptTag = document.getElementsByTagName('script')[0];\n  firstScriptTag.parentNode.insertBefore(tag, firstScriptTag);\n});\n};\n\nif(typeof $3Dmolpromise === 'undefined') {\n$3Dmolpromise = null;\n  $3Dmolpromise = loadScriptAsync('https://cdn.jsdelivr.net/npm/3dmol@latest/build/3Dmol-min.min.js');\n}\n\nvar viewer_16668039859619145 = null;\nvar warn = document.getElementById(\"3dmolwarning_16668039859619145\");\nif(warn) {\n    warn.parentNode.removeChild(warn);\n}\n$3Dmolpromise.then(function() {\nviewer_16668039859619145 = $3Dmol.createViewer($(\"#3dmolviewer_16668039859619145\"),{backgroundColor:\"white\"});\nviewer_16668039859619145.zoomTo();\n\tviewer_16668039859619145.addModel(\"@<TRIPOS>MOLECULE\\nRES\\n110 152 1 0 1\\nSMALL\\nNO_CHARGES\\n@<TRIPOS>CRYSIN\\n   13.6257    13.6257     8.1754    90.0000    90.0000    90.0000  1  1\\n@<TRIPOS>ATOM\\n       1 ZN           0.0000     0.0000     0.0000 ZN            1 RES     \\n       2 ZN           0.0000     0.0000     5.4503 ZN            1 RES     \\n       3 ZN           0.0000    10.9005     0.0000 ZN            1 RES     \\n       4 ZN           0.0000    10.9005     5.4503 ZN            1 RES     \\n       5 ZN          10.9005     0.0000     0.0000 ZN            1 RES     \\n       6 ZN          10.9005     0.0000     5.4503 ZN            1 RES     \\n       7 ZN          10.9005    10.9005     0.0000 ZN            1 RES     \\n       8 ZN          10.9005    10.9005     5.4503 ZN            1 RES     \\n       9 ZN           0.0000     5.4503     0.0000 ZN            1 RES     \\n      10 ZN           0.0000     5.4503     5.4503 ZN            1 RES     \\n      11 ZN          10.9005     5.4503     0.0000 ZN            1 RES     \\n      12 ZN          10.9005     5.4503     5.4503 ZN            1 RES     \\n      13 ZN           5.4503     0.0000     0.0000 ZN            1 RES     \\n      14 ZN           5.4503     0.0000     5.4503 ZN            1 RES     \\n      15 ZN           5.4503    10.9005     0.0000 ZN            1 RES     \\n      16 ZN           5.4503    10.9005     5.4503 ZN            1 RES     \\n      17 ZN           5.4503     5.4503     0.0000 ZN            1 RES     \\n      18 ZN           5.4503     5.4503     5.4503 ZN            1 RES     \\n      19 ZN           0.0000     2.7251     2.7251 ZN            1 RES     \\n      20 ZN          10.9005     2.7251     2.7251 ZN            1 RES     \\n      21 ZN           0.0000     8.1754     2.7251 ZN            1 RES     \\n      22 ZN          10.9005     8.1754     2.7251 ZN            1 RES     \\n      23 ZN           5.4503     2.7251     2.7251 ZN            1 RES     \\n      24 ZN           5.4503     8.1754     2.7251 ZN            1 RES     \\n      25 ZN           2.7251     0.0000     2.7251 ZN            1 RES     \\n      26 ZN           2.7251    10.9005     2.7251 ZN            1 RES     \\n      27 ZN           2.7251     5.4503     2.7251 ZN            1 RES     \\n      28 ZN           8.1754     0.0000     2.7251 ZN            1 RES     \\n      29 ZN           8.1754    10.9005     2.7251 ZN            1 RES     \\n      30 ZN           8.1754     5.4503     2.7251 ZN            1 RES     \\n      31 ZN           2.7251     2.7251     0.0000 ZN            1 RES     \\n      32 ZN           2.7251     2.7251     5.4503 ZN            1 RES     \\n      33 ZN           2.7251     8.1754     0.0000 ZN            1 RES     \\n      34 ZN           2.7251     8.1754     5.4503 ZN            1 RES     \\n      35 ZN           8.1754     2.7251     0.0000 ZN            1 RES     \\n      36 ZN           8.1754     2.7251     5.4503 ZN            1 RES     \\n      37 ZN           8.1754     8.1754     0.0000 ZN            1 RES     \\n      38 ZN           8.1754     8.1754     5.4503 ZN            1 RES     \\n      39 S            1.3626     1.3626     4.0877 S             1 RES     \\n      40 S            1.3626     6.8128     4.0877 S             1 RES     \\n      41 S            6.8128     1.3626     4.0877 S             1 RES     \\n      42 S            6.8128     6.8128     4.0877 S             1 RES     \\n      43 S            1.3626     4.0877     1.3626 S             1 RES     \\n      44 S            1.3626     9.5380     1.3626 S             1 RES     \\n      45 S            6.8128     4.0877     1.3626 S             1 RES     \\n      46 S            6.8128     9.5380     1.3626 S             1 RES     \\n      47 S            4.0877     1.3626     1.3626 S             1 RES     \\n      48 S            4.0877     6.8128     1.3626 S             1 RES     \\n      49 S            9.5380     1.3626     1.3626 S             1 RES     \\n      50 S            9.5380     6.8128     1.3626 S             1 RES     \\n      51 S            4.0877     4.0877     4.0877 S             1 RES     \\n      52 S            4.0877     9.5380     4.0877 S             1 RES     \\n      53 S            9.5380     4.0877     4.0877 S             1 RES     \\n      54 S            9.5380     9.5380     4.0877 S             1 RES     \\n      55 S           -1.3626    -1.3626    -1.3626 S             1 RES     \\n      56 S           -1.3626     1.3626     1.3626 S             1 RES     \\n      57 S            1.3626    -1.3626     1.3626 S             1 RES     \\n      58 S            1.3626     1.3626    -1.3626 S             1 RES     \\n      59 S           -1.3626    -1.3626     4.0877 S             1 RES     \\n      60 S           -1.3626     1.3626     6.8128 S             1 RES     \\n      61 S            1.3626    -1.3626     6.8128 S             1 RES     \\n      62 S           -1.3626     9.5380    -1.3626 S             1 RES     \\n      63 S           -1.3626    12.2631     1.3626 S             1 RES     \\n      64 S            1.3626    12.2631    -1.3626 S             1 RES     \\n      65 S           -1.3626     9.5380     4.0877 S             1 RES     \\n      66 S           -1.3626    12.2631     6.8128 S             1 RES     \\n      67 S            1.3626     9.5380     6.8128 S             1 RES     \\n      68 S            1.3626    12.2631     4.0877 S             1 RES     \\n      69 S            9.5380    -1.3626    -1.3626 S             1 RES     \\n      70 S           12.2631    -1.3626     1.3626 S             1 RES     \\n      71 S           12.2631     1.3626    -1.3626 S             1 RES     \\n      72 S            9.5380    -1.3626     4.0877 S             1 RES     \\n      73 S            9.5380     1.3626     6.8128 S             1 RES     \\n      74 S           12.2631    -1.3626     6.8128 S             1 RES     \\n      75 S           12.2631     1.3626     4.0877 S             1 RES     \\n      76 S            9.5380     9.5380    -1.3626 S             1 RES     \\n      77 S            9.5380    12.2631     1.3626 S             1 RES     \\n      78 S           12.2631     9.5380     1.3626 S             1 RES     \\n      79 S           12.2631    12.2631    -1.3626 S             1 RES     \\n      80 S            9.5380    12.2631     6.8128 S             1 RES     \\n      81 S           12.2631     9.5380     6.8128 S             1 RES     \\n      82 S           12.2631    12.2631     4.0877 S             1 RES     \\n      83 S           -1.3626     4.0877    -1.3626 S             1 RES     \\n      84 S           -1.3626     6.8128     1.3626 S             1 RES     \\n      85 S            1.3626     6.8128    -1.3626 S             1 RES     \\n      86 S           -1.3626     4.0877     4.0877 S             1 RES     \\n      87 S           -1.3626     6.8128     6.8128 S             1 RES     \\n      88 S            1.3626     4.0877     6.8128 S             1 RES     \\n      89 S            9.5380     4.0877    -1.3626 S             1 RES     \\n      90 S           12.2631     4.0877     1.3626 S             1 RES     \\n      91 S           12.2631     6.8128    -1.3626 S             1 RES     \\n      92 S            9.5380     6.8128     6.8128 S             1 RES     \\n      93 S           12.2631     4.0877     6.8128 S             1 RES     \\n      94 S           12.2631     6.8128     4.0877 S             1 RES     \\n      95 S            4.0877    -1.3626    -1.3626 S             1 RES     \\n      96 S            6.8128    -1.3626     1.3626 S             1 RES     \\n      97 S            6.8128     1.3626    -1.3626 S             1 RES     \\n      98 S            4.0877    -1.3626     4.0877 S             1 RES     \\n      99 S            4.0877     1.3626     6.8128 S             1 RES     \\n     100 S            6.8128    -1.3626     6.8128 S             1 RES     \\n     101 S            4.0877     9.5380    -1.3626 S             1 RES     \\n     102 S            4.0877    12.2631     1.3626 S             1 RES     \\n     103 S            6.8128    12.2631    -1.3626 S             1 RES     \\n     104 S            4.0877    12.2631     6.8128 S             1 RES     \\n     105 S            6.8128     9.5380     6.8128 S             1 RES     \\n     106 S            6.8128    12.2631     4.0877 S             1 RES     \\n     107 S            4.0877     4.0877    -1.3626 S             1 RES     \\n     108 S            6.8128     6.8128    -1.3626 S             1 RES     \\n     109 S            4.0877     6.8128     6.8128 S             1 RES     \\n     110 S            6.8128     4.0877     6.8128 S             1 RES     \\n@<TRIPOS>BOND\\n       1       55        1 1\\n       2       58        1 1\\n       3       56        1 1\\n       4       57        1 1\\n       5       59        2 1\\n       6       39        2 1\\n       7       60        2 1\\n       8       61        2 1\\n       9       62        3 1\\n      10       64        3 1\\n      11       44        3 1\\n      12       63        3 1\\n      13       68        4 1\\n      14       65        4 1\\n      15       66        4 1\\n      16       67        4 1\\n      17       71        5 1\\n      18       69        5 1\\n      19       49        5 1\\n      20       70        5 1\\n      21       72        6 1\\n      22       75        6 1\\n      23       73        6 1\\n      24       74        6 1\\n      25       76        7 1\\n      26       79        7 1\\n      27       78        7 1\\n      28       77        7 1\\n      29       82        8 1\\n      30       54        8 1\\n      31       81        8 1\\n      32       80        8 1\\n      33       85        9 1\\n      34       83        9 1\\n      35       43        9 1\\n      36       84        9 1\\n      37       86       10 1\\n      38       40       10 1\\n      39       88       10 1\\n      40       87       10 1\\n      41       91       11 1\\n      42       89       11 1\\n      43       50       11 1\\n      44       90       11 1\\n      45       53       12 1\\n      46       94       12 1\\n      47       93       12 1\\n      48       92       12 1\\n      49       95       13 1\\n      50       97       13 1\\n      51       47       13 1\\n      52       96       13 1\\n      53       41       14 1\\n      54       98       14 1\\n      55      100       14 1\\n      56       99       14 1\\n      57      101       15 1\\n      58      103       15 1\\n      59       46       15 1\\n      60      102       15 1\\n      61       52       16 1\\n      62      106       16 1\\n      63      104       16 1\\n      64      105       16 1\\n      65      107       17 1\\n      66      108       17 1\\n      67       45       17 1\\n      68       48       17 1\\n      69       51       18 1\\n      70       42       18 1\\n      71      110       18 1\\n      72      109       18 1\\n      73       56       19 1\\n      74       39       19 1\\n      75       43       19 1\\n      76       86       19 1\\n      77       49       20 1\\n      78       75       20 1\\n      79       90       20 1\\n      80       53       20 1\\n      81       44       21 1\\n      82       65       21 1\\n      83       84       21 1\\n      84       40       21 1\\n      85       78       22 1\\n      86       54       22 1\\n      87       50       22 1\\n      88       94       22 1\\n      89       47       23 1\\n      90       41       23 1\\n      91       45       23 1\\n      92       51       23 1\\n      93       46       24 1\\n      94       52       24 1\\n      95       48       24 1\\n      96       42       24 1\\n      97       57       25 1\\n      98       39       25 1\\n      99       47       25 1\\n     100       98       25 1\\n     101       44       26 1\\n     102       68       26 1\\n     103      102       26 1\\n     104       52       26 1\\n     105       43       27 1\\n     106       40       27 1\\n     107       48       27 1\\n     108       51       27 1\\n     109       49       28 1\\n     110       72       28 1\\n     111       96       28 1\\n     112       41       28 1\\n     113       77       29 1\\n     114       54       29 1\\n     115       46       29 1\\n     116      106       29 1\\n     117       50       30 1\\n     118       53       30 1\\n     119       45       30 1\\n     120       42       30 1\\n     121       58       31 1\\n     122       43       31 1\\n     123       47       31 1\\n     124      107       31 1\\n     125       39       32 1\\n     126       88       32 1\\n     127       99       32 1\\n     128       51       32 1\\n     129       44       33 1\\n     130       85       33 1\\n     131      101       33 1\\n     132       48       33 1\\n     133       67       34 1\\n     134       40       34 1\\n     135       52       34 1\\n     136      109       34 1\\n     137       49       35 1\\n     138       89       35 1\\n     139       97       35 1\\n     140       45       35 1\\n     141       73       36 1\\n     142       53       36 1\\n     143       41       36 1\\n     144      110       36 1\\n     145       76       37 1\\n     146       50       37 1\\n     147       46       37 1\\n     148      108       37 1\\n     149       54       38 1\\n     150       92       38 1\\n     151      105       38 1\\n     152       42       38 1\\n@<TRIPOS>SUBSTRUCTURE\\n       1 RES             1 RESIDUE    0 **** ROOT      0\\n\",\"mol2\");\n\tviewer_16668039859619145.setStyle({\"stick\": {\"radius\": 0.2, \"color\": \"grey\"}, \"sphere\": {\"scale\": 0.3, \"colorscheme\": {}}});\n\tviewer_16668039859619145.zoomTo();\nviewer_16668039859619145.render();\n});\n</script>",
      "text/html": [
       "<div id=\"3dmolviewer_16668039859619145\"  style=\"position: relative; width: 640px; height: 480px\">\n",
       "        <p id=\"3dmolwarning_16668039859619145\" style=\"background-color:#ffcccc;color:black\">You appear to be running in JupyterLab (or JavaScript failed to load for some other reason).  You need to install the 3dmol extension: <br>\n",
       "        <tt>jupyter labextension install jupyterlab_3dmol</tt></p>\n",
       "        </div>\n",
       "<script>\n",
       "\n",
       "var loadScriptAsync = function(uri){\n",
       "  return new Promise((resolve, reject) => {\n",
       "    var tag = document.createElement('script');\n",
       "    tag.src = uri;\n",
       "    tag.async = true;\n",
       "    tag.onload = () => {\n",
       "      resolve();\n",
       "    };\n",
       "  var firstScriptTag = document.getElementsByTagName('script')[0];\n",
       "  firstScriptTag.parentNode.insertBefore(tag, firstScriptTag);\n",
       "});\n",
       "};\n",
       "\n",
       "if(typeof $3Dmolpromise === 'undefined') {\n",
       "$3Dmolpromise = null;\n",
       "  $3Dmolpromise = loadScriptAsync('https://cdn.jsdelivr.net/npm/3dmol@latest/build/3Dmol-min.min.js');\n",
       "}\n",
       "\n",
       "var viewer_16668039859619145 = null;\n",
       "var warn = document.getElementById(\"3dmolwarning_16668039859619145\");\n",
       "if(warn) {\n",
       "    warn.parentNode.removeChild(warn);\n",
       "}\n",
       "$3Dmolpromise.then(function() {\n",
       "viewer_16668039859619145 = $3Dmol.createViewer($(\"#3dmolviewer_16668039859619145\"),{backgroundColor:\"white\"});\n",
       "viewer_16668039859619145.zoomTo();\n",
       "\tviewer_16668039859619145.addModel(\"@<TRIPOS>MOLECULE\\nRES\\n110 152 1 0 1\\nSMALL\\nNO_CHARGES\\n@<TRIPOS>CRYSIN\\n   13.6257    13.6257     8.1754    90.0000    90.0000    90.0000  1  1\\n@<TRIPOS>ATOM\\n       1 ZN           0.0000     0.0000     0.0000 ZN            1 RES     \\n       2 ZN           0.0000     0.0000     5.4503 ZN            1 RES     \\n       3 ZN           0.0000    10.9005     0.0000 ZN            1 RES     \\n       4 ZN           0.0000    10.9005     5.4503 ZN            1 RES     \\n       5 ZN          10.9005     0.0000     0.0000 ZN            1 RES     \\n       6 ZN          10.9005     0.0000     5.4503 ZN            1 RES     \\n       7 ZN          10.9005    10.9005     0.0000 ZN            1 RES     \\n       8 ZN          10.9005    10.9005     5.4503 ZN            1 RES     \\n       9 ZN           0.0000     5.4503     0.0000 ZN            1 RES     \\n      10 ZN           0.0000     5.4503     5.4503 ZN            1 RES     \\n      11 ZN          10.9005     5.4503     0.0000 ZN            1 RES     \\n      12 ZN          10.9005     5.4503     5.4503 ZN            1 RES     \\n      13 ZN           5.4503     0.0000     0.0000 ZN            1 RES     \\n      14 ZN           5.4503     0.0000     5.4503 ZN            1 RES     \\n      15 ZN           5.4503    10.9005     0.0000 ZN            1 RES     \\n      16 ZN           5.4503    10.9005     5.4503 ZN            1 RES     \\n      17 ZN           5.4503     5.4503     0.0000 ZN            1 RES     \\n      18 ZN           5.4503     5.4503     5.4503 ZN            1 RES     \\n      19 ZN           0.0000     2.7251     2.7251 ZN            1 RES     \\n      20 ZN          10.9005     2.7251     2.7251 ZN            1 RES     \\n      21 ZN           0.0000     8.1754     2.7251 ZN            1 RES     \\n      22 ZN          10.9005     8.1754     2.7251 ZN            1 RES     \\n      23 ZN           5.4503     2.7251     2.7251 ZN            1 RES     \\n      24 ZN           5.4503     8.1754     2.7251 ZN            1 RES     \\n      25 ZN           2.7251     0.0000     2.7251 ZN            1 RES     \\n      26 ZN           2.7251    10.9005     2.7251 ZN            1 RES     \\n      27 ZN           2.7251     5.4503     2.7251 ZN            1 RES     \\n      28 ZN           8.1754     0.0000     2.7251 ZN            1 RES     \\n      29 ZN           8.1754    10.9005     2.7251 ZN            1 RES     \\n      30 ZN           8.1754     5.4503     2.7251 ZN            1 RES     \\n      31 ZN           2.7251     2.7251     0.0000 ZN            1 RES     \\n      32 ZN           2.7251     2.7251     5.4503 ZN            1 RES     \\n      33 ZN           2.7251     8.1754     0.0000 ZN            1 RES     \\n      34 ZN           2.7251     8.1754     5.4503 ZN            1 RES     \\n      35 ZN           8.1754     2.7251     0.0000 ZN            1 RES     \\n      36 ZN           8.1754     2.7251     5.4503 ZN            1 RES     \\n      37 ZN           8.1754     8.1754     0.0000 ZN            1 RES     \\n      38 ZN           8.1754     8.1754     5.4503 ZN            1 RES     \\n      39 S            1.3626     1.3626     4.0877 S             1 RES     \\n      40 S            1.3626     6.8128     4.0877 S             1 RES     \\n      41 S            6.8128     1.3626     4.0877 S             1 RES     \\n      42 S            6.8128     6.8128     4.0877 S             1 RES     \\n      43 S            1.3626     4.0877     1.3626 S             1 RES     \\n      44 S            1.3626     9.5380     1.3626 S             1 RES     \\n      45 S            6.8128     4.0877     1.3626 S             1 RES     \\n      46 S            6.8128     9.5380     1.3626 S             1 RES     \\n      47 S            4.0877     1.3626     1.3626 S             1 RES     \\n      48 S            4.0877     6.8128     1.3626 S             1 RES     \\n      49 S            9.5380     1.3626     1.3626 S             1 RES     \\n      50 S            9.5380     6.8128     1.3626 S             1 RES     \\n      51 S            4.0877     4.0877     4.0877 S             1 RES     \\n      52 S            4.0877     9.5380     4.0877 S             1 RES     \\n      53 S            9.5380     4.0877     4.0877 S             1 RES     \\n      54 S            9.5380     9.5380     4.0877 S             1 RES     \\n      55 S           -1.3626    -1.3626    -1.3626 S             1 RES     \\n      56 S           -1.3626     1.3626     1.3626 S             1 RES     \\n      57 S            1.3626    -1.3626     1.3626 S             1 RES     \\n      58 S            1.3626     1.3626    -1.3626 S             1 RES     \\n      59 S           -1.3626    -1.3626     4.0877 S             1 RES     \\n      60 S           -1.3626     1.3626     6.8128 S             1 RES     \\n      61 S            1.3626    -1.3626     6.8128 S             1 RES     \\n      62 S           -1.3626     9.5380    -1.3626 S             1 RES     \\n      63 S           -1.3626    12.2631     1.3626 S             1 RES     \\n      64 S            1.3626    12.2631    -1.3626 S             1 RES     \\n      65 S           -1.3626     9.5380     4.0877 S             1 RES     \\n      66 S           -1.3626    12.2631     6.8128 S             1 RES     \\n      67 S            1.3626     9.5380     6.8128 S             1 RES     \\n      68 S            1.3626    12.2631     4.0877 S             1 RES     \\n      69 S            9.5380    -1.3626    -1.3626 S             1 RES     \\n      70 S           12.2631    -1.3626     1.3626 S             1 RES     \\n      71 S           12.2631     1.3626    -1.3626 S             1 RES     \\n      72 S            9.5380    -1.3626     4.0877 S             1 RES     \\n      73 S            9.5380     1.3626     6.8128 S             1 RES     \\n      74 S           12.2631    -1.3626     6.8128 S             1 RES     \\n      75 S           12.2631     1.3626     4.0877 S             1 RES     \\n      76 S            9.5380     9.5380    -1.3626 S             1 RES     \\n      77 S            9.5380    12.2631     1.3626 S             1 RES     \\n      78 S           12.2631     9.5380     1.3626 S             1 RES     \\n      79 S           12.2631    12.2631    -1.3626 S             1 RES     \\n      80 S            9.5380    12.2631     6.8128 S             1 RES     \\n      81 S           12.2631     9.5380     6.8128 S             1 RES     \\n      82 S           12.2631    12.2631     4.0877 S             1 RES     \\n      83 S           -1.3626     4.0877    -1.3626 S             1 RES     \\n      84 S           -1.3626     6.8128     1.3626 S             1 RES     \\n      85 S            1.3626     6.8128    -1.3626 S             1 RES     \\n      86 S           -1.3626     4.0877     4.0877 S             1 RES     \\n      87 S           -1.3626     6.8128     6.8128 S             1 RES     \\n      88 S            1.3626     4.0877     6.8128 S             1 RES     \\n      89 S            9.5380     4.0877    -1.3626 S             1 RES     \\n      90 S           12.2631     4.0877     1.3626 S             1 RES     \\n      91 S           12.2631     6.8128    -1.3626 S             1 RES     \\n      92 S            9.5380     6.8128     6.8128 S             1 RES     \\n      93 S           12.2631     4.0877     6.8128 S             1 RES     \\n      94 S           12.2631     6.8128     4.0877 S             1 RES     \\n      95 S            4.0877    -1.3626    -1.3626 S             1 RES     \\n      96 S            6.8128    -1.3626     1.3626 S             1 RES     \\n      97 S            6.8128     1.3626    -1.3626 S             1 RES     \\n      98 S            4.0877    -1.3626     4.0877 S             1 RES     \\n      99 S            4.0877     1.3626     6.8128 S             1 RES     \\n     100 S            6.8128    -1.3626     6.8128 S             1 RES     \\n     101 S            4.0877     9.5380    -1.3626 S             1 RES     \\n     102 S            4.0877    12.2631     1.3626 S             1 RES     \\n     103 S            6.8128    12.2631    -1.3626 S             1 RES     \\n     104 S            4.0877    12.2631     6.8128 S             1 RES     \\n     105 S            6.8128     9.5380     6.8128 S             1 RES     \\n     106 S            6.8128    12.2631     4.0877 S             1 RES     \\n     107 S            4.0877     4.0877    -1.3626 S             1 RES     \\n     108 S            6.8128     6.8128    -1.3626 S             1 RES     \\n     109 S            4.0877     6.8128     6.8128 S             1 RES     \\n     110 S            6.8128     4.0877     6.8128 S             1 RES     \\n@<TRIPOS>BOND\\n       1       55        1 1\\n       2       58        1 1\\n       3       56        1 1\\n       4       57        1 1\\n       5       59        2 1\\n       6       39        2 1\\n       7       60        2 1\\n       8       61        2 1\\n       9       62        3 1\\n      10       64        3 1\\n      11       44        3 1\\n      12       63        3 1\\n      13       68        4 1\\n      14       65        4 1\\n      15       66        4 1\\n      16       67        4 1\\n      17       71        5 1\\n      18       69        5 1\\n      19       49        5 1\\n      20       70        5 1\\n      21       72        6 1\\n      22       75        6 1\\n      23       73        6 1\\n      24       74        6 1\\n      25       76        7 1\\n      26       79        7 1\\n      27       78        7 1\\n      28       77        7 1\\n      29       82        8 1\\n      30       54        8 1\\n      31       81        8 1\\n      32       80        8 1\\n      33       85        9 1\\n      34       83        9 1\\n      35       43        9 1\\n      36       84        9 1\\n      37       86       10 1\\n      38       40       10 1\\n      39       88       10 1\\n      40       87       10 1\\n      41       91       11 1\\n      42       89       11 1\\n      43       50       11 1\\n      44       90       11 1\\n      45       53       12 1\\n      46       94       12 1\\n      47       93       12 1\\n      48       92       12 1\\n      49       95       13 1\\n      50       97       13 1\\n      51       47       13 1\\n      52       96       13 1\\n      53       41       14 1\\n      54       98       14 1\\n      55      100       14 1\\n      56       99       14 1\\n      57      101       15 1\\n      58      103       15 1\\n      59       46       15 1\\n      60      102       15 1\\n      61       52       16 1\\n      62      106       16 1\\n      63      104       16 1\\n      64      105       16 1\\n      65      107       17 1\\n      66      108       17 1\\n      67       45       17 1\\n      68       48       17 1\\n      69       51       18 1\\n      70       42       18 1\\n      71      110       18 1\\n      72      109       18 1\\n      73       56       19 1\\n      74       39       19 1\\n      75       43       19 1\\n      76       86       19 1\\n      77       49       20 1\\n      78       75       20 1\\n      79       90       20 1\\n      80       53       20 1\\n      81       44       21 1\\n      82       65       21 1\\n      83       84       21 1\\n      84       40       21 1\\n      85       78       22 1\\n      86       54       22 1\\n      87       50       22 1\\n      88       94       22 1\\n      89       47       23 1\\n      90       41       23 1\\n      91       45       23 1\\n      92       51       23 1\\n      93       46       24 1\\n      94       52       24 1\\n      95       48       24 1\\n      96       42       24 1\\n      97       57       25 1\\n      98       39       25 1\\n      99       47       25 1\\n     100       98       25 1\\n     101       44       26 1\\n     102       68       26 1\\n     103      102       26 1\\n     104       52       26 1\\n     105       43       27 1\\n     106       40       27 1\\n     107       48       27 1\\n     108       51       27 1\\n     109       49       28 1\\n     110       72       28 1\\n     111       96       28 1\\n     112       41       28 1\\n     113       77       29 1\\n     114       54       29 1\\n     115       46       29 1\\n     116      106       29 1\\n     117       50       30 1\\n     118       53       30 1\\n     119       45       30 1\\n     120       42       30 1\\n     121       58       31 1\\n     122       43       31 1\\n     123       47       31 1\\n     124      107       31 1\\n     125       39       32 1\\n     126       88       32 1\\n     127       99       32 1\\n     128       51       32 1\\n     129       44       33 1\\n     130       85       33 1\\n     131      101       33 1\\n     132       48       33 1\\n     133       67       34 1\\n     134       40       34 1\\n     135       52       34 1\\n     136      109       34 1\\n     137       49       35 1\\n     138       89       35 1\\n     139       97       35 1\\n     140       45       35 1\\n     141       73       36 1\\n     142       53       36 1\\n     143       41       36 1\\n     144      110       36 1\\n     145       76       37 1\\n     146       50       37 1\\n     147       46       37 1\\n     148      108       37 1\\n     149       54       38 1\\n     150       92       38 1\\n     151      105       38 1\\n     152       42       38 1\\n@<TRIPOS>SUBSTRUCTURE\\n       1 RES             1 RESIDUE    0 **** ROOT      0\\n\",\"mol2\");\n",
       "\tviewer_16668039859619145.setStyle({\"stick\": {\"radius\": 0.2, \"color\": \"grey\"}, \"sphere\": {\"scale\": 0.3, \"colorscheme\": {}}});\n",
       "\tviewer_16668039859619145.zoomTo();\n",
       "viewer_16668039859619145.render();\n",
       "});\n",
       "</script>"
      ]
     },
     "metadata": {},
     "output_type": "display_data"
    },
    {
     "data": {
      "text/plain": [
       "<py3Dmol.view at 0x7f6ab95cd930>"
      ]
     },
     "execution_count": 64,
     "metadata": {},
     "output_type": "execute_result"
    }
   ],
   "source": [
    "slab.visualize()"
   ]
  },
  {
   "cell_type": "code",
   "execution_count": 66,
   "id": "127c65fc-cd0a-4e55-93d8-0663872f0a92",
   "metadata": {},
   "outputs": [
    {
     "ename": "AttributeError",
     "evalue": "'NoneType' object has no attribute 'particles'",
     "output_type": "error",
     "traceback": [
      "\u001b[0;31m---------------------------------------------------------------------------\u001b[0m",
      "\u001b[0;31mAttributeError\u001b[0m                            Traceback (most recent call last)",
      "Input \u001b[0;32mIn [66]\u001b[0m, in \u001b[0;36m<cell line: 1>\u001b[0;34m()\u001b[0m\n\u001b[0;32m----> 1\u001b[0m \u001b[43mslab\u001b[49m\u001b[38;5;241;43m.\u001b[39;49m\u001b[43mremove\u001b[49m\u001b[43m(\u001b[49m\u001b[43mslab\u001b[49m\u001b[43m[\u001b[49m\u001b[38;5;241;43m0\u001b[39;49m\u001b[43m:\u001b[49m\u001b[38;5;241;43m10\u001b[39;49m\u001b[43m]\u001b[49m\u001b[43m)\u001b[49m\n",
      "File \u001b[0;32m~/miniconda3/envs/dev/lib/python3.10/site-packages/mbuild/compound.py:826\u001b[0m, in \u001b[0;36mCompound.remove\u001b[0;34m(self, objs_to_remove)\u001b[0m\n\u001b[1;32m    822\u001b[0m objs_to_remove \u001b[38;5;241m=\u001b[39m objs_to_remove \u001b[38;5;241m-\u001b[39m ports_removed\n\u001b[1;32m    824\u001b[0m \u001b[38;5;66;03m# Get particles to remove\u001b[39;00m\n\u001b[1;32m    825\u001b[0m particles_to_remove \u001b[38;5;241m=\u001b[39m \u001b[38;5;28mset\u001b[39m(\n\u001b[0;32m--> 826\u001b[0m     [particle \u001b[38;5;28;01mfor\u001b[39;00m obj \u001b[38;5;129;01min\u001b[39;00m objs_to_remove \u001b[38;5;28;01mfor\u001b[39;00m particle \u001b[38;5;129;01min\u001b[39;00m obj\u001b[38;5;241m.\u001b[39mparticles()]\n\u001b[1;32m    827\u001b[0m )\n\u001b[1;32m    829\u001b[0m \u001b[38;5;66;03m# Recursively get container compounds to remove\u001b[39;00m\n\u001b[1;32m    830\u001b[0m to_remove \u001b[38;5;241m=\u001b[39m \u001b[38;5;28mlist\u001b[39m()\n",
      "File \u001b[0;32m~/miniconda3/envs/dev/lib/python3.10/site-packages/mbuild/compound.py:826\u001b[0m, in \u001b[0;36m<listcomp>\u001b[0;34m(.0)\u001b[0m\n\u001b[1;32m    822\u001b[0m objs_to_remove \u001b[38;5;241m=\u001b[39m objs_to_remove \u001b[38;5;241m-\u001b[39m ports_removed\n\u001b[1;32m    824\u001b[0m \u001b[38;5;66;03m# Get particles to remove\u001b[39;00m\n\u001b[1;32m    825\u001b[0m particles_to_remove \u001b[38;5;241m=\u001b[39m \u001b[38;5;28mset\u001b[39m(\n\u001b[0;32m--> 826\u001b[0m     [particle \u001b[38;5;28;01mfor\u001b[39;00m obj \u001b[38;5;129;01min\u001b[39;00m objs_to_remove \u001b[38;5;28;01mfor\u001b[39;00m particle \u001b[38;5;129;01min\u001b[39;00m \u001b[43mobj\u001b[49m\u001b[38;5;241;43m.\u001b[39;49m\u001b[43mparticles\u001b[49m()]\n\u001b[1;32m    827\u001b[0m )\n\u001b[1;32m    829\u001b[0m \u001b[38;5;66;03m# Recursively get container compounds to remove\u001b[39;00m\n\u001b[1;32m    830\u001b[0m to_remove \u001b[38;5;241m=\u001b[39m \u001b[38;5;28mlist\u001b[39m()\n",
      "\u001b[0;31mAttributeError\u001b[0m: 'NoneType' object has no attribute 'particles'"
     ]
    }
   ],
   "source": [
    "slab.remove(slab[0:10])"
   ]
  },
  {
   "cell_type": "code",
   "execution_count": 19,
   "id": "7dcd8f2b-bf37-48b4-9590-33c9e0939b59",
   "metadata": {},
   "outputs": [
    {
     "ename": "NameError",
     "evalue": "name 'pat' is not defined",
     "output_type": "error",
     "traceback": [
      "\u001b[0;31m---------------------------------------------------------------------------\u001b[0m",
      "\u001b[0;31mNameError\u001b[0m                                 Traceback (most recent call last)",
      "Input \u001b[0;32mIn [19]\u001b[0m, in \u001b[0;36m<cell line: 1>\u001b[0;34m()\u001b[0m\n\u001b[0;32m----> 1\u001b[0m \u001b[43mpat\u001b[49m\u001b[38;5;241m.\u001b[39mapply(xlinkable)\n",
      "\u001b[0;31mNameError\u001b[0m: name 'pat' is not defined"
     ]
    }
   ],
   "source": [
    "pat.apply(xlinkable)"
   ]
  },
  {
   "cell_type": "code",
   "execution_count": 63,
   "id": "3dbb44d7-21d8-4823-bd33-6a07313f8fd9",
   "metadata": {},
   "outputs": [
    {
     "ename": "AssertionError",
     "evalue": "Not enough ports for pattern.",
     "output_type": "error",
     "traceback": [
      "\u001b[0;31m---------------------------------------------------------------------------\u001b[0m",
      "\u001b[0;31mAssertionError\u001b[0m                            Traceback (most recent call last)",
      "Input \u001b[0;32mIn [63]\u001b[0m, in \u001b[0;36m<cell line: 6>\u001b[0;34m()\u001b[0m\n\u001b[1;32m      4\u001b[0m xlig\u001b[38;5;241m.\u001b[39madd(mb\u001b[38;5;241m.\u001b[39mPort(anchor\u001b[38;5;241m=\u001b[39mxlig[\u001b[38;5;241m23\u001b[39m], separation\u001b[38;5;241m=\u001b[39m\u001b[38;5;241m0.25\u001b[39m, orientation\u001b[38;5;241m=\u001b[39m(xlig[\u001b[38;5;241m23\u001b[39m]\u001b[38;5;241m.\u001b[39mpos\u001b[38;5;241m-\u001b[39mxlig[\u001b[38;5;241m13\u001b[39m]\u001b[38;5;241m.\u001b[39mpos)))\n\u001b[1;32m      5\u001b[0m slab \u001b[38;5;241m=\u001b[39m mb\u001b[38;5;241m.\u001b[39mload(\u001b[38;5;124m\"\u001b[39m\u001b[38;5;124mZnS.mol2\u001b[39m\u001b[38;5;124m\"\u001b[39m)\n\u001b[0;32m----> 6\u001b[0m test \u001b[38;5;241m=\u001b[39m \u001b[43mmb\u001b[49m\u001b[38;5;241;43m.\u001b[39;49m\u001b[43mlib\u001b[49m\u001b[38;5;241;43m.\u001b[39;49m\u001b[43mrecipes\u001b[49m\u001b[38;5;241;43m.\u001b[39;49m\u001b[43mmonolayer\u001b[49m\u001b[38;5;241;43m.\u001b[39;49m\u001b[43mMonolayer\u001b[49m\u001b[43m(\u001b[49m\u001b[43msurface\u001b[49m\u001b[38;5;241;43m=\u001b[39;49m\u001b[43mslab\u001b[49m\u001b[43m,\u001b[49m\u001b[43m \u001b[49m\u001b[43mchains\u001b[49m\u001b[38;5;241;43m=\u001b[39;49m\u001b[43moleic\u001b[49m\u001b[43m,\u001b[49m\u001b[43m \u001b[49m\u001b[43mpattern\u001b[49m\u001b[38;5;241;43m=\u001b[39;49m\u001b[43mmb\u001b[49m\u001b[38;5;241;43m.\u001b[39;49m\u001b[43mRandom2DPattern\u001b[49m\u001b[43m(\u001b[49m\u001b[38;5;241;43m2\u001b[39;49m\u001b[43m)\u001b[49m\u001b[43m)\u001b[49m\n",
      "File \u001b[0;32m~/miniconda3/envs/dev/lib/python3.10/site-packages/mbuild/lib/recipes/monolayer.py:108\u001b[0m, in \u001b[0;36mMonolayer.__init__\u001b[0;34m(self, surface, chains, fractions, backfill, pattern, tile_x, tile_y, **kwargs)\u001b[0m\n\u001b[1;32m    106\u001b[0m \u001b[38;5;66;03m# Attach final chain type. Remaining sites get a backfill.\u001b[39;00m\n\u001b[1;32m    107\u001b[0m warn(\u001b[38;5;124m\"\u001b[39m\u001b[38;5;130;01m\\n\u001b[39;00m\u001b[38;5;124m Adding \u001b[39m\u001b[38;5;132;01m{}\u001b[39;00m\u001b[38;5;124m of chain \u001b[39m\u001b[38;5;132;01m{}\u001b[39;00m\u001b[38;5;124m\"\u001b[39m\u001b[38;5;241m.\u001b[39mformat(\u001b[38;5;28mlen\u001b[39m(pattern), chains[\u001b[38;5;241m-\u001b[39m\u001b[38;5;241m1\u001b[39m]))\n\u001b[0;32m--> 108\u001b[0m attached_chains, backfills \u001b[38;5;241m=\u001b[39m \u001b[43mpattern\u001b[49m\u001b[38;5;241;43m.\u001b[39;49m\u001b[43mapply_to_compound\u001b[49m\u001b[43m(\u001b[49m\n\u001b[1;32m    109\u001b[0m \u001b[43m    \u001b[49m\u001b[43mguest\u001b[49m\u001b[38;5;241;43m=\u001b[39;49m\u001b[43mchains\u001b[49m\u001b[43m[\u001b[49m\u001b[38;5;241;43m-\u001b[39;49m\u001b[38;5;241;43m1\u001b[39;49m\u001b[43m]\u001b[49m\u001b[43m,\u001b[49m\n\u001b[1;32m    110\u001b[0m \u001b[43m    \u001b[49m\u001b[43mhost\u001b[49m\u001b[38;5;241;43m=\u001b[39;49m\u001b[38;5;28;43mself\u001b[39;49m\u001b[43m[\u001b[49m\u001b[38;5;124;43m\"\u001b[39;49m\u001b[38;5;124;43mtiled_surface\u001b[39;49m\u001b[38;5;124;43m\"\u001b[39;49m\u001b[43m]\u001b[49m\u001b[43m,\u001b[49m\n\u001b[1;32m    111\u001b[0m \u001b[43m    \u001b[49m\u001b[43mbackfill\u001b[49m\u001b[38;5;241;43m=\u001b[39;49m\u001b[43mbackfill\u001b[49m\u001b[43m,\u001b[49m\n\u001b[1;32m    112\u001b[0m \u001b[43m    \u001b[49m\u001b[38;5;241;43m*\u001b[39;49m\u001b[38;5;241;43m*\u001b[39;49m\u001b[43mkwargs\u001b[49m\n\u001b[1;32m    113\u001b[0m \u001b[43m\u001b[49m\u001b[43m)\u001b[49m\n\u001b[1;32m    114\u001b[0m \u001b[38;5;28mself\u001b[39m\u001b[38;5;241m.\u001b[39madd(attached_chains)\n\u001b[1;32m    115\u001b[0m \u001b[38;5;28mself\u001b[39m\u001b[38;5;241m.\u001b[39madd(backfills)\n",
      "File \u001b[0;32m~/miniconda3/envs/dev/lib/python3.10/site-packages/mbuild/pattern.py:141\u001b[0m, in \u001b[0;36mPattern.apply_to_compound\u001b[0;34m(self, guest, guest_port_name, host, backfill, backfill_port_name, scale)\u001b[0m\n\u001b[1;32m    114\u001b[0m \u001b[38;5;124;03m\"\"\"Attach copies of a guest Compound to Ports on a host Compound.\u001b[39;00m\n\u001b[1;32m    115\u001b[0m \n\u001b[1;32m    116\u001b[0m \u001b[38;5;124;03mParameters\u001b[39;00m\n\u001b[0;32m   (...)\u001b[0m\n\u001b[1;32m    138\u001b[0m \u001b[38;5;124;03m    List of inserted backfill compounds on host compound\u001b[39;00m\n\u001b[1;32m    139\u001b[0m \u001b[38;5;124;03m\"\"\"\u001b[39;00m\n\u001b[1;32m    140\u001b[0m n_ports \u001b[38;5;241m=\u001b[39m \u001b[38;5;28mlen\u001b[39m(host\u001b[38;5;241m.\u001b[39mavailable_ports())\n\u001b[0;32m--> 141\u001b[0m \u001b[38;5;28;01massert\u001b[39;00m n_ports \u001b[38;5;241m>\u001b[39m\u001b[38;5;241m=\u001b[39m \u001b[38;5;28mself\u001b[39m\u001b[38;5;241m.\u001b[39mpoints\u001b[38;5;241m.\u001b[39mshape[\u001b[38;5;241m0\u001b[39m], \u001b[38;5;124m\"\u001b[39m\u001b[38;5;124mNot enough ports for pattern.\u001b[39m\u001b[38;5;124m\"\u001b[39m\n\u001b[1;32m    142\u001b[0m assert_port_exists(guest_port_name, guest)\n\u001b[1;32m    143\u001b[0m box \u001b[38;5;241m=\u001b[39m host\u001b[38;5;241m.\u001b[39mget_boundingbox()\n",
      "\u001b[0;31mAssertionError\u001b[0m: Not enough ports for pattern."
     ]
    }
   ],
   "source": [
    "oleic = mb.load('CCCCCCCCC=CCCCCCCCC(=O)O', smiles=True)\n",
    "oleic.add(mb.Port(anchor=oleic[18], separation=0.25, orientation=(oleic[18].pos - oleic[17].pos)))\n",
    "xlig = mb.load(\"xlig.mol2\")\n",
    "xlig.add(mb.Port(anchor=xlig[23], separation=0.25, orientation=(xlig[23].pos-xlig[13].pos)))\n",
    "slab = mb.load(\"ZnS.mol2\")\n",
    "test = mb.lib.recipes.monolayer.Monolayer(surface=slab, chains=oleic, pattern=mb.Random2DPattern(2))"
   ]
  },
  {
   "cell_type": "code",
   "execution_count": null,
   "id": "8b4a7dc3-b6aa-4c5b-bf4b-889fbc0c0e4f",
   "metadata": {},
   "outputs": [],
   "source": []
  }
 ],
 "metadata": {
  "kernelspec": {
   "display_name": "Python 3 (ipykernel)",
   "language": "python",
   "name": "python3"
  },
  "language_info": {
   "codemirror_mode": {
    "name": "ipython",
    "version": 3
   },
   "file_extension": ".py",
   "mimetype": "text/x-python",
   "name": "python",
   "nbconvert_exporter": "python",
   "pygments_lexer": "ipython3",
   "version": "3.10.5"
  }
 },
 "nbformat": 4,
 "nbformat_minor": 5
}
