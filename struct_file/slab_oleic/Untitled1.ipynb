{
 "cells": [
  {
   "cell_type": "markdown",
   "id": "739d86c2-556c-4b13-984a-762c0e5cf4bb",
   "metadata": {},
   "source": [
    "Let's just try to get this to work.\n",
    "\n",
    "I need to read in the coordinates of the slab and the oleic ion file\n",
    "\n",
    "Identify sites on the slab, create a system with the slab and add the oleic ligands to the sites\n",
    "\n",
    "then I need to output the...\n",
    "\n",
    "What I could do is try to do the slabs and ligands separately in mbuild and then convert them to separate BGFs and then reparameterize them based on the original structure files and then combine and then convert to LAMMPS input\n"
   ]
  },
  {
   "cell_type": "code",
   "execution_count": null,
   "id": "57ebf509-bd5c-4080-92e2-7efb5b326a13",
   "metadata": {},
   "outputs": [],
   "source": []
  },
  {
   "cell_type": "code",
   "execution_count": null,
   "id": "de6fb7fb-72f7-4074-a3a5-b924cc7c20ea",
   "metadata": {},
   "outputs": [],
   "source": []
  }
 ],
 "metadata": {
  "kernelspec": {
   "display_name": "Python 3 (ipykernel)",
   "language": "python",
   "name": "python3"
  },
  "language_info": {
   "codemirror_mode": {
    "name": "ipython",
    "version": 3
   },
   "file_extension": ".py",
   "mimetype": "text/x-python",
   "name": "python",
   "nbconvert_exporter": "python",
   "pygments_lexer": "ipython3",
   "version": "3.11.3"
  }
 },
 "nbformat": 4,
 "nbformat_minor": 5
}
