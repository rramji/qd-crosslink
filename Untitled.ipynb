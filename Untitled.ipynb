{
 "cells": [
  {
   "cell_type": "code",
   "execution_count": 1,
   "id": "a3bc7729-a479-44da-918f-55d1af3832ad",
   "metadata": {},
   "outputs": [
    {
     "name": "stderr",
     "output_type": "stream",
     "text": [
      "Warning: importing 'simtk.openmm' is deprecated.  Import 'openmm' instead.\n"
     ]
    }
   ],
   "source": [
    "import mbuild as mb\n",
    "from mbuild.lib.recipes import TiledCompound\n",
    "import parmed as pmd\n",
    "import numpy as np\n",
    "import openmm\n",
    "import warnings\n",
    "from random import sample\n",
    "from copy import deepcopy\n",
    "import openbabel as ob\n",
    "from copy import deepcopy\n",
    "# from slab_builder import *\n",
    "warnings.simplefilter(\"ignore\")"
   ]
  },
  {
   "cell_type": "code",
   "execution_count": 19,
   "id": "5d94aa1a-9d75-4d23-8a50-dee785b2999d",
   "metadata": {},
   "outputs": [],
   "source": [
    "import ase\n",
    "from ase import Atoms\n",
    "from ase.build import surface\n",
    "from ase.visualize import view\n",
    "from ase.io import write"
   ]
  },
  {
   "cell_type": "code",
   "execution_count": 14,
   "id": "13479507-a54d-430f-aef7-f4ac5522829f",
   "metadata": {},
   "outputs": [
    {
     "data": {
      "application/vnd.jupyter.widget-view+json": {
       "model_id": "8af0742f0ce248cd97be9c2667fafd75",
       "version_major": 2,
       "version_minor": 0
      },
      "text/plain": []
     },
     "metadata": {},
     "output_type": "display_data"
    },
    {
     "data": {
      "application/vnd.jupyter.widget-view+json": {
       "model_id": "d98226d091f24d31abc3781a1e93d3ba",
       "version_major": 2,
       "version_minor": 0
      },
      "text/plain": [
       "HBox(children=(NGLWidget(), VBox(children=(Dropdown(description='Show', options=('All', 'Al'), value='All'), D…"
      ]
     },
     "metadata": {},
     "output_type": "display_data"
    }
   ],
   "source": [
    "from ase.build import fcc111\n",
    "slab = fcc111('Al', size=(2,2,3), vacuum=10.0)\n",
    "view(slab, viewer=\"nglview\")"
   ]
  },
  {
   "cell_type": "code",
   "execution_count": 12,
   "id": "5f76742b-fb6f-4ed0-a250-f51c105b6e6f",
   "metadata": {},
   "outputs": [],
   "source": [
    "from ase.build import fcc110\n",
    "slab = fcc110('Al', size=(2,2,3), vacuum=10.0)\n",
    "write(\"fcc110.png\", slab)"
   ]
  },
  {
   "cell_type": "code",
   "execution_count": 43,
   "id": "5526ea21-d32b-4435-aefb-2109eee170ed",
   "metadata": {},
   "outputs": [],
   "source": [
    "a = 5.39\n",
    "Pt3Rh = Atoms('ZnS',\n",
    "              scaled_positions=[(0, 0, 0),\n",
    "                                (0.25, 0.75, 0.75)],\n",
    "              cell=[a, a, a],\n",
    "              pbc=True)\n",
    "s3 = surface(Pt3Rh, (1, 1, 0), 6)\n",
    "s3.center(vacuum=0, axis=2)\n",
    "\n",
    "Pt3Rh.set_chemical_symbols('SZn')\n",
    "s4 = surface(Pt3Rh, (1, 1, 0), 9)\n",
    "s4.center(vacuum=0, axis=2)"
   ]
  },
  {
   "cell_type": "code",
   "execution_count": 45,
   "id": "4a0908b9-2633-4378-8b5a-7dda0d931c92",
   "metadata": {},
   "outputs": [
    {
     "data": {
      "application/vnd.jupyter.widget-view+json": {
       "model_id": "fece81e2df2e486daae5a865002cb635",
       "version_major": 2,
       "version_minor": 0
      },
      "text/plain": [
       "HBox(children=(NGLWidget(), VBox(children=(Dropdown(description='Show', options=('All', 'S', 'Zn'), value='All…"
      ]
     },
     "metadata": {},
     "output_type": "display_data"
    }
   ],
   "source": [
    "big_110 = ase.build.make_supercell(s3,([6,0,0],[0,6,0],[0,0,1]))\n",
    "\n",
    "view(big_110, viewer=\"nglview\")"
   ]
  },
  {
   "cell_type": "code",
   "execution_count": 46,
   "id": "b708fa59-624b-4d85-b452-9979e35fbe98",
   "metadata": {},
   "outputs": [],
   "source": [
    "write(\"ZnS_slab_110_6x6x6.xyz\", big_110)"
   ]
  },
  {
   "cell_type": "code",
   "execution_count": 25,
   "id": "42822926-0b4c-40c1-8f26-f54fdba25817",
   "metadata": {},
   "outputs": [
    {
     "data": {
      "application/vnd.jupyter.widget-view+json": {
       "model_id": "8e4abd6e2db849eab72bad6229a87944",
       "version_major": 2,
       "version_minor": 0
      },
      "text/plain": [
       "HBox(children=(NGLWidget(), VBox(children=(Dropdown(description='Show', options=('All', 'S', 'Zn'), value='All…"
      ]
     },
     "metadata": {},
     "output_type": "display_data"
    }
   ],
   "source": [
    "view(s4, viewer=\"nglview\")"
   ]
  },
  {
   "cell_type": "code",
   "execution_count": null,
   "id": "408e892b-087d-4d3a-b96c-f90d139ed3b5",
   "metadata": {},
   "outputs": [],
   "source": []
  }
 ],
 "metadata": {
  "kernelspec": {
   "display_name": "openmm",
   "language": "python",
   "name": "openmm"
  },
  "language_info": {
   "codemirror_mode": {
    "name": "ipython",
    "version": 3
   },
   "file_extension": ".py",
   "mimetype": "text/x-python",
   "name": "python",
   "nbconvert_exporter": "python",
   "pygments_lexer": "ipython3",
   "version": "3.9.7"
  }
 },
 "nbformat": 4,
 "nbformat_minor": 5
}
