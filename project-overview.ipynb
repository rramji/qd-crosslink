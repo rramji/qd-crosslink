{
 "cells": [
  {
   "cell_type": "markdown",
   "id": "de26f1ce-3a9e-4e94-a2ac-59ed2e955b2e",
   "metadata": {},
   "source": [
    "## QD X-linking project overview\n",
    "\n",
    "\n",
    "We're trying to simulate the interface between two adjacent quantum dots.\n",
    "\n",
    "\n",
    "\n",
    "### Section 1: Outline and aims\n",
    "\n",
    "- First step, simulate two opposing slabs conjugated with oleic acid ligands\n",
    " \n",
    "Need periodic ZnS slabs with usable force field parameters (vdW and Coulomb). The slab atoms will be held rigid during the simulation. Lattice spacing needs to be appropriate and box boundaries need to be aligned to maintain appropriate periodicity. Charges should be assigned correctly. \n",
    "\n",
    "- How to assemble the system?\n",
    "\n",
    "Is it possible to use Tod's scripts to assemble the ligands onto the slab surface, or do I need to use MBuild?\n",
    "\n",
    "Let's try to assemble with Tod's scripts for now.\n",
    "\n",
    "Files for testing this are located on Expanse at `/home/rramji/qd-crosslink/struct_file/slab_oleic` and in the repo"
   ]
  },
  {
   "cell_type": "code",
   "execution_count": null,
   "id": "e4dd47f0-3f43-4d56-aebc-36a8441bea27",
   "metadata": {},
   "outputs": [],
   "source": []
  }
 ],
 "metadata": {
  "kernelspec": {
   "display_name": "Python 3 (ipykernel)",
   "language": "python",
   "name": "python3"
  },
  "language_info": {
   "codemirror_mode": {
    "name": "ipython",
    "version": 3
   },
   "file_extension": ".py",
   "mimetype": "text/x-python",
   "name": "python",
   "nbconvert_exporter": "python",
   "pygments_lexer": "ipython3",
   "version": "3.11.3"
  }
 },
 "nbformat": 4,
 "nbformat_minor": 5
}
