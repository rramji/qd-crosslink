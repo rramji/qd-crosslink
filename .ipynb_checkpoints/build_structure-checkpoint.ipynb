{
 "cells": [
  {
   "cell_type": "code",
   "execution_count": 1,
   "id": "568c2fc3-6774-41fd-abf2-2c559becf42c",
   "metadata": {},
   "outputs": [],
   "source": [
    "import mbuild as mb\n",
    "\n",
    "from mbuild.lib.recipes import Alkane\n",
    "from mbuild.lib.moieties import Silane\n",
    "\n",
    "\n",
    "class AlkylSilane(mb.Compound):\n",
    "    \"\"\"A silane functionalized alkane chain with one Port. \"\"\"\n",
    "    def __init__(self, chain_length):\n",
    "        super(AlkylSilane, self).__init__()\n",
    "\n",
    "        alkane = Alkane(chain_length, cap_end=False)\n",
    "        self.add(alkane, 'alkane')\n",
    "        silane = Silane()\n",
    "        self.add(silane, 'silane')\n",
    "        mb.force_overlap(self['alkane'], self['alkane']['down'], self['silane']['up'])\n",
    "\n",
    "        # Hoist silane port to AlkylSilane level.\n",
    "        self.add(silane['down'], 'down', containment=False)"
   ]
  },
  {
   "cell_type": "code",
   "execution_count": 2,
   "id": "c6063aa0-4a87-4b3f-9e17-3a1c53291e78",
   "metadata": {},
   "outputs": [
    {
     "name": "stderr",
     "output_type": "stream",
     "text": [
      "/home/rramji/.conda/envs/openmm/lib/python3.9/site-packages/mbuild/conversion.py:481: UserWarning: Using parmed reader. Bonds may be inferred from inter-particle distances and standard residue templates. Please check that the bonds in mb.Compound are accurate\n",
      "  warn(\n"
     ]
    },
    {
     "data": {
      "application/3dmoljs_load.v0": "<div id=\"3dmolviewer_16667503207510118\"  style=\"position: relative; width: 640px; height: 480px\">\n        <p id=\"3dmolwarning_16667503207510118\" style=\"background-color:#ffcccc;color:black\">You appear to be running in JupyterLab (or JavaScript failed to load for some other reason).  You need to install the 3dmol extension: <br>\n        <tt>jupyter labextension install jupyterlab_3dmol</tt></p>\n        </div>\n<script>\n\nvar loadScriptAsync = function(uri){\n  return new Promise((resolve, reject) => {\n    var tag = document.createElement('script');\n    tag.src = uri;\n    tag.async = true;\n    tag.onload = () => {\n      resolve();\n    };\n  var firstScriptTag = document.getElementsByTagName('script')[0];\n  firstScriptTag.parentNode.insertBefore(tag, firstScriptTag);\n});\n};\n\nif(typeof $3Dmolpromise === 'undefined') {\n$3Dmolpromise = null;\n  $3Dmolpromise = loadScriptAsync('https://3dmol.org/build/3Dmol.js');\n}\n\nvar viewer_16667503207510118 = null;\nvar warn = document.getElementById(\"3dmolwarning_16667503207510118\");\nif(warn) {\n    warn.parentNode.removeChild(warn);\n}\n$3Dmolpromise.then(function() {\nviewer_16667503207510118 = $3Dmol.createViewer($(\"#3dmolviewer_16667503207510118\"),{backgroundColor:\"white\"});\nviewer_16667503207510118.zoomTo();\n\tviewer_16667503207510118.addModel(\"@<TRIPOS>MOLECULE\\nRES\\n21 20 1 0 1\\nSMALL\\nNO_CHARGES\\n@<TRIPOS>CRYSIN\\n    8.4524    12.7690     6.7950    90.0000    90.0000    90.0000  1  1\\n@<TRIPOS>ATOM\\n       1 C           -0.0000     5.6000     0.0000 C             1 RES     \\n       2 H           -1.1000     5.6000     0.0000 H             1 RES     \\n       3 H            1.1000     5.6000     0.0000 H             1 RES     \\n       4 C           -0.0000     4.2000     0.0000 C             1 RES     \\n       5 H           -1.1000     4.2000     0.0000 H             1 RES     \\n       6 H            1.1000     4.2000     0.0000 H             1 RES     \\n       7 C           -0.0000     2.8000     0.0000 C             1 RES     \\n       8 H           -1.1000     2.8000     0.0000 H             1 RES     \\n       9 H            1.1000     2.8000     0.0000 H             1 RES     \\n      10 C           -0.0000     1.4000     0.0000 C             1 RES     \\n      11 H           -1.1000     1.4000    -0.0000 H             1 RES     \\n      12 H            1.1000     1.4000     0.0000 H             1 RES     \\n      13 C           -0.0000     7.0000     0.0000 C             1 RES     \\n      14 H            1.0700     7.0000     0.0000 H             1 RES     \\n      15 H           -0.3570     7.7690     0.6530 H             1 RES     \\n      16 H           -0.3570     7.1810    -0.9930 H             1 RES     \\n      17 Si           0.0000     0.0000     0.0000 Si            1 RES     \\n      18 O            1.3073     0.0000     0.0000 O             1 RES     \\n      19 H            1.6345     0.0316    -0.6710 H             1 RES     \\n      20 O           -1.4502     0.1509     0.0000 O             1 RES     \\n      21 H           -1.8179     0.0683     0.8020 H             1 RES     \\n@<TRIPOS>BOND\\n       1        2        1 1\\n       2        3        1 1\\n       3        4        1 1\\n       4       13        1 1\\n       5        5        4 1\\n       6        6        4 1\\n       7        7        4 1\\n       8       14       13 1\\n       9       15       13 1\\n      10       16       13 1\\n      11        8        7 1\\n      12        9        7 1\\n      13       10        7 1\\n      14       11       10 1\\n      15       12       10 1\\n      16       17       10 1\\n      17       18       17 1\\n      18       20       17 1\\n      19       19       18 1\\n      20       21       20 1\\n@<TRIPOS>SUBSTRUCTURE\\n       1 RES             1 RESIDUE    0 **** ROOT      0\\n\",\"mol2\");\n\tviewer_16667503207510118.setStyle({\"stick\": {\"radius\": 0.2, \"color\": \"grey\"}, \"sphere\": {\"scale\": 0.3, \"colorscheme\": {}}});\n\tviewer_16667503207510118.zoomTo();\nviewer_16667503207510118.render();\n});\n</script>",
      "text/html": [
       "<div id=\"3dmolviewer_16667503207510118\"  style=\"position: relative; width: 640px; height: 480px\">\n",
       "        <p id=\"3dmolwarning_16667503207510118\" style=\"background-color:#ffcccc;color:black\">You appear to be running in JupyterLab (or JavaScript failed to load for some other reason).  You need to install the 3dmol extension: <br>\n",
       "        <tt>jupyter labextension install jupyterlab_3dmol</tt></p>\n",
       "        </div>\n",
       "<script>\n",
       "\n",
       "var loadScriptAsync = function(uri){\n",
       "  return new Promise((resolve, reject) => {\n",
       "    var tag = document.createElement('script');\n",
       "    tag.src = uri;\n",
       "    tag.async = true;\n",
       "    tag.onload = () => {\n",
       "      resolve();\n",
       "    };\n",
       "  var firstScriptTag = document.getElementsByTagName('script')[0];\n",
       "  firstScriptTag.parentNode.insertBefore(tag, firstScriptTag);\n",
       "});\n",
       "};\n",
       "\n",
       "if(typeof $3Dmolpromise === 'undefined') {\n",
       "$3Dmolpromise = null;\n",
       "  $3Dmolpromise = loadScriptAsync('https://3dmol.org/build/3Dmol.js');\n",
       "}\n",
       "\n",
       "var viewer_16667503207510118 = null;\n",
       "var warn = document.getElementById(\"3dmolwarning_16667503207510118\");\n",
       "if(warn) {\n",
       "    warn.parentNode.removeChild(warn);\n",
       "}\n",
       "$3Dmolpromise.then(function() {\n",
       "viewer_16667503207510118 = $3Dmol.createViewer($(\"#3dmolviewer_16667503207510118\"),{backgroundColor:\"white\"});\n",
       "viewer_16667503207510118.zoomTo();\n",
       "\tviewer_16667503207510118.addModel(\"@<TRIPOS>MOLECULE\\nRES\\n21 20 1 0 1\\nSMALL\\nNO_CHARGES\\n@<TRIPOS>CRYSIN\\n    8.4524    12.7690     6.7950    90.0000    90.0000    90.0000  1  1\\n@<TRIPOS>ATOM\\n       1 C           -0.0000     5.6000     0.0000 C             1 RES     \\n       2 H           -1.1000     5.6000     0.0000 H             1 RES     \\n       3 H            1.1000     5.6000     0.0000 H             1 RES     \\n       4 C           -0.0000     4.2000     0.0000 C             1 RES     \\n       5 H           -1.1000     4.2000     0.0000 H             1 RES     \\n       6 H            1.1000     4.2000     0.0000 H             1 RES     \\n       7 C           -0.0000     2.8000     0.0000 C             1 RES     \\n       8 H           -1.1000     2.8000     0.0000 H             1 RES     \\n       9 H            1.1000     2.8000     0.0000 H             1 RES     \\n      10 C           -0.0000     1.4000     0.0000 C             1 RES     \\n      11 H           -1.1000     1.4000    -0.0000 H             1 RES     \\n      12 H            1.1000     1.4000     0.0000 H             1 RES     \\n      13 C           -0.0000     7.0000     0.0000 C             1 RES     \\n      14 H            1.0700     7.0000     0.0000 H             1 RES     \\n      15 H           -0.3570     7.7690     0.6530 H             1 RES     \\n      16 H           -0.3570     7.1810    -0.9930 H             1 RES     \\n      17 Si           0.0000     0.0000     0.0000 Si            1 RES     \\n      18 O            1.3073     0.0000     0.0000 O             1 RES     \\n      19 H            1.6345     0.0316    -0.6710 H             1 RES     \\n      20 O           -1.4502     0.1509     0.0000 O             1 RES     \\n      21 H           -1.8179     0.0683     0.8020 H             1 RES     \\n@<TRIPOS>BOND\\n       1        2        1 1\\n       2        3        1 1\\n       3        4        1 1\\n       4       13        1 1\\n       5        5        4 1\\n       6        6        4 1\\n       7        7        4 1\\n       8       14       13 1\\n       9       15       13 1\\n      10       16       13 1\\n      11        8        7 1\\n      12        9        7 1\\n      13       10        7 1\\n      14       11       10 1\\n      15       12       10 1\\n      16       17       10 1\\n      17       18       17 1\\n      18       20       17 1\\n      19       19       18 1\\n      20       21       20 1\\n@<TRIPOS>SUBSTRUCTURE\\n       1 RES             1 RESIDUE    0 **** ROOT      0\\n\",\"mol2\");\n",
       "\tviewer_16667503207510118.setStyle({\"stick\": {\"radius\": 0.2, \"color\": \"grey\"}, \"sphere\": {\"scale\": 0.3, \"colorscheme\": {}}});\n",
       "\tviewer_16667503207510118.zoomTo();\n",
       "viewer_16667503207510118.render();\n",
       "});\n",
       "</script>"
      ]
     },
     "metadata": {},
     "output_type": "display_data"
    },
    {
     "data": {
      "text/plain": [
       "<py3Dmol.view at 0x7fc3e3995ee0>"
      ]
     },
     "execution_count": 2,
     "metadata": {},
     "output_type": "execute_result"
    }
   ],
   "source": [
    "AlkylSilane(5).visualize()"
   ]
  },
  {
   "cell_type": "code",
   "execution_count": 3,
   "id": "abd9af96-2bb4-434c-a626-10567bbfce87",
   "metadata": {},
   "outputs": [
    {
     "name": "stderr",
     "output_type": "stream",
     "text": [
      "\n",
      "\u001b[91m#######################################################\u001b[0m\n",
      "The code at conversion.py:429 requires the gmso package\n",
      "\u001b[91m#######################################################\u001b[0m\n"
     ]
    },
    {
     "ename": "DelayImportError",
     "evalue": "The code at conversion.py:429 requires the gmso package",
     "output_type": "error",
     "traceback": [
      "\u001b[0;31m---------------------------------------------------------------------------\u001b[0m",
      "\u001b[0;31mModuleNotFoundError\u001b[0m                       Traceback (most recent call last)",
      "File \u001b[0;32m~/.conda/envs/openmm/lib/python3.9/site-packages/mbuild/utils/io.py:237\u001b[0m, in \u001b[0;36mimport_\u001b[0;34m(module)\u001b[0m\n\u001b[1;32m    236\u001b[0m \u001b[38;5;28;01mtry\u001b[39;00m:\n\u001b[0;32m--> 237\u001b[0m     \u001b[38;5;28;01mreturn\u001b[39;00m \u001b[43mimportlib\u001b[49m\u001b[38;5;241;43m.\u001b[39;49m\u001b[43mimport_module\u001b[49m\u001b[43m(\u001b[49m\u001b[43mmodule\u001b[49m\u001b[43m)\u001b[49m\n\u001b[1;32m    238\u001b[0m \u001b[38;5;28;01mexcept\u001b[39;00m \u001b[38;5;167;01mImportError\u001b[39;00m \u001b[38;5;28;01mas\u001b[39;00m e:\n",
      "File \u001b[0;32m~/.conda/envs/openmm/lib/python3.9/importlib/__init__.py:127\u001b[0m, in \u001b[0;36mimport_module\u001b[0;34m(name, package)\u001b[0m\n\u001b[1;32m    126\u001b[0m         level \u001b[38;5;241m+\u001b[39m\u001b[38;5;241m=\u001b[39m \u001b[38;5;241m1\u001b[39m\n\u001b[0;32m--> 127\u001b[0m \u001b[38;5;28;01mreturn\u001b[39;00m \u001b[43m_bootstrap\u001b[49m\u001b[38;5;241;43m.\u001b[39;49m\u001b[43m_gcd_import\u001b[49m\u001b[43m(\u001b[49m\u001b[43mname\u001b[49m\u001b[43m[\u001b[49m\u001b[43mlevel\u001b[49m\u001b[43m:\u001b[49m\u001b[43m]\u001b[49m\u001b[43m,\u001b[49m\u001b[43m \u001b[49m\u001b[43mpackage\u001b[49m\u001b[43m,\u001b[49m\u001b[43m \u001b[49m\u001b[43mlevel\u001b[49m\u001b[43m)\u001b[49m\n",
      "File \u001b[0;32m<frozen importlib._bootstrap>:1030\u001b[0m, in \u001b[0;36m_gcd_import\u001b[0;34m(name, package, level)\u001b[0m\n",
      "File \u001b[0;32m<frozen importlib._bootstrap>:1007\u001b[0m, in \u001b[0;36m_find_and_load\u001b[0;34m(name, import_)\u001b[0m\n",
      "File \u001b[0;32m<frozen importlib._bootstrap>:984\u001b[0m, in \u001b[0;36m_find_and_load_unlocked\u001b[0;34m(name, import_)\u001b[0m\n",
      "\u001b[0;31mModuleNotFoundError\u001b[0m: No module named 'gmso'",
      "\nDuring handling of the above exception, another exception occurred:\n",
      "\u001b[0;31mDelayImportError\u001b[0m                          Traceback (most recent call last)",
      "Input \u001b[0;32mIn [3]\u001b[0m, in \u001b[0;36m<cell line: 4>\u001b[0;34m()\u001b[0m\n\u001b[1;32m      1\u001b[0m \u001b[38;5;28;01mimport\u001b[39;00m \u001b[38;5;21;01mmbuild\u001b[39;00m \u001b[38;5;28;01mas\u001b[39;00m \u001b[38;5;21;01mmb\u001b[39;00m\n\u001b[1;32m      2\u001b[0m \u001b[38;5;28;01mfrom\u001b[39;00m \u001b[38;5;21;01mmbuild\u001b[39;00m\u001b[38;5;21;01m.\u001b[39;00m\u001b[38;5;21;01mlib\u001b[39;00m\u001b[38;5;21;01m.\u001b[39;00m\u001b[38;5;21;01msurfaces\u001b[39;00m \u001b[38;5;28;01mimport\u001b[39;00m Betacristobalite\n\u001b[0;32m----> 4\u001b[0m surface \u001b[38;5;241m=\u001b[39m \u001b[43mBetacristobalite\u001b[49m\u001b[43m(\u001b[49m\u001b[43m)\u001b[49m\n\u001b[1;32m      5\u001b[0m tiled_surface \u001b[38;5;241m=\u001b[39m mb\u001b[38;5;241m.\u001b[39mlib\u001b[38;5;241m.\u001b[39mrecipes\u001b[38;5;241m.\u001b[39mTiledCompound(surface, n_tiles\u001b[38;5;241m=\u001b[39m(\u001b[38;5;241m2\u001b[39m, \u001b[38;5;241m1\u001b[39m, \u001b[38;5;241m1\u001b[39m))\n",
      "File \u001b[0;32m~/.conda/envs/openmm/lib/python3.9/site-packages/mbuild/lib/surfaces/betacristobalite.py:25\u001b[0m, in \u001b[0;36mBetacristobalite.__init__\u001b[0;34m(self)\u001b[0m\n\u001b[1;32m     22\u001b[0m \u001b[38;5;28;01mdef\u001b[39;00m \u001b[38;5;21m__init__\u001b[39m(\u001b[38;5;28mself\u001b[39m):\n\u001b[1;32m     23\u001b[0m     \u001b[38;5;28msuper\u001b[39m(Betacristobalite, \u001b[38;5;28mself\u001b[39m)\u001b[38;5;241m.\u001b[39m\u001b[38;5;21m__init__\u001b[39m()\n\u001b[0;32m---> 25\u001b[0m     \u001b[43mmb\u001b[49m\u001b[38;5;241;43m.\u001b[39;49m\u001b[43mload\u001b[49m\u001b[43m(\u001b[49m\n\u001b[1;32m     26\u001b[0m \u001b[43m        \u001b[49m\u001b[38;5;124;43m\"\u001b[39;49m\u001b[38;5;124;43mbeta-cristobalite-expanded.mol2\u001b[39;49m\u001b[38;5;124;43m\"\u001b[39;49m\u001b[43m,\u001b[49m\n\u001b[1;32m     27\u001b[0m \u001b[43m        \u001b[49m\u001b[43mcompound\u001b[49m\u001b[38;5;241;43m=\u001b[39;49m\u001b[38;5;28;43mself\u001b[39;49m\u001b[43m,\u001b[49m\n\u001b[1;32m     28\u001b[0m \u001b[43m        \u001b[49m\u001b[43mrelative_to_module\u001b[49m\u001b[38;5;241;43m=\u001b[39;49m\u001b[38;5;28;43mself\u001b[39;49m\u001b[38;5;241;43m.\u001b[39;49m\u001b[38;5;18;43m__module__\u001b[39;49m\u001b[43m,\u001b[49m\n\u001b[1;32m     29\u001b[0m \u001b[43m        \u001b[49m\u001b[43mbackend\u001b[49m\u001b[38;5;241;43m=\u001b[39;49m\u001b[38;5;124;43m\"\u001b[39;49m\u001b[38;5;124;43mgmso\u001b[39;49m\u001b[38;5;124;43m\"\u001b[39;49m\u001b[43m,\u001b[49m\n\u001b[1;32m     30\u001b[0m \u001b[43m    \u001b[49m\u001b[43m)\u001b[49m\n\u001b[1;32m     31\u001b[0m     \u001b[38;5;28mself\u001b[39m\u001b[38;5;241m.\u001b[39mperiodicity \u001b[38;5;241m=\u001b[39m (\u001b[38;5;28;01mTrue\u001b[39;00m, \u001b[38;5;28;01mTrue\u001b[39;00m, \u001b[38;5;28;01mFalse\u001b[39;00m)\n\u001b[1;32m     32\u001b[0m     \u001b[38;5;66;03m# 1.3200 taken from boundingbox length rounded to 4 decimal places\u001b[39;00m\n",
      "File \u001b[0;32m~/.conda/envs/openmm/lib/python3.9/site-packages/mbuild/conversion.py:127\u001b[0m, in \u001b[0;36mload\u001b[0;34m(filename_or_object, relative_to_module, compound, coords_only, rigid, smiles, infer_hierarchy, backend, ignore_box_warn, **kwargs)\u001b[0m\n\u001b[1;32m    117\u001b[0m     \u001b[38;5;28;01mreturn\u001b[39;00m load_smiles(\n\u001b[1;32m    118\u001b[0m         smiles_or_filename\u001b[38;5;241m=\u001b[39mfilename_or_object,\n\u001b[1;32m    119\u001b[0m         compound\u001b[38;5;241m=\u001b[39mcompound,\n\u001b[0;32m   (...)\u001b[0m\n\u001b[1;32m    123\u001b[0m         \u001b[38;5;241m*\u001b[39m\u001b[38;5;241m*\u001b[39mkwargs,\n\u001b[1;32m    124\u001b[0m     )\n\u001b[1;32m    125\u001b[0m \u001b[38;5;66;03m# Last, if none of the above, load from file\u001b[39;00m\n\u001b[1;32m    126\u001b[0m \u001b[38;5;28;01melse\u001b[39;00m:\n\u001b[0;32m--> 127\u001b[0m     \u001b[38;5;28;01mreturn\u001b[39;00m \u001b[43mload_file\u001b[49m\u001b[43m(\u001b[49m\n\u001b[1;32m    128\u001b[0m \u001b[43m        \u001b[49m\u001b[43mfilename\u001b[49m\u001b[38;5;241;43m=\u001b[39;49m\u001b[43mfilename_or_object\u001b[49m\u001b[43m,\u001b[49m\n\u001b[1;32m    129\u001b[0m \u001b[43m        \u001b[49m\u001b[43mrelative_to_module\u001b[49m\u001b[38;5;241;43m=\u001b[39;49m\u001b[43mrelative_to_module\u001b[49m\u001b[43m,\u001b[49m\n\u001b[1;32m    130\u001b[0m \u001b[43m        \u001b[49m\u001b[43mcompound\u001b[49m\u001b[38;5;241;43m=\u001b[39;49m\u001b[43mcompound\u001b[49m\u001b[43m,\u001b[49m\n\u001b[1;32m    131\u001b[0m \u001b[43m        \u001b[49m\u001b[43mcoords_only\u001b[49m\u001b[38;5;241;43m=\u001b[39;49m\u001b[43mcoords_only\u001b[49m\u001b[43m,\u001b[49m\n\u001b[1;32m    132\u001b[0m \u001b[43m        \u001b[49m\u001b[43mrigid\u001b[49m\u001b[38;5;241;43m=\u001b[39;49m\u001b[43mrigid\u001b[49m\u001b[43m,\u001b[49m\n\u001b[1;32m    133\u001b[0m \u001b[43m        \u001b[49m\u001b[43mbackend\u001b[49m\u001b[38;5;241;43m=\u001b[39;49m\u001b[43mbackend\u001b[49m\u001b[43m,\u001b[49m\n\u001b[1;32m    134\u001b[0m \u001b[43m        \u001b[49m\u001b[43minfer_hierarchy\u001b[49m\u001b[38;5;241;43m=\u001b[39;49m\u001b[43minfer_hierarchy\u001b[49m\u001b[43m,\u001b[49m\n\u001b[1;32m    135\u001b[0m \u001b[43m        \u001b[49m\u001b[38;5;241;43m*\u001b[39;49m\u001b[38;5;241;43m*\u001b[39;49m\u001b[43mkwargs\u001b[49m\u001b[43m,\u001b[49m\n\u001b[1;32m    136\u001b[0m \u001b[43m    \u001b[49m\u001b[43m)\u001b[49m\n",
      "File \u001b[0;32m~/.conda/envs/openmm/lib/python3.9/site-packages/mbuild/conversion.py:429\u001b[0m, in \u001b[0;36mload_file\u001b[0;34m(filename, relative_to_module, compound, coords_only, rigid, backend, infer_hierarchy, **kwargs)\u001b[0m\n\u001b[1;32m    427\u001b[0m \u001b[38;5;66;03m# Then gmso reader\u001b[39;00m\n\u001b[1;32m    428\u001b[0m \u001b[38;5;28;01mif\u001b[39;00m backend \u001b[38;5;241m==\u001b[39m \u001b[38;5;124m\"\u001b[39m\u001b[38;5;124mgmso\u001b[39m\u001b[38;5;124m\"\u001b[39m:\n\u001b[0;32m--> 429\u001b[0m     gmso \u001b[38;5;241m=\u001b[39m \u001b[43mimport_\u001b[49m\u001b[43m(\u001b[49m\u001b[38;5;124;43m\"\u001b[39;49m\u001b[38;5;124;43mgmso\u001b[39;49m\u001b[38;5;124;43m\"\u001b[39;49m\u001b[43m)\u001b[49m\n\u001b[1;32m    431\u001b[0m     top \u001b[38;5;241m=\u001b[39m gmso\u001b[38;5;241m.\u001b[39mTopology\u001b[38;5;241m.\u001b[39mload(filename\u001b[38;5;241m=\u001b[39mfilename)\n\u001b[1;32m    432\u001b[0m     compound \u001b[38;5;241m=\u001b[39m from_gmso(\n\u001b[1;32m    433\u001b[0m         topology\u001b[38;5;241m=\u001b[39mtop,\n\u001b[1;32m    434\u001b[0m         compound\u001b[38;5;241m=\u001b[39mcompound,\n\u001b[1;32m    435\u001b[0m         coords_only\u001b[38;5;241m=\u001b[39mcoords_only,\n\u001b[1;32m    436\u001b[0m         infer_hierarchy\u001b[38;5;241m=\u001b[39minfer_hierarchy,\n\u001b[1;32m    437\u001b[0m     )\n",
      "File \u001b[0;32m~/.conda/envs/openmm/lib/python3.9/site-packages/mbuild/utils/io.py:272\u001b[0m, in \u001b[0;36mimport_\u001b[0;34m(module)\u001b[0m\n\u001b[1;32m    270\u001b[0m \u001b[38;5;28mprint\u001b[39m(m, file\u001b[38;5;241m=\u001b[39msys\u001b[38;5;241m.\u001b[39mstderr)\n\u001b[1;32m    271\u001b[0m \u001b[38;5;28mprint\u001b[39m(bar, file\u001b[38;5;241m=\u001b[39msys\u001b[38;5;241m.\u001b[39mstderr)\n\u001b[0;32m--> 272\u001b[0m \u001b[38;5;28;01mraise\u001b[39;00m DelayImportError(m)\n",
      "\u001b[0;31mDelayImportError\u001b[0m: The code at conversion.py:429 requires the gmso package"
     ]
    }
   ],
   "source": [
    "import mbuild as mb\n",
    "from mbuild.lib.surfaces import Betacristobalite\n",
    "\n",
    "surface = Betacristobalite()\n",
    "tiled_surface = mb.lib.recipes.TiledCompound(surface, n_tiles=(2, 1, 1))"
   ]
  },
  {
   "cell_type": "code",
   "execution_count": null,
   "id": "fffb6d5c-1f72-415d-856a-9b4dd0c52949",
   "metadata": {},
   "outputs": [],
   "source": []
  }
 ],
 "metadata": {
  "kernelspec": {
   "display_name": "Python 3 (ipykernel)",
   "language": "python",
   "name": "python3"
  },
  "language_info": {
   "codemirror_mode": {
    "name": "ipython",
    "version": 3
   },
   "file_extension": ".py",
   "mimetype": "text/x-python",
   "name": "python",
   "nbconvert_exporter": "python",
   "pygments_lexer": "ipython3",
   "version": "3.9.12"
  }
 },
 "nbformat": 4,
 "nbformat_minor": 5
}
