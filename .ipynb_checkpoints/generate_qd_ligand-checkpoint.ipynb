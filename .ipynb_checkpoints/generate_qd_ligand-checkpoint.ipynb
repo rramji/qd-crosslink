{
 "cells": [
  {
   "cell_type": "code",
   "execution_count": 1,
   "id": "08688c85-3cbe-45ad-9151-2dfc978bca25",
   "metadata": {},
   "outputs": [
    {
     "name": "stderr",
     "output_type": "stream",
     "text": [
      "Warning: importing 'simtk.openmm' is deprecated.  Import 'openmm' instead.\n"
     ]
    }
   ],
   "source": [
    "import mbuild as mb\n",
    "import parmed as pmd\n",
    "import numpy as np\n",
    "import openmm\n",
    "import warnings\n",
    "warnings.simplefilter(\"ignore\")"
   ]
  },
  {
   "cell_type": "markdown",
   "id": "a1de7c37-e026-4e04-b82b-cf7da16fd946",
   "metadata": {},
   "source": [
    "SMILES for crosslinker: C6CCN(C5=CC=C(C(=O)C4=CC=C(SCCOCCOCCSC3=CC=C(C(=O)C2=CC=C(N1CCCC1)C=C2)C=C3)C=C4)C=C5)C6\n",
    "SMILES for xlig: C3CN(C1=CC=C(C=C1)C(C2=CC=C(C=C2)SCCCCCCCCCCS)=O)CC3"
   ]
  },
  {
   "cell_type": "code",
   "execution_count": 2,
   "id": "eb5a534d-af09-4c9e-8cf8-1100dc6f7ad7",
   "metadata": {},
   "outputs": [
    {
     "data": {
      "application/3dmoljs_load.v0": "<div id=\"3dmolviewer_16668153080356457\"  style=\"position: relative; width: 640px; height: 480px\">\n        <p id=\"3dmolwarning_16668153080356457\" style=\"background-color:#ffcccc;color:black\">You appear to be running in JupyterLab (or JavaScript failed to load for some other reason).  You need to install the 3dmol extension: <br>\n        <tt>jupyter labextension install jupyterlab_3dmol</tt></p>\n        </div>\n<script>\n\nvar loadScriptAsync = function(uri){\n  return new Promise((resolve, reject) => {\n    var tag = document.createElement('script');\n    tag.src = uri;\n    tag.async = true;\n    tag.onload = () => {\n      resolve();\n    };\n  var firstScriptTag = document.getElementsByTagName('script')[0];\n  firstScriptTag.parentNode.insertBefore(tag, firstScriptTag);\n});\n};\n\nif(typeof $3Dmolpromise === 'undefined') {\n$3Dmolpromise = null;\n  $3Dmolpromise = loadScriptAsync('https://3dmol.org/build/3Dmol.js');\n}\n\nvar viewer_16668153080356457 = null;\nvar warn = document.getElementById(\"3dmolwarning_16668153080356457\");\nif(warn) {\n    warn.parentNode.removeChild(warn);\n}\n$3Dmolpromise.then(function() {\nviewer_16668153080356457 = $3Dmol.createViewer($(\"#3dmolviewer_16668153080356457\"),{backgroundColor:\"white\"});\nviewer_16668153080356457.zoomTo();\n\tviewer_16668153080356457.addModel(\"@<TRIPOS>MOLECULE\\nRES\\n62 53 2 0 1\\nBIOPOLYMER\\nNO_CHARGES\\n@<TRIPOS>CRYSIN\\n   21.4027    10.7894    10.5400    90.0000    90.0000    90.0000  1  1\\n@<TRIPOS>ATOM\\n       1 C           -7.3203    -0.2535     1.8042 C             1 RES     \\n       2 C           -7.0653    -0.0593     0.3094 C             1 RES     \\n       3 C           -5.6349     0.4134     0.0079 C             1 RES     \\n       4 C           -4.5818    -0.6705     0.2982 C             1 RES     \\n       5 C           -3.1912    -0.3002    -0.2407 C             1 RES     \\n       6 C           -2.5692     0.8943     0.5048 C             1 RES     \\n       7 C           -1.0865     1.0971     0.1569 C             1 RES     \\n       8 C           -0.8832     1.6277    -1.2705 C             1 RES     \\n       9 C            0.5749     1.8901    -1.5459 C             1 RES     \\n      10 C            1.4775     0.9478    -1.8789 C             1 RES     \\n      11 C            1.1686    -0.5181    -2.0827 C             1 RES     \\n      12 C            2.2081    -1.4043    -1.3851 C             1 RES     \\n      13 C            2.0624    -1.3678     0.1463 C             1 RES     \\n      14 C            3.2010    -2.1285     0.8572 C             1 RES     \\n      15 C            4.2730    -1.2028     1.4580 C             1 RES     \\n      16 C            5.0609    -0.4300     0.3909 C             1 RES     \\n      17 C            6.2013     0.3723     1.0239 C             1 RES     \\n      18 C            6.9463     1.1365    -0.0243 C             1 RES     \\n      19 O            8.0074     0.6661    -0.5158 O             1 RES     \\n      20 O            6.4430     2.3489    -0.4861 O             1 RES     \\n      21 H           -6.7257    -1.1049     2.1961 H             1 RES     \\n      22 H           -8.3953    -0.4770     1.9695 H             1 RES     \\n      23 H           -7.0612     0.6690     2.3664 H             1 RES     \\n      24 H           -7.7755     0.7079    -0.0685 H             1 RES     \\n      25 H           -7.2770    -1.0075    -0.2311 H             1 RES     \\n      26 H           -5.5851     0.6893    -1.0681 H             1 RES     \\n      27 H           -5.4183     1.3267     0.6026 H             1 RES     \\n      28 H           -4.5142    -0.8560     1.3916 H             1 RES     \\n      29 H           -4.8952    -1.6203    -0.1871 H             1 RES     \\n      30 H           -2.5307    -1.1872    -0.1219 H             1 RES     \\n      31 H           -3.2668    -0.0784    -1.3266 H             1 RES     \\n      32 H           -3.1316     1.8251     0.2763 H             1 RES     \\n      33 H           -2.6414     0.7148     1.5999 H             1 RES     \\n      34 H           -0.5373     0.1441     0.3043 H             1 RES     \\n      35 H           -0.6618     1.8357     0.8726 H             1 RES     \\n      36 H           -1.4316     2.5892    -1.3729 H             1 RES     \\n      37 H           -1.2966     0.9345    -2.0319 H             1 RES     \\n      38 H            0.9146     2.9202    -1.4906 H             1 RES     \\n      39 H            2.4927     1.2760    -2.0851 H             1 RES     \\n      40 H            0.1564    -0.8012    -1.7311 H             1 RES     \\n      41 H            1.2046    -0.7230    -3.1736 H             1 RES     \\n      42 H            3.2285    -1.0927    -1.6939 H             1 RES     \\n      43 H            2.0663    -2.4518    -1.7302 H             1 RES     \\n      44 H            2.0132    -0.3179     0.5086 H             1 RES     \\n      45 H            1.0938    -1.8463     0.4118 H             1 RES     \\n      46 H            3.6782    -2.8692     0.1780 H             1 RES     \\n      47 H            2.7592    -2.7102     1.6959 H             1 RES     \\n      48 H            4.9790    -1.8312     2.0442 H             1 RES     \\n      49 H            3.7946    -0.4879     2.1634 H             1 RES     \\n      50 H            5.4816    -1.1453    -0.3501 H             1 RES     \\n      51 H            4.3791     0.2737    -0.1343 H             1 RES     \\n      52 H            5.7899     1.0887     1.7676 H             1 RES     \\n      53 H            6.9000    -0.3140     1.5515 H             1 RES     \\n      54 H            6.9215     2.8679    -1.2126 H             1 RES     \\n      55 VS          10.1135    -0.3279    -1.4932 VS            2 PRT     \\n      56 VS          10.2818    -0.4026    -1.5712 VS            2 PRT     \\n      57 VS          10.0554    -0.1223    -1.5589 VS            2 PRT     \\n      58 VS           9.9975    -0.2143    -1.3394 VS            2 PRT     \\n      59 VS          10.1092    -0.2056    -1.4912 VS            2 PRT     \\n      60 VS           9.9408    -0.1310    -1.4132 VS            2 PRT     \\n      61 VS          10.0966    -0.4113    -1.5780 VS            2 PRT     \\n      62 VS          10.3015    -0.3192    -1.4803 VS            2 PRT     \\n@<TRIPOS>BOND\\n       1        1        2 1\\n       2        3        2 1\\n       3       24        2 1\\n       4       25        2 1\\n       5       21        1 1\\n       6       22        1 1\\n       7       23        1 1\\n       8        4        3 1\\n       9       26        3 1\\n      10       27        3 1\\n      11        5        4 1\\n      12       28        4 1\\n      13       29        4 1\\n      14        6        5 1\\n      15       30        5 1\\n      16       31        5 1\\n      17        7        6 1\\n      18       32        6 1\\n      19       33        6 1\\n      20        8        7 1\\n      21       34        7 1\\n      22       35        7 1\\n      23        9        8 1\\n      24       36        8 1\\n      25       37        8 1\\n      26       10        9 1\\n      27       38        9 1\\n      28       11       10 1\\n      29       39       10 1\\n      30       12       11 1\\n      31       40       11 1\\n      32       41       11 1\\n      33       13       12 1\\n      34       42       12 1\\n      35       43       12 1\\n      36       14       13 1\\n      37       44       13 1\\n      38       45       13 1\\n      39       15       14 1\\n      40       46       14 1\\n      41       47       14 1\\n      42       16       15 1\\n      43       48       15 1\\n      44       49       15 1\\n      45       17       16 1\\n      46       50       16 1\\n      47       51       16 1\\n      48       18       17 1\\n      49       52       17 1\\n      50       53       17 1\\n      51       19       18 1\\n      52       20       18 1\\n      53       54       20 1\\n@<TRIPOS>SUBSTRUCTURE\\n       1 RES             1 RESIDUE    0 **** ROOT      0\\n       2 PRT            55 RESIDUE    0 **** ROOT      0\\n\",\"mol2\");\n\tviewer_16668153080356457.setStyle({\"stick\": {\"radius\": 0.2, \"color\": \"grey\"}, \"sphere\": {\"scale\": 0.3, \"colorscheme\": {}}});\n\tviewer_16668153080356457.zoomTo();\nviewer_16668153080356457.render();\n});\n</script>",
      "text/html": [
       "<div id=\"3dmolviewer_16668153080356457\"  style=\"position: relative; width: 640px; height: 480px\">\n",
       "        <p id=\"3dmolwarning_16668153080356457\" style=\"background-color:#ffcccc;color:black\">You appear to be running in JupyterLab (or JavaScript failed to load for some other reason).  You need to install the 3dmol extension: <br>\n",
       "        <tt>jupyter labextension install jupyterlab_3dmol</tt></p>\n",
       "        </div>\n",
       "<script>\n",
       "\n",
       "var loadScriptAsync = function(uri){\n",
       "  return new Promise((resolve, reject) => {\n",
       "    var tag = document.createElement('script');\n",
       "    tag.src = uri;\n",
       "    tag.async = true;\n",
       "    tag.onload = () => {\n",
       "      resolve();\n",
       "    };\n",
       "  var firstScriptTag = document.getElementsByTagName('script')[0];\n",
       "  firstScriptTag.parentNode.insertBefore(tag, firstScriptTag);\n",
       "});\n",
       "};\n",
       "\n",
       "if(typeof $3Dmolpromise === 'undefined') {\n",
       "$3Dmolpromise = null;\n",
       "  $3Dmolpromise = loadScriptAsync('https://3dmol.org/build/3Dmol.js');\n",
       "}\n",
       "\n",
       "var viewer_16668153080356457 = null;\n",
       "var warn = document.getElementById(\"3dmolwarning_16668153080356457\");\n",
       "if(warn) {\n",
       "    warn.parentNode.removeChild(warn);\n",
       "}\n",
       "$3Dmolpromise.then(function() {\n",
       "viewer_16668153080356457 = $3Dmol.createViewer($(\"#3dmolviewer_16668153080356457\"),{backgroundColor:\"white\"});\n",
       "viewer_16668153080356457.zoomTo();\n",
       "\tviewer_16668153080356457.addModel(\"@<TRIPOS>MOLECULE\\nRES\\n62 53 2 0 1\\nBIOPOLYMER\\nNO_CHARGES\\n@<TRIPOS>CRYSIN\\n   21.4027    10.7894    10.5400    90.0000    90.0000    90.0000  1  1\\n@<TRIPOS>ATOM\\n       1 C           -7.3203    -0.2535     1.8042 C             1 RES     \\n       2 C           -7.0653    -0.0593     0.3094 C             1 RES     \\n       3 C           -5.6349     0.4134     0.0079 C             1 RES     \\n       4 C           -4.5818    -0.6705     0.2982 C             1 RES     \\n       5 C           -3.1912    -0.3002    -0.2407 C             1 RES     \\n       6 C           -2.5692     0.8943     0.5048 C             1 RES     \\n       7 C           -1.0865     1.0971     0.1569 C             1 RES     \\n       8 C           -0.8832     1.6277    -1.2705 C             1 RES     \\n       9 C            0.5749     1.8901    -1.5459 C             1 RES     \\n      10 C            1.4775     0.9478    -1.8789 C             1 RES     \\n      11 C            1.1686    -0.5181    -2.0827 C             1 RES     \\n      12 C            2.2081    -1.4043    -1.3851 C             1 RES     \\n      13 C            2.0624    -1.3678     0.1463 C             1 RES     \\n      14 C            3.2010    -2.1285     0.8572 C             1 RES     \\n      15 C            4.2730    -1.2028     1.4580 C             1 RES     \\n      16 C            5.0609    -0.4300     0.3909 C             1 RES     \\n      17 C            6.2013     0.3723     1.0239 C             1 RES     \\n      18 C            6.9463     1.1365    -0.0243 C             1 RES     \\n      19 O            8.0074     0.6661    -0.5158 O             1 RES     \\n      20 O            6.4430     2.3489    -0.4861 O             1 RES     \\n      21 H           -6.7257    -1.1049     2.1961 H             1 RES     \\n      22 H           -8.3953    -0.4770     1.9695 H             1 RES     \\n      23 H           -7.0612     0.6690     2.3664 H             1 RES     \\n      24 H           -7.7755     0.7079    -0.0685 H             1 RES     \\n      25 H           -7.2770    -1.0075    -0.2311 H             1 RES     \\n      26 H           -5.5851     0.6893    -1.0681 H             1 RES     \\n      27 H           -5.4183     1.3267     0.6026 H             1 RES     \\n      28 H           -4.5142    -0.8560     1.3916 H             1 RES     \\n      29 H           -4.8952    -1.6203    -0.1871 H             1 RES     \\n      30 H           -2.5307    -1.1872    -0.1219 H             1 RES     \\n      31 H           -3.2668    -0.0784    -1.3266 H             1 RES     \\n      32 H           -3.1316     1.8251     0.2763 H             1 RES     \\n      33 H           -2.6414     0.7148     1.5999 H             1 RES     \\n      34 H           -0.5373     0.1441     0.3043 H             1 RES     \\n      35 H           -0.6618     1.8357     0.8726 H             1 RES     \\n      36 H           -1.4316     2.5892    -1.3729 H             1 RES     \\n      37 H           -1.2966     0.9345    -2.0319 H             1 RES     \\n      38 H            0.9146     2.9202    -1.4906 H             1 RES     \\n      39 H            2.4927     1.2760    -2.0851 H             1 RES     \\n      40 H            0.1564    -0.8012    -1.7311 H             1 RES     \\n      41 H            1.2046    -0.7230    -3.1736 H             1 RES     \\n      42 H            3.2285    -1.0927    -1.6939 H             1 RES     \\n      43 H            2.0663    -2.4518    -1.7302 H             1 RES     \\n      44 H            2.0132    -0.3179     0.5086 H             1 RES     \\n      45 H            1.0938    -1.8463     0.4118 H             1 RES     \\n      46 H            3.6782    -2.8692     0.1780 H             1 RES     \\n      47 H            2.7592    -2.7102     1.6959 H             1 RES     \\n      48 H            4.9790    -1.8312     2.0442 H             1 RES     \\n      49 H            3.7946    -0.4879     2.1634 H             1 RES     \\n      50 H            5.4816    -1.1453    -0.3501 H             1 RES     \\n      51 H            4.3791     0.2737    -0.1343 H             1 RES     \\n      52 H            5.7899     1.0887     1.7676 H             1 RES     \\n      53 H            6.9000    -0.3140     1.5515 H             1 RES     \\n      54 H            6.9215     2.8679    -1.2126 H             1 RES     \\n      55 VS          10.1135    -0.3279    -1.4932 VS            2 PRT     \\n      56 VS          10.2818    -0.4026    -1.5712 VS            2 PRT     \\n      57 VS          10.0554    -0.1223    -1.5589 VS            2 PRT     \\n      58 VS           9.9975    -0.2143    -1.3394 VS            2 PRT     \\n      59 VS          10.1092    -0.2056    -1.4912 VS            2 PRT     \\n      60 VS           9.9408    -0.1310    -1.4132 VS            2 PRT     \\n      61 VS          10.0966    -0.4113    -1.5780 VS            2 PRT     \\n      62 VS          10.3015    -0.3192    -1.4803 VS            2 PRT     \\n@<TRIPOS>BOND\\n       1        1        2 1\\n       2        3        2 1\\n       3       24        2 1\\n       4       25        2 1\\n       5       21        1 1\\n       6       22        1 1\\n       7       23        1 1\\n       8        4        3 1\\n       9       26        3 1\\n      10       27        3 1\\n      11        5        4 1\\n      12       28        4 1\\n      13       29        4 1\\n      14        6        5 1\\n      15       30        5 1\\n      16       31        5 1\\n      17        7        6 1\\n      18       32        6 1\\n      19       33        6 1\\n      20        8        7 1\\n      21       34        7 1\\n      22       35        7 1\\n      23        9        8 1\\n      24       36        8 1\\n      25       37        8 1\\n      26       10        9 1\\n      27       38        9 1\\n      28       11       10 1\\n      29       39       10 1\\n      30       12       11 1\\n      31       40       11 1\\n      32       41       11 1\\n      33       13       12 1\\n      34       42       12 1\\n      35       43       12 1\\n      36       14       13 1\\n      37       44       13 1\\n      38       45       13 1\\n      39       15       14 1\\n      40       46       14 1\\n      41       47       14 1\\n      42       16       15 1\\n      43       48       15 1\\n      44       49       15 1\\n      45       17       16 1\\n      46       50       16 1\\n      47       51       16 1\\n      48       18       17 1\\n      49       52       17 1\\n      50       53       17 1\\n      51       19       18 1\\n      52       20       18 1\\n      53       54       20 1\\n@<TRIPOS>SUBSTRUCTURE\\n       1 RES             1 RESIDUE    0 **** ROOT      0\\n       2 PRT            55 RESIDUE    0 **** ROOT      0\\n\",\"mol2\");\n",
       "\tviewer_16668153080356457.setStyle({\"stick\": {\"radius\": 0.2, \"color\": \"grey\"}, \"sphere\": {\"scale\": 0.3, \"colorscheme\": {}}});\n",
       "\tviewer_16668153080356457.zoomTo();\n",
       "viewer_16668153080356457.render();\n",
       "});\n",
       "</script>"
      ]
     },
     "metadata": {},
     "output_type": "display_data"
    },
    {
     "data": {
      "text/plain": [
       "<py3Dmol.view at 0x7ff6661b8520>"
      ]
     },
     "execution_count": 2,
     "metadata": {},
     "output_type": "execute_result"
    }
   ],
   "source": [
    "#should be coo- \n",
    "oleic = mb.load('CCCCCCCCC=CCCCCCCCC(=O)O', smiles=True)\n",
    "oleic.add(mb.Port(anchor=oleic[18], separation=0.25, orientation=(oleic[18].pos - oleic[17].pos)))\n",
    "oleic.visualize(show_ports=True)"
   ]
  },
  {
   "cell_type": "code",
   "execution_count": 47,
   "id": "93e29f54-2b70-473d-b23f-777d920501eb",
   "metadata": {},
   "outputs": [],
   "source": [
    "oleic['Port[0]'].anchor = None"
   ]
  },
  {
   "cell_type": "code",
   "execution_count": 49,
   "id": "5552679c-24bb-419b-a1e8-1e02db81beb8",
   "metadata": {},
   "outputs": [
    {
     "data": {
      "text/plain": [
       "[<Port, anchor: 'O', labels: ['Port[0]'], id: 140096386414672>]"
      ]
     },
     "execution_count": 49,
     "metadata": {},
     "output_type": "execute_result"
    }
   ],
   "source": [
    "oleic.all_ports()"
   ]
  },
  {
   "cell_type": "code",
   "execution_count": 54,
   "id": "d060cb90-92ff-42ab-ba95-84bf3bda3d33",
   "metadata": {
    "collapsed": true,
    "jupyter": {
     "outputs_hidden": true
    },
    "tags": []
   },
   "outputs": [
    {
     "name": "stdout",
     "output_type": "stream",
     "text": [
      "0 <C pos=([ 1.1678  0.0115 -0.1115]), 4 bonds, id: 140096375766224>\n",
      "1 <C pos=([ 1.0228  0.0425 -0.153 ]), 4 bonds, id: 140096375765984>\n",
      "2 <N pos=([ 0.9364 -0.0581 -0.0874]), 3 bonds, id: 140096375763584>\n",
      "3 <C pos=([ 0.8136 -0.0032 -0.0525]), 3 bonds, id: 140096375764688>\n",
      "4 <C pos=([0.8087 0.1115 0.0264]), 3 bonds, id: 140096375765024>\n",
      "5 <C pos=([0.6878 0.1659 0.0611]), 3 bonds, id: 140096375765120>\n",
      "6 <C pos=([0.5692 0.106  0.0172]), 3 bonds, id: 140096375766032>\n",
      "7 <C pos=([0.4389 0.1643 0.0544]), 3 bonds, id: 140096375765408>\n",
      "8 <C pos=([0.318 0.08  0.055]), 3 bonds, id: 140096370469008>\n",
      "9 <C pos=([ 0.3293 -0.0587  0.0692]), 3 bonds, id: 140096370465360>\n",
      "10 <C pos=([ 0.2171 -0.1365  0.0697]), 3 bonds, id: 140096370458880>\n",
      "11 <C pos=([ 0.0914 -0.0779  0.0561]), 3 bonds, id: 140096370465456>\n",
      "12 <S pos=([-0.0532 -0.1787  0.0568]), 2 bonds, id: 140096370465696>\n",
      "13 <C pos=([-0.1871 -0.058   0.0367]), 4 bonds, id: 140096370465936>\n",
      "14 <C pos=([-0.3216 -0.1309  0.0353]), 4 bonds, id: 140096370466176>\n",
      "15 <C pos=([-0.4346 -0.0291  0.0183]), 4 bonds, id: 140096370466416>\n",
      "16 <C pos=([-0.5691 -0.102   0.0169]), 4 bonds, id: 140096370466656>\n",
      "17 <C pos=([-6.821e-01 -2.200e-04 -9.000e-05]), 4 bonds, id: 140096370466896>\n",
      "18 <C pos=([-0.8166 -0.0731 -0.0015]), 4 bonds, id: 140096370467136>\n",
      "19 <C pos=([-0.9296  0.0287 -0.0185]), 4 bonds, id: 140096370467376>\n",
      "20 <C pos=([-1.0641 -0.0442 -0.0199]), 4 bonds, id: 140096370467616>\n",
      "21 <C pos=([-1.1771  0.0576 -0.0369]), 4 bonds, id: 140096370467856>\n",
      "22 <C pos=([-1.3116 -0.0153 -0.0382]), 4 bonds, id: 140096370468096>\n",
      "23 <S pos=([-1.4455  0.1054 -0.0584]), 2 bonds, id: 140096370468336>\n",
      "24 <C pos=([0.0798 0.0602 0.042 ]), 3 bonds, id: 140096370468576>\n",
      "25 <C pos=([0.1916 0.1387 0.042 ]), 3 bonds, id: 140096370471696>\n",
      "26 <O pos=([0.4312 0.2819 0.0845]), 1 bonds, id: 140096370471936>\n",
      "27 <C pos=([ 0.5745 -0.0091 -0.062 ]), 3 bonds, id: 140096370472176>\n",
      "28 <C pos=([ 0.6957 -0.0627 -0.0968]), 3 bonds, id: 140096370472416>\n",
      "29 <C pos=([ 1.0109 -0.1031  0.0329]), 4 bonds, id: 140096370472656>\n",
      "30 <C pos=([ 1.1575 -0.1101 -0.0166]), 4 bonds, id: 140096370472896>\n",
      "31 <H pos=([ 1.2276 -0.0137 -0.199 ]), 1 bonds, id: 140096370473136>\n",
      "32 <H pos=([ 1.2112  0.0967 -0.0592]), 1 bonds, id: 140096370473376>\n",
      "33 <H pos=([ 0.9951  0.1425 -0.1195]), 1 bonds, id: 140096370473616>\n",
      "34 <H pos=([ 1.0127  0.0352 -0.2613]), 1 bonds, id: 140096370473856>\n",
      "35 <H pos=([0.9003 0.1576 0.0602]), 1 bonds, id: 140096370474096>\n",
      "36 <H pos=([0.6841 0.2548 0.1223]), 1 bonds, id: 140096370474336>\n",
      "37 <H pos=([ 0.4267 -0.1042  0.0797]), 1 bonds, id: 140096370474576>\n",
      "38 <H pos=([ 0.2257 -0.2436  0.0807]), 1 bonds, id: 140096370474816>\n",
      "39 <H pos=([-0.185   0.0128  0.1195]), 1 bonds, id: 140096370474864>\n",
      "40 <H pos=([-0.1739 -0.0044 -0.0573]), 1 bonds, id: 140096370475360>\n",
      "41 <H pos=([-0.3237 -0.2017 -0.0476]), 1 bonds, id: 140096370475600>\n",
      "42 <H pos=([-0.3349 -0.1845  0.1292]), 1 bonds, id: 140096370475840>\n",
      "43 <H pos=([-0.4325  0.0417  0.1011]), 1 bonds, id: 140096370476080>\n",
      "44 <H pos=([-0.4214  0.0245 -0.0757]), 1 bonds, id: 140096370476320>\n",
      "45 <H pos=([-0.5712 -0.1728 -0.0659]), 1 bonds, id: 140096370476560>\n",
      "46 <H pos=([-0.5824 -0.1556  0.1109]), 1 bonds, id: 140096370476800>\n",
      "47 <H pos=([-0.68    0.0706  0.0828]), 1 bonds, id: 140096370477040>\n",
      "48 <H pos=([-0.6689  0.0534 -0.094 ]), 1 bonds, id: 140096370477280>\n",
      "49 <H pos=([-0.8187 -0.1439 -0.0843]), 1 bonds, id: 140096370477520>\n",
      "50 <H pos=([-0.8299 -0.1267  0.0925]), 1 bonds, id: 140096370477760>\n",
      "51 <H pos=([-0.9275  0.0995  0.0644]), 1 bonds, id: 140096370478000>\n",
      "52 <H pos=([-0.9164  0.0823 -0.1124]), 1 bonds, id: 140096370478240>\n",
      "53 <H pos=([-1.0662 -0.115  -0.1027]), 1 bonds, id: 140096370478480>\n",
      "54 <H pos=([-1.0774 -0.0978  0.0741]), 1 bonds, id: 140096370478720>\n",
      "55 <H pos=([-1.175   0.1284  0.046 ]), 1 bonds, id: 140096370478960>\n",
      "56 <H pos=([-1.1638  0.1112 -0.1308]), 1 bonds, id: 140096370479200>\n",
      "57 <H pos=([-1.3137 -0.0861 -0.1211]), 1 bonds, id: 140096370479440>\n",
      "58 <H pos=([-1.3248 -0.0689  0.0557]), 1 bonds, id: 140096370479680>\n",
      "59 <H pos=([-1.5559  0.0284 -0.0578]), 1 bonds, id: 140096370479920>\n",
      "60 <H pos=([-0.0178  0.1054  0.0315]), 1 bonds, id: 140096370480160>\n",
      "61 <H pos=([0.1825 0.2457 0.0311]), 1 bonds, id: 140096370480400>\n",
      "62 <H pos=([ 0.4831 -0.0555 -0.096 ]), 1 bonds, id: 140096370480640>\n",
      "63 <H pos=([ 0.6999 -0.1516 -0.158 ]), 1 bonds, id: 140096370480880>\n",
      "64 <H pos=([ 1.001  -0.0305  0.1137]), 1 bonds, id: 140096370481120>\n",
      "65 <H pos=([ 0.9764 -0.2014  0.065 ]), 1 bonds, id: 140096370481360>\n",
      "66 <H pos=([ 1.1755 -0.2029 -0.0708]), 1 bonds, id: 140096370481600>\n",
      "67 <H pos=([ 1.2269 -0.0999  0.0668]), 1 bonds, id: 140096370481840>\n"
     ]
    }
   ],
   "source": [
    "for i, part in enumerate(xlinkable):\n",
    "    print(i,part)"
   ]
  },
  {
   "cell_type": "code",
   "execution_count": 3,
   "id": "890e42f8-3431-4ac1-aa31-3837a7de05a7",
   "metadata": {},
   "outputs": [
    {
     "data": {
      "application/3dmoljs_load.v0": "<div id=\"3dmolviewer_16668153179656718\"  style=\"position: relative; width: 640px; height: 480px\">\n        <p id=\"3dmolwarning_16668153179656718\" style=\"background-color:#ffcccc;color:black\">You appear to be running in JupyterLab (or JavaScript failed to load for some other reason).  You need to install the 3dmol extension: <br>\n        <tt>jupyter labextension install jupyterlab_3dmol</tt></p>\n        </div>\n<script>\n\nvar loadScriptAsync = function(uri){\n  return new Promise((resolve, reject) => {\n    var tag = document.createElement('script');\n    tag.src = uri;\n    tag.async = true;\n    tag.onload = () => {\n      resolve();\n    };\n  var firstScriptTag = document.getElementsByTagName('script')[0];\n  firstScriptTag.parentNode.insertBefore(tag, firstScriptTag);\n});\n};\n\nif(typeof $3Dmolpromise === 'undefined') {\n$3Dmolpromise = null;\n  $3Dmolpromise = loadScriptAsync('https://3dmol.org/build/3Dmol.js');\n}\n\nvar viewer_16668153179656718 = null;\nvar warn = document.getElementById(\"3dmolwarning_16668153179656718\");\nif(warn) {\n    warn.parentNode.removeChild(warn);\n}\n$3Dmolpromise.then(function() {\nviewer_16668153179656718 = $3Dmol.createViewer($(\"#3dmolviewer_16668153179656718\"),{backgroundColor:\"white\"});\nviewer_16668153179656718.zoomTo();\n\tviewer_16668153179656718.addModel(\"@<TRIPOS>MOLECULE\\nRES\\n76 70 2 0 1\\nBIOPOLYMER\\nNO_CHARGES\\n@<TRIPOS>CRYSIN\\n   32.8347    10.2557     8.9050    90.0000    90.0000    90.0000  1  1\\n@<TRIPOS>ATOM\\n       1 C           11.6777     0.1152    -1.1148 C             1 RES     \\n       2 C           10.2275     0.4251    -1.5297 C             1 RES     \\n       3 N            9.3642    -0.5814    -0.8745 N             1 RES     \\n       4 C            8.1361    -0.0322    -0.5245 C             1 RES     \\n       5 C            8.0873     1.1147     0.2639 C             1 RES     \\n       6 C            6.8777     1.6586     0.6113 C             1 RES     \\n       7 C            5.6918     1.0605     0.1725 C             1 RES     \\n       8 C            4.3890     1.6431     0.5437 C             1 RES     \\n       9 C            3.1797     0.8002     0.5500 C             1 RES     \\n      10 C            3.2928    -0.5872     0.6919 C             1 RES     \\n      11 C            2.1705    -1.3654     0.6972 C             1 RES     \\n      12 C            0.9137    -0.7791     0.5612 C             1 RES     \\n      13 S           -0.5318    -1.7867     0.5681 S             1 RES     \\n      14 C           -1.8712    -0.5800     0.3667 C             1 RES     \\n      15 C           -3.2164    -1.3088     0.3528 C             1 RES     \\n      16 C           -4.3461    -0.2911     0.1829 C             1 RES     \\n      17 C           -5.6913    -1.0199     0.1690 C             1 RES     \\n      18 C           -6.8210    -0.0022    -0.0009 C             1 RES     \\n      19 C           -8.1662    -0.7310    -0.0148 C             1 RES     \\n      20 C           -9.2959     0.2867    -0.1847 C             1 RES     \\n      21 C          -10.6411    -0.4421    -0.1986 C             1 RES     \\n      22 C          -11.7708     0.5757    -0.3685 C             1 RES     \\n      23 C          -13.1160    -0.1532    -0.3823 C             1 RES     \\n      24 S          -14.4554     1.0535    -0.5838 S             1 RES     \\n      25 C            0.7977     0.6023     0.4203 C             1 RES     \\n      26 C            1.9158     1.3865     0.4199 C             1 RES     \\n      27 O            4.3123     2.8193     0.8449 O             1 RES     \\n      28 C            5.7445    -0.0912    -0.6197 C             1 RES     \\n      29 C            6.9575    -0.6269    -0.9678 C             1 RES     \\n      30 C           10.1087    -1.0311     0.3295 C             1 RES     \\n      31 C           11.5751    -1.1010    -0.1660 C             1 RES     \\n      32 H           12.2759    -0.1374    -1.9903 H             1 RES     \\n      33 H           12.1120     0.9673    -0.5919 H             1 RES     \\n      34 H            9.9513     1.4252    -1.1955 H             1 RES     \\n      35 H           10.1273     0.3517    -2.6126 H             1 RES     \\n      36 H            9.0033     1.5760     0.6023 H             1 RES     \\n      37 H            6.8405     2.5477     1.2233 H             1 RES     \\n      38 H            4.2667    -1.0423     0.7966 H             1 RES     \\n      39 H            2.2572    -2.4364     0.8067 H             1 RES     \\n      40 H           -1.8501     0.1280     1.1952 H             1 RES     \\n      41 H           -1.7388    -0.0437    -0.5730 H             1 RES     \\n      42 H           -3.2375    -2.0168    -0.4757 H             1 RES     \\n      43 H           -3.3488    -1.8451     1.2924 H             1 RES     \\n      44 H           -4.3250     0.4169     1.0114 H             1 RES     \\n      45 H           -4.2137     0.2452    -0.7568 H             1 RES     \\n      46 H           -5.7124    -1.7279    -0.6595 H             1 RES     \\n      47 H           -5.8237    -1.5562     1.1087 H             1 RES     \\n      48 H           -6.7999     0.7058     0.8276 H             1 RES     \\n      49 H           -6.6886     0.5341    -0.9405 H             1 RES     \\n      50 H           -8.1873    -1.4390    -0.8433 H             1 RES     \\n      51 H           -8.2986    -1.2673     0.9249 H             1 RES     \\n      52 H           -9.2748     0.9947     0.6438 H             1 RES     \\n      53 H           -9.1635     0.8230    -1.1243 H             1 RES     \\n      54 H          -10.6622    -1.1501    -1.0271 H             1 RES     \\n      55 H          -10.7735    -0.9784     0.7411 H             1 RES     \\n      56 H          -11.7497     1.2836     0.4601 H             1 RES     \\n      57 H          -11.6384     1.1119    -1.3081 H             1 RES     \\n      58 H          -13.1371    -0.8611    -1.2108 H             1 RES     \\n      59 H          -13.2484    -0.6895     0.5573 H             1 RES     \\n      60 H          -15.5588     0.2844    -0.5785 H             1 RES     \\n      61 H           -0.1778     1.0538     0.3154 H             1 RES     \\n      62 H            1.8252     2.4572     0.3110 H             1 RES     \\n      63 H            4.8307    -0.5554    -0.9601 H             1 RES     \\n      64 H            6.9989    -1.5159    -1.5797 H             1 RES     \\n      65 H           10.0096    -0.3053     1.1366 H             1 RES     \\n      66 H            9.7638    -2.0141     0.6502 H             1 RES     \\n      67 H           11.7552    -2.0294    -0.7080 H             1 RES     \\n      68 H           12.2693    -0.9992     0.6681 H             1 RES     \\n      69 VS         -16.9441     1.4252    -0.8006 VS            2 PRT     \\n      70 VS         -17.1419     1.4509    -0.8155 VS            2 PRT     \\n      71 VS         -16.8719     1.2146    -0.7800 VS            2 PRT     \\n      72 VS         -16.7529     1.4070    -0.6861 VS            2 PRT     \\n      73 VS         -16.9069     1.3236    -0.7977 VS            2 PRT     \\n      74 VS         -16.7091     1.2980    -0.7828 VS            2 PRT     \\n      75 VS         -16.9814     1.5342    -0.7883 VS            2 PRT     \\n      76 VS         -17.1132     1.3418    -0.7133 VS            2 PRT     \\n@<TRIPOS>BOND\\n       1        1        2 1\\n       2        3        2 1\\n       3       34        2 1\\n       4       35        2 1\\n       5       31        1 1\\n       6       32        1 1\\n       7       33        1 1\\n       8       30       31 1\\n       9       67       31 1\\n      10       68       31 1\\n      11        4        3 1\\n      12       30        3 1\\n      13        5        4 1\\n      14       29        4 1\\n      15       65       30 1\\n      16       66       30 1\\n      17        6        5 1\\n      18       36        5 1\\n      19       28       29 1\\n      20       64       29 1\\n      21        7        6 1\\n      22       37        6 1\\n      23        8        7 1\\n      24       28        7 1\\n      25        9        8 1\\n      26       27        8 1\\n      27       63       28 1\\n      28       10        9 1\\n      29       26        9 1\\n      30       11       10 1\\n      31       38       10 1\\n      32       25       26 1\\n      33       62       26 1\\n      34       12       11 1\\n      35       39       11 1\\n      36       13       12 1\\n      37       25       12 1\\n      38       14       13 1\\n      39       61       25 1\\n      40       15       14 1\\n      41       40       14 1\\n      42       41       14 1\\n      43       16       15 1\\n      44       42       15 1\\n      45       43       15 1\\n      46       17       16 1\\n      47       44       16 1\\n      48       45       16 1\\n      49       18       17 1\\n      50       46       17 1\\n      51       47       17 1\\n      52       19       18 1\\n      53       48       18 1\\n      54       49       18 1\\n      55       20       19 1\\n      56       50       19 1\\n      57       51       19 1\\n      58       21       20 1\\n      59       52       20 1\\n      60       53       20 1\\n      61       22       21 1\\n      62       54       21 1\\n      63       55       21 1\\n      64       23       22 1\\n      65       56       22 1\\n      66       57       22 1\\n      67       24       23 1\\n      68       58       23 1\\n      69       59       23 1\\n      70       60       24 1\\n@<TRIPOS>SUBSTRUCTURE\\n       1 RES             1 RESIDUE    0 **** ROOT      0\\n       2 PRT            69 RESIDUE    0 **** ROOT      0\\n\",\"mol2\");\n\tviewer_16668153179656718.setStyle({\"stick\": {\"radius\": 0.2, \"color\": \"grey\"}, \"sphere\": {\"scale\": 0.3, \"colorscheme\": {}}});\n\tviewer_16668153179656718.zoomTo();\nviewer_16668153179656718.render();\n});\n</script>",
      "text/html": [
       "<div id=\"3dmolviewer_16668153179656718\"  style=\"position: relative; width: 640px; height: 480px\">\n",
       "        <p id=\"3dmolwarning_16668153179656718\" style=\"background-color:#ffcccc;color:black\">You appear to be running in JupyterLab (or JavaScript failed to load for some other reason).  You need to install the 3dmol extension: <br>\n",
       "        <tt>jupyter labextension install jupyterlab_3dmol</tt></p>\n",
       "        </div>\n",
       "<script>\n",
       "\n",
       "var loadScriptAsync = function(uri){\n",
       "  return new Promise((resolve, reject) => {\n",
       "    var tag = document.createElement('script');\n",
       "    tag.src = uri;\n",
       "    tag.async = true;\n",
       "    tag.onload = () => {\n",
       "      resolve();\n",
       "    };\n",
       "  var firstScriptTag = document.getElementsByTagName('script')[0];\n",
       "  firstScriptTag.parentNode.insertBefore(tag, firstScriptTag);\n",
       "});\n",
       "};\n",
       "\n",
       "if(typeof $3Dmolpromise === 'undefined') {\n",
       "$3Dmolpromise = null;\n",
       "  $3Dmolpromise = loadScriptAsync('https://3dmol.org/build/3Dmol.js');\n",
       "}\n",
       "\n",
       "var viewer_16668153179656718 = null;\n",
       "var warn = document.getElementById(\"3dmolwarning_16668153179656718\");\n",
       "if(warn) {\n",
       "    warn.parentNode.removeChild(warn);\n",
       "}\n",
       "$3Dmolpromise.then(function() {\n",
       "viewer_16668153179656718 = $3Dmol.createViewer($(\"#3dmolviewer_16668153179656718\"),{backgroundColor:\"white\"});\n",
       "viewer_16668153179656718.zoomTo();\n",
       "\tviewer_16668153179656718.addModel(\"@<TRIPOS>MOLECULE\\nRES\\n76 70 2 0 1\\nBIOPOLYMER\\nNO_CHARGES\\n@<TRIPOS>CRYSIN\\n   32.8347    10.2557     8.9050    90.0000    90.0000    90.0000  1  1\\n@<TRIPOS>ATOM\\n       1 C           11.6777     0.1152    -1.1148 C             1 RES     \\n       2 C           10.2275     0.4251    -1.5297 C             1 RES     \\n       3 N            9.3642    -0.5814    -0.8745 N             1 RES     \\n       4 C            8.1361    -0.0322    -0.5245 C             1 RES     \\n       5 C            8.0873     1.1147     0.2639 C             1 RES     \\n       6 C            6.8777     1.6586     0.6113 C             1 RES     \\n       7 C            5.6918     1.0605     0.1725 C             1 RES     \\n       8 C            4.3890     1.6431     0.5437 C             1 RES     \\n       9 C            3.1797     0.8002     0.5500 C             1 RES     \\n      10 C            3.2928    -0.5872     0.6919 C             1 RES     \\n      11 C            2.1705    -1.3654     0.6972 C             1 RES     \\n      12 C            0.9137    -0.7791     0.5612 C             1 RES     \\n      13 S           -0.5318    -1.7867     0.5681 S             1 RES     \\n      14 C           -1.8712    -0.5800     0.3667 C             1 RES     \\n      15 C           -3.2164    -1.3088     0.3528 C             1 RES     \\n      16 C           -4.3461    -0.2911     0.1829 C             1 RES     \\n      17 C           -5.6913    -1.0199     0.1690 C             1 RES     \\n      18 C           -6.8210    -0.0022    -0.0009 C             1 RES     \\n      19 C           -8.1662    -0.7310    -0.0148 C             1 RES     \\n      20 C           -9.2959     0.2867    -0.1847 C             1 RES     \\n      21 C          -10.6411    -0.4421    -0.1986 C             1 RES     \\n      22 C          -11.7708     0.5757    -0.3685 C             1 RES     \\n      23 C          -13.1160    -0.1532    -0.3823 C             1 RES     \\n      24 S          -14.4554     1.0535    -0.5838 S             1 RES     \\n      25 C            0.7977     0.6023     0.4203 C             1 RES     \\n      26 C            1.9158     1.3865     0.4199 C             1 RES     \\n      27 O            4.3123     2.8193     0.8449 O             1 RES     \\n      28 C            5.7445    -0.0912    -0.6197 C             1 RES     \\n      29 C            6.9575    -0.6269    -0.9678 C             1 RES     \\n      30 C           10.1087    -1.0311     0.3295 C             1 RES     \\n      31 C           11.5751    -1.1010    -0.1660 C             1 RES     \\n      32 H           12.2759    -0.1374    -1.9903 H             1 RES     \\n      33 H           12.1120     0.9673    -0.5919 H             1 RES     \\n      34 H            9.9513     1.4252    -1.1955 H             1 RES     \\n      35 H           10.1273     0.3517    -2.6126 H             1 RES     \\n      36 H            9.0033     1.5760     0.6023 H             1 RES     \\n      37 H            6.8405     2.5477     1.2233 H             1 RES     \\n      38 H            4.2667    -1.0423     0.7966 H             1 RES     \\n      39 H            2.2572    -2.4364     0.8067 H             1 RES     \\n      40 H           -1.8501     0.1280     1.1952 H             1 RES     \\n      41 H           -1.7388    -0.0437    -0.5730 H             1 RES     \\n      42 H           -3.2375    -2.0168    -0.4757 H             1 RES     \\n      43 H           -3.3488    -1.8451     1.2924 H             1 RES     \\n      44 H           -4.3250     0.4169     1.0114 H             1 RES     \\n      45 H           -4.2137     0.2452    -0.7568 H             1 RES     \\n      46 H           -5.7124    -1.7279    -0.6595 H             1 RES     \\n      47 H           -5.8237    -1.5562     1.1087 H             1 RES     \\n      48 H           -6.7999     0.7058     0.8276 H             1 RES     \\n      49 H           -6.6886     0.5341    -0.9405 H             1 RES     \\n      50 H           -8.1873    -1.4390    -0.8433 H             1 RES     \\n      51 H           -8.2986    -1.2673     0.9249 H             1 RES     \\n      52 H           -9.2748     0.9947     0.6438 H             1 RES     \\n      53 H           -9.1635     0.8230    -1.1243 H             1 RES     \\n      54 H          -10.6622    -1.1501    -1.0271 H             1 RES     \\n      55 H          -10.7735    -0.9784     0.7411 H             1 RES     \\n      56 H          -11.7497     1.2836     0.4601 H             1 RES     \\n      57 H          -11.6384     1.1119    -1.3081 H             1 RES     \\n      58 H          -13.1371    -0.8611    -1.2108 H             1 RES     \\n      59 H          -13.2484    -0.6895     0.5573 H             1 RES     \\n      60 H          -15.5588     0.2844    -0.5785 H             1 RES     \\n      61 H           -0.1778     1.0538     0.3154 H             1 RES     \\n      62 H            1.8252     2.4572     0.3110 H             1 RES     \\n      63 H            4.8307    -0.5554    -0.9601 H             1 RES     \\n      64 H            6.9989    -1.5159    -1.5797 H             1 RES     \\n      65 H           10.0096    -0.3053     1.1366 H             1 RES     \\n      66 H            9.7638    -2.0141     0.6502 H             1 RES     \\n      67 H           11.7552    -2.0294    -0.7080 H             1 RES     \\n      68 H           12.2693    -0.9992     0.6681 H             1 RES     \\n      69 VS         -16.9441     1.4252    -0.8006 VS            2 PRT     \\n      70 VS         -17.1419     1.4509    -0.8155 VS            2 PRT     \\n      71 VS         -16.8719     1.2146    -0.7800 VS            2 PRT     \\n      72 VS         -16.7529     1.4070    -0.6861 VS            2 PRT     \\n      73 VS         -16.9069     1.3236    -0.7977 VS            2 PRT     \\n      74 VS         -16.7091     1.2980    -0.7828 VS            2 PRT     \\n      75 VS         -16.9814     1.5342    -0.7883 VS            2 PRT     \\n      76 VS         -17.1132     1.3418    -0.7133 VS            2 PRT     \\n@<TRIPOS>BOND\\n       1        1        2 1\\n       2        3        2 1\\n       3       34        2 1\\n       4       35        2 1\\n       5       31        1 1\\n       6       32        1 1\\n       7       33        1 1\\n       8       30       31 1\\n       9       67       31 1\\n      10       68       31 1\\n      11        4        3 1\\n      12       30        3 1\\n      13        5        4 1\\n      14       29        4 1\\n      15       65       30 1\\n      16       66       30 1\\n      17        6        5 1\\n      18       36        5 1\\n      19       28       29 1\\n      20       64       29 1\\n      21        7        6 1\\n      22       37        6 1\\n      23        8        7 1\\n      24       28        7 1\\n      25        9        8 1\\n      26       27        8 1\\n      27       63       28 1\\n      28       10        9 1\\n      29       26        9 1\\n      30       11       10 1\\n      31       38       10 1\\n      32       25       26 1\\n      33       62       26 1\\n      34       12       11 1\\n      35       39       11 1\\n      36       13       12 1\\n      37       25       12 1\\n      38       14       13 1\\n      39       61       25 1\\n      40       15       14 1\\n      41       40       14 1\\n      42       41       14 1\\n      43       16       15 1\\n      44       42       15 1\\n      45       43       15 1\\n      46       17       16 1\\n      47       44       16 1\\n      48       45       16 1\\n      49       18       17 1\\n      50       46       17 1\\n      51       47       17 1\\n      52       19       18 1\\n      53       48       18 1\\n      54       49       18 1\\n      55       20       19 1\\n      56       50       19 1\\n      57       51       19 1\\n      58       21       20 1\\n      59       52       20 1\\n      60       53       20 1\\n      61       22       21 1\\n      62       54       21 1\\n      63       55       21 1\\n      64       23       22 1\\n      65       56       22 1\\n      66       57       22 1\\n      67       24       23 1\\n      68       58       23 1\\n      69       59       23 1\\n      70       60       24 1\\n@<TRIPOS>SUBSTRUCTURE\\n       1 RES             1 RESIDUE    0 **** ROOT      0\\n       2 PRT            69 RESIDUE    0 **** ROOT      0\\n\",\"mol2\");\n",
       "\tviewer_16668153179656718.setStyle({\"stick\": {\"radius\": 0.2, \"color\": \"grey\"}, \"sphere\": {\"scale\": 0.3, \"colorscheme\": {}}});\n",
       "\tviewer_16668153179656718.zoomTo();\n",
       "viewer_16668153179656718.render();\n",
       "});\n",
       "</script>"
      ]
     },
     "metadata": {},
     "output_type": "display_data"
    },
    {
     "data": {
      "text/plain": [
       "<py3Dmol.view at 0x7ff664483910>"
      ]
     },
     "execution_count": 3,
     "metadata": {},
     "output_type": "execute_result"
    }
   ],
   "source": [
    "#should be S-\n",
    "xlig = mb.load(\"xlig.mol2\")\n",
    "xlig.add(mb.Port(anchor=xlig[23], separation=0.25, orientation=(xlig[23].pos-xlig[13].pos)))\n",
    "xlig.visualize(show_ports=True)"
   ]
  },
  {
   "cell_type": "code",
   "execution_count": 3,
   "id": "049717e3-4a72-4ac3-a1c5-10505116828b",
   "metadata": {},
   "outputs": [
    {
     "data": {
      "application/3dmoljs_load.v0": "<div id=\"3dmolviewer_16668172192921011\"  style=\"position: relative; width: 640px; height: 480px\">\n        <p id=\"3dmolwarning_16668172192921011\" style=\"background-color:#ffcccc;color:black\">You appear to be running in JupyterLab (or JavaScript failed to load for some other reason).  You need to install the 3dmol extension: <br>\n        <tt>jupyter labextension install jupyterlab_3dmol</tt></p>\n        </div>\n<script>\n\nvar loadScriptAsync = function(uri){\n  return new Promise((resolve, reject) => {\n    var tag = document.createElement('script');\n    tag.src = uri;\n    tag.async = true;\n    tag.onload = () => {\n      resolve();\n    };\n  var firstScriptTag = document.getElementsByTagName('script')[0];\n  firstScriptTag.parentNode.insertBefore(tag, firstScriptTag);\n});\n};\n\nif(typeof $3Dmolpromise === 'undefined') {\n$3Dmolpromise = null;\n  $3Dmolpromise = loadScriptAsync('https://3dmol.org/build/3Dmol.js');\n}\n\nvar viewer_16668172192921011 = null;\nvar warn = document.getElementById(\"3dmolwarning_16668172192921011\");\nif(warn) {\n    warn.parentNode.removeChild(warn);\n}\n$3Dmolpromise.then(function() {\nviewer_16668172192921011 = $3Dmol.createViewer($(\"#3dmolviewer_16668172192921011\"),{backgroundColor:\"white\"});\nviewer_16668172192921011.zoomTo();\n\tviewer_16668172192921011.addModel(\"@<TRIPOS>MOLECULE\\nRES\\n110 152 1 0 1\\nSMALL\\nNO_CHARGES\\n@<TRIPOS>CRYSIN\\n   18.6257    18.6257    13.1754    90.0000    90.0000    90.0000  1  1\\n@<TRIPOS>ATOM\\n       1 ZN           0.0000     0.0000     0.0000 ZN            1 RES     \\n       2 ZN           0.0000     0.0000     5.4503 ZN            1 RES     \\n       3 ZN           0.0000    10.9005     0.0000 ZN            1 RES     \\n       4 ZN           0.0000    10.9005     5.4503 ZN            1 RES     \\n       5 ZN          10.9005     0.0000     0.0000 ZN            1 RES     \\n       6 ZN          10.9005     0.0000     5.4503 ZN            1 RES     \\n       7 ZN          10.9005    10.9005     0.0000 ZN            1 RES     \\n       8 ZN          10.9005    10.9005     5.4503 ZN            1 RES     \\n       9 ZN           0.0000     5.4503     0.0000 ZN            1 RES     \\n      10 ZN           0.0000     5.4503     5.4503 ZN            1 RES     \\n      11 ZN          10.9005     5.4503     0.0000 ZN            1 RES     \\n      12 ZN          10.9005     5.4503     5.4503 ZN            1 RES     \\n      13 ZN           5.4503     0.0000     0.0000 ZN            1 RES     \\n      14 ZN           5.4503     0.0000     5.4503 ZN            1 RES     \\n      15 ZN           5.4503    10.9005     0.0000 ZN            1 RES     \\n      16 ZN           5.4503    10.9005     5.4503 ZN            1 RES     \\n      17 ZN           5.4503     5.4503     0.0000 ZN            1 RES     \\n      18 ZN           5.4503     5.4503     5.4503 ZN            1 RES     \\n      19 ZN           0.0000     2.7251     2.7251 ZN            1 RES     \\n      20 ZN          10.9005     2.7251     2.7251 ZN            1 RES     \\n      21 ZN           0.0000     8.1754     2.7251 ZN            1 RES     \\n      22 ZN          10.9005     8.1754     2.7251 ZN            1 RES     \\n      23 ZN           5.4503     2.7251     2.7251 ZN            1 RES     \\n      24 ZN           5.4503     8.1754     2.7251 ZN            1 RES     \\n      25 ZN           2.7251     0.0000     2.7251 ZN            1 RES     \\n      26 ZN           2.7251    10.9005     2.7251 ZN            1 RES     \\n      27 ZN           2.7251     5.4503     2.7251 ZN            1 RES     \\n      28 ZN           8.1754     0.0000     2.7251 ZN            1 RES     \\n      29 ZN           8.1754    10.9005     2.7251 ZN            1 RES     \\n      30 ZN           8.1754     5.4503     2.7251 ZN            1 RES     \\n      31 ZN           2.7251     2.7251     0.0000 ZN            1 RES     \\n      32 ZN           2.7251     2.7251     5.4503 ZN            1 RES     \\n      33 ZN           2.7251     8.1754     0.0000 ZN            1 RES     \\n      34 ZN           2.7251     8.1754     5.4503 ZN            1 RES     \\n      35 ZN           8.1754     2.7251     0.0000 ZN            1 RES     \\n      36 ZN           8.1754     2.7251     5.4503 ZN            1 RES     \\n      37 ZN           8.1754     8.1754     0.0000 ZN            1 RES     \\n      38 ZN           8.1754     8.1754     5.4503 ZN            1 RES     \\n      39 S            1.3626     1.3626     4.0877 S             1 RES     \\n      40 S            1.3626     6.8128     4.0877 S             1 RES     \\n      41 S            6.8128     1.3626     4.0877 S             1 RES     \\n      42 S            6.8128     6.8128     4.0877 S             1 RES     \\n      43 S            1.3626     4.0877     1.3626 S             1 RES     \\n      44 S            1.3626     9.5380     1.3626 S             1 RES     \\n      45 S            6.8128     4.0877     1.3626 S             1 RES     \\n      46 S            6.8128     9.5380     1.3626 S             1 RES     \\n      47 S            4.0877     1.3626     1.3626 S             1 RES     \\n      48 S            4.0877     6.8128     1.3626 S             1 RES     \\n      49 S            9.5380     1.3626     1.3626 S             1 RES     \\n      50 S            9.5380     6.8128     1.3626 S             1 RES     \\n      51 S            4.0877     4.0877     4.0877 S             1 RES     \\n      52 S            4.0877     9.5380     4.0877 S             1 RES     \\n      53 S            9.5380     4.0877     4.0877 S             1 RES     \\n      54 S            9.5380     9.5380     4.0877 S             1 RES     \\n      55 S           -1.3626    -1.3626    -1.3626 S             1 RES     \\n      56 S           -1.3626     1.3626     1.3626 S             1 RES     \\n      57 S            1.3626    -1.3626     1.3626 S             1 RES     \\n      58 S            1.3626     1.3626    -1.3626 S             1 RES     \\n      59 S           -1.3626    -1.3626     4.0877 S             1 RES     \\n      60 S           -1.3626     1.3626     6.8128 S             1 RES     \\n      61 S            1.3626    -1.3626     6.8128 S             1 RES     \\n      62 S           -1.3626     9.5380    -1.3626 S             1 RES     \\n      63 S           -1.3626    12.2631     1.3626 S             1 RES     \\n      64 S            1.3626    12.2631    -1.3626 S             1 RES     \\n      65 S           -1.3626     9.5380     4.0877 S             1 RES     \\n      66 S           -1.3626    12.2631     6.8128 S             1 RES     \\n      67 S            1.3626     9.5380     6.8128 S             1 RES     \\n      68 S            1.3626    12.2631     4.0877 S             1 RES     \\n      69 S            9.5380    -1.3626    -1.3626 S             1 RES     \\n      70 S           12.2631    -1.3626     1.3626 S             1 RES     \\n      71 S           12.2631     1.3626    -1.3626 S             1 RES     \\n      72 S            9.5380    -1.3626     4.0877 S             1 RES     \\n      73 S            9.5380     1.3626     6.8128 S             1 RES     \\n      74 S           12.2631    -1.3626     6.8128 S             1 RES     \\n      75 S           12.2631     1.3626     4.0877 S             1 RES     \\n      76 S            9.5380     9.5380    -1.3626 S             1 RES     \\n      77 S            9.5380    12.2631     1.3626 S             1 RES     \\n      78 S           12.2631     9.5380     1.3626 S             1 RES     \\n      79 S           12.2631    12.2631    -1.3626 S             1 RES     \\n      80 S            9.5380    12.2631     6.8128 S             1 RES     \\n      81 S           12.2631     9.5380     6.8128 S             1 RES     \\n      82 S           12.2631    12.2631     4.0877 S             1 RES     \\n      83 S           -1.3626     4.0877    -1.3626 S             1 RES     \\n      84 S           -1.3626     6.8128     1.3626 S             1 RES     \\n      85 S            1.3626     6.8128    -1.3626 S             1 RES     \\n      86 S           -1.3626     4.0877     4.0877 S             1 RES     \\n      87 S           -1.3626     6.8128     6.8128 S             1 RES     \\n      88 S            1.3626     4.0877     6.8128 S             1 RES     \\n      89 S            9.5380     4.0877    -1.3626 S             1 RES     \\n      90 S           12.2631     4.0877     1.3626 S             1 RES     \\n      91 S           12.2631     6.8128    -1.3626 S             1 RES     \\n      92 S            9.5380     6.8128     6.8128 S             1 RES     \\n      93 S           12.2631     4.0877     6.8128 S             1 RES     \\n      94 S           12.2631     6.8128     4.0877 S             1 RES     \\n      95 S            4.0877    -1.3626    -1.3626 S             1 RES     \\n      96 S            6.8128    -1.3626     1.3626 S             1 RES     \\n      97 S            6.8128     1.3626    -1.3626 S             1 RES     \\n      98 S            4.0877    -1.3626     4.0877 S             1 RES     \\n      99 S            4.0877     1.3626     6.8128 S             1 RES     \\n     100 S            6.8128    -1.3626     6.8128 S             1 RES     \\n     101 S            4.0877     9.5380    -1.3626 S             1 RES     \\n     102 S            4.0877    12.2631     1.3626 S             1 RES     \\n     103 S            6.8128    12.2631    -1.3626 S             1 RES     \\n     104 S            4.0877    12.2631     6.8128 S             1 RES     \\n     105 S            6.8128     9.5380     6.8128 S             1 RES     \\n     106 S            6.8128    12.2631     4.0877 S             1 RES     \\n     107 S            4.0877     4.0877    -1.3626 S             1 RES     \\n     108 S            6.8128     6.8128    -1.3626 S             1 RES     \\n     109 S            4.0877     6.8128     6.8128 S             1 RES     \\n     110 S            6.8128     4.0877     6.8128 S             1 RES     \\n@<TRIPOS>BOND\\n       1       33       85 1\\n       2        9       85 1\\n       3      101       33 1\\n       4       44       33 1\\n       5       48       33 1\\n       6       15      101 1\\n       7        3       44 1\\n       8       26       44 1\\n       9       21       44 1\\n      10       17       48 1\\n      11       24       48 1\\n      12       27       48 1\\n      13       83        9 1\\n      14       43        9 1\\n      15       84        9 1\\n      16       31       43 1\\n      17       27       43 1\\n      18       19       43 1\\n      19       21       84 1\\n      20       13       95 1\\n      21       97       13 1\\n      22       47       13 1\\n      23       96       13 1\\n      24       35       97 1\\n      25       31       47 1\\n      26       23       47 1\\n      27       25       47 1\\n      28       28       96 1\\n      29       89       35 1\\n      30       45       35 1\\n      31       49       35 1\\n      32       11       89 1\\n      33       17       45 1\\n      34       23       45 1\\n      35       30       45 1\\n      36        5       49 1\\n      37       28       49 1\\n      38       20       49 1\\n      39       11       91 1\\n      40       50       11 1\\n      41       90       11 1\\n      42       37       50 1\\n      43       30       50 1\\n      44       22       50 1\\n      45       20       90 1\\n      46       37       76 1\\n      47        7       76 1\\n      48      108       37 1\\n      49       46       37 1\\n      50       17      108 1\\n      51       15       46 1\\n      52       24       46 1\\n      53       29       46 1\\n      54       79        7 1\\n      55       78        7 1\\n      56       77        7 1\\n      57       22       78 1\\n      58       29       77 1\\n      59      103       15 1\\n      60      102       15 1\\n      61       26      102 1\\n      62        5       71 1\\n      63       69        5 1\\n      64       70        5 1\\n      65        1       55 1\\n      66       58        1 1\\n      67       56        1 1\\n      68       57        1 1\\n      69       31       58 1\\n      70       19       56 1\\n      71       25       57 1\\n      72      107       31 1\\n      73       17      107 1\\n      74        3       62 1\\n      75       64        3 1\\n      76       63        3 1\\n      77       52       24 1\\n      78       42       24 1\\n      79       54       29 1\\n      80      106       29 1\\n      81       53       30 1\\n      82       42       30 1\\n      83       54       22 1\\n      84       94       22 1\\n      85       51       23 1\\n      86       41       23 1\\n      87       72       28 1\\n      88       41       28 1\\n      89       75       20 1\\n      90       53       20 1\\n      91       68       26 1\\n      92       52       26 1\\n      93       65       21 1\\n      94       40       21 1\\n      95       51       27 1\\n      96       40       27 1\\n      97       39       25 1\\n      98       98       25 1\\n      99       86       19 1\\n     100       39       19 1\\n     101       18       51 1\\n     102       32       51 1\\n     103       36       41 1\\n     104       14       41 1\\n     105       12       53 1\\n     106       36       53 1\\n     107       18       42 1\\n     108       38       42 1\\n     109        4       68 1\\n     110       16       52 1\\n     111       34       52 1\\n     112        4       65 1\\n     113       34       40 1\\n     114       10       40 1\\n     115       38       54 1\\n     116        8       54 1\\n     117       16      106 1\\n     118        2       39 1\\n     119       32       39 1\\n     120       14       98 1\\n     121        6       72 1\\n     122        6       75 1\\n     123       12       94 1\\n     124       10       86 1\\n     125      104       16 1\\n     126      105       16 1\\n     127      109       34 1\\n     128       67       34 1\\n     129      110       18 1\\n     130      109       18 1\\n     131      105       38 1\\n     132       92       38 1\\n     133       99       32 1\\n     134       88       32 1\\n     135      110       36 1\\n     136       73       36 1\\n     137      100       14 1\\n     138       99       14 1\\n     139       59        2 1\\n     140       60        2 1\\n     141       61        2 1\\n     142       66        4 1\\n     143       67        4 1\\n     144       88       10 1\\n     145       87       10 1\\n     146       73        6 1\\n     147       74        6 1\\n     148       82        8 1\\n     149       81        8 1\\n     150       80        8 1\\n     151       93       12 1\\n     152       92       12 1\\n@<TRIPOS>SUBSTRUCTURE\\n       1 RES             1 RESIDUE    0 **** ROOT      0\\n\",\"mol2\");\n\tviewer_16668172192921011.setStyle({\"stick\": {\"radius\": 0.2, \"color\": \"grey\"}, \"sphere\": {\"scale\": 0.3, \"colorscheme\": {}}});\n\tviewer_16668172192921011.zoomTo();\nviewer_16668172192921011.render();\n});\n</script>",
      "text/html": [
       "<div id=\"3dmolviewer_16668172192921011\"  style=\"position: relative; width: 640px; height: 480px\">\n",
       "        <p id=\"3dmolwarning_16668172192921011\" style=\"background-color:#ffcccc;color:black\">You appear to be running in JupyterLab (or JavaScript failed to load for some other reason).  You need to install the 3dmol extension: <br>\n",
       "        <tt>jupyter labextension install jupyterlab_3dmol</tt></p>\n",
       "        </div>\n",
       "<script>\n",
       "\n",
       "var loadScriptAsync = function(uri){\n",
       "  return new Promise((resolve, reject) => {\n",
       "    var tag = document.createElement('script');\n",
       "    tag.src = uri;\n",
       "    tag.async = true;\n",
       "    tag.onload = () => {\n",
       "      resolve();\n",
       "    };\n",
       "  var firstScriptTag = document.getElementsByTagName('script')[0];\n",
       "  firstScriptTag.parentNode.insertBefore(tag, firstScriptTag);\n",
       "});\n",
       "};\n",
       "\n",
       "if(typeof $3Dmolpromise === 'undefined') {\n",
       "$3Dmolpromise = null;\n",
       "  $3Dmolpromise = loadScriptAsync('https://3dmol.org/build/3Dmol.js');\n",
       "}\n",
       "\n",
       "var viewer_16668172192921011 = null;\n",
       "var warn = document.getElementById(\"3dmolwarning_16668172192921011\");\n",
       "if(warn) {\n",
       "    warn.parentNode.removeChild(warn);\n",
       "}\n",
       "$3Dmolpromise.then(function() {\n",
       "viewer_16668172192921011 = $3Dmol.createViewer($(\"#3dmolviewer_16668172192921011\"),{backgroundColor:\"white\"});\n",
       "viewer_16668172192921011.zoomTo();\n",
       "\tviewer_16668172192921011.addModel(\"@<TRIPOS>MOLECULE\\nRES\\n110 152 1 0 1\\nSMALL\\nNO_CHARGES\\n@<TRIPOS>CRYSIN\\n   18.6257    18.6257    13.1754    90.0000    90.0000    90.0000  1  1\\n@<TRIPOS>ATOM\\n       1 ZN           0.0000     0.0000     0.0000 ZN            1 RES     \\n       2 ZN           0.0000     0.0000     5.4503 ZN            1 RES     \\n       3 ZN           0.0000    10.9005     0.0000 ZN            1 RES     \\n       4 ZN           0.0000    10.9005     5.4503 ZN            1 RES     \\n       5 ZN          10.9005     0.0000     0.0000 ZN            1 RES     \\n       6 ZN          10.9005     0.0000     5.4503 ZN            1 RES     \\n       7 ZN          10.9005    10.9005     0.0000 ZN            1 RES     \\n       8 ZN          10.9005    10.9005     5.4503 ZN            1 RES     \\n       9 ZN           0.0000     5.4503     0.0000 ZN            1 RES     \\n      10 ZN           0.0000     5.4503     5.4503 ZN            1 RES     \\n      11 ZN          10.9005     5.4503     0.0000 ZN            1 RES     \\n      12 ZN          10.9005     5.4503     5.4503 ZN            1 RES     \\n      13 ZN           5.4503     0.0000     0.0000 ZN            1 RES     \\n      14 ZN           5.4503     0.0000     5.4503 ZN            1 RES     \\n      15 ZN           5.4503    10.9005     0.0000 ZN            1 RES     \\n      16 ZN           5.4503    10.9005     5.4503 ZN            1 RES     \\n      17 ZN           5.4503     5.4503     0.0000 ZN            1 RES     \\n      18 ZN           5.4503     5.4503     5.4503 ZN            1 RES     \\n      19 ZN           0.0000     2.7251     2.7251 ZN            1 RES     \\n      20 ZN          10.9005     2.7251     2.7251 ZN            1 RES     \\n      21 ZN           0.0000     8.1754     2.7251 ZN            1 RES     \\n      22 ZN          10.9005     8.1754     2.7251 ZN            1 RES     \\n      23 ZN           5.4503     2.7251     2.7251 ZN            1 RES     \\n      24 ZN           5.4503     8.1754     2.7251 ZN            1 RES     \\n      25 ZN           2.7251     0.0000     2.7251 ZN            1 RES     \\n      26 ZN           2.7251    10.9005     2.7251 ZN            1 RES     \\n      27 ZN           2.7251     5.4503     2.7251 ZN            1 RES     \\n      28 ZN           8.1754     0.0000     2.7251 ZN            1 RES     \\n      29 ZN           8.1754    10.9005     2.7251 ZN            1 RES     \\n      30 ZN           8.1754     5.4503     2.7251 ZN            1 RES     \\n      31 ZN           2.7251     2.7251     0.0000 ZN            1 RES     \\n      32 ZN           2.7251     2.7251     5.4503 ZN            1 RES     \\n      33 ZN           2.7251     8.1754     0.0000 ZN            1 RES     \\n      34 ZN           2.7251     8.1754     5.4503 ZN            1 RES     \\n      35 ZN           8.1754     2.7251     0.0000 ZN            1 RES     \\n      36 ZN           8.1754     2.7251     5.4503 ZN            1 RES     \\n      37 ZN           8.1754     8.1754     0.0000 ZN            1 RES     \\n      38 ZN           8.1754     8.1754     5.4503 ZN            1 RES     \\n      39 S            1.3626     1.3626     4.0877 S             1 RES     \\n      40 S            1.3626     6.8128     4.0877 S             1 RES     \\n      41 S            6.8128     1.3626     4.0877 S             1 RES     \\n      42 S            6.8128     6.8128     4.0877 S             1 RES     \\n      43 S            1.3626     4.0877     1.3626 S             1 RES     \\n      44 S            1.3626     9.5380     1.3626 S             1 RES     \\n      45 S            6.8128     4.0877     1.3626 S             1 RES     \\n      46 S            6.8128     9.5380     1.3626 S             1 RES     \\n      47 S            4.0877     1.3626     1.3626 S             1 RES     \\n      48 S            4.0877     6.8128     1.3626 S             1 RES     \\n      49 S            9.5380     1.3626     1.3626 S             1 RES     \\n      50 S            9.5380     6.8128     1.3626 S             1 RES     \\n      51 S            4.0877     4.0877     4.0877 S             1 RES     \\n      52 S            4.0877     9.5380     4.0877 S             1 RES     \\n      53 S            9.5380     4.0877     4.0877 S             1 RES     \\n      54 S            9.5380     9.5380     4.0877 S             1 RES     \\n      55 S           -1.3626    -1.3626    -1.3626 S             1 RES     \\n      56 S           -1.3626     1.3626     1.3626 S             1 RES     \\n      57 S            1.3626    -1.3626     1.3626 S             1 RES     \\n      58 S            1.3626     1.3626    -1.3626 S             1 RES     \\n      59 S           -1.3626    -1.3626     4.0877 S             1 RES     \\n      60 S           -1.3626     1.3626     6.8128 S             1 RES     \\n      61 S            1.3626    -1.3626     6.8128 S             1 RES     \\n      62 S           -1.3626     9.5380    -1.3626 S             1 RES     \\n      63 S           -1.3626    12.2631     1.3626 S             1 RES     \\n      64 S            1.3626    12.2631    -1.3626 S             1 RES     \\n      65 S           -1.3626     9.5380     4.0877 S             1 RES     \\n      66 S           -1.3626    12.2631     6.8128 S             1 RES     \\n      67 S            1.3626     9.5380     6.8128 S             1 RES     \\n      68 S            1.3626    12.2631     4.0877 S             1 RES     \\n      69 S            9.5380    -1.3626    -1.3626 S             1 RES     \\n      70 S           12.2631    -1.3626     1.3626 S             1 RES     \\n      71 S           12.2631     1.3626    -1.3626 S             1 RES     \\n      72 S            9.5380    -1.3626     4.0877 S             1 RES     \\n      73 S            9.5380     1.3626     6.8128 S             1 RES     \\n      74 S           12.2631    -1.3626     6.8128 S             1 RES     \\n      75 S           12.2631     1.3626     4.0877 S             1 RES     \\n      76 S            9.5380     9.5380    -1.3626 S             1 RES     \\n      77 S            9.5380    12.2631     1.3626 S             1 RES     \\n      78 S           12.2631     9.5380     1.3626 S             1 RES     \\n      79 S           12.2631    12.2631    -1.3626 S             1 RES     \\n      80 S            9.5380    12.2631     6.8128 S             1 RES     \\n      81 S           12.2631     9.5380     6.8128 S             1 RES     \\n      82 S           12.2631    12.2631     4.0877 S             1 RES     \\n      83 S           -1.3626     4.0877    -1.3626 S             1 RES     \\n      84 S           -1.3626     6.8128     1.3626 S             1 RES     \\n      85 S            1.3626     6.8128    -1.3626 S             1 RES     \\n      86 S           -1.3626     4.0877     4.0877 S             1 RES     \\n      87 S           -1.3626     6.8128     6.8128 S             1 RES     \\n      88 S            1.3626     4.0877     6.8128 S             1 RES     \\n      89 S            9.5380     4.0877    -1.3626 S             1 RES     \\n      90 S           12.2631     4.0877     1.3626 S             1 RES     \\n      91 S           12.2631     6.8128    -1.3626 S             1 RES     \\n      92 S            9.5380     6.8128     6.8128 S             1 RES     \\n      93 S           12.2631     4.0877     6.8128 S             1 RES     \\n      94 S           12.2631     6.8128     4.0877 S             1 RES     \\n      95 S            4.0877    -1.3626    -1.3626 S             1 RES     \\n      96 S            6.8128    -1.3626     1.3626 S             1 RES     \\n      97 S            6.8128     1.3626    -1.3626 S             1 RES     \\n      98 S            4.0877    -1.3626     4.0877 S             1 RES     \\n      99 S            4.0877     1.3626     6.8128 S             1 RES     \\n     100 S            6.8128    -1.3626     6.8128 S             1 RES     \\n     101 S            4.0877     9.5380    -1.3626 S             1 RES     \\n     102 S            4.0877    12.2631     1.3626 S             1 RES     \\n     103 S            6.8128    12.2631    -1.3626 S             1 RES     \\n     104 S            4.0877    12.2631     6.8128 S             1 RES     \\n     105 S            6.8128     9.5380     6.8128 S             1 RES     \\n     106 S            6.8128    12.2631     4.0877 S             1 RES     \\n     107 S            4.0877     4.0877    -1.3626 S             1 RES     \\n     108 S            6.8128     6.8128    -1.3626 S             1 RES     \\n     109 S            4.0877     6.8128     6.8128 S             1 RES     \\n     110 S            6.8128     4.0877     6.8128 S             1 RES     \\n@<TRIPOS>BOND\\n       1       33       85 1\\n       2        9       85 1\\n       3      101       33 1\\n       4       44       33 1\\n       5       48       33 1\\n       6       15      101 1\\n       7        3       44 1\\n       8       26       44 1\\n       9       21       44 1\\n      10       17       48 1\\n      11       24       48 1\\n      12       27       48 1\\n      13       83        9 1\\n      14       43        9 1\\n      15       84        9 1\\n      16       31       43 1\\n      17       27       43 1\\n      18       19       43 1\\n      19       21       84 1\\n      20       13       95 1\\n      21       97       13 1\\n      22       47       13 1\\n      23       96       13 1\\n      24       35       97 1\\n      25       31       47 1\\n      26       23       47 1\\n      27       25       47 1\\n      28       28       96 1\\n      29       89       35 1\\n      30       45       35 1\\n      31       49       35 1\\n      32       11       89 1\\n      33       17       45 1\\n      34       23       45 1\\n      35       30       45 1\\n      36        5       49 1\\n      37       28       49 1\\n      38       20       49 1\\n      39       11       91 1\\n      40       50       11 1\\n      41       90       11 1\\n      42       37       50 1\\n      43       30       50 1\\n      44       22       50 1\\n      45       20       90 1\\n      46       37       76 1\\n      47        7       76 1\\n      48      108       37 1\\n      49       46       37 1\\n      50       17      108 1\\n      51       15       46 1\\n      52       24       46 1\\n      53       29       46 1\\n      54       79        7 1\\n      55       78        7 1\\n      56       77        7 1\\n      57       22       78 1\\n      58       29       77 1\\n      59      103       15 1\\n      60      102       15 1\\n      61       26      102 1\\n      62        5       71 1\\n      63       69        5 1\\n      64       70        5 1\\n      65        1       55 1\\n      66       58        1 1\\n      67       56        1 1\\n      68       57        1 1\\n      69       31       58 1\\n      70       19       56 1\\n      71       25       57 1\\n      72      107       31 1\\n      73       17      107 1\\n      74        3       62 1\\n      75       64        3 1\\n      76       63        3 1\\n      77       52       24 1\\n      78       42       24 1\\n      79       54       29 1\\n      80      106       29 1\\n      81       53       30 1\\n      82       42       30 1\\n      83       54       22 1\\n      84       94       22 1\\n      85       51       23 1\\n      86       41       23 1\\n      87       72       28 1\\n      88       41       28 1\\n      89       75       20 1\\n      90       53       20 1\\n      91       68       26 1\\n      92       52       26 1\\n      93       65       21 1\\n      94       40       21 1\\n      95       51       27 1\\n      96       40       27 1\\n      97       39       25 1\\n      98       98       25 1\\n      99       86       19 1\\n     100       39       19 1\\n     101       18       51 1\\n     102       32       51 1\\n     103       36       41 1\\n     104       14       41 1\\n     105       12       53 1\\n     106       36       53 1\\n     107       18       42 1\\n     108       38       42 1\\n     109        4       68 1\\n     110       16       52 1\\n     111       34       52 1\\n     112        4       65 1\\n     113       34       40 1\\n     114       10       40 1\\n     115       38       54 1\\n     116        8       54 1\\n     117       16      106 1\\n     118        2       39 1\\n     119       32       39 1\\n     120       14       98 1\\n     121        6       72 1\\n     122        6       75 1\\n     123       12       94 1\\n     124       10       86 1\\n     125      104       16 1\\n     126      105       16 1\\n     127      109       34 1\\n     128       67       34 1\\n     129      110       18 1\\n     130      109       18 1\\n     131      105       38 1\\n     132       92       38 1\\n     133       99       32 1\\n     134       88       32 1\\n     135      110       36 1\\n     136       73       36 1\\n     137      100       14 1\\n     138       99       14 1\\n     139       59        2 1\\n     140       60        2 1\\n     141       61        2 1\\n     142       66        4 1\\n     143       67        4 1\\n     144       88       10 1\\n     145       87       10 1\\n     146       73        6 1\\n     147       74        6 1\\n     148       82        8 1\\n     149       81        8 1\\n     150       80        8 1\\n     151       93       12 1\\n     152       92       12 1\\n@<TRIPOS>SUBSTRUCTURE\\n       1 RES             1 RESIDUE    0 **** ROOT      0\\n\",\"mol2\");\n",
       "\tviewer_16668172192921011.setStyle({\"stick\": {\"radius\": 0.2, \"color\": \"grey\"}, \"sphere\": {\"scale\": 0.3, \"colorscheme\": {}}});\n",
       "\tviewer_16668172192921011.zoomTo();\n",
       "viewer_16668172192921011.render();\n",
       "});\n",
       "</script>"
      ]
     },
     "metadata": {},
     "output_type": "display_data"
    },
    {
     "data": {
      "text/plain": [
       "<py3Dmol.view at 0x7f9805fb6f10>"
      ]
     },
     "execution_count": 3,
     "metadata": {},
     "output_type": "execute_result"
    }
   ],
   "source": [
    "slab = mb.load(\"ZnS.mol2\")\n",
    "slab.visualize()"
   ]
  },
  {
   "cell_type": "code",
   "execution_count": 42,
   "id": "6d1e0bb4-8b74-4b67-b70e-e8d7897d4b01",
   "metadata": {},
   "outputs": [
    {
     "data": {
      "text/plain": [
       "<Compound 110 particles, non-periodic, 152 bonds, id: 140696196474144>"
      ]
     },
     "execution_count": 42,
     "metadata": {},
     "output_type": "execute_result"
    }
   ],
   "source": [
    "slab"
   ]
  },
  {
   "cell_type": "code",
   "execution_count": 27,
   "id": "0ca352fe-99e1-41e3-8433-4b3801f2b50a",
   "metadata": {},
   "outputs": [
    {
     "data": {
      "text/plain": [
       "'Zn'"
      ]
     },
     "execution_count": 27,
     "metadata": {},
     "output_type": "execute_result"
    }
   ],
   "source": [
    "slab[0].element.symbol"
   ]
  },
  {
   "cell_type": "code",
   "execution_count": 4,
   "id": "7ea04510-1f4d-48a3-aa39-912a931f44eb",
   "metadata": {},
   "outputs": [
    {
     "name": "stdout",
     "output_type": "stream",
     "text": [
      "0 [0. 0. 0.]\n",
      "1 [0.      0.      0.54503]\n",
      "2 [0.         1.09004998 0.        ]\n",
      "3 [0.         1.09004998 0.54503   ]\n",
      "4 [1.09004998 0.         0.        ]\n",
      "5 [1.09004998 0.         0.54503   ]\n",
      "6 [1.09004998 1.09004998 0.        ]\n",
      "7 [1.09004998 1.09004998 0.54503   ]\n",
      "8 [0.      0.54503 0.     ]\n",
      "9 [0.      0.54503 0.54503]\n",
      "10 [1.09004998 0.54503    0.        ]\n",
      "11 [1.09004998 0.54503    0.54503   ]\n",
      "12 [0.54503 0.      0.     ]\n",
      "13 [0.54503 0.      0.54503]\n",
      "14 [0.54503    1.09004998 0.        ]\n",
      "15 [0.54503    1.09004998 0.54503   ]\n",
      "16 [0.54503 0.54503 0.     ]\n",
      "17 [0.54503 0.54503 0.54503]\n",
      "18 [0.         0.27250999 0.27250999]\n",
      "19 [1.09004998 0.27250999 0.27250999]\n",
      "20 [0.         0.81753999 0.27250999]\n",
      "21 [1.09004998 0.81753999 0.27250999]\n",
      "22 [0.54503    0.27250999 0.27250999]\n",
      "23 [0.54503    0.81753999 0.27250999]\n",
      "24 [0.27250999 0.         0.27250999]\n",
      "25 [0.27250999 1.09004998 0.27250999]\n",
      "26 [0.27250999 0.54503    0.27250999]\n",
      "27 [0.81753999 0.         0.27250999]\n",
      "28 [0.81753999 1.09004998 0.27250999]\n",
      "29 [0.81753999 0.54503    0.27250999]\n",
      "30 [0.27250999 0.27250999 0.        ]\n",
      "31 [0.27250999 0.27250999 0.54503   ]\n",
      "32 [0.27250999 0.81753999 0.        ]\n",
      "33 [0.27250999 0.81753999 0.54503   ]\n",
      "34 [0.81753999 0.27250999 0.        ]\n",
      "35 [0.81753999 0.27250999 0.54503   ]\n",
      "36 [0.81753999 0.81753999 0.        ]\n",
      "37 [0.81753999 0.81753999 0.54503   ]\n",
      "38 [0.13626    0.13626    0.40876999]\n",
      "39 [0.13626    0.68128002 0.40876999]\n",
      "40 [0.68128002 0.13626    0.40876999]\n",
      "41 [0.68128002 0.68128002 0.40876999]\n",
      "42 [0.13626    0.40876999 0.13626   ]\n",
      "43 [0.13626    0.95380002 0.13626   ]\n",
      "44 [0.68128002 0.40876999 0.13626   ]\n",
      "45 [0.68128002 0.95380002 0.13626   ]\n",
      "46 [0.40876999 0.13626    0.13626   ]\n",
      "47 [0.40876999 0.68128002 0.13626   ]\n",
      "48 [0.95380002 0.13626    0.13626   ]\n",
      "49 [0.95380002 0.68128002 0.13626   ]\n",
      "50 [0.40876999 0.40876999 0.40876999]\n",
      "51 [0.40876999 0.95380002 0.40876999]\n",
      "52 [0.95380002 0.40876999 0.40876999]\n",
      "53 [0.95380002 0.95380002 0.40876999]\n",
      "54 [-0.13626 -0.13626 -0.13626]\n",
      "55 [-0.13626  0.13626  0.13626]\n",
      "56 [ 0.13626 -0.13626  0.13626]\n",
      "57 [ 0.13626  0.13626 -0.13626]\n",
      "58 [-0.13626    -0.13626     0.40876999]\n",
      "59 [-0.13626     0.13626     0.68128002]\n",
      "60 [ 0.13626    -0.13626     0.68128002]\n",
      "61 [-0.13626     0.95380002 -0.13626   ]\n",
      "62 [-0.13626     1.22631001  0.13626   ]\n",
      "63 [ 0.13626     1.22631001 -0.13626   ]\n",
      "64 [-0.13626     0.95380002  0.40876999]\n",
      "65 [-0.13626     1.22631001  0.68128002]\n",
      "66 [0.13626    0.95380002 0.68128002]\n",
      "67 [0.13626    1.22631001 0.40876999]\n",
      "68 [ 0.95380002 -0.13626    -0.13626   ]\n",
      "69 [ 1.22631001 -0.13626     0.13626   ]\n",
      "70 [ 1.22631001  0.13626    -0.13626   ]\n",
      "71 [ 0.95380002 -0.13626     0.40876999]\n",
      "72 [0.95380002 0.13626    0.68128002]\n",
      "73 [ 1.22631001 -0.13626     0.68128002]\n",
      "74 [1.22631001 0.13626    0.40876999]\n",
      "75 [ 0.95380002  0.95380002 -0.13626   ]\n",
      "76 [0.95380002 1.22631001 0.13626   ]\n",
      "77 [1.22631001 0.95380002 0.13626   ]\n",
      "78 [ 1.22631001  1.22631001 -0.13626   ]\n",
      "79 [0.95380002 1.22631001 0.68128002]\n",
      "80 [1.22631001 0.95380002 0.68128002]\n",
      "81 [1.22631001 1.22631001 0.40876999]\n",
      "82 [-0.13626     0.40876999 -0.13626   ]\n",
      "83 [-0.13626     0.68128002  0.13626   ]\n",
      "84 [ 0.13626     0.68128002 -0.13626   ]\n",
      "85 [-0.13626     0.40876999  0.40876999]\n",
      "86 [-0.13626     0.68128002  0.68128002]\n",
      "87 [0.13626    0.40876999 0.68128002]\n",
      "88 [ 0.95380002  0.40876999 -0.13626   ]\n",
      "89 [1.22631001 0.40876999 0.13626   ]\n",
      "90 [ 1.22631001  0.68128002 -0.13626   ]\n",
      "91 [0.95380002 0.68128002 0.68128002]\n",
      "92 [1.22631001 0.40876999 0.68128002]\n",
      "93 [1.22631001 0.68128002 0.40876999]\n",
      "94 [ 0.40876999 -0.13626    -0.13626   ]\n",
      "95 [ 0.68128002 -0.13626     0.13626   ]\n",
      "96 [ 0.68128002  0.13626    -0.13626   ]\n",
      "97 [ 0.40876999 -0.13626     0.40876999]\n",
      "98 [0.40876999 0.13626    0.68128002]\n",
      "99 [ 0.68128002 -0.13626     0.68128002]\n",
      "100 [ 0.40876999  0.95380002 -0.13626   ]\n",
      "101 [0.40876999 1.22631001 0.13626   ]\n",
      "102 [ 0.68128002  1.22631001 -0.13626   ]\n",
      "103 [0.40876999 1.22631001 0.68128002]\n",
      "104 [0.68128002 0.95380002 0.68128002]\n",
      "105 [0.68128002 1.22631001 0.40876999]\n",
      "106 [ 0.40876999  0.40876999 -0.13626   ]\n",
      "107 [ 0.68128002  0.68128002 -0.13626   ]\n",
      "108 [0.40876999 0.68128002 0.68128002]\n",
      "109 [0.68128002 0.40876999 0.68128002]\n"
     ]
    }
   ],
   "source": [
    "for i,part in enumerate(slab):\n",
    "    print(i,part.pos)"
   ]
  },
  {
   "cell_type": "code",
   "execution_count": 43,
   "id": "23c9fc9b-7566-48f8-ab26-4f9c1c483703",
   "metadata": {
    "tags": []
   },
   "outputs": [
    {
     "name": "stdout",
     "output_type": "stream",
     "text": [
      "0 [0. 0. 0.]\n",
      "1 [0.      0.      0.54503]\n",
      "2 [0.         1.09004998 0.        ]\n",
      "3 [0.         1.09004998 0.54503   ]\n",
      "4 [1.09004998 0.         0.        ]\n",
      "5 [1.09004998 0.         0.54503   ]\n",
      "6 [1.09004998 1.09004998 0.        ]\n",
      "7 [1.09004998 1.09004998 0.54503   ]\n",
      "8 [0.      0.54503 0.     ]\n",
      "9 [0.      0.54503 0.54503]\n",
      "10 [1.09004998 0.54503    0.        ]\n",
      "11 [1.09004998 0.54503    0.54503   ]\n",
      "12 [0.54503 0.      0.     ]\n",
      "13 [0.54503 0.      0.54503]\n",
      "14 [0.54503    1.09004998 0.        ]\n",
      "15 [0.54503    1.09004998 0.54503   ]\n",
      "16 [0.54503 0.54503 0.     ]\n",
      "17 [0.54503 0.54503 0.54503]\n",
      "18 [0.         0.27250999 0.27250999]\n",
      "19 [1.09004998 0.27250999 0.27250999]\n",
      "20 [0.         0.81753999 0.27250999]\n",
      "21 [1.09004998 0.81753999 0.27250999]\n",
      "22 [0.54503    0.27250999 0.27250999]\n",
      "23 [0.54503    0.81753999 0.27250999]\n",
      "24 [0.27250999 0.         0.27250999]\n",
      "25 [0.27250999 1.09004998 0.27250999]\n",
      "26 [0.27250999 0.54503    0.27250999]\n",
      "27 [0.81753999 0.         0.27250999]\n",
      "28 [0.81753999 1.09004998 0.27250999]\n",
      "29 [0.81753999 0.54503    0.27250999]\n",
      "30 [0.27250999 0.27250999 0.        ]\n",
      "31 [0.27250999 0.27250999 0.54503   ]\n",
      "32 [0.27250999 0.81753999 0.        ]\n",
      "33 [0.27250999 0.81753999 0.54503   ]\n",
      "34 [0.81753999 0.27250999 0.        ]\n",
      "35 [0.81753999 0.27250999 0.54503   ]\n",
      "36 [0.81753999 0.81753999 0.        ]\n",
      "37 [0.81753999 0.81753999 0.54503   ]\n"
     ]
    }
   ],
   "source": [
    "zn_list = []\n",
    "for i,part in enumerate(slab):\n",
    "    if part.element.symbol == 'Zn':\n",
    "        print(i,part.pos)\n",
    "        if round(part.pos[0],3) == round(0,3):\n",
    "            zn_list.append(i)"
   ]
  },
  {
   "cell_type": "code",
   "execution_count": 44,
   "id": "5366b61d-a9e2-415f-a42b-b2983204bea1",
   "metadata": {},
   "outputs": [
    {
     "data": {
      "text/plain": [
       "[0, 1, 2, 3, 8, 9, 18, 20]"
      ]
     },
     "execution_count": 44,
     "metadata": {},
     "output_type": "execute_result"
    }
   ],
   "source": [
    "zn_list"
   ]
  },
  {
   "cell_type": "code",
   "execution_count": 32,
   "id": "5f629ef2-a8d2-44ea-9a29-c03c858fc8b5",
   "metadata": {},
   "outputs": [
    {
     "data": {
      "application/3dmoljs_load.v0": "<div id=\"3dmolviewer_16668167291001842\"  style=\"position: relative; width: 640px; height: 480px\">\n        <p id=\"3dmolwarning_16668167291001842\" style=\"background-color:#ffcccc;color:black\">You appear to be running in JupyterLab (or JavaScript failed to load for some other reason).  You need to install the 3dmol extension: <br>\n        <tt>jupyter labextension install jupyterlab_3dmol</tt></p>\n        </div>\n<script>\n\nvar loadScriptAsync = function(uri){\n  return new Promise((resolve, reject) => {\n    var tag = document.createElement('script');\n    tag.src = uri;\n    tag.async = true;\n    tag.onload = () => {\n      resolve();\n    };\n  var firstScriptTag = document.getElementsByTagName('script')[0];\n  firstScriptTag.parentNode.insertBefore(tag, firstScriptTag);\n});\n};\n\nif(typeof $3Dmolpromise === 'undefined') {\n$3Dmolpromise = null;\n  $3Dmolpromise = loadScriptAsync('https://3dmol.org/build/3Dmol.js');\n}\n\nvar viewer_16668167291001842 = null;\nvar warn = document.getElementById(\"3dmolwarning_16668167291001842\");\nif(warn) {\n    warn.parentNode.removeChild(warn);\n}\n$3Dmolpromise.then(function() {\nviewer_16668167291001842 = $3Dmol.createViewer($(\"#3dmolviewer_16668167291001842\"),{backgroundColor:\"white\"});\nviewer_16668167291001842.zoomTo();\n\tviewer_16668167291001842.addModel(\"@<TRIPOS>MOLECULE\\nRES\\n110 152 1 0 1\\nSMALL\\nNO_CHARGES\\n@<TRIPOS>CRYSIN\\n   18.6257    18.6257    13.1754    90.0000    90.0000    90.0000  1  1\\n@<TRIPOS>ATOM\\n       1 ZN           0.0000     0.0000     0.0000 ZN            1 RES     \\n       2 ZN           0.0000     0.0000     5.4503 ZN            1 RES     \\n       3 ZN           0.0000    10.9005     0.0000 ZN            1 RES     \\n       4 ZN           0.0000    10.9005     5.4503 ZN            1 RES     \\n       5 ZN          10.9005     0.0000     0.0000 ZN            1 RES     \\n       6 ZN          10.9005     0.0000     5.4503 ZN            1 RES     \\n       7 ZN          10.9005    10.9005     0.0000 ZN            1 RES     \\n       8 ZN          10.9005    10.9005     5.4503 ZN            1 RES     \\n       9 ZN           0.0000     5.4503     0.0000 ZN            1 RES     \\n      10 ZN           0.0000     5.4503     5.4503 ZN            1 RES     \\n      11 ZN          10.9005     5.4503     0.0000 ZN            1 RES     \\n      12 ZN          10.9005     5.4503     5.4503 ZN            1 RES     \\n      13 ZN           5.4503     0.0000     0.0000 ZN            1 RES     \\n      14 ZN           5.4503     0.0000     5.4503 ZN            1 RES     \\n      15 ZN           5.4503    10.9005     0.0000 ZN            1 RES     \\n      16 ZN           5.4503    10.9005     5.4503 ZN            1 RES     \\n      17 ZN           5.4503     5.4503     0.0000 ZN            1 RES     \\n      18 ZN           5.4503     5.4503     5.4503 ZN            1 RES     \\n      19 ZN           0.0000     2.7251     2.7251 ZN            1 RES     \\n      20 ZN          10.9005     2.7251     2.7251 ZN            1 RES     \\n      21 ZN           0.0000     8.1754     2.7251 ZN            1 RES     \\n      22 ZN          10.9005     8.1754     2.7251 ZN            1 RES     \\n      23 ZN           5.4503     2.7251     2.7251 ZN            1 RES     \\n      24 ZN           5.4503     8.1754     2.7251 ZN            1 RES     \\n      25 ZN           2.7251     0.0000     2.7251 ZN            1 RES     \\n      26 ZN           2.7251    10.9005     2.7251 ZN            1 RES     \\n      27 ZN           2.7251     5.4503     2.7251 ZN            1 RES     \\n      28 ZN           8.1754     0.0000     2.7251 ZN            1 RES     \\n      29 ZN           8.1754    10.9005     2.7251 ZN            1 RES     \\n      30 ZN           8.1754     5.4503     2.7251 ZN            1 RES     \\n      31 ZN           2.7251     2.7251     0.0000 ZN            1 RES     \\n      32 ZN           2.7251     2.7251     5.4503 ZN            1 RES     \\n      33 ZN           2.7251     8.1754     0.0000 ZN            1 RES     \\n      34 ZN           2.7251     8.1754     5.4503 ZN            1 RES     \\n      35 ZN           8.1754     2.7251     0.0000 ZN            1 RES     \\n      36 ZN           8.1754     2.7251     5.4503 ZN            1 RES     \\n      37 ZN           8.1754     8.1754     0.0000 ZN            1 RES     \\n      38 ZN           8.1754     8.1754     5.4503 ZN            1 RES     \\n      39 S            1.3626     1.3626     4.0877 S             1 RES     \\n      40 S            1.3626     6.8128     4.0877 S             1 RES     \\n      41 S            6.8128     1.3626     4.0877 S             1 RES     \\n      42 S            6.8128     6.8128     4.0877 S             1 RES     \\n      43 S            1.3626     4.0877     1.3626 S             1 RES     \\n      44 S            1.3626     9.5380     1.3626 S             1 RES     \\n      45 S            6.8128     4.0877     1.3626 S             1 RES     \\n      46 S            6.8128     9.5380     1.3626 S             1 RES     \\n      47 S            4.0877     1.3626     1.3626 S             1 RES     \\n      48 S            4.0877     6.8128     1.3626 S             1 RES     \\n      49 S            9.5380     1.3626     1.3626 S             1 RES     \\n      50 S            9.5380     6.8128     1.3626 S             1 RES     \\n      51 S            4.0877     4.0877     4.0877 S             1 RES     \\n      52 S            4.0877     9.5380     4.0877 S             1 RES     \\n      53 S            9.5380     4.0877     4.0877 S             1 RES     \\n      54 S            9.5380     9.5380     4.0877 S             1 RES     \\n      55 S           -1.3626    -1.3626    -1.3626 S             1 RES     \\n      56 S           -1.3626     1.3626     1.3626 S             1 RES     \\n      57 S            1.3626    -1.3626     1.3626 S             1 RES     \\n      58 S            1.3626     1.3626    -1.3626 S             1 RES     \\n      59 S           -1.3626    -1.3626     4.0877 S             1 RES     \\n      60 S           -1.3626     1.3626     6.8128 S             1 RES     \\n      61 S            1.3626    -1.3626     6.8128 S             1 RES     \\n      62 S           -1.3626     9.5380    -1.3626 S             1 RES     \\n      63 S           -1.3626    12.2631     1.3626 S             1 RES     \\n      64 S            1.3626    12.2631    -1.3626 S             1 RES     \\n      65 S           -1.3626     9.5380     4.0877 S             1 RES     \\n      66 S           -1.3626    12.2631     6.8128 S             1 RES     \\n      67 S            1.3626     9.5380     6.8128 S             1 RES     \\n      68 S            1.3626    12.2631     4.0877 S             1 RES     \\n      69 S            9.5380    -1.3626    -1.3626 S             1 RES     \\n      70 S           12.2631    -1.3626     1.3626 S             1 RES     \\n      71 S           12.2631     1.3626    -1.3626 S             1 RES     \\n      72 S            9.5380    -1.3626     4.0877 S             1 RES     \\n      73 S            9.5380     1.3626     6.8128 S             1 RES     \\n      74 S           12.2631    -1.3626     6.8128 S             1 RES     \\n      75 S           12.2631     1.3626     4.0877 S             1 RES     \\n      76 S            9.5380     9.5380    -1.3626 S             1 RES     \\n      77 S            9.5380    12.2631     1.3626 S             1 RES     \\n      78 S           12.2631     9.5380     1.3626 S             1 RES     \\n      79 S           12.2631    12.2631    -1.3626 S             1 RES     \\n      80 S            9.5380    12.2631     6.8128 S             1 RES     \\n      81 S           12.2631     9.5380     6.8128 S             1 RES     \\n      82 S           12.2631    12.2631     4.0877 S             1 RES     \\n      83 S           -1.3626     4.0877    -1.3626 S             1 RES     \\n      84 S           -1.3626     6.8128     1.3626 S             1 RES     \\n      85 S            1.3626     6.8128    -1.3626 S             1 RES     \\n      86 S           -1.3626     4.0877     4.0877 S             1 RES     \\n      87 S           -1.3626     6.8128     6.8128 S             1 RES     \\n      88 S            1.3626     4.0877     6.8128 S             1 RES     \\n      89 S            9.5380     4.0877    -1.3626 S             1 RES     \\n      90 S           12.2631     4.0877     1.3626 S             1 RES     \\n      91 S           12.2631     6.8128    -1.3626 S             1 RES     \\n      92 S            9.5380     6.8128     6.8128 S             1 RES     \\n      93 S           12.2631     4.0877     6.8128 S             1 RES     \\n      94 S           12.2631     6.8128     4.0877 S             1 RES     \\n      95 S            4.0877    -1.3626    -1.3626 S             1 RES     \\n      96 S            6.8128    -1.3626     1.3626 S             1 RES     \\n      97 S            6.8128     1.3626    -1.3626 S             1 RES     \\n      98 S            4.0877    -1.3626     4.0877 S             1 RES     \\n      99 S            4.0877     1.3626     6.8128 S             1 RES     \\n     100 S            6.8128    -1.3626     6.8128 S             1 RES     \\n     101 S            4.0877     9.5380    -1.3626 S             1 RES     \\n     102 S            4.0877    12.2631     1.3626 S             1 RES     \\n     103 S            6.8128    12.2631    -1.3626 S             1 RES     \\n     104 S            4.0877    12.2631     6.8128 S             1 RES     \\n     105 S            6.8128     9.5380     6.8128 S             1 RES     \\n     106 S            6.8128    12.2631     4.0877 S             1 RES     \\n     107 S            4.0877     4.0877    -1.3626 S             1 RES     \\n     108 S            6.8128     6.8128    -1.3626 S             1 RES     \\n     109 S            4.0877     6.8128     6.8128 S             1 RES     \\n     110 S            6.8128     4.0877     6.8128 S             1 RES     \\n@<TRIPOS>BOND\\n       1       33       85 1\\n       2        9       85 1\\n       3      101       33 1\\n       4       44       33 1\\n       5       48       33 1\\n       6       15      101 1\\n       7        3       44 1\\n       8       26       44 1\\n       9       21       44 1\\n      10       17       48 1\\n      11       24       48 1\\n      12       27       48 1\\n      13       83        9 1\\n      14       43        9 1\\n      15       84        9 1\\n      16       31       43 1\\n      17       27       43 1\\n      18       19       43 1\\n      19       21       84 1\\n      20       13       95 1\\n      21       97       13 1\\n      22       47       13 1\\n      23       96       13 1\\n      24       35       97 1\\n      25       31       47 1\\n      26       23       47 1\\n      27       25       47 1\\n      28       28       96 1\\n      29       89       35 1\\n      30       45       35 1\\n      31       49       35 1\\n      32       11       89 1\\n      33       17       45 1\\n      34       23       45 1\\n      35       30       45 1\\n      36        5       49 1\\n      37       28       49 1\\n      38       20       49 1\\n      39       11       91 1\\n      40       50       11 1\\n      41       90       11 1\\n      42       37       50 1\\n      43       30       50 1\\n      44       22       50 1\\n      45       20       90 1\\n      46       37       76 1\\n      47        7       76 1\\n      48      108       37 1\\n      49       46       37 1\\n      50       17      108 1\\n      51       15       46 1\\n      52       24       46 1\\n      53       29       46 1\\n      54       79        7 1\\n      55       78        7 1\\n      56       77        7 1\\n      57       22       78 1\\n      58       29       77 1\\n      59      103       15 1\\n      60      102       15 1\\n      61       26      102 1\\n      62        5       71 1\\n      63       69        5 1\\n      64       70        5 1\\n      65        1       55 1\\n      66       58        1 1\\n      67       56        1 1\\n      68       57        1 1\\n      69       31       58 1\\n      70       19       56 1\\n      71       25       57 1\\n      72      107       31 1\\n      73       17      107 1\\n      74        3       62 1\\n      75       64        3 1\\n      76       63        3 1\\n      77       52       24 1\\n      78       42       24 1\\n      79       54       29 1\\n      80      106       29 1\\n      81       53       30 1\\n      82       42       30 1\\n      83       54       22 1\\n      84       94       22 1\\n      85       51       23 1\\n      86       41       23 1\\n      87       72       28 1\\n      88       41       28 1\\n      89       75       20 1\\n      90       53       20 1\\n      91       68       26 1\\n      92       52       26 1\\n      93       65       21 1\\n      94       40       21 1\\n      95       51       27 1\\n      96       40       27 1\\n      97       39       25 1\\n      98       98       25 1\\n      99       86       19 1\\n     100       39       19 1\\n     101       18       51 1\\n     102       32       51 1\\n     103       36       41 1\\n     104       14       41 1\\n     105       12       53 1\\n     106       36       53 1\\n     107       18       42 1\\n     108       38       42 1\\n     109        4       68 1\\n     110       16       52 1\\n     111       34       52 1\\n     112        4       65 1\\n     113       34       40 1\\n     114       10       40 1\\n     115       38       54 1\\n     116        8       54 1\\n     117       16      106 1\\n     118        2       39 1\\n     119       32       39 1\\n     120       14       98 1\\n     121        6       72 1\\n     122        6       75 1\\n     123       12       94 1\\n     124       10       86 1\\n     125      104       16 1\\n     126      105       16 1\\n     127      109       34 1\\n     128       67       34 1\\n     129      110       18 1\\n     130      109       18 1\\n     131      105       38 1\\n     132       92       38 1\\n     133       99       32 1\\n     134       88       32 1\\n     135      110       36 1\\n     136       73       36 1\\n     137      100       14 1\\n     138       99       14 1\\n     139       59        2 1\\n     140       60        2 1\\n     141       61        2 1\\n     142       66        4 1\\n     143       67        4 1\\n     144       88       10 1\\n     145       87       10 1\\n     146       73        6 1\\n     147       74        6 1\\n     148       82        8 1\\n     149       81        8 1\\n     150       80        8 1\\n     151       93       12 1\\n     152       92       12 1\\n@<TRIPOS>SUBSTRUCTURE\\n       1 RES             1 RESIDUE    0 **** ROOT      0\\n\",\"mol2\");\n\tviewer_16668167291001842.setStyle({\"stick\": {\"radius\": 0.2, \"color\": \"grey\"}, \"sphere\": {\"scale\": 0.3, \"colorscheme\": {}}});\n\tviewer_16668167291001842.zoomTo();\nviewer_16668167291001842.render();\n});\n</script>",
      "text/html": [
       "<div id=\"3dmolviewer_16668167291001842\"  style=\"position: relative; width: 640px; height: 480px\">\n",
       "        <p id=\"3dmolwarning_16668167291001842\" style=\"background-color:#ffcccc;color:black\">You appear to be running in JupyterLab (or JavaScript failed to load for some other reason).  You need to install the 3dmol extension: <br>\n",
       "        <tt>jupyter labextension install jupyterlab_3dmol</tt></p>\n",
       "        </div>\n",
       "<script>\n",
       "\n",
       "var loadScriptAsync = function(uri){\n",
       "  return new Promise((resolve, reject) => {\n",
       "    var tag = document.createElement('script');\n",
       "    tag.src = uri;\n",
       "    tag.async = true;\n",
       "    tag.onload = () => {\n",
       "      resolve();\n",
       "    };\n",
       "  var firstScriptTag = document.getElementsByTagName('script')[0];\n",
       "  firstScriptTag.parentNode.insertBefore(tag, firstScriptTag);\n",
       "});\n",
       "};\n",
       "\n",
       "if(typeof $3Dmolpromise === 'undefined') {\n",
       "$3Dmolpromise = null;\n",
       "  $3Dmolpromise = loadScriptAsync('https://3dmol.org/build/3Dmol.js');\n",
       "}\n",
       "\n",
       "var viewer_16668167291001842 = null;\n",
       "var warn = document.getElementById(\"3dmolwarning_16668167291001842\");\n",
       "if(warn) {\n",
       "    warn.parentNode.removeChild(warn);\n",
       "}\n",
       "$3Dmolpromise.then(function() {\n",
       "viewer_16668167291001842 = $3Dmol.createViewer($(\"#3dmolviewer_16668167291001842\"),{backgroundColor:\"white\"});\n",
       "viewer_16668167291001842.zoomTo();\n",
       "\tviewer_16668167291001842.addModel(\"@<TRIPOS>MOLECULE\\nRES\\n110 152 1 0 1\\nSMALL\\nNO_CHARGES\\n@<TRIPOS>CRYSIN\\n   18.6257    18.6257    13.1754    90.0000    90.0000    90.0000  1  1\\n@<TRIPOS>ATOM\\n       1 ZN           0.0000     0.0000     0.0000 ZN            1 RES     \\n       2 ZN           0.0000     0.0000     5.4503 ZN            1 RES     \\n       3 ZN           0.0000    10.9005     0.0000 ZN            1 RES     \\n       4 ZN           0.0000    10.9005     5.4503 ZN            1 RES     \\n       5 ZN          10.9005     0.0000     0.0000 ZN            1 RES     \\n       6 ZN          10.9005     0.0000     5.4503 ZN            1 RES     \\n       7 ZN          10.9005    10.9005     0.0000 ZN            1 RES     \\n       8 ZN          10.9005    10.9005     5.4503 ZN            1 RES     \\n       9 ZN           0.0000     5.4503     0.0000 ZN            1 RES     \\n      10 ZN           0.0000     5.4503     5.4503 ZN            1 RES     \\n      11 ZN          10.9005     5.4503     0.0000 ZN            1 RES     \\n      12 ZN          10.9005     5.4503     5.4503 ZN            1 RES     \\n      13 ZN           5.4503     0.0000     0.0000 ZN            1 RES     \\n      14 ZN           5.4503     0.0000     5.4503 ZN            1 RES     \\n      15 ZN           5.4503    10.9005     0.0000 ZN            1 RES     \\n      16 ZN           5.4503    10.9005     5.4503 ZN            1 RES     \\n      17 ZN           5.4503     5.4503     0.0000 ZN            1 RES     \\n      18 ZN           5.4503     5.4503     5.4503 ZN            1 RES     \\n      19 ZN           0.0000     2.7251     2.7251 ZN            1 RES     \\n      20 ZN          10.9005     2.7251     2.7251 ZN            1 RES     \\n      21 ZN           0.0000     8.1754     2.7251 ZN            1 RES     \\n      22 ZN          10.9005     8.1754     2.7251 ZN            1 RES     \\n      23 ZN           5.4503     2.7251     2.7251 ZN            1 RES     \\n      24 ZN           5.4503     8.1754     2.7251 ZN            1 RES     \\n      25 ZN           2.7251     0.0000     2.7251 ZN            1 RES     \\n      26 ZN           2.7251    10.9005     2.7251 ZN            1 RES     \\n      27 ZN           2.7251     5.4503     2.7251 ZN            1 RES     \\n      28 ZN           8.1754     0.0000     2.7251 ZN            1 RES     \\n      29 ZN           8.1754    10.9005     2.7251 ZN            1 RES     \\n      30 ZN           8.1754     5.4503     2.7251 ZN            1 RES     \\n      31 ZN           2.7251     2.7251     0.0000 ZN            1 RES     \\n      32 ZN           2.7251     2.7251     5.4503 ZN            1 RES     \\n      33 ZN           2.7251     8.1754     0.0000 ZN            1 RES     \\n      34 ZN           2.7251     8.1754     5.4503 ZN            1 RES     \\n      35 ZN           8.1754     2.7251     0.0000 ZN            1 RES     \\n      36 ZN           8.1754     2.7251     5.4503 ZN            1 RES     \\n      37 ZN           8.1754     8.1754     0.0000 ZN            1 RES     \\n      38 ZN           8.1754     8.1754     5.4503 ZN            1 RES     \\n      39 S            1.3626     1.3626     4.0877 S             1 RES     \\n      40 S            1.3626     6.8128     4.0877 S             1 RES     \\n      41 S            6.8128     1.3626     4.0877 S             1 RES     \\n      42 S            6.8128     6.8128     4.0877 S             1 RES     \\n      43 S            1.3626     4.0877     1.3626 S             1 RES     \\n      44 S            1.3626     9.5380     1.3626 S             1 RES     \\n      45 S            6.8128     4.0877     1.3626 S             1 RES     \\n      46 S            6.8128     9.5380     1.3626 S             1 RES     \\n      47 S            4.0877     1.3626     1.3626 S             1 RES     \\n      48 S            4.0877     6.8128     1.3626 S             1 RES     \\n      49 S            9.5380     1.3626     1.3626 S             1 RES     \\n      50 S            9.5380     6.8128     1.3626 S             1 RES     \\n      51 S            4.0877     4.0877     4.0877 S             1 RES     \\n      52 S            4.0877     9.5380     4.0877 S             1 RES     \\n      53 S            9.5380     4.0877     4.0877 S             1 RES     \\n      54 S            9.5380     9.5380     4.0877 S             1 RES     \\n      55 S           -1.3626    -1.3626    -1.3626 S             1 RES     \\n      56 S           -1.3626     1.3626     1.3626 S             1 RES     \\n      57 S            1.3626    -1.3626     1.3626 S             1 RES     \\n      58 S            1.3626     1.3626    -1.3626 S             1 RES     \\n      59 S           -1.3626    -1.3626     4.0877 S             1 RES     \\n      60 S           -1.3626     1.3626     6.8128 S             1 RES     \\n      61 S            1.3626    -1.3626     6.8128 S             1 RES     \\n      62 S           -1.3626     9.5380    -1.3626 S             1 RES     \\n      63 S           -1.3626    12.2631     1.3626 S             1 RES     \\n      64 S            1.3626    12.2631    -1.3626 S             1 RES     \\n      65 S           -1.3626     9.5380     4.0877 S             1 RES     \\n      66 S           -1.3626    12.2631     6.8128 S             1 RES     \\n      67 S            1.3626     9.5380     6.8128 S             1 RES     \\n      68 S            1.3626    12.2631     4.0877 S             1 RES     \\n      69 S            9.5380    -1.3626    -1.3626 S             1 RES     \\n      70 S           12.2631    -1.3626     1.3626 S             1 RES     \\n      71 S           12.2631     1.3626    -1.3626 S             1 RES     \\n      72 S            9.5380    -1.3626     4.0877 S             1 RES     \\n      73 S            9.5380     1.3626     6.8128 S             1 RES     \\n      74 S           12.2631    -1.3626     6.8128 S             1 RES     \\n      75 S           12.2631     1.3626     4.0877 S             1 RES     \\n      76 S            9.5380     9.5380    -1.3626 S             1 RES     \\n      77 S            9.5380    12.2631     1.3626 S             1 RES     \\n      78 S           12.2631     9.5380     1.3626 S             1 RES     \\n      79 S           12.2631    12.2631    -1.3626 S             1 RES     \\n      80 S            9.5380    12.2631     6.8128 S             1 RES     \\n      81 S           12.2631     9.5380     6.8128 S             1 RES     \\n      82 S           12.2631    12.2631     4.0877 S             1 RES     \\n      83 S           -1.3626     4.0877    -1.3626 S             1 RES     \\n      84 S           -1.3626     6.8128     1.3626 S             1 RES     \\n      85 S            1.3626     6.8128    -1.3626 S             1 RES     \\n      86 S           -1.3626     4.0877     4.0877 S             1 RES     \\n      87 S           -1.3626     6.8128     6.8128 S             1 RES     \\n      88 S            1.3626     4.0877     6.8128 S             1 RES     \\n      89 S            9.5380     4.0877    -1.3626 S             1 RES     \\n      90 S           12.2631     4.0877     1.3626 S             1 RES     \\n      91 S           12.2631     6.8128    -1.3626 S             1 RES     \\n      92 S            9.5380     6.8128     6.8128 S             1 RES     \\n      93 S           12.2631     4.0877     6.8128 S             1 RES     \\n      94 S           12.2631     6.8128     4.0877 S             1 RES     \\n      95 S            4.0877    -1.3626    -1.3626 S             1 RES     \\n      96 S            6.8128    -1.3626     1.3626 S             1 RES     \\n      97 S            6.8128     1.3626    -1.3626 S             1 RES     \\n      98 S            4.0877    -1.3626     4.0877 S             1 RES     \\n      99 S            4.0877     1.3626     6.8128 S             1 RES     \\n     100 S            6.8128    -1.3626     6.8128 S             1 RES     \\n     101 S            4.0877     9.5380    -1.3626 S             1 RES     \\n     102 S            4.0877    12.2631     1.3626 S             1 RES     \\n     103 S            6.8128    12.2631    -1.3626 S             1 RES     \\n     104 S            4.0877    12.2631     6.8128 S             1 RES     \\n     105 S            6.8128     9.5380     6.8128 S             1 RES     \\n     106 S            6.8128    12.2631     4.0877 S             1 RES     \\n     107 S            4.0877     4.0877    -1.3626 S             1 RES     \\n     108 S            6.8128     6.8128    -1.3626 S             1 RES     \\n     109 S            4.0877     6.8128     6.8128 S             1 RES     \\n     110 S            6.8128     4.0877     6.8128 S             1 RES     \\n@<TRIPOS>BOND\\n       1       33       85 1\\n       2        9       85 1\\n       3      101       33 1\\n       4       44       33 1\\n       5       48       33 1\\n       6       15      101 1\\n       7        3       44 1\\n       8       26       44 1\\n       9       21       44 1\\n      10       17       48 1\\n      11       24       48 1\\n      12       27       48 1\\n      13       83        9 1\\n      14       43        9 1\\n      15       84        9 1\\n      16       31       43 1\\n      17       27       43 1\\n      18       19       43 1\\n      19       21       84 1\\n      20       13       95 1\\n      21       97       13 1\\n      22       47       13 1\\n      23       96       13 1\\n      24       35       97 1\\n      25       31       47 1\\n      26       23       47 1\\n      27       25       47 1\\n      28       28       96 1\\n      29       89       35 1\\n      30       45       35 1\\n      31       49       35 1\\n      32       11       89 1\\n      33       17       45 1\\n      34       23       45 1\\n      35       30       45 1\\n      36        5       49 1\\n      37       28       49 1\\n      38       20       49 1\\n      39       11       91 1\\n      40       50       11 1\\n      41       90       11 1\\n      42       37       50 1\\n      43       30       50 1\\n      44       22       50 1\\n      45       20       90 1\\n      46       37       76 1\\n      47        7       76 1\\n      48      108       37 1\\n      49       46       37 1\\n      50       17      108 1\\n      51       15       46 1\\n      52       24       46 1\\n      53       29       46 1\\n      54       79        7 1\\n      55       78        7 1\\n      56       77        7 1\\n      57       22       78 1\\n      58       29       77 1\\n      59      103       15 1\\n      60      102       15 1\\n      61       26      102 1\\n      62        5       71 1\\n      63       69        5 1\\n      64       70        5 1\\n      65        1       55 1\\n      66       58        1 1\\n      67       56        1 1\\n      68       57        1 1\\n      69       31       58 1\\n      70       19       56 1\\n      71       25       57 1\\n      72      107       31 1\\n      73       17      107 1\\n      74        3       62 1\\n      75       64        3 1\\n      76       63        3 1\\n      77       52       24 1\\n      78       42       24 1\\n      79       54       29 1\\n      80      106       29 1\\n      81       53       30 1\\n      82       42       30 1\\n      83       54       22 1\\n      84       94       22 1\\n      85       51       23 1\\n      86       41       23 1\\n      87       72       28 1\\n      88       41       28 1\\n      89       75       20 1\\n      90       53       20 1\\n      91       68       26 1\\n      92       52       26 1\\n      93       65       21 1\\n      94       40       21 1\\n      95       51       27 1\\n      96       40       27 1\\n      97       39       25 1\\n      98       98       25 1\\n      99       86       19 1\\n     100       39       19 1\\n     101       18       51 1\\n     102       32       51 1\\n     103       36       41 1\\n     104       14       41 1\\n     105       12       53 1\\n     106       36       53 1\\n     107       18       42 1\\n     108       38       42 1\\n     109        4       68 1\\n     110       16       52 1\\n     111       34       52 1\\n     112        4       65 1\\n     113       34       40 1\\n     114       10       40 1\\n     115       38       54 1\\n     116        8       54 1\\n     117       16      106 1\\n     118        2       39 1\\n     119       32       39 1\\n     120       14       98 1\\n     121        6       72 1\\n     122        6       75 1\\n     123       12       94 1\\n     124       10       86 1\\n     125      104       16 1\\n     126      105       16 1\\n     127      109       34 1\\n     128       67       34 1\\n     129      110       18 1\\n     130      109       18 1\\n     131      105       38 1\\n     132       92       38 1\\n     133       99       32 1\\n     134       88       32 1\\n     135      110       36 1\\n     136       73       36 1\\n     137      100       14 1\\n     138       99       14 1\\n     139       59        2 1\\n     140       60        2 1\\n     141       61        2 1\\n     142       66        4 1\\n     143       67        4 1\\n     144       88       10 1\\n     145       87       10 1\\n     146       73        6 1\\n     147       74        6 1\\n     148       82        8 1\\n     149       81        8 1\\n     150       80        8 1\\n     151       93       12 1\\n     152       92       12 1\\n@<TRIPOS>SUBSTRUCTURE\\n       1 RES             1 RESIDUE    0 **** ROOT      0\\n\",\"mol2\");\n",
       "\tviewer_16668167291001842.setStyle({\"stick\": {\"radius\": 0.2, \"color\": \"grey\"}, \"sphere\": {\"scale\": 0.3, \"colorscheme\": {}}});\n",
       "\tviewer_16668167291001842.zoomTo();\n",
       "viewer_16668167291001842.render();\n",
       "});\n",
       "</script>"
      ]
     },
     "metadata": {},
     "output_type": "display_data"
    },
    {
     "data": {
      "text/plain": [
       "<py3Dmol.view at 0x7ff6631ec2e0>"
      ]
     },
     "execution_count": 32,
     "metadata": {},
     "output_type": "execute_result"
    }
   ],
   "source": [
    "slab.visualize()"
   ]
  },
  {
   "cell_type": "code",
   "execution_count": 43,
   "id": "127c65fc-cd0a-4e55-93d8-0663872f0a92",
   "metadata": {},
   "outputs": [
    {
     "data": {
      "text/plain": [
       "<Compound 110 particles, non-periodic, 152 bonds, id: 140290881762736>"
      ]
     },
     "execution_count": 43,
     "metadata": {},
     "output_type": "execute_result"
    }
   ],
   "source": [
    "slab = mb.load(\"ZnS.mol2\")\n",
    "slab"
   ]
  },
  {
   "cell_type": "code",
   "execution_count": 23,
   "id": "f83a3c3f-5a83-478c-9017-aeec6081ec3d",
   "metadata": {},
   "outputs": [
    {
     "data": {
      "text/plain": [
       "<S pos=([ 0.6813  0.6813 -0.1363]), 0 bonds, id: 140290889662720>"
      ]
     },
     "execution_count": 23,
     "metadata": {},
     "output_type": "execute_result"
    }
   ],
   "source": [
    "slab[107]"
   ]
  },
  {
   "cell_type": "code",
   "execution_count": 41,
   "id": "fbfcdd69-9fb5-4a12-8071-f175bfdcbde9",
   "metadata": {},
   "outputs": [],
   "source": [
    "# slab.remove(slab[109])\n",
    "# slab.remove(slab[108])\n",
    "# slab.remove(slab[107])\n",
    "#slab.remove(slab[105])\n",
    "#slab.remove(slab[104])\n",
    "slab.remove(slab[103])\n"
   ]
  },
  {
   "cell_type": "code",
   "execution_count": 44,
   "id": "9f37321e-c758-46b8-8504-c084137f1492",
   "metadata": {},
   "outputs": [
    {
     "data": {
      "application/3dmoljs_load.v0": "<div id=\"3dmolviewer_16668177077463567\"  style=\"position: relative; width: 640px; height: 480px\">\n        <p id=\"3dmolwarning_16668177077463567\" style=\"background-color:#ffcccc;color:black\">You appear to be running in JupyterLab (or JavaScript failed to load for some other reason).  You need to install the 3dmol extension: <br>\n        <tt>jupyter labextension install jupyterlab_3dmol</tt></p>\n        </div>\n<script>\n\nvar loadScriptAsync = function(uri){\n  return new Promise((resolve, reject) => {\n    var tag = document.createElement('script');\n    tag.src = uri;\n    tag.async = true;\n    tag.onload = () => {\n      resolve();\n    };\n  var firstScriptTag = document.getElementsByTagName('script')[0];\n  firstScriptTag.parentNode.insertBefore(tag, firstScriptTag);\n});\n};\n\nif(typeof $3Dmolpromise === 'undefined') {\n$3Dmolpromise = null;\n  $3Dmolpromise = loadScriptAsync('https://3dmol.org/build/3Dmol.js');\n}\n\nvar viewer_16668177077463567 = null;\nvar warn = document.getElementById(\"3dmolwarning_16668177077463567\");\nif(warn) {\n    warn.parentNode.removeChild(warn);\n}\n$3Dmolpromise.then(function() {\nviewer_16668177077463567 = $3Dmol.createViewer($(\"#3dmolviewer_16668177077463567\"),{backgroundColor:\"white\"});\nviewer_16668177077463567.zoomTo();\n\tviewer_16668177077463567.addModel(\"@<TRIPOS>MOLECULE\\nRES\\n117 151 2 0 1\\nBIOPOLYMER\\nNO_CHARGES\\n@<TRIPOS>CRYSIN\\n   18.6257    18.6257    13.1754    90.0000    90.0000    90.0000  1  1\\n@<TRIPOS>ATOM\\n       1 ZN           0.0000     0.0000     0.0000 ZN            1 RES     \\n       2 ZN           0.0000     0.0000     5.4503 ZN            1 RES     \\n       3 ZN           0.0000    10.9005     0.0000 ZN            1 RES     \\n       4 ZN           0.0000    10.9005     5.4503 ZN            1 RES     \\n       5 ZN          10.9005     0.0000     0.0000 ZN            1 RES     \\n       6 ZN          10.9005     0.0000     5.4503 ZN            1 RES     \\n       7 ZN          10.9005    10.9005     0.0000 ZN            1 RES     \\n       8 ZN          10.9005    10.9005     5.4503 ZN            1 RES     \\n       9 ZN           0.0000     5.4503     0.0000 ZN            1 RES     \\n      10 ZN           0.0000     5.4503     5.4503 ZN            1 RES     \\n      11 ZN          10.9005     5.4503     0.0000 ZN            1 RES     \\n      12 ZN          10.9005     5.4503     5.4503 ZN            1 RES     \\n      13 ZN           5.4503     0.0000     0.0000 ZN            1 RES     \\n      14 ZN           5.4503     0.0000     5.4503 ZN            1 RES     \\n      15 ZN           5.4503    10.9005     0.0000 ZN            1 RES     \\n      16 ZN           5.4503    10.9005     5.4503 ZN            1 RES     \\n      17 ZN           5.4503     5.4503     0.0000 ZN            1 RES     \\n      18 ZN           5.4503     5.4503     5.4503 ZN            1 RES     \\n      19 ZN           0.0000     2.7251     2.7251 ZN            1 RES     \\n      20 ZN          10.9005     2.7251     2.7251 ZN            1 RES     \\n      21 ZN           0.0000     8.1754     2.7251 ZN            1 RES     \\n      22 ZN          10.9005     8.1754     2.7251 ZN            1 RES     \\n      23 ZN           5.4503     2.7251     2.7251 ZN            1 RES     \\n      24 ZN           5.4503     8.1754     2.7251 ZN            1 RES     \\n      25 ZN           2.7251     0.0000     2.7251 ZN            1 RES     \\n      26 ZN           2.7251    10.9005     2.7251 ZN            1 RES     \\n      27 ZN           2.7251     5.4503     2.7251 ZN            1 RES     \\n      28 ZN           8.1754     0.0000     2.7251 ZN            1 RES     \\n      29 ZN           8.1754    10.9005     2.7251 ZN            1 RES     \\n      30 ZN           8.1754     5.4503     2.7251 ZN            1 RES     \\n      31 ZN           2.7251     2.7251     0.0000 ZN            1 RES     \\n      32 ZN           2.7251     2.7251     5.4503 ZN            1 RES     \\n      33 ZN           2.7251     8.1754     0.0000 ZN            1 RES     \\n      34 ZN           2.7251     8.1754     5.4503 ZN            1 RES     \\n      35 ZN           8.1754     2.7251     0.0000 ZN            1 RES     \\n      36 ZN           8.1754     2.7251     5.4503 ZN            1 RES     \\n      37 ZN           8.1754     8.1754     0.0000 ZN            1 RES     \\n      38 ZN           8.1754     8.1754     5.4503 ZN            1 RES     \\n      39 S            1.3626     1.3626     4.0877 S             1 RES     \\n      40 S            1.3626     6.8128     4.0877 S             1 RES     \\n      41 S            6.8128     1.3626     4.0877 S             1 RES     \\n      42 S            6.8128     6.8128     4.0877 S             1 RES     \\n      43 S            1.3626     4.0877     1.3626 S             1 RES     \\n      44 S            1.3626     9.5380     1.3626 S             1 RES     \\n      45 S            6.8128     4.0877     1.3626 S             1 RES     \\n      46 S            6.8128     9.5380     1.3626 S             1 RES     \\n      47 S            4.0877     1.3626     1.3626 S             1 RES     \\n      48 S            4.0877     6.8128     1.3626 S             1 RES     \\n      49 S            9.5380     1.3626     1.3626 S             1 RES     \\n      50 S            9.5380     6.8128     1.3626 S             1 RES     \\n      51 S            4.0877     4.0877     4.0877 S             1 RES     \\n      52 S            4.0877     9.5380     4.0877 S             1 RES     \\n      53 S            9.5380     4.0877     4.0877 S             1 RES     \\n      54 S            9.5380     9.5380     4.0877 S             1 RES     \\n      55 S           -1.3626    -1.3626    -1.3626 S             1 RES     \\n      56 S           -1.3626     1.3626     1.3626 S             1 RES     \\n      57 S            1.3626    -1.3626     1.3626 S             1 RES     \\n      58 S            1.3626     1.3626    -1.3626 S             1 RES     \\n      59 S           -1.3626    -1.3626     4.0877 S             1 RES     \\n      60 S           -1.3626     1.3626     6.8128 S             1 RES     \\n      61 S            1.3626    -1.3626     6.8128 S             1 RES     \\n      62 S           -1.3626     9.5380    -1.3626 S             1 RES     \\n      63 S           -1.3626    12.2631     1.3626 S             1 RES     \\n      64 S            1.3626    12.2631    -1.3626 S             1 RES     \\n      65 S           -1.3626     9.5380     4.0877 S             1 RES     \\n      66 S           -1.3626    12.2631     6.8128 S             1 RES     \\n      67 S            1.3626     9.5380     6.8128 S             1 RES     \\n      68 S            1.3626    12.2631     4.0877 S             1 RES     \\n      69 S            9.5380    -1.3626    -1.3626 S             1 RES     \\n      70 S           12.2631    -1.3626     1.3626 S             1 RES     \\n      71 S           12.2631     1.3626    -1.3626 S             1 RES     \\n      72 S            9.5380    -1.3626     4.0877 S             1 RES     \\n      73 S            9.5380     1.3626     6.8128 S             1 RES     \\n      74 S           12.2631    -1.3626     6.8128 S             1 RES     \\n      75 S           12.2631     1.3626     4.0877 S             1 RES     \\n      76 S            9.5380     9.5380    -1.3626 S             1 RES     \\n      77 S            9.5380    12.2631     1.3626 S             1 RES     \\n      78 S           12.2631     9.5380     1.3626 S             1 RES     \\n      79 S           12.2631    12.2631    -1.3626 S             1 RES     \\n      80 S            9.5380    12.2631     6.8128 S             1 RES     \\n      81 S           12.2631     9.5380     6.8128 S             1 RES     \\n      82 S           12.2631    12.2631     4.0877 S             1 RES     \\n      83 S           -1.3626     4.0877    -1.3626 S             1 RES     \\n      84 S           -1.3626     6.8128     1.3626 S             1 RES     \\n      85 S            1.3626     6.8128    -1.3626 S             1 RES     \\n      86 S           -1.3626     4.0877     4.0877 S             1 RES     \\n      87 S           -1.3626     6.8128     6.8128 S             1 RES     \\n      88 S            1.3626     4.0877     6.8128 S             1 RES     \\n      89 S            9.5380     4.0877    -1.3626 S             1 RES     \\n      90 S           12.2631     4.0877     1.3626 S             1 RES     \\n      91 S           12.2631     6.8128    -1.3626 S             1 RES     \\n      92 S            9.5380     6.8128     6.8128 S             1 RES     \\n      93 S           12.2631     4.0877     6.8128 S             1 RES     \\n      94 S           12.2631     6.8128     4.0877 S             1 RES     \\n      95 S            4.0877    -1.3626    -1.3626 S             1 RES     \\n      96 S            6.8128    -1.3626     1.3626 S             1 RES     \\n      97 S            6.8128     1.3626    -1.3626 S             1 RES     \\n      98 S            4.0877    -1.3626     4.0877 S             1 RES     \\n      99 S            4.0877     1.3626     6.8128 S             1 RES     \\n     100 S            6.8128    -1.3626     6.8128 S             1 RES     \\n     101 S            4.0877     9.5380    -1.3626 S             1 RES     \\n     102 S            4.0877    12.2631     1.3626 S             1 RES     \\n     103 S            6.8128    12.2631    -1.3626 S             1 RES     \\n     104 S            6.8128     9.5380     6.8128 S             1 RES     \\n     105 S            6.8128    12.2631     4.0877 S             1 RES     \\n     106 S            4.0877     4.0877    -1.3626 S             1 RES     \\n     107 S            6.8128     6.8128    -1.3626 S             1 RES     \\n     108 S            4.0877     6.8128     6.8128 S             1 RES     \\n     109 S            6.8128     4.0877     6.8128 S             1 RES     \\n     110 VS           4.7887    11.6395     6.1368 VS            2 PRT     \\n     111 VS           4.6732    11.7550     6.2523 VS            2 PRT     \\n     112 VS           4.6887    11.4663     6.0368 VS            2 PRT     \\n     113 VS           4.9253    11.4663     6.1002 VS            2 PRT     \\n     114 VS           4.7743    11.5241     6.1513 VS            2 PRT     \\n     115 VS           4.8898    11.4086     6.0358 VS            2 PRT     \\n     116 VS           4.6743    11.6973     6.0513 VS            2 PRT     \\n     117 VS           4.7377    11.6973     6.2879 VS            2 PRT     \\n@<TRIPOS>BOND\\n       1       33       85 1\\n       2        9       85 1\\n       3      101       33 1\\n       4       44       33 1\\n       5       48       33 1\\n       6       15      101 1\\n       7        3       44 1\\n       8       26       44 1\\n       9       21       44 1\\n      10       17       48 1\\n      11       24       48 1\\n      12       27       48 1\\n      13       83        9 1\\n      14       43        9 1\\n      15       84        9 1\\n      16       31       43 1\\n      17       27       43 1\\n      18       19       43 1\\n      19       21       84 1\\n      20       13       95 1\\n      21       97       13 1\\n      22       47       13 1\\n      23       96       13 1\\n      24       35       97 1\\n      25       31       47 1\\n      26       23       47 1\\n      27       25       47 1\\n      28       28       96 1\\n      29       89       35 1\\n      30       45       35 1\\n      31       49       35 1\\n      32       11       89 1\\n      33       17       45 1\\n      34       23       45 1\\n      35       30       45 1\\n      36        5       49 1\\n      37       28       49 1\\n      38       20       49 1\\n      39       11       91 1\\n      40       50       11 1\\n      41       90       11 1\\n      42       37       50 1\\n      43       30       50 1\\n      44       22       50 1\\n      45       20       90 1\\n      46       37       76 1\\n      47        7       76 1\\n      48      107       37 1\\n      49       46       37 1\\n      50       17      107 1\\n      51       15       46 1\\n      52       24       46 1\\n      53       29       46 1\\n      54       79        7 1\\n      55       78        7 1\\n      56       77        7 1\\n      57       22       78 1\\n      58       29       77 1\\n      59      103       15 1\\n      60      102       15 1\\n      61       26      102 1\\n      62        5       71 1\\n      63       69        5 1\\n      64       70        5 1\\n      65        1       55 1\\n      66       58        1 1\\n      67       56        1 1\\n      68       57        1 1\\n      69       31       58 1\\n      70       19       56 1\\n      71       25       57 1\\n      72      106       31 1\\n      73       17      106 1\\n      74        3       62 1\\n      75       64        3 1\\n      76       63        3 1\\n      77       52       24 1\\n      78       42       24 1\\n      79       54       29 1\\n      80      105       29 1\\n      81       53       30 1\\n      82       42       30 1\\n      83       54       22 1\\n      84       94       22 1\\n      85       51       23 1\\n      86       41       23 1\\n      87       72       28 1\\n      88       41       28 1\\n      89       75       20 1\\n      90       53       20 1\\n      91       68       26 1\\n      92       52       26 1\\n      93       65       21 1\\n      94       40       21 1\\n      95       51       27 1\\n      96       40       27 1\\n      97       39       25 1\\n      98       98       25 1\\n      99       86       19 1\\n     100       39       19 1\\n     101       18       51 1\\n     102       32       51 1\\n     103       36       41 1\\n     104       14       41 1\\n     105       12       53 1\\n     106       36       53 1\\n     107       18       42 1\\n     108       38       42 1\\n     109        4       68 1\\n     110       16       52 1\\n     111       34       52 1\\n     112        4       65 1\\n     113       34       40 1\\n     114       10       40 1\\n     115       38       54 1\\n     116        8       54 1\\n     117       16      105 1\\n     118        2       39 1\\n     119       32       39 1\\n     120       14       98 1\\n     121        6       72 1\\n     122        6       75 1\\n     123       12       94 1\\n     124       10       86 1\\n     125      104       16 1\\n     126      108       34 1\\n     127       67       34 1\\n     128      109       18 1\\n     129      108       18 1\\n     130      104       38 1\\n     131       92       38 1\\n     132       99       32 1\\n     133       88       32 1\\n     134      109       36 1\\n     135       73       36 1\\n     136      100       14 1\\n     137       99       14 1\\n     138       59        2 1\\n     139       60        2 1\\n     140       61        2 1\\n     141       66        4 1\\n     142       67        4 1\\n     143       88       10 1\\n     144       87       10 1\\n     145       73        6 1\\n     146       74        6 1\\n     147       82        8 1\\n     148       81        8 1\\n     149       80        8 1\\n     150       93       12 1\\n     151       92       12 1\\n@<TRIPOS>SUBSTRUCTURE\\n       1 RES             1 RESIDUE    0 **** ROOT      0\\n       2 PRT           110 RESIDUE    0 **** ROOT      0\\n\",\"mol2\");\n\tviewer_16668177077463567.setStyle({\"stick\": {\"radius\": 0.2, \"color\": \"grey\"}, \"sphere\": {\"scale\": 0.3, \"colorscheme\": {}}});\n\tviewer_16668177077463567.zoomTo();\nviewer_16668177077463567.render();\n});\n</script>",
      "text/html": [
       "<div id=\"3dmolviewer_16668177077463567\"  style=\"position: relative; width: 640px; height: 480px\">\n",
       "        <p id=\"3dmolwarning_16668177077463567\" style=\"background-color:#ffcccc;color:black\">You appear to be running in JupyterLab (or JavaScript failed to load for some other reason).  You need to install the 3dmol extension: <br>\n",
       "        <tt>jupyter labextension install jupyterlab_3dmol</tt></p>\n",
       "        </div>\n",
       "<script>\n",
       "\n",
       "var loadScriptAsync = function(uri){\n",
       "  return new Promise((resolve, reject) => {\n",
       "    var tag = document.createElement('script');\n",
       "    tag.src = uri;\n",
       "    tag.async = true;\n",
       "    tag.onload = () => {\n",
       "      resolve();\n",
       "    };\n",
       "  var firstScriptTag = document.getElementsByTagName('script')[0];\n",
       "  firstScriptTag.parentNode.insertBefore(tag, firstScriptTag);\n",
       "});\n",
       "};\n",
       "\n",
       "if(typeof $3Dmolpromise === 'undefined') {\n",
       "$3Dmolpromise = null;\n",
       "  $3Dmolpromise = loadScriptAsync('https://3dmol.org/build/3Dmol.js');\n",
       "}\n",
       "\n",
       "var viewer_16668177077463567 = null;\n",
       "var warn = document.getElementById(\"3dmolwarning_16668177077463567\");\n",
       "if(warn) {\n",
       "    warn.parentNode.removeChild(warn);\n",
       "}\n",
       "$3Dmolpromise.then(function() {\n",
       "viewer_16668177077463567 = $3Dmol.createViewer($(\"#3dmolviewer_16668177077463567\"),{backgroundColor:\"white\"});\n",
       "viewer_16668177077463567.zoomTo();\n",
       "\tviewer_16668177077463567.addModel(\"@<TRIPOS>MOLECULE\\nRES\\n117 151 2 0 1\\nBIOPOLYMER\\nNO_CHARGES\\n@<TRIPOS>CRYSIN\\n   18.6257    18.6257    13.1754    90.0000    90.0000    90.0000  1  1\\n@<TRIPOS>ATOM\\n       1 ZN           0.0000     0.0000     0.0000 ZN            1 RES     \\n       2 ZN           0.0000     0.0000     5.4503 ZN            1 RES     \\n       3 ZN           0.0000    10.9005     0.0000 ZN            1 RES     \\n       4 ZN           0.0000    10.9005     5.4503 ZN            1 RES     \\n       5 ZN          10.9005     0.0000     0.0000 ZN            1 RES     \\n       6 ZN          10.9005     0.0000     5.4503 ZN            1 RES     \\n       7 ZN          10.9005    10.9005     0.0000 ZN            1 RES     \\n       8 ZN          10.9005    10.9005     5.4503 ZN            1 RES     \\n       9 ZN           0.0000     5.4503     0.0000 ZN            1 RES     \\n      10 ZN           0.0000     5.4503     5.4503 ZN            1 RES     \\n      11 ZN          10.9005     5.4503     0.0000 ZN            1 RES     \\n      12 ZN          10.9005     5.4503     5.4503 ZN            1 RES     \\n      13 ZN           5.4503     0.0000     0.0000 ZN            1 RES     \\n      14 ZN           5.4503     0.0000     5.4503 ZN            1 RES     \\n      15 ZN           5.4503    10.9005     0.0000 ZN            1 RES     \\n      16 ZN           5.4503    10.9005     5.4503 ZN            1 RES     \\n      17 ZN           5.4503     5.4503     0.0000 ZN            1 RES     \\n      18 ZN           5.4503     5.4503     5.4503 ZN            1 RES     \\n      19 ZN           0.0000     2.7251     2.7251 ZN            1 RES     \\n      20 ZN          10.9005     2.7251     2.7251 ZN            1 RES     \\n      21 ZN           0.0000     8.1754     2.7251 ZN            1 RES     \\n      22 ZN          10.9005     8.1754     2.7251 ZN            1 RES     \\n      23 ZN           5.4503     2.7251     2.7251 ZN            1 RES     \\n      24 ZN           5.4503     8.1754     2.7251 ZN            1 RES     \\n      25 ZN           2.7251     0.0000     2.7251 ZN            1 RES     \\n      26 ZN           2.7251    10.9005     2.7251 ZN            1 RES     \\n      27 ZN           2.7251     5.4503     2.7251 ZN            1 RES     \\n      28 ZN           8.1754     0.0000     2.7251 ZN            1 RES     \\n      29 ZN           8.1754    10.9005     2.7251 ZN            1 RES     \\n      30 ZN           8.1754     5.4503     2.7251 ZN            1 RES     \\n      31 ZN           2.7251     2.7251     0.0000 ZN            1 RES     \\n      32 ZN           2.7251     2.7251     5.4503 ZN            1 RES     \\n      33 ZN           2.7251     8.1754     0.0000 ZN            1 RES     \\n      34 ZN           2.7251     8.1754     5.4503 ZN            1 RES     \\n      35 ZN           8.1754     2.7251     0.0000 ZN            1 RES     \\n      36 ZN           8.1754     2.7251     5.4503 ZN            1 RES     \\n      37 ZN           8.1754     8.1754     0.0000 ZN            1 RES     \\n      38 ZN           8.1754     8.1754     5.4503 ZN            1 RES     \\n      39 S            1.3626     1.3626     4.0877 S             1 RES     \\n      40 S            1.3626     6.8128     4.0877 S             1 RES     \\n      41 S            6.8128     1.3626     4.0877 S             1 RES     \\n      42 S            6.8128     6.8128     4.0877 S             1 RES     \\n      43 S            1.3626     4.0877     1.3626 S             1 RES     \\n      44 S            1.3626     9.5380     1.3626 S             1 RES     \\n      45 S            6.8128     4.0877     1.3626 S             1 RES     \\n      46 S            6.8128     9.5380     1.3626 S             1 RES     \\n      47 S            4.0877     1.3626     1.3626 S             1 RES     \\n      48 S            4.0877     6.8128     1.3626 S             1 RES     \\n      49 S            9.5380     1.3626     1.3626 S             1 RES     \\n      50 S            9.5380     6.8128     1.3626 S             1 RES     \\n      51 S            4.0877     4.0877     4.0877 S             1 RES     \\n      52 S            4.0877     9.5380     4.0877 S             1 RES     \\n      53 S            9.5380     4.0877     4.0877 S             1 RES     \\n      54 S            9.5380     9.5380     4.0877 S             1 RES     \\n      55 S           -1.3626    -1.3626    -1.3626 S             1 RES     \\n      56 S           -1.3626     1.3626     1.3626 S             1 RES     \\n      57 S            1.3626    -1.3626     1.3626 S             1 RES     \\n      58 S            1.3626     1.3626    -1.3626 S             1 RES     \\n      59 S           -1.3626    -1.3626     4.0877 S             1 RES     \\n      60 S           -1.3626     1.3626     6.8128 S             1 RES     \\n      61 S            1.3626    -1.3626     6.8128 S             1 RES     \\n      62 S           -1.3626     9.5380    -1.3626 S             1 RES     \\n      63 S           -1.3626    12.2631     1.3626 S             1 RES     \\n      64 S            1.3626    12.2631    -1.3626 S             1 RES     \\n      65 S           -1.3626     9.5380     4.0877 S             1 RES     \\n      66 S           -1.3626    12.2631     6.8128 S             1 RES     \\n      67 S            1.3626     9.5380     6.8128 S             1 RES     \\n      68 S            1.3626    12.2631     4.0877 S             1 RES     \\n      69 S            9.5380    -1.3626    -1.3626 S             1 RES     \\n      70 S           12.2631    -1.3626     1.3626 S             1 RES     \\n      71 S           12.2631     1.3626    -1.3626 S             1 RES     \\n      72 S            9.5380    -1.3626     4.0877 S             1 RES     \\n      73 S            9.5380     1.3626     6.8128 S             1 RES     \\n      74 S           12.2631    -1.3626     6.8128 S             1 RES     \\n      75 S           12.2631     1.3626     4.0877 S             1 RES     \\n      76 S            9.5380     9.5380    -1.3626 S             1 RES     \\n      77 S            9.5380    12.2631     1.3626 S             1 RES     \\n      78 S           12.2631     9.5380     1.3626 S             1 RES     \\n      79 S           12.2631    12.2631    -1.3626 S             1 RES     \\n      80 S            9.5380    12.2631     6.8128 S             1 RES     \\n      81 S           12.2631     9.5380     6.8128 S             1 RES     \\n      82 S           12.2631    12.2631     4.0877 S             1 RES     \\n      83 S           -1.3626     4.0877    -1.3626 S             1 RES     \\n      84 S           -1.3626     6.8128     1.3626 S             1 RES     \\n      85 S            1.3626     6.8128    -1.3626 S             1 RES     \\n      86 S           -1.3626     4.0877     4.0877 S             1 RES     \\n      87 S           -1.3626     6.8128     6.8128 S             1 RES     \\n      88 S            1.3626     4.0877     6.8128 S             1 RES     \\n      89 S            9.5380     4.0877    -1.3626 S             1 RES     \\n      90 S           12.2631     4.0877     1.3626 S             1 RES     \\n      91 S           12.2631     6.8128    -1.3626 S             1 RES     \\n      92 S            9.5380     6.8128     6.8128 S             1 RES     \\n      93 S           12.2631     4.0877     6.8128 S             1 RES     \\n      94 S           12.2631     6.8128     4.0877 S             1 RES     \\n      95 S            4.0877    -1.3626    -1.3626 S             1 RES     \\n      96 S            6.8128    -1.3626     1.3626 S             1 RES     \\n      97 S            6.8128     1.3626    -1.3626 S             1 RES     \\n      98 S            4.0877    -1.3626     4.0877 S             1 RES     \\n      99 S            4.0877     1.3626     6.8128 S             1 RES     \\n     100 S            6.8128    -1.3626     6.8128 S             1 RES     \\n     101 S            4.0877     9.5380    -1.3626 S             1 RES     \\n     102 S            4.0877    12.2631     1.3626 S             1 RES     \\n     103 S            6.8128    12.2631    -1.3626 S             1 RES     \\n     104 S            6.8128     9.5380     6.8128 S             1 RES     \\n     105 S            6.8128    12.2631     4.0877 S             1 RES     \\n     106 S            4.0877     4.0877    -1.3626 S             1 RES     \\n     107 S            6.8128     6.8128    -1.3626 S             1 RES     \\n     108 S            4.0877     6.8128     6.8128 S             1 RES     \\n     109 S            6.8128     4.0877     6.8128 S             1 RES     \\n     110 VS           4.7887    11.6395     6.1368 VS            2 PRT     \\n     111 VS           4.6732    11.7550     6.2523 VS            2 PRT     \\n     112 VS           4.6887    11.4663     6.0368 VS            2 PRT     \\n     113 VS           4.9253    11.4663     6.1002 VS            2 PRT     \\n     114 VS           4.7743    11.5241     6.1513 VS            2 PRT     \\n     115 VS           4.8898    11.4086     6.0358 VS            2 PRT     \\n     116 VS           4.6743    11.6973     6.0513 VS            2 PRT     \\n     117 VS           4.7377    11.6973     6.2879 VS            2 PRT     \\n@<TRIPOS>BOND\\n       1       33       85 1\\n       2        9       85 1\\n       3      101       33 1\\n       4       44       33 1\\n       5       48       33 1\\n       6       15      101 1\\n       7        3       44 1\\n       8       26       44 1\\n       9       21       44 1\\n      10       17       48 1\\n      11       24       48 1\\n      12       27       48 1\\n      13       83        9 1\\n      14       43        9 1\\n      15       84        9 1\\n      16       31       43 1\\n      17       27       43 1\\n      18       19       43 1\\n      19       21       84 1\\n      20       13       95 1\\n      21       97       13 1\\n      22       47       13 1\\n      23       96       13 1\\n      24       35       97 1\\n      25       31       47 1\\n      26       23       47 1\\n      27       25       47 1\\n      28       28       96 1\\n      29       89       35 1\\n      30       45       35 1\\n      31       49       35 1\\n      32       11       89 1\\n      33       17       45 1\\n      34       23       45 1\\n      35       30       45 1\\n      36        5       49 1\\n      37       28       49 1\\n      38       20       49 1\\n      39       11       91 1\\n      40       50       11 1\\n      41       90       11 1\\n      42       37       50 1\\n      43       30       50 1\\n      44       22       50 1\\n      45       20       90 1\\n      46       37       76 1\\n      47        7       76 1\\n      48      107       37 1\\n      49       46       37 1\\n      50       17      107 1\\n      51       15       46 1\\n      52       24       46 1\\n      53       29       46 1\\n      54       79        7 1\\n      55       78        7 1\\n      56       77        7 1\\n      57       22       78 1\\n      58       29       77 1\\n      59      103       15 1\\n      60      102       15 1\\n      61       26      102 1\\n      62        5       71 1\\n      63       69        5 1\\n      64       70        5 1\\n      65        1       55 1\\n      66       58        1 1\\n      67       56        1 1\\n      68       57        1 1\\n      69       31       58 1\\n      70       19       56 1\\n      71       25       57 1\\n      72      106       31 1\\n      73       17      106 1\\n      74        3       62 1\\n      75       64        3 1\\n      76       63        3 1\\n      77       52       24 1\\n      78       42       24 1\\n      79       54       29 1\\n      80      105       29 1\\n      81       53       30 1\\n      82       42       30 1\\n      83       54       22 1\\n      84       94       22 1\\n      85       51       23 1\\n      86       41       23 1\\n      87       72       28 1\\n      88       41       28 1\\n      89       75       20 1\\n      90       53       20 1\\n      91       68       26 1\\n      92       52       26 1\\n      93       65       21 1\\n      94       40       21 1\\n      95       51       27 1\\n      96       40       27 1\\n      97       39       25 1\\n      98       98       25 1\\n      99       86       19 1\\n     100       39       19 1\\n     101       18       51 1\\n     102       32       51 1\\n     103       36       41 1\\n     104       14       41 1\\n     105       12       53 1\\n     106       36       53 1\\n     107       18       42 1\\n     108       38       42 1\\n     109        4       68 1\\n     110       16       52 1\\n     111       34       52 1\\n     112        4       65 1\\n     113       34       40 1\\n     114       10       40 1\\n     115       38       54 1\\n     116        8       54 1\\n     117       16      105 1\\n     118        2       39 1\\n     119       32       39 1\\n     120       14       98 1\\n     121        6       72 1\\n     122        6       75 1\\n     123       12       94 1\\n     124       10       86 1\\n     125      104       16 1\\n     126      108       34 1\\n     127       67       34 1\\n     128      109       18 1\\n     129      108       18 1\\n     130      104       38 1\\n     131       92       38 1\\n     132       99       32 1\\n     133       88       32 1\\n     134      109       36 1\\n     135       73       36 1\\n     136      100       14 1\\n     137       99       14 1\\n     138       59        2 1\\n     139       60        2 1\\n     140       61        2 1\\n     141       66        4 1\\n     142       67        4 1\\n     143       88       10 1\\n     144       87       10 1\\n     145       73        6 1\\n     146       74        6 1\\n     147       82        8 1\\n     148       81        8 1\\n     149       80        8 1\\n     150       93       12 1\\n     151       92       12 1\\n@<TRIPOS>SUBSTRUCTURE\\n       1 RES             1 RESIDUE    0 **** ROOT      0\\n       2 PRT           110 RESIDUE    0 **** ROOT      0\\n\",\"mol2\");\n",
       "\tviewer_16668177077463567.setStyle({\"stick\": {\"radius\": 0.2, \"color\": \"grey\"}, \"sphere\": {\"scale\": 0.3, \"colorscheme\": {}}});\n",
       "\tviewer_16668177077463567.zoomTo();\n",
       "viewer_16668177077463567.render();\n",
       "});\n",
       "</script>"
      ]
     },
     "metadata": {},
     "output_type": "display_data"
    },
    {
     "data": {
      "text/plain": [
       "<py3Dmol.view at 0x7f98041f81f0>"
      ]
     },
     "execution_count": 44,
     "metadata": {},
     "output_type": "execute_result"
    }
   ],
   "source": [
    "slab.remove(slab[103])\n",
    "slab.visualize(show_ports=True)"
   ]
  },
  {
   "cell_type": "code",
   "execution_count": 45,
   "id": "f01c7a83-fdc3-40bf-9bf4-a87991ecd2a1",
   "metadata": {},
   "outputs": [
    {
     "data": {
      "application/3dmoljs_load.v0": "<div id=\"3dmolviewer_16668177178719947\"  style=\"position: relative; width: 640px; height: 480px\">\n        <p id=\"3dmolwarning_16668177178719947\" style=\"background-color:#ffcccc;color:black\">You appear to be running in JupyterLab (or JavaScript failed to load for some other reason).  You need to install the 3dmol extension: <br>\n        <tt>jupyter labextension install jupyterlab_3dmol</tt></p>\n        </div>\n<script>\n\nvar loadScriptAsync = function(uri){\n  return new Promise((resolve, reject) => {\n    var tag = document.createElement('script');\n    tag.src = uri;\n    tag.async = true;\n    tag.onload = () => {\n      resolve();\n    };\n  var firstScriptTag = document.getElementsByTagName('script')[0];\n  firstScriptTag.parentNode.insertBefore(tag, firstScriptTag);\n});\n};\n\nif(typeof $3Dmolpromise === 'undefined') {\n$3Dmolpromise = null;\n  $3Dmolpromise = loadScriptAsync('https://3dmol.org/build/3Dmol.js');\n}\n\nvar viewer_16668177178719947 = null;\nvar warn = document.getElementById(\"3dmolwarning_16668177178719947\");\nif(warn) {\n    warn.parentNode.removeChild(warn);\n}\n$3Dmolpromise.then(function() {\nviewer_16668177178719947 = $3Dmol.createViewer($(\"#3dmolviewer_16668177178719947\"),{backgroundColor:\"white\"});\nviewer_16668177178719947.zoomTo();\n\tviewer_16668177178719947.addModel(\"@<TRIPOS>MOLECULE\\nRES\\n132 149 2 0 1\\nBIOPOLYMER\\nNO_CHARGES\\n@<TRIPOS>CRYSIN\\n   18.6257    18.6257    13.1754    90.0000    90.0000    90.0000  1  1\\n@<TRIPOS>ATOM\\n       1 ZN           0.0000     0.0000     0.0000 ZN            1 RES     \\n       2 ZN           0.0000     0.0000     5.4503 ZN            1 RES     \\n       3 ZN           0.0000    10.9005     0.0000 ZN            1 RES     \\n       4 ZN           0.0000    10.9005     5.4503 ZN            1 RES     \\n       5 ZN          10.9005     0.0000     0.0000 ZN            1 RES     \\n       6 ZN          10.9005     0.0000     5.4503 ZN            1 RES     \\n       7 ZN          10.9005    10.9005     0.0000 ZN            1 RES     \\n       8 ZN          10.9005    10.9005     5.4503 ZN            1 RES     \\n       9 ZN           0.0000     5.4503     0.0000 ZN            1 RES     \\n      10 ZN           0.0000     5.4503     5.4503 ZN            1 RES     \\n      11 ZN          10.9005     5.4503     0.0000 ZN            1 RES     \\n      12 ZN          10.9005     5.4503     5.4503 ZN            1 RES     \\n      13 ZN           5.4503     0.0000     0.0000 ZN            1 RES     \\n      14 ZN           5.4503     0.0000     5.4503 ZN            1 RES     \\n      15 ZN           5.4503    10.9005     0.0000 ZN            1 RES     \\n      16 ZN           5.4503    10.9005     5.4503 ZN            1 RES     \\n      17 ZN           5.4503     5.4503     0.0000 ZN            1 RES     \\n      18 ZN           5.4503     5.4503     5.4503 ZN            1 RES     \\n      19 ZN           0.0000     2.7251     2.7251 ZN            1 RES     \\n      20 ZN          10.9005     2.7251     2.7251 ZN            1 RES     \\n      21 ZN           0.0000     8.1754     2.7251 ZN            1 RES     \\n      22 ZN          10.9005     8.1754     2.7251 ZN            1 RES     \\n      23 ZN           5.4503     2.7251     2.7251 ZN            1 RES     \\n      24 ZN           5.4503     8.1754     2.7251 ZN            1 RES     \\n      25 ZN           2.7251     0.0000     2.7251 ZN            1 RES     \\n      26 ZN           2.7251    10.9005     2.7251 ZN            1 RES     \\n      27 ZN           2.7251     5.4503     2.7251 ZN            1 RES     \\n      28 ZN           8.1754     0.0000     2.7251 ZN            1 RES     \\n      29 ZN           8.1754    10.9005     2.7251 ZN            1 RES     \\n      30 ZN           8.1754     5.4503     2.7251 ZN            1 RES     \\n      31 ZN           2.7251     2.7251     0.0000 ZN            1 RES     \\n      32 ZN           2.7251     2.7251     5.4503 ZN            1 RES     \\n      33 ZN           2.7251     8.1754     0.0000 ZN            1 RES     \\n      34 ZN           2.7251     8.1754     5.4503 ZN            1 RES     \\n      35 ZN           8.1754     2.7251     0.0000 ZN            1 RES     \\n      36 ZN           8.1754     2.7251     5.4503 ZN            1 RES     \\n      37 ZN           8.1754     8.1754     0.0000 ZN            1 RES     \\n      38 ZN           8.1754     8.1754     5.4503 ZN            1 RES     \\n      39 S            1.3626     1.3626     4.0877 S             1 RES     \\n      40 S            1.3626     6.8128     4.0877 S             1 RES     \\n      41 S            6.8128     1.3626     4.0877 S             1 RES     \\n      42 S            6.8128     6.8128     4.0877 S             1 RES     \\n      43 S            1.3626     4.0877     1.3626 S             1 RES     \\n      44 S            1.3626     9.5380     1.3626 S             1 RES     \\n      45 S            6.8128     4.0877     1.3626 S             1 RES     \\n      46 S            6.8128     9.5380     1.3626 S             1 RES     \\n      47 S            4.0877     1.3626     1.3626 S             1 RES     \\n      48 S            4.0877     6.8128     1.3626 S             1 RES     \\n      49 S            9.5380     1.3626     1.3626 S             1 RES     \\n      50 S            9.5380     6.8128     1.3626 S             1 RES     \\n      51 S            4.0877     4.0877     4.0877 S             1 RES     \\n      52 S            4.0877     9.5380     4.0877 S             1 RES     \\n      53 S            9.5380     4.0877     4.0877 S             1 RES     \\n      54 S            9.5380     9.5380     4.0877 S             1 RES     \\n      55 S           -1.3626    -1.3626    -1.3626 S             1 RES     \\n      56 S           -1.3626     1.3626     1.3626 S             1 RES     \\n      57 S            1.3626    -1.3626     1.3626 S             1 RES     \\n      58 S            1.3626     1.3626    -1.3626 S             1 RES     \\n      59 S           -1.3626    -1.3626     4.0877 S             1 RES     \\n      60 S           -1.3626     1.3626     6.8128 S             1 RES     \\n      61 S            1.3626    -1.3626     6.8128 S             1 RES     \\n      62 S           -1.3626     9.5380    -1.3626 S             1 RES     \\n      63 S           -1.3626    12.2631     1.3626 S             1 RES     \\n      64 S            1.3626    12.2631    -1.3626 S             1 RES     \\n      65 S           -1.3626     9.5380     4.0877 S             1 RES     \\n      66 S           -1.3626    12.2631     6.8128 S             1 RES     \\n      67 S            1.3626     9.5380     6.8128 S             1 RES     \\n      68 S            1.3626    12.2631     4.0877 S             1 RES     \\n      69 S            9.5380    -1.3626    -1.3626 S             1 RES     \\n      70 S           12.2631    -1.3626     1.3626 S             1 RES     \\n      71 S           12.2631     1.3626    -1.3626 S             1 RES     \\n      72 S            9.5380    -1.3626     4.0877 S             1 RES     \\n      73 S            9.5380     1.3626     6.8128 S             1 RES     \\n      74 S           12.2631    -1.3626     6.8128 S             1 RES     \\n      75 S           12.2631     1.3626     4.0877 S             1 RES     \\n      76 S            9.5380     9.5380    -1.3626 S             1 RES     \\n      77 S            9.5380    12.2631     1.3626 S             1 RES     \\n      78 S           12.2631     9.5380     1.3626 S             1 RES     \\n      79 S           12.2631    12.2631    -1.3626 S             1 RES     \\n      80 S            9.5380    12.2631     6.8128 S             1 RES     \\n      81 S           12.2631     9.5380     6.8128 S             1 RES     \\n      82 S           12.2631    12.2631     4.0877 S             1 RES     \\n      83 S           -1.3626     4.0877    -1.3626 S             1 RES     \\n      84 S           -1.3626     6.8128     1.3626 S             1 RES     \\n      85 S            1.3626     6.8128    -1.3626 S             1 RES     \\n      86 S           -1.3626     4.0877     4.0877 S             1 RES     \\n      87 S           -1.3626     6.8128     6.8128 S             1 RES     \\n      88 S            1.3626     4.0877     6.8128 S             1 RES     \\n      89 S            9.5380     4.0877    -1.3626 S             1 RES     \\n      90 S           12.2631     4.0877     1.3626 S             1 RES     \\n      91 S           12.2631     6.8128    -1.3626 S             1 RES     \\n      92 S            9.5380     6.8128     6.8128 S             1 RES     \\n      93 S           12.2631     4.0877     6.8128 S             1 RES     \\n      94 S           12.2631     6.8128     4.0877 S             1 RES     \\n      95 S            4.0877    -1.3626    -1.3626 S             1 RES     \\n      96 S            6.8128    -1.3626     1.3626 S             1 RES     \\n      97 S            6.8128     1.3626    -1.3626 S             1 RES     \\n      98 S            4.0877    -1.3626     4.0877 S             1 RES     \\n      99 S            4.0877     1.3626     6.8128 S             1 RES     \\n     100 S            6.8128    -1.3626     6.8128 S             1 RES     \\n     101 S            4.0877     9.5380    -1.3626 S             1 RES     \\n     102 S            6.8128    12.2631    -1.3626 S             1 RES     \\n     103 S            6.8128     9.5380     6.8128 S             1 RES     \\n     104 S            6.8128    12.2631     4.0877 S             1 RES     \\n     105 S            4.0877     4.0877    -1.3626 S             1 RES     \\n     106 S            6.8128     6.8128    -1.3626 S             1 RES     \\n     107 S            4.0877     6.8128     6.8128 S             1 RES     \\n     108 S            6.8128     4.0877     6.8128 S             1 RES     \\n     109 VS           4.7887    11.6395     6.1368 VS            2 PRT     \\n     110 VS           4.6732    11.7550     6.2523 VS            2 PRT     \\n     111 VS           4.6887    11.4663     6.0368 VS            2 PRT     \\n     112 VS           4.9253    11.4663     6.1002 VS            2 PRT     \\n     113 VS           4.7743    11.5241     6.1513 VS            2 PRT     \\n     114 VS           4.8898    11.4086     6.0358 VS            2 PRT     \\n     115 VS           4.6743    11.6973     6.0513 VS            2 PRT     \\n     116 VS           4.7377    11.6973     6.2879 VS            2 PRT     \\n     117 VS           4.7887    11.6395     0.6866 VS            2 PRT     \\n     118 VS           4.6732    11.7550     0.8021 VS            2 PRT     \\n     119 VS           4.6887    11.4663     0.5866 VS            2 PRT     \\n     120 VS           4.9253    11.4663     0.6500 VS            2 PRT     \\n     121 VS           4.7743    11.5241     0.7010 VS            2 PRT     \\n     122 VS           4.8898    11.4086     0.5855 VS            2 PRT     \\n     123 VS           4.6743    11.6973     0.6010 VS            2 PRT     \\n     124 VS           4.7377    11.6973     0.8376 VS            2 PRT     \\n     125 VS           3.4550    11.5529     2.0203 VS            2 PRT     \\n     126 VS           3.5705    11.6684     1.9048 VS            2 PRT     \\n     127 VS           3.2395    11.6107     2.0357 VS            2 PRT     \\n     128 VS           3.3606    11.4952     2.2146 VS            2 PRT     \\n     129 VS           3.3828    11.6107     2.0924 VS            2 PRT     \\n     130 VS           3.2673    11.4952     2.2079 VS            2 PRT     \\n     131 VS           3.3983    11.5529     1.8770 VS            2 PRT     \\n     132 VS           3.5772    11.6684     1.9981 VS            2 PRT     \\n@<TRIPOS>BOND\\n       1       33       85 1\\n       2        9       85 1\\n       3      101       33 1\\n       4       44       33 1\\n       5       48       33 1\\n       6       15      101 1\\n       7        3       44 1\\n       8       26       44 1\\n       9       21       44 1\\n      10       17       48 1\\n      11       24       48 1\\n      12       27       48 1\\n      13       83        9 1\\n      14       43        9 1\\n      15       84        9 1\\n      16       31       43 1\\n      17       27       43 1\\n      18       19       43 1\\n      19       21       84 1\\n      20       13       95 1\\n      21       97       13 1\\n      22       47       13 1\\n      23       96       13 1\\n      24       35       97 1\\n      25       31       47 1\\n      26       23       47 1\\n      27       25       47 1\\n      28       28       96 1\\n      29       89       35 1\\n      30       45       35 1\\n      31       49       35 1\\n      32       11       89 1\\n      33       17       45 1\\n      34       23       45 1\\n      35       30       45 1\\n      36        5       49 1\\n      37       28       49 1\\n      38       20       49 1\\n      39       11       91 1\\n      40       50       11 1\\n      41       90       11 1\\n      42       37       50 1\\n      43       30       50 1\\n      44       22       50 1\\n      45       20       90 1\\n      46       37       76 1\\n      47        7       76 1\\n      48      106       37 1\\n      49       46       37 1\\n      50       17      106 1\\n      51       15       46 1\\n      52       24       46 1\\n      53       29       46 1\\n      54       79        7 1\\n      55       78        7 1\\n      56       77        7 1\\n      57       22       78 1\\n      58       29       77 1\\n      59      102       15 1\\n      60        5       71 1\\n      61       69        5 1\\n      62       70        5 1\\n      63        1       55 1\\n      64       58        1 1\\n      65       56        1 1\\n      66       57        1 1\\n      67       31       58 1\\n      68       19       56 1\\n      69       25       57 1\\n      70      105       31 1\\n      71       17      105 1\\n      72        3       62 1\\n      73       64        3 1\\n      74       63        3 1\\n      75       52       24 1\\n      76       42       24 1\\n      77       54       29 1\\n      78      104       29 1\\n      79       53       30 1\\n      80       42       30 1\\n      81       54       22 1\\n      82       94       22 1\\n      83       51       23 1\\n      84       41       23 1\\n      85       72       28 1\\n      86       41       28 1\\n      87       75       20 1\\n      88       53       20 1\\n      89       68       26 1\\n      90       52       26 1\\n      91       65       21 1\\n      92       40       21 1\\n      93       51       27 1\\n      94       40       27 1\\n      95       39       25 1\\n      96       98       25 1\\n      97       86       19 1\\n      98       39       19 1\\n      99       18       51 1\\n     100       32       51 1\\n     101       36       41 1\\n     102       14       41 1\\n     103       12       53 1\\n     104       36       53 1\\n     105       18       42 1\\n     106       38       42 1\\n     107        4       68 1\\n     108       16       52 1\\n     109       34       52 1\\n     110        4       65 1\\n     111       34       40 1\\n     112       10       40 1\\n     113       38       54 1\\n     114        8       54 1\\n     115       16      104 1\\n     116        2       39 1\\n     117       32       39 1\\n     118       14       98 1\\n     119        6       72 1\\n     120        6       75 1\\n     121       12       94 1\\n     122       10       86 1\\n     123      103       16 1\\n     124      107       34 1\\n     125       67       34 1\\n     126      108       18 1\\n     127      107       18 1\\n     128      103       38 1\\n     129       92       38 1\\n     130       99       32 1\\n     131       88       32 1\\n     132      108       36 1\\n     133       73       36 1\\n     134      100       14 1\\n     135       99       14 1\\n     136       59        2 1\\n     137       60        2 1\\n     138       61        2 1\\n     139       66        4 1\\n     140       67        4 1\\n     141       88       10 1\\n     142       87       10 1\\n     143       73        6 1\\n     144       74        6 1\\n     145       82        8 1\\n     146       81        8 1\\n     147       80        8 1\\n     148       93       12 1\\n     149       92       12 1\\n@<TRIPOS>SUBSTRUCTURE\\n       1 RES             1 RESIDUE    0 **** ROOT      0\\n       2 PRT           109 RESIDUE    0 **** ROOT      0\\n\",\"mol2\");\n\tviewer_16668177178719947.setStyle({\"stick\": {\"radius\": 0.2, \"color\": \"grey\"}, \"sphere\": {\"scale\": 0.3, \"colorscheme\": {}}});\n\tviewer_16668177178719947.zoomTo();\nviewer_16668177178719947.render();\n});\n</script>",
      "text/html": [
       "<div id=\"3dmolviewer_16668177178719947\"  style=\"position: relative; width: 640px; height: 480px\">\n",
       "        <p id=\"3dmolwarning_16668177178719947\" style=\"background-color:#ffcccc;color:black\">You appear to be running in JupyterLab (or JavaScript failed to load for some other reason).  You need to install the 3dmol extension: <br>\n",
       "        <tt>jupyter labextension install jupyterlab_3dmol</tt></p>\n",
       "        </div>\n",
       "<script>\n",
       "\n",
       "var loadScriptAsync = function(uri){\n",
       "  return new Promise((resolve, reject) => {\n",
       "    var tag = document.createElement('script');\n",
       "    tag.src = uri;\n",
       "    tag.async = true;\n",
       "    tag.onload = () => {\n",
       "      resolve();\n",
       "    };\n",
       "  var firstScriptTag = document.getElementsByTagName('script')[0];\n",
       "  firstScriptTag.parentNode.insertBefore(tag, firstScriptTag);\n",
       "});\n",
       "};\n",
       "\n",
       "if(typeof $3Dmolpromise === 'undefined') {\n",
       "$3Dmolpromise = null;\n",
       "  $3Dmolpromise = loadScriptAsync('https://3dmol.org/build/3Dmol.js');\n",
       "}\n",
       "\n",
       "var viewer_16668177178719947 = null;\n",
       "var warn = document.getElementById(\"3dmolwarning_16668177178719947\");\n",
       "if(warn) {\n",
       "    warn.parentNode.removeChild(warn);\n",
       "}\n",
       "$3Dmolpromise.then(function() {\n",
       "viewer_16668177178719947 = $3Dmol.createViewer($(\"#3dmolviewer_16668177178719947\"),{backgroundColor:\"white\"});\n",
       "viewer_16668177178719947.zoomTo();\n",
       "\tviewer_16668177178719947.addModel(\"@<TRIPOS>MOLECULE\\nRES\\n132 149 2 0 1\\nBIOPOLYMER\\nNO_CHARGES\\n@<TRIPOS>CRYSIN\\n   18.6257    18.6257    13.1754    90.0000    90.0000    90.0000  1  1\\n@<TRIPOS>ATOM\\n       1 ZN           0.0000     0.0000     0.0000 ZN            1 RES     \\n       2 ZN           0.0000     0.0000     5.4503 ZN            1 RES     \\n       3 ZN           0.0000    10.9005     0.0000 ZN            1 RES     \\n       4 ZN           0.0000    10.9005     5.4503 ZN            1 RES     \\n       5 ZN          10.9005     0.0000     0.0000 ZN            1 RES     \\n       6 ZN          10.9005     0.0000     5.4503 ZN            1 RES     \\n       7 ZN          10.9005    10.9005     0.0000 ZN            1 RES     \\n       8 ZN          10.9005    10.9005     5.4503 ZN            1 RES     \\n       9 ZN           0.0000     5.4503     0.0000 ZN            1 RES     \\n      10 ZN           0.0000     5.4503     5.4503 ZN            1 RES     \\n      11 ZN          10.9005     5.4503     0.0000 ZN            1 RES     \\n      12 ZN          10.9005     5.4503     5.4503 ZN            1 RES     \\n      13 ZN           5.4503     0.0000     0.0000 ZN            1 RES     \\n      14 ZN           5.4503     0.0000     5.4503 ZN            1 RES     \\n      15 ZN           5.4503    10.9005     0.0000 ZN            1 RES     \\n      16 ZN           5.4503    10.9005     5.4503 ZN            1 RES     \\n      17 ZN           5.4503     5.4503     0.0000 ZN            1 RES     \\n      18 ZN           5.4503     5.4503     5.4503 ZN            1 RES     \\n      19 ZN           0.0000     2.7251     2.7251 ZN            1 RES     \\n      20 ZN          10.9005     2.7251     2.7251 ZN            1 RES     \\n      21 ZN           0.0000     8.1754     2.7251 ZN            1 RES     \\n      22 ZN          10.9005     8.1754     2.7251 ZN            1 RES     \\n      23 ZN           5.4503     2.7251     2.7251 ZN            1 RES     \\n      24 ZN           5.4503     8.1754     2.7251 ZN            1 RES     \\n      25 ZN           2.7251     0.0000     2.7251 ZN            1 RES     \\n      26 ZN           2.7251    10.9005     2.7251 ZN            1 RES     \\n      27 ZN           2.7251     5.4503     2.7251 ZN            1 RES     \\n      28 ZN           8.1754     0.0000     2.7251 ZN            1 RES     \\n      29 ZN           8.1754    10.9005     2.7251 ZN            1 RES     \\n      30 ZN           8.1754     5.4503     2.7251 ZN            1 RES     \\n      31 ZN           2.7251     2.7251     0.0000 ZN            1 RES     \\n      32 ZN           2.7251     2.7251     5.4503 ZN            1 RES     \\n      33 ZN           2.7251     8.1754     0.0000 ZN            1 RES     \\n      34 ZN           2.7251     8.1754     5.4503 ZN            1 RES     \\n      35 ZN           8.1754     2.7251     0.0000 ZN            1 RES     \\n      36 ZN           8.1754     2.7251     5.4503 ZN            1 RES     \\n      37 ZN           8.1754     8.1754     0.0000 ZN            1 RES     \\n      38 ZN           8.1754     8.1754     5.4503 ZN            1 RES     \\n      39 S            1.3626     1.3626     4.0877 S             1 RES     \\n      40 S            1.3626     6.8128     4.0877 S             1 RES     \\n      41 S            6.8128     1.3626     4.0877 S             1 RES     \\n      42 S            6.8128     6.8128     4.0877 S             1 RES     \\n      43 S            1.3626     4.0877     1.3626 S             1 RES     \\n      44 S            1.3626     9.5380     1.3626 S             1 RES     \\n      45 S            6.8128     4.0877     1.3626 S             1 RES     \\n      46 S            6.8128     9.5380     1.3626 S             1 RES     \\n      47 S            4.0877     1.3626     1.3626 S             1 RES     \\n      48 S            4.0877     6.8128     1.3626 S             1 RES     \\n      49 S            9.5380     1.3626     1.3626 S             1 RES     \\n      50 S            9.5380     6.8128     1.3626 S             1 RES     \\n      51 S            4.0877     4.0877     4.0877 S             1 RES     \\n      52 S            4.0877     9.5380     4.0877 S             1 RES     \\n      53 S            9.5380     4.0877     4.0877 S             1 RES     \\n      54 S            9.5380     9.5380     4.0877 S             1 RES     \\n      55 S           -1.3626    -1.3626    -1.3626 S             1 RES     \\n      56 S           -1.3626     1.3626     1.3626 S             1 RES     \\n      57 S            1.3626    -1.3626     1.3626 S             1 RES     \\n      58 S            1.3626     1.3626    -1.3626 S             1 RES     \\n      59 S           -1.3626    -1.3626     4.0877 S             1 RES     \\n      60 S           -1.3626     1.3626     6.8128 S             1 RES     \\n      61 S            1.3626    -1.3626     6.8128 S             1 RES     \\n      62 S           -1.3626     9.5380    -1.3626 S             1 RES     \\n      63 S           -1.3626    12.2631     1.3626 S             1 RES     \\n      64 S            1.3626    12.2631    -1.3626 S             1 RES     \\n      65 S           -1.3626     9.5380     4.0877 S             1 RES     \\n      66 S           -1.3626    12.2631     6.8128 S             1 RES     \\n      67 S            1.3626     9.5380     6.8128 S             1 RES     \\n      68 S            1.3626    12.2631     4.0877 S             1 RES     \\n      69 S            9.5380    -1.3626    -1.3626 S             1 RES     \\n      70 S           12.2631    -1.3626     1.3626 S             1 RES     \\n      71 S           12.2631     1.3626    -1.3626 S             1 RES     \\n      72 S            9.5380    -1.3626     4.0877 S             1 RES     \\n      73 S            9.5380     1.3626     6.8128 S             1 RES     \\n      74 S           12.2631    -1.3626     6.8128 S             1 RES     \\n      75 S           12.2631     1.3626     4.0877 S             1 RES     \\n      76 S            9.5380     9.5380    -1.3626 S             1 RES     \\n      77 S            9.5380    12.2631     1.3626 S             1 RES     \\n      78 S           12.2631     9.5380     1.3626 S             1 RES     \\n      79 S           12.2631    12.2631    -1.3626 S             1 RES     \\n      80 S            9.5380    12.2631     6.8128 S             1 RES     \\n      81 S           12.2631     9.5380     6.8128 S             1 RES     \\n      82 S           12.2631    12.2631     4.0877 S             1 RES     \\n      83 S           -1.3626     4.0877    -1.3626 S             1 RES     \\n      84 S           -1.3626     6.8128     1.3626 S             1 RES     \\n      85 S            1.3626     6.8128    -1.3626 S             1 RES     \\n      86 S           -1.3626     4.0877     4.0877 S             1 RES     \\n      87 S           -1.3626     6.8128     6.8128 S             1 RES     \\n      88 S            1.3626     4.0877     6.8128 S             1 RES     \\n      89 S            9.5380     4.0877    -1.3626 S             1 RES     \\n      90 S           12.2631     4.0877     1.3626 S             1 RES     \\n      91 S           12.2631     6.8128    -1.3626 S             1 RES     \\n      92 S            9.5380     6.8128     6.8128 S             1 RES     \\n      93 S           12.2631     4.0877     6.8128 S             1 RES     \\n      94 S           12.2631     6.8128     4.0877 S             1 RES     \\n      95 S            4.0877    -1.3626    -1.3626 S             1 RES     \\n      96 S            6.8128    -1.3626     1.3626 S             1 RES     \\n      97 S            6.8128     1.3626    -1.3626 S             1 RES     \\n      98 S            4.0877    -1.3626     4.0877 S             1 RES     \\n      99 S            4.0877     1.3626     6.8128 S             1 RES     \\n     100 S            6.8128    -1.3626     6.8128 S             1 RES     \\n     101 S            4.0877     9.5380    -1.3626 S             1 RES     \\n     102 S            6.8128    12.2631    -1.3626 S             1 RES     \\n     103 S            6.8128     9.5380     6.8128 S             1 RES     \\n     104 S            6.8128    12.2631     4.0877 S             1 RES     \\n     105 S            4.0877     4.0877    -1.3626 S             1 RES     \\n     106 S            6.8128     6.8128    -1.3626 S             1 RES     \\n     107 S            4.0877     6.8128     6.8128 S             1 RES     \\n     108 S            6.8128     4.0877     6.8128 S             1 RES     \\n     109 VS           4.7887    11.6395     6.1368 VS            2 PRT     \\n     110 VS           4.6732    11.7550     6.2523 VS            2 PRT     \\n     111 VS           4.6887    11.4663     6.0368 VS            2 PRT     \\n     112 VS           4.9253    11.4663     6.1002 VS            2 PRT     \\n     113 VS           4.7743    11.5241     6.1513 VS            2 PRT     \\n     114 VS           4.8898    11.4086     6.0358 VS            2 PRT     \\n     115 VS           4.6743    11.6973     6.0513 VS            2 PRT     \\n     116 VS           4.7377    11.6973     6.2879 VS            2 PRT     \\n     117 VS           4.7887    11.6395     0.6866 VS            2 PRT     \\n     118 VS           4.6732    11.7550     0.8021 VS            2 PRT     \\n     119 VS           4.6887    11.4663     0.5866 VS            2 PRT     \\n     120 VS           4.9253    11.4663     0.6500 VS            2 PRT     \\n     121 VS           4.7743    11.5241     0.7010 VS            2 PRT     \\n     122 VS           4.8898    11.4086     0.5855 VS            2 PRT     \\n     123 VS           4.6743    11.6973     0.6010 VS            2 PRT     \\n     124 VS           4.7377    11.6973     0.8376 VS            2 PRT     \\n     125 VS           3.4550    11.5529     2.0203 VS            2 PRT     \\n     126 VS           3.5705    11.6684     1.9048 VS            2 PRT     \\n     127 VS           3.2395    11.6107     2.0357 VS            2 PRT     \\n     128 VS           3.3606    11.4952     2.2146 VS            2 PRT     \\n     129 VS           3.3828    11.6107     2.0924 VS            2 PRT     \\n     130 VS           3.2673    11.4952     2.2079 VS            2 PRT     \\n     131 VS           3.3983    11.5529     1.8770 VS            2 PRT     \\n     132 VS           3.5772    11.6684     1.9981 VS            2 PRT     \\n@<TRIPOS>BOND\\n       1       33       85 1\\n       2        9       85 1\\n       3      101       33 1\\n       4       44       33 1\\n       5       48       33 1\\n       6       15      101 1\\n       7        3       44 1\\n       8       26       44 1\\n       9       21       44 1\\n      10       17       48 1\\n      11       24       48 1\\n      12       27       48 1\\n      13       83        9 1\\n      14       43        9 1\\n      15       84        9 1\\n      16       31       43 1\\n      17       27       43 1\\n      18       19       43 1\\n      19       21       84 1\\n      20       13       95 1\\n      21       97       13 1\\n      22       47       13 1\\n      23       96       13 1\\n      24       35       97 1\\n      25       31       47 1\\n      26       23       47 1\\n      27       25       47 1\\n      28       28       96 1\\n      29       89       35 1\\n      30       45       35 1\\n      31       49       35 1\\n      32       11       89 1\\n      33       17       45 1\\n      34       23       45 1\\n      35       30       45 1\\n      36        5       49 1\\n      37       28       49 1\\n      38       20       49 1\\n      39       11       91 1\\n      40       50       11 1\\n      41       90       11 1\\n      42       37       50 1\\n      43       30       50 1\\n      44       22       50 1\\n      45       20       90 1\\n      46       37       76 1\\n      47        7       76 1\\n      48      106       37 1\\n      49       46       37 1\\n      50       17      106 1\\n      51       15       46 1\\n      52       24       46 1\\n      53       29       46 1\\n      54       79        7 1\\n      55       78        7 1\\n      56       77        7 1\\n      57       22       78 1\\n      58       29       77 1\\n      59      102       15 1\\n      60        5       71 1\\n      61       69        5 1\\n      62       70        5 1\\n      63        1       55 1\\n      64       58        1 1\\n      65       56        1 1\\n      66       57        1 1\\n      67       31       58 1\\n      68       19       56 1\\n      69       25       57 1\\n      70      105       31 1\\n      71       17      105 1\\n      72        3       62 1\\n      73       64        3 1\\n      74       63        3 1\\n      75       52       24 1\\n      76       42       24 1\\n      77       54       29 1\\n      78      104       29 1\\n      79       53       30 1\\n      80       42       30 1\\n      81       54       22 1\\n      82       94       22 1\\n      83       51       23 1\\n      84       41       23 1\\n      85       72       28 1\\n      86       41       28 1\\n      87       75       20 1\\n      88       53       20 1\\n      89       68       26 1\\n      90       52       26 1\\n      91       65       21 1\\n      92       40       21 1\\n      93       51       27 1\\n      94       40       27 1\\n      95       39       25 1\\n      96       98       25 1\\n      97       86       19 1\\n      98       39       19 1\\n      99       18       51 1\\n     100       32       51 1\\n     101       36       41 1\\n     102       14       41 1\\n     103       12       53 1\\n     104       36       53 1\\n     105       18       42 1\\n     106       38       42 1\\n     107        4       68 1\\n     108       16       52 1\\n     109       34       52 1\\n     110        4       65 1\\n     111       34       40 1\\n     112       10       40 1\\n     113       38       54 1\\n     114        8       54 1\\n     115       16      104 1\\n     116        2       39 1\\n     117       32       39 1\\n     118       14       98 1\\n     119        6       72 1\\n     120        6       75 1\\n     121       12       94 1\\n     122       10       86 1\\n     123      103       16 1\\n     124      107       34 1\\n     125       67       34 1\\n     126      108       18 1\\n     127      107       18 1\\n     128      103       38 1\\n     129       92       38 1\\n     130       99       32 1\\n     131       88       32 1\\n     132      108       36 1\\n     133       73       36 1\\n     134      100       14 1\\n     135       99       14 1\\n     136       59        2 1\\n     137       60        2 1\\n     138       61        2 1\\n     139       66        4 1\\n     140       67        4 1\\n     141       88       10 1\\n     142       87       10 1\\n     143       73        6 1\\n     144       74        6 1\\n     145       82        8 1\\n     146       81        8 1\\n     147       80        8 1\\n     148       93       12 1\\n     149       92       12 1\\n@<TRIPOS>SUBSTRUCTURE\\n       1 RES             1 RESIDUE    0 **** ROOT      0\\n       2 PRT           109 RESIDUE    0 **** ROOT      0\\n\",\"mol2\");\n",
       "\tviewer_16668177178719947.setStyle({\"stick\": {\"radius\": 0.2, \"color\": \"grey\"}, \"sphere\": {\"scale\": 0.3, \"colorscheme\": {}}});\n",
       "\tviewer_16668177178719947.zoomTo();\n",
       "viewer_16668177178719947.render();\n",
       "});\n",
       "</script>"
      ]
     },
     "metadata": {},
     "output_type": "display_data"
    },
    {
     "data": {
      "text/plain": [
       "<py3Dmol.view at 0x7f98042ca430>"
      ]
     },
     "execution_count": 45,
     "metadata": {},
     "output_type": "execute_result"
    }
   ],
   "source": [
    "slab.remove(slab[101])\n",
    "slab.visualize(show_ports=True)"
   ]
  },
  {
   "cell_type": "code",
   "execution_count": 47,
   "id": "7dcd8f2b-bf37-48b4-9590-33c9e0939b59",
   "metadata": {},
   "outputs": [],
   "source": [
    "slab = mb.load(\"ZnS.mol2\")\n",
    "mb.coordinate_transform.z_axis_transform(slab, new_origin=slab[103], point_on_z_axis=slab[101], point_on_zx_plane=None)"
   ]
  },
  {
   "cell_type": "code",
   "execution_count": 48,
   "id": "e138cf56-a87b-4c95-b476-9c0cffb81a8f",
   "metadata": {},
   "outputs": [
    {
     "name": "stdout",
     "output_type": "stream",
     "text": [
      "0 [-1.29140328  0.05662807  0.68128002]\n",
      "1 [-1.29140328  0.05662807  0.13625002]\n",
      "2 [-0.27338461 -0.33304738  0.68128002]\n",
      "3 [-0.27338461 -0.33304738  0.13625002]\n",
      "4 [-0.90172782  1.07464673  0.68128002]\n",
      "5 [-0.90172782  1.07464673  0.13625002]\n",
      "6 [0.11629084 0.68497128 0.68128002]\n",
      "7 [0.11629084 0.68497128 0.13625002]\n",
      "8 [-0.78238927 -0.13821145  0.68128002]\n",
      "9 [-0.78238927 -0.13821145  0.13625002]\n",
      "10 [-0.39271382  0.87980722  0.68128002]\n",
      "11 [-0.39271382  0.87980722  0.13625002]\n",
      "12 [-1.09656376  0.56564208  0.68128002]\n",
      "13 [-1.09656376  0.56564208  0.13625002]\n",
      "14 [-0.07854509  0.17596662  0.68128002]\n",
      "15 [-0.07854509  0.17596662  0.13625002]\n",
      "16 [-0.58754975  0.37080256  0.68128002]\n",
      "17 [-0.58754975  0.37080256  0.13625002]\n",
      "18 [-1.03690095 -0.0407899   0.40877002]\n",
      "19 [-0.6472255   0.97722877  0.40877002]\n",
      "20 [-0.52788694 -0.23562942  0.40877002]\n",
      "21 [-0.13821149  0.78238925  0.40877002]\n",
      "22 [-0.84206143  0.46822411  0.40877002]\n",
      "23 [-0.33304742  0.27338459  0.40877002]\n",
      "24 [-1.19398531  0.3111304   0.40877002]\n",
      "25 [-0.17596664 -0.07854506  0.40877002]\n",
      "26 [-0.6849713   0.11629088  0.40877002]\n",
      "27 [-0.99914579  0.82014441  0.40877002]\n",
      "28 [0.01887287 0.43046895 0.40877002]\n",
      "29 [-0.49013178  0.62530489  0.40877002]\n",
      "30 [-0.93948298  0.21371243  0.68128002]\n",
      "31 [-0.93948298  0.21371243  0.13625002]\n",
      "32 [-0.43046897  0.01887291  0.68128002]\n",
      "33 [-0.43046897  0.01887291  0.13625002]\n",
      "34 [-0.74464346  0.72272644  0.68128002]\n",
      "35 [-0.74464346  0.72272644  0.13625002]\n",
      "36 [-0.23562945  0.52788692  0.68128002]\n",
      "37 [-0.23562945  0.52788692  0.13625002]\n",
      "38 [-1.11543666  0.13517313  0.27251002]\n",
      "39 [-0.60643198 -0.05966281  0.27251002]\n",
      "40 [-0.92060072  0.64417782  0.27251002]\n",
      "41 [-0.41159603  0.44934187  0.27251002]\n",
      "42 [-0.86093433  0.03775517  0.54502001]\n",
      "43 [-0.3519203  -0.15708436  0.54502001]\n",
      "44 [-0.66609839  0.54675985  0.54502001]\n",
      "45 [-0.15708435  0.35192032  0.54502001]\n",
      "46 [-1.01801869  0.38967546  0.54502001]\n",
      "47 [-0.50901401  0.19483952  0.54502001]\n",
      "48 [-0.82317917  0.8986895   0.54502001]\n",
      "49 [-0.31417448  0.70385355  0.54502001]\n",
      "50 [-0.76351637  0.29225749  0.27251002]\n",
      "51 [-0.25450233  0.09741797  0.27251002]\n",
      "52 [-0.56867684  0.80127153  0.27251002]\n",
      "53 [-0.0596628   0.60643201  0.27251002]\n",
      "54 [-1.46736989 -0.021917    0.81754002]\n",
      "55 [-1.21285821 -0.11933855  0.54502001]\n",
      "56 [-1.36994834  0.23259468  0.54502001]\n",
      "57 [-1.11543666  0.13517313  0.81754002]\n",
      "58 [-1.46736989 -0.021917    0.27251002]\n",
      "59 [-1.21285821e+00 -1.19338547e-01 -2.22798439e-16]\n",
      "60 [-1.36994834e+00  2.32594682e-01 -2.51655428e-16]\n",
      "61 [-0.44934184 -0.41159604  0.81754002]\n",
      "62 [-0.19483952 -0.50901401  0.54502001]\n",
      "63 [-0.09741797 -0.25450233  0.81754002]\n",
      "64 [-0.44934184 -0.41159604  0.27251002]\n",
      "65 [-1.94839516e-01 -5.09014009e-01 -3.57914384e-17]\n",
      "66 [-3.51920297e-01 -1.57084361e-01 -6.46467097e-17]\n",
      "67 [-0.09741797 -0.25450233  0.27251002]\n",
      "68 [-1.07769085  0.99611105  0.81754002]\n",
      "69 [-0.98027288  1.25061338  0.54502001]\n",
      "70 [-0.7257612   1.15319183  0.81754002]\n",
      "71 [-1.07769085  0.99611105  0.27251002]\n",
      "72 [-8.23179168e-01  8.98689500e-01 -1.51215560e-16]\n",
      "73 [-9.80272880e-01  1.25061338e+00 -1.80073207e-16]\n",
      "74 [-0.7257612   1.15319183  0.27251002]\n",
      "75 [-0.0596628   0.60643201  0.81754002]\n",
      "76 [0.19483953 0.50901404 0.54502001]\n",
      "77 [0.03775517 0.86093433 0.54502001]\n",
      "78 [0.29225749 0.76351637 0.81754002]\n",
      "79 [1.94839526e-01 5.09014037e-01 3.57914404e-17]\n",
      "80 [3.77551659e-02 8.60934334e-01 6.93551146e-18]\n",
      "81 [0.29225749 0.76351637 0.27251002]\n",
      "82 [-0.95835588 -0.21675651  0.81754002]\n",
      "83 [-0.70385353 -0.31417449  0.54502001]\n",
      "84 [-0.60643198 -0.05966281  0.81754002]\n",
      "85 [-0.95835588 -0.21675651  0.27251002]\n",
      "86 [-7.03853525e-01 -3.14174493e-01 -1.29295795e-16]\n",
      "87 [-8.60934334e-01  3.77551659e-02 -1.58151071e-16]\n",
      "88 [-0.56867684  0.80127153  0.81754002]\n",
      "89 [-0.47125887  1.05577386  0.54502001]\n",
      "90 [-0.21675651  0.95835588  0.81754002]\n",
      "91 [-3.14174483e-01  7.03853553e-01 -5.77129162e-17]\n",
      "92 [-4.71258871e-01  1.05577386e+00 -8.65688502e-17]\n",
      "93 [-0.21675651  0.95835588  0.27251002]\n",
      "94 [-1.27253037  0.48709701  0.81754002]\n",
      "95 [-1.1751124   0.74159937  0.54502001]\n",
      "96 [-0.92060072  0.64417782  0.81754002]\n",
      "97 [-1.27253037  0.48709701  0.27251002]\n",
      "98 [-1.01801869e+00  3.89675463e-01 -1.87007000e-16]\n",
      "99 [-1.17511240e+00  7.41599367e-01 -2.15864645e-16]\n",
      "100 [-0.25450233  0.09741797  0.81754002]\n",
      "101 [-1.00118552e-16  0.00000000e+00  5.45020014e-01]\n",
      "102 [0.09741798 0.25450236 0.81754002]\n",
      "103 [0. 0. 0.]\n",
      "104 [-1.57084350e-01  3.51920325e-01 -2.88559270e-17]\n",
      "105 [0.09741798 0.25450236 0.27251002]\n",
      "106 [-0.76351637  0.29225749  0.81754002]\n",
      "107 [-0.41159603  0.44934187  0.81754002]\n",
      "108 [-5.09014009e-01  1.94839516e-01 -9.35043566e-17]\n",
      "109 [-6.66098387e-01  5.46759851e-01 -1.22360289e-16]\n"
     ]
    }
   ],
   "source": [
    "for i,part in enumerate(slab):\n",
    "    print(i, part.pos)"
   ]
  },
  {
   "cell_type": "code",
   "execution_count": 63,
   "id": "3dbb44d7-21d8-4823-bd33-6a07313f8fd9",
   "metadata": {},
   "outputs": [
    {
     "ename": "AssertionError",
     "evalue": "Not enough ports for pattern.",
     "output_type": "error",
     "traceback": [
      "\u001b[0;31m---------------------------------------------------------------------------\u001b[0m",
      "\u001b[0;31mAssertionError\u001b[0m                            Traceback (most recent call last)",
      "Input \u001b[0;32mIn [63]\u001b[0m, in \u001b[0;36m<cell line: 6>\u001b[0;34m()\u001b[0m\n\u001b[1;32m      4\u001b[0m xlig\u001b[38;5;241m.\u001b[39madd(mb\u001b[38;5;241m.\u001b[39mPort(anchor\u001b[38;5;241m=\u001b[39mxlig[\u001b[38;5;241m23\u001b[39m], separation\u001b[38;5;241m=\u001b[39m\u001b[38;5;241m0.25\u001b[39m, orientation\u001b[38;5;241m=\u001b[39m(xlig[\u001b[38;5;241m23\u001b[39m]\u001b[38;5;241m.\u001b[39mpos\u001b[38;5;241m-\u001b[39mxlig[\u001b[38;5;241m13\u001b[39m]\u001b[38;5;241m.\u001b[39mpos)))\n\u001b[1;32m      5\u001b[0m slab \u001b[38;5;241m=\u001b[39m mb\u001b[38;5;241m.\u001b[39mload(\u001b[38;5;124m\"\u001b[39m\u001b[38;5;124mZnS.mol2\u001b[39m\u001b[38;5;124m\"\u001b[39m)\n\u001b[0;32m----> 6\u001b[0m test \u001b[38;5;241m=\u001b[39m \u001b[43mmb\u001b[49m\u001b[38;5;241;43m.\u001b[39;49m\u001b[43mlib\u001b[49m\u001b[38;5;241;43m.\u001b[39;49m\u001b[43mrecipes\u001b[49m\u001b[38;5;241;43m.\u001b[39;49m\u001b[43mmonolayer\u001b[49m\u001b[38;5;241;43m.\u001b[39;49m\u001b[43mMonolayer\u001b[49m\u001b[43m(\u001b[49m\u001b[43msurface\u001b[49m\u001b[38;5;241;43m=\u001b[39;49m\u001b[43mslab\u001b[49m\u001b[43m,\u001b[49m\u001b[43m \u001b[49m\u001b[43mchains\u001b[49m\u001b[38;5;241;43m=\u001b[39;49m\u001b[43moleic\u001b[49m\u001b[43m,\u001b[49m\u001b[43m \u001b[49m\u001b[43mpattern\u001b[49m\u001b[38;5;241;43m=\u001b[39;49m\u001b[43mmb\u001b[49m\u001b[38;5;241;43m.\u001b[39;49m\u001b[43mRandom2DPattern\u001b[49m\u001b[43m(\u001b[49m\u001b[38;5;241;43m2\u001b[39;49m\u001b[43m)\u001b[49m\u001b[43m)\u001b[49m\n",
      "File \u001b[0;32m~/miniconda3/envs/dev/lib/python3.10/site-packages/mbuild/lib/recipes/monolayer.py:108\u001b[0m, in \u001b[0;36mMonolayer.__init__\u001b[0;34m(self, surface, chains, fractions, backfill, pattern, tile_x, tile_y, **kwargs)\u001b[0m\n\u001b[1;32m    106\u001b[0m \u001b[38;5;66;03m# Attach final chain type. Remaining sites get a backfill.\u001b[39;00m\n\u001b[1;32m    107\u001b[0m warn(\u001b[38;5;124m\"\u001b[39m\u001b[38;5;130;01m\\n\u001b[39;00m\u001b[38;5;124m Adding \u001b[39m\u001b[38;5;132;01m{}\u001b[39;00m\u001b[38;5;124m of chain \u001b[39m\u001b[38;5;132;01m{}\u001b[39;00m\u001b[38;5;124m\"\u001b[39m\u001b[38;5;241m.\u001b[39mformat(\u001b[38;5;28mlen\u001b[39m(pattern), chains[\u001b[38;5;241m-\u001b[39m\u001b[38;5;241m1\u001b[39m]))\n\u001b[0;32m--> 108\u001b[0m attached_chains, backfills \u001b[38;5;241m=\u001b[39m \u001b[43mpattern\u001b[49m\u001b[38;5;241;43m.\u001b[39;49m\u001b[43mapply_to_compound\u001b[49m\u001b[43m(\u001b[49m\n\u001b[1;32m    109\u001b[0m \u001b[43m    \u001b[49m\u001b[43mguest\u001b[49m\u001b[38;5;241;43m=\u001b[39;49m\u001b[43mchains\u001b[49m\u001b[43m[\u001b[49m\u001b[38;5;241;43m-\u001b[39;49m\u001b[38;5;241;43m1\u001b[39;49m\u001b[43m]\u001b[49m\u001b[43m,\u001b[49m\n\u001b[1;32m    110\u001b[0m \u001b[43m    \u001b[49m\u001b[43mhost\u001b[49m\u001b[38;5;241;43m=\u001b[39;49m\u001b[38;5;28;43mself\u001b[39;49m\u001b[43m[\u001b[49m\u001b[38;5;124;43m\"\u001b[39;49m\u001b[38;5;124;43mtiled_surface\u001b[39;49m\u001b[38;5;124;43m\"\u001b[39;49m\u001b[43m]\u001b[49m\u001b[43m,\u001b[49m\n\u001b[1;32m    111\u001b[0m \u001b[43m    \u001b[49m\u001b[43mbackfill\u001b[49m\u001b[38;5;241;43m=\u001b[39;49m\u001b[43mbackfill\u001b[49m\u001b[43m,\u001b[49m\n\u001b[1;32m    112\u001b[0m \u001b[43m    \u001b[49m\u001b[38;5;241;43m*\u001b[39;49m\u001b[38;5;241;43m*\u001b[39;49m\u001b[43mkwargs\u001b[49m\n\u001b[1;32m    113\u001b[0m \u001b[43m\u001b[49m\u001b[43m)\u001b[49m\n\u001b[1;32m    114\u001b[0m \u001b[38;5;28mself\u001b[39m\u001b[38;5;241m.\u001b[39madd(attached_chains)\n\u001b[1;32m    115\u001b[0m \u001b[38;5;28mself\u001b[39m\u001b[38;5;241m.\u001b[39madd(backfills)\n",
      "File \u001b[0;32m~/miniconda3/envs/dev/lib/python3.10/site-packages/mbuild/pattern.py:141\u001b[0m, in \u001b[0;36mPattern.apply_to_compound\u001b[0;34m(self, guest, guest_port_name, host, backfill, backfill_port_name, scale)\u001b[0m\n\u001b[1;32m    114\u001b[0m \u001b[38;5;124;03m\"\"\"Attach copies of a guest Compound to Ports on a host Compound.\u001b[39;00m\n\u001b[1;32m    115\u001b[0m \n\u001b[1;32m    116\u001b[0m \u001b[38;5;124;03mParameters\u001b[39;00m\n\u001b[0;32m   (...)\u001b[0m\n\u001b[1;32m    138\u001b[0m \u001b[38;5;124;03m    List of inserted backfill compounds on host compound\u001b[39;00m\n\u001b[1;32m    139\u001b[0m \u001b[38;5;124;03m\"\"\"\u001b[39;00m\n\u001b[1;32m    140\u001b[0m n_ports \u001b[38;5;241m=\u001b[39m \u001b[38;5;28mlen\u001b[39m(host\u001b[38;5;241m.\u001b[39mavailable_ports())\n\u001b[0;32m--> 141\u001b[0m \u001b[38;5;28;01massert\u001b[39;00m n_ports \u001b[38;5;241m>\u001b[39m\u001b[38;5;241m=\u001b[39m \u001b[38;5;28mself\u001b[39m\u001b[38;5;241m.\u001b[39mpoints\u001b[38;5;241m.\u001b[39mshape[\u001b[38;5;241m0\u001b[39m], \u001b[38;5;124m\"\u001b[39m\u001b[38;5;124mNot enough ports for pattern.\u001b[39m\u001b[38;5;124m\"\u001b[39m\n\u001b[1;32m    142\u001b[0m assert_port_exists(guest_port_name, guest)\n\u001b[1;32m    143\u001b[0m box \u001b[38;5;241m=\u001b[39m host\u001b[38;5;241m.\u001b[39mget_boundingbox()\n",
      "\u001b[0;31mAssertionError\u001b[0m: Not enough ports for pattern."
     ]
    }
   ],
   "source": [
    "oleic = mb.load('CCCCCCCCC=CCCCCCCCC(=O)O', smiles=True)\n",
    "oleic.add(mb.Port(anchor=oleic[18], separation=0.25, orientation=(oleic[18].pos - oleic[17].pos)))\n",
    "xlig = mb.load(\"xlig.mol2\")\n",
    "xlig.add(mb.Port(anchor=xlig[23], separation=0.25, orientation=(xlig[23].pos-xlig[13].pos)))\n",
    "slab = mb.load(\"ZnS.mol2\")\n",
    "test = mb.lib.recipes.monolayer.Monolayer(surface=slab, chains=oleic, pattern=mb.Random2DPattern(2))"
   ]
  },
  {
   "cell_type": "code",
   "execution_count": null,
   "id": "8b4a7dc3-b6aa-4c5b-bf4b-889fbc0c0e4f",
   "metadata": {},
   "outputs": [],
   "source": []
  }
 ],
 "metadata": {
  "kernelspec": {
   "display_name": "Python 3 (ipykernel)",
   "language": "python",
   "name": "python3"
  },
  "language_info": {
   "codemirror_mode": {
    "name": "ipython",
    "version": 3
   },
   "file_extension": ".py",
   "mimetype": "text/x-python",
   "name": "python",
   "nbconvert_exporter": "python",
   "pygments_lexer": "ipython3",
   "version": "3.9.12"
  }
 },
 "nbformat": 4,
 "nbformat_minor": 5
}
