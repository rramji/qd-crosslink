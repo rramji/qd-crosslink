{
 "cells": [
  {
   "cell_type": "code",
   "execution_count": 1,
   "id": "a3bc7729-a479-44da-918f-55d1af3832ad",
   "metadata": {},
   "outputs": [
    {
     "name": "stderr",
     "output_type": "stream",
     "text": [
      "/home/robert/miniconda3/envs/dev/lib/python3.11/site-packages/mdtraj/formats/__init__.py:6: DeprecationWarning: 'xdrlib' is deprecated and slated for removal in Python 3.13\n",
      "  from .xtc import XTCTrajectoryFile\n",
      "/home/robert/miniconda3/envs/dev/lib/python3.11/site-packages/lark/utils.py:163: DeprecationWarning: module 'sre_parse' is deprecated\n",
      "  import sre_parse\n",
      "/home/robert/miniconda3/envs/dev/lib/python3.11/site-packages/lark/utils.py:164: DeprecationWarning: module 'sre_constants' is deprecated\n",
      "  import sre_constants\n"
     ]
    }
   ],
   "source": [
    "import mbuild as mb\n",
    "from mbuild.lib.recipes import TiledCompound\n",
    "import parmed as pmd\n",
    "import numpy as np\n",
    "import openmm\n",
    "import warnings\n",
    "from random import sample\n",
    "from copy import deepcopy\n",
    "import openbabel as ob\n",
    "from copy import deepcopy\n",
    "# from slab_builder import *\n",
    "warnings.simplefilter(\"ignore\")"
   ]
  },
  {
   "cell_type": "code",
   "execution_count": 2,
   "id": "5d94aa1a-9d75-4d23-8a50-dee785b2999d",
   "metadata": {},
   "outputs": [],
   "source": [
    "import ase\n",
    "from ase import Atoms\n",
    "from ase.build import surface\n",
    "from ase.visualize import view\n",
    "from ase.io import write"
   ]
  },
  {
   "cell_type": "code",
   "execution_count": 4,
   "id": "13479507-a54d-430f-aef7-f4ac5522829f",
   "metadata": {},
   "outputs": [
    {
     "data": {
      "text/plain": [
       "<Popen: returncode: None args: ['/home/robert/miniconda3/envs/dev/bin/python...>"
      ]
     },
     "execution_count": 4,
     "metadata": {},
     "output_type": "execute_result"
    }
   ],
   "source": [
    "from ase.build import fcc111\n",
    "slab = fcc111('Al', size=(2,2,3), vacuum=10.0)\n",
    "view(slab)"
   ]
  },
  {
   "cell_type": "code",
   "execution_count": 5,
   "id": "5f76742b-fb6f-4ed0-a250-f51c105b6e6f",
   "metadata": {},
   "outputs": [
    {
     "data": {
      "text/plain": [
       "<Popen: returncode: None args: ['/home/robert/miniconda3/envs/dev/bin/python...>"
      ]
     },
     "execution_count": 5,
     "metadata": {},
     "output_type": "execute_result"
    }
   ],
   "source": [
    "from ase.build import fcc110\n",
    "slab = fcc110('Al', size=(2,2,3), vacuum=10.0)\n",
    "view(slab)"
   ]
  },
  {
   "cell_type": "code",
   "execution_count": 6,
   "id": "5526ea21-d32b-4435-aefb-2109eee170ed",
   "metadata": {},
   "outputs": [],
   "source": [
    "a = 5.39\n",
    "Pt3Rh = Atoms('ZnS',\n",
    "              scaled_positions=[(0, 0, 0),\n",
    "                                (0.25, 0.75, 0.75)],\n",
    "              cell=[a, a, a],\n",
    "              pbc=True)\n",
    "s3 = surface(Pt3Rh, (1, 1, 0), 6)\n",
    "s3.center(vacuum=0, axis=2)\n",
    "\n",
    "Pt3Rh.set_chemical_symbols('SZn')\n",
    "s4 = surface(Pt3Rh, (1, 1, 0), 9)\n",
    "s4.center(vacuum=0, axis=2)"
   ]
  },
  {
   "cell_type": "code",
   "execution_count": 7,
   "id": "4a0908b9-2633-4378-8b5a-7dda0d931c92",
   "metadata": {},
   "outputs": [
    {
     "data": {
      "text/plain": [
       "<Popen: returncode: None args: ['/home/robert/miniconda3/envs/dev/bin/python...>"
      ]
     },
     "execution_count": 7,
     "metadata": {},
     "output_type": "execute_result"
    }
   ],
   "source": [
    "big_110 = ase.build.make_supercell(s3,([6,0,0],[0,6,0],[0,0,1]))\n",
    "\n",
    "view(big_110)"
   ]
  },
  {
   "cell_type": "code",
   "execution_count": 46,
   "id": "b708fa59-624b-4d85-b452-9979e35fbe98",
   "metadata": {},
   "outputs": [],
   "source": [
    "write(\"ZnS_slab_110_6x6x6.xyz\", big_110)"
   ]
  },
  {
   "cell_type": "code",
   "execution_count": 11,
   "id": "3fac8ef8-254d-4772-b6fa-40df582a3858",
   "metadata": {},
   "outputs": [],
   "source": [
    "write(\"ZnS_slab_110_6x6x6.lammps\", big_110, \"lammps-data\")"
   ]
  },
  {
   "cell_type": "code",
   "execution_count": 25,
   "id": "42822926-0b4c-40c1-8f26-f54fdba25817",
   "metadata": {},
   "outputs": [
    {
     "data": {
      "application/vnd.jupyter.widget-view+json": {
       "model_id": "8e4abd6e2db849eab72bad6229a87944",
       "version_major": 2,
       "version_minor": 0
      },
      "text/plain": [
       "HBox(children=(NGLWidget(), VBox(children=(Dropdown(description='Show', options=('All', 'S', 'Zn'), value='All…"
      ]
     },
     "metadata": {},
     "output_type": "display_data"
    }
   ],
   "source": [
    "view(s4, viewer=\"nglview\")"
   ]
  },
  {
   "cell_type": "code",
   "execution_count": 8,
   "id": "408e892b-087d-4d3a-b96c-f90d139ed3b5",
   "metadata": {},
   "outputs": [
    {
     "data": {
      "text/plain": [
       "\u001b[0;31mSignature:\u001b[0m\n",
       "\u001b[0mwrite\u001b[0m\u001b[0;34m(\u001b[0m\u001b[0;34m\u001b[0m\n",
       "\u001b[0;34m\u001b[0m    \u001b[0mfilename\u001b[0m\u001b[0;34m:\u001b[0m \u001b[0mUnion\u001b[0m\u001b[0;34m[\u001b[0m\u001b[0mstr\u001b[0m\u001b[0;34m,\u001b[0m \u001b[0mpathlib\u001b[0m\u001b[0;34m.\u001b[0m\u001b[0mPurePath\u001b[0m\u001b[0;34m,\u001b[0m \u001b[0mIO\u001b[0m\u001b[0;34m]\u001b[0m\u001b[0;34m,\u001b[0m\u001b[0;34m\u001b[0m\n",
       "\u001b[0;34m\u001b[0m    \u001b[0mimages\u001b[0m\u001b[0;34m:\u001b[0m \u001b[0mUnion\u001b[0m\u001b[0;34m[\u001b[0m\u001b[0mase\u001b[0m\u001b[0;34m.\u001b[0m\u001b[0matoms\u001b[0m\u001b[0;34m.\u001b[0m\u001b[0mAtoms\u001b[0m\u001b[0;34m,\u001b[0m \u001b[0mSequence\u001b[0m\u001b[0;34m[\u001b[0m\u001b[0mase\u001b[0m\u001b[0;34m.\u001b[0m\u001b[0matoms\u001b[0m\u001b[0;34m.\u001b[0m\u001b[0mAtoms\u001b[0m\u001b[0;34m]\u001b[0m\u001b[0;34m]\u001b[0m\u001b[0;34m,\u001b[0m\u001b[0;34m\u001b[0m\n",
       "\u001b[0;34m\u001b[0m    \u001b[0mformat\u001b[0m\u001b[0;34m:\u001b[0m \u001b[0mstr\u001b[0m \u001b[0;34m=\u001b[0m \u001b[0;32mNone\u001b[0m\u001b[0;34m,\u001b[0m\u001b[0;34m\u001b[0m\n",
       "\u001b[0;34m\u001b[0m    \u001b[0mparallel\u001b[0m\u001b[0;34m:\u001b[0m \u001b[0mbool\u001b[0m \u001b[0;34m=\u001b[0m \u001b[0;32mTrue\u001b[0m\u001b[0;34m,\u001b[0m\u001b[0;34m\u001b[0m\n",
       "\u001b[0;34m\u001b[0m    \u001b[0mappend\u001b[0m\u001b[0;34m:\u001b[0m \u001b[0mbool\u001b[0m \u001b[0;34m=\u001b[0m \u001b[0;32mFalse\u001b[0m\u001b[0;34m,\u001b[0m\u001b[0;34m\u001b[0m\n",
       "\u001b[0;34m\u001b[0m    \u001b[0;34m**\u001b[0m\u001b[0mkwargs\u001b[0m\u001b[0;34m:\u001b[0m \u001b[0mdict\u001b[0m\u001b[0;34m,\u001b[0m\u001b[0;34m\u001b[0m\n",
       "\u001b[0;34m\u001b[0m\u001b[0;34m)\u001b[0m \u001b[0;34m->\u001b[0m \u001b[0;32mNone\u001b[0m\u001b[0;34m\u001b[0m\u001b[0;34m\u001b[0m\u001b[0m\n",
       "\u001b[0;31mDocstring:\u001b[0m\n",
       "Write Atoms object(s) to file.\n",
       "\n",
       "filename: str or file\n",
       "    Name of the file to write to or a file descriptor.  The name '-'\n",
       "    means standard output.\n",
       "images: Atoms object or list of Atoms objects\n",
       "    A single Atoms object or a list of Atoms objects.\n",
       "format: str\n",
       "    Used to specify the file-format.  If not given, the\n",
       "    file-format will be taken from suffix of the filename.\n",
       "parallel: bool\n",
       "    Default is to write on master only.  Use parallel=False to write\n",
       "    from all slaves.\n",
       "append: bool\n",
       "    Default is to open files in 'w' or 'wb' mode, overwriting\n",
       "    existing files.  In some cases opening the file in 'a' or 'ab'\n",
       "    mode (appending) is useful,\n",
       "    e.g. writing trajectories or saving multiple Atoms objects in one file.\n",
       "    WARNING: If the file format does not support multiple entries without\n",
       "    additional keywords/headers, files created using 'append=True'\n",
       "    might not be readable by any program! They will nevertheless be\n",
       "    written without error message.\n",
       "\n",
       "The use of additional keywords is format specific. write() may\n",
       "return an object after writing certain formats, but this behaviour\n",
       "may change in the future.\n",
       "\u001b[0;31mFile:\u001b[0m      ~/miniconda3/envs/dev/lib/python3.11/site-packages/ase/io/formats.py\n",
       "\u001b[0;31mType:\u001b[0m      function"
      ]
     },
     "metadata": {},
     "output_type": "display_data"
    }
   ],
   "source": [
    "write?"
   ]
  },
  {
   "cell_type": "code",
   "execution_count": null,
   "id": "43a65a39-7711-4fbc-b4a6-f48e5728847b",
   "metadata": {},
   "outputs": [],
   "source": []
  }
 ],
 "metadata": {
  "kernelspec": {
   "display_name": "Python 3 (ipykernel)",
   "language": "python",
   "name": "python3"
  },
  "language_info": {
   "codemirror_mode": {
    "name": "ipython",
    "version": 3
   },
   "file_extension": ".py",
   "mimetype": "text/x-python",
   "name": "python",
   "nbconvert_exporter": "python",
   "pygments_lexer": "ipython3",
   "version": "3.11.3"
  }
 },
 "nbformat": 4,
 "nbformat_minor": 5
}
